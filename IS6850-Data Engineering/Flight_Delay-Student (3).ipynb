{
 "cells": [
  {
   "cell_type": "markdown",
   "metadata": {},
   "source": [
    "# Problem: Predicting Airplane Delays\n",
    "\n",
    "The goals of this notebook are:\n",
    "- Process and create a dataset from downloaded .zip files\n",
    "- Perform exploratory data analysis (EDA)\n",
    "- Establish a baseline model\n",
    "- Move from a simple model to an ensemble model\n",
    "- Perform hyperparameter optimization\n",
    "- Check feature importance\n",
    "\n",
    "\n",
    "## Introduction to business scenario\n",
    "\n",
    "You work for a travel booking website that wants to improve the customer experience for flights that were delayed. The company wants to create a feature to let customers know if the flight will be delayed because of weather when they book a flight to or from the busiest airports for domestic travel in the US. \n",
    "\n",
    "You are tasked with solving part of this problem by using machine learning (ML) to identify whether the flight will be delayed because of weather. You have been given access to the a dataset about the on-time performance of domestic flights that were operated by large air carriers. You can use this data to train an ML model to predict if the flight is going to be delayed for the busiest airports.\n",
    "\n",
    "\n",
    "## About this dataset\n",
    "\n",
    "This dataset contains scheduled and actual departure and arrival times reported by certified US air carriers that account for at least 1 percent of domestic scheduled passenger revenues. The data was collected by the U.S. Office of Airline Information, Bureau of Transportation Statistics (BTS). The dataset contains date, time, origin, destination, airline, distance, and delay status of flights for flights between 2013 and 2018.\n",
    "\n",
    "\n",
    "### Features\n",
    "\n",
    "For more information about features in the dataset, see [On-time delay dataset features](https://www.transtats.bts.gov/Fields.asp).\n",
    "\n",
    "### Dataset attributions  \n",
    "Website: https://www.transtats.bts.gov/\n",
    "\n",
    "Dataset(s) used in this lab were compiled by the U.S. Office of Airline Information, Bureau of Transportation Statistics (BTS), Airline On-Time Performance Data, available at https://www.transtats.bts.gov/DatabaseInfo.asp?DB_ID=120&DB_URL=Mode_ID=1&Mode_Desc=Aviation&Subject_ID2=0."
   ]
  },
  {
   "cell_type": "markdown",
   "metadata": {},
   "source": [
    "# Step 1: Problem formulation and data collection\n",
    "\n",
    "Start this project by writing a few sentences that summarize the business problem and the business goal that you want to achieve in this scenario. You can write down your ideas in the following sections. Include a business metric that you would like your team to aspire toward. After you define that information, write the ML problem statement. Finally, add a comment or two about the type of ML this activity represents. \n",
    "\n",
    "#### <span style=\"color: blue;\">Project presentation: Include a summary of these details in your project presentation.</span>\n",
    "\n",
    "### 1. Determine if and why ML is an appropriate solution to deploy for this scenario."
   ]
  },
  {
   "cell_type": "code",
   "execution_count": null,
   "metadata": {},
   "outputs": [],
   "source": [
    "# Write your answer here\n",
    "#It is appropriate because the customer need a good prediction whether the flight they aregoing to book is likely to be delayed"
   ]
  },
  {
   "cell_type": "markdown",
   "metadata": {},
   "source": [
    "### 2. Formulate the business problem, success metrics, and desired ML output."
   ]
  },
  {
   "cell_type": "code",
   "execution_count": null,
   "metadata": {},
   "outputs": [],
   "source": [
    "# Write your answer here\n",
    "#business problem: Customer cannot get the notification on time about the flight delay\n",
    "#success metrics: Customer can receive the precise information when a flight is delayed\n",
    "#desired ML output: predicted the flight delayed"
   ]
  },
  {
   "cell_type": "markdown",
   "metadata": {},
   "source": [
    "### 3. Identify the type of ML problem that you're working with."
   ]
  },
  {
   "cell_type": "code",
   "execution_count": null,
   "metadata": {},
   "outputs": [],
   "source": [
    "# Write your answer here\n",
    "#supervised machine learning"
   ]
  },
  {
   "cell_type": "markdown",
   "metadata": {},
   "source": [
    "### 4. Analyze the appropriateness of the data that you're working with."
   ]
  },
  {
   "cell_type": "code",
   "execution_count": 2,
   "metadata": {},
   "outputs": [],
   "source": [
    "# Write your answer here\n",
    "#historical data, current data, aircraft data, and weather data will be use to help the machine learn the pass delay, the current delay. Then, it will calculated the prediction about the future delay of any plan"
   ]
  },
  {
   "cell_type": "markdown",
   "metadata": {},
   "source": [
    "### Setup\n",
    "\n",
    "Now that you have decided where you want to focus your attention, you will set up this lab so that you can start solving the problem.\n",
    "\n",
    "**Note:** This notebook was created and tested on an `ml.m4.xlarge` notebook instance with 25 GB storage. "
   ]
  },
  {
   "cell_type": "code",
   "execution_count": 1,
   "metadata": {},
   "outputs": [],
   "source": [
    "import os\n",
    "from pathlib2 import Path\n",
    "from zipfile import ZipFile\n",
    "import time\n",
    "\n",
    "import pandas as pd\n",
    "import numpy as np\n",
    "import subprocess\n",
    "\n",
    "import matplotlib.pyplot as plt\n",
    "import seaborn as sns\n",
    "\n",
    "sns.set()\n",
    "instance_type='ml.m4.xlarge'\n",
    "\n",
    "import warnings\n",
    "warnings.filterwarnings('ignore')\n",
    "\n",
    "%matplotlib inline"
   ]
  },
  {
   "cell_type": "markdown",
   "metadata": {},
   "source": [
    "# Step 2: Data preprocessing and visualization  \n",
    "In this data preprocessing phase, you explore and visualize your data to better understand it. First, import the necessary libraries and read the data into a pandas DataFrame. After you import the data, explore the dataset. Look for the shape of the dataset and explore your columns and the types of columns that you will work with (numerical, categorical). Consider performing basic statistics on the features to get a sense of feature means and ranges. Examine your target column closely, and determine its distribution.\n",
    "\n",
    "\n",
    "### Specific questions to consider\n",
    "\n",
    "Throughout this section of the lab, consider the following questions:\n",
    "\n",
    "1. What can you deduce from the basic statistics that you ran on the features? \n",
    "2. What can you deduce from the distributions of the target classes?\n",
    "3. Is there anything else you can deduce by exploring the data?\n",
    "\n",
    "#### <span style=\"color: blue;\">Project presentation: Include a summary of your answers to these questions (and other similar questions) in your project presentation.</span>"
   ]
  },
  {
   "cell_type": "markdown",
   "metadata": {},
   "source": [
    "Start by bringing in the dataset from a public Amazon Simple Storage Service (Amazon S3) bucket to this notebook environment."
   ]
  },
  {
   "cell_type": "code",
   "execution_count": 3,
   "metadata": {},
   "outputs": [
    {
     "name": "stdout",
     "output_type": "stream",
     "text": [
      "download: s3://aws-tc-largeobjects/CUR-TF-200-ACMLFO-1/flight_delay_project/data/On_Time_Reporting_Carrier_On_Time_Performance_1987_present_2014_11.zip to ../project/data/FlightDelays/On_Time_Reporting_Carrier_On_Time_Performance_1987_present_2014_11.zip\n",
      "download: s3://aws-tc-largeobjects/CUR-TF-200-ACMLFO-1/flight_delay_project/data/On_Time_Reporting_Carrier_On_Time_Performance_1987_present_2014_10.zip to ../project/data/FlightDelays/On_Time_Reporting_Carrier_On_Time_Performance_1987_present_2014_10.zip\n",
      "download: s3://aws-tc-largeobjects/CUR-TF-200-ACMLFO-1/flight_delay_project/data/On_Time_Reporting_Carrier_On_Time_Performance_1987_present_2014_1.zip to ../project/data/FlightDelays/On_Time_Reporting_Carrier_On_Time_Performance_1987_present_2014_1.zip\n",
      "download: s3://aws-tc-largeobjects/CUR-TF-200-ACMLFO-1/flight_delay_project/data/On_Time_Reporting_Carrier_On_Time_Performance_1987_present_2014_12.zip to ../project/data/FlightDelays/On_Time_Reporting_Carrier_On_Time_Performance_1987_present_2014_12.zip\n",
      "download: s3://aws-tc-largeobjects/CUR-TF-200-ACMLFO-1/flight_delay_project/data/On_Time_Reporting_Carrier_On_Time_Performance_1987_present_2014_2.zip to ../project/data/FlightDelays/On_Time_Reporting_Carrier_On_Time_Performance_1987_present_2014_2.zip\n",
      "download: s3://aws-tc-largeobjects/CUR-TF-200-ACMLFO-1/flight_delay_project/data/On_Time_Reporting_Carrier_On_Time_Performance_1987_present_2014_3.zip to ../project/data/FlightDelays/On_Time_Reporting_Carrier_On_Time_Performance_1987_present_2014_3.zip\n",
      "download: s3://aws-tc-largeobjects/CUR-TF-200-ACMLFO-1/flight_delay_project/data/On_Time_Reporting_Carrier_On_Time_Performance_1987_present_2014_4.zip to ../project/data/FlightDelays/On_Time_Reporting_Carrier_On_Time_Performance_1987_present_2014_4.zip\n",
      "download: s3://aws-tc-largeobjects/CUR-TF-200-ACMLFO-1/flight_delay_project/data/On_Time_Reporting_Carrier_On_Time_Performance_1987_present_2014_6.zip to ../project/data/FlightDelays/On_Time_Reporting_Carrier_On_Time_Performance_1987_present_2014_6.zip\n",
      "download: s3://aws-tc-largeobjects/CUR-TF-200-ACMLFO-1/flight_delay_project/data/On_Time_Reporting_Carrier_On_Time_Performance_1987_present_2014_5.zip to ../project/data/FlightDelays/On_Time_Reporting_Carrier_On_Time_Performance_1987_present_2014_5.zip\n",
      "download: s3://aws-tc-largeobjects/CUR-TF-200-ACMLFO-1/flight_delay_project/data/On_Time_Reporting_Carrier_On_Time_Performance_1987_present_2014_7.zip to ../project/data/FlightDelays/On_Time_Reporting_Carrier_On_Time_Performance_1987_present_2014_7.zip\n",
      "download: s3://aws-tc-largeobjects/CUR-TF-200-ACMLFO-1/flight_delay_project/data/On_Time_Reporting_Carrier_On_Time_Performance_1987_present_2015_1.zip to ../project/data/FlightDelays/On_Time_Reporting_Carrier_On_Time_Performance_1987_present_2015_1.zip\n",
      "download: s3://aws-tc-largeobjects/CUR-TF-200-ACMLFO-1/flight_delay_project/data/On_Time_Reporting_Carrier_On_Time_Performance_1987_present_2014_9.zip to ../project/data/FlightDelays/On_Time_Reporting_Carrier_On_Time_Performance_1987_present_2014_9.zip\n",
      "download: s3://aws-tc-largeobjects/CUR-TF-200-ACMLFO-1/flight_delay_project/data/On_Time_Reporting_Carrier_On_Time_Performance_1987_present_2015_10.zip to ../project/data/FlightDelays/On_Time_Reporting_Carrier_On_Time_Performance_1987_present_2015_10.zip\n",
      "download: s3://aws-tc-largeobjects/CUR-TF-200-ACMLFO-1/flight_delay_project/data/On_Time_Reporting_Carrier_On_Time_Performance_1987_present_2014_8.zip to ../project/data/FlightDelays/On_Time_Reporting_Carrier_On_Time_Performance_1987_present_2014_8.zip\n",
      "download: s3://aws-tc-largeobjects/CUR-TF-200-ACMLFO-1/flight_delay_project/data/On_Time_Reporting_Carrier_On_Time_Performance_1987_present_2015_3.zip to ../project/data/FlightDelays/On_Time_Reporting_Carrier_On_Time_Performance_1987_present_2015_3.zip\n",
      "download: s3://aws-tc-largeobjects/CUR-TF-200-ACMLFO-1/flight_delay_project/data/On_Time_Reporting_Carrier_On_Time_Performance_1987_present_2015_2.zip to ../project/data/FlightDelays/On_Time_Reporting_Carrier_On_Time_Performance_1987_present_2015_2.zip\n",
      "download: s3://aws-tc-largeobjects/CUR-TF-200-ACMLFO-1/flight_delay_project/data/On_Time_Reporting_Carrier_On_Time_Performance_1987_present_2015_11.zip to ../project/data/FlightDelays/On_Time_Reporting_Carrier_On_Time_Performance_1987_present_2015_11.zip\n",
      "download: s3://aws-tc-largeobjects/CUR-TF-200-ACMLFO-1/flight_delay_project/data/On_Time_Reporting_Carrier_On_Time_Performance_1987_present_2015_4.zip to ../project/data/FlightDelays/On_Time_Reporting_Carrier_On_Time_Performance_1987_present_2015_4.zip\n",
      "download: s3://aws-tc-largeobjects/CUR-TF-200-ACMLFO-1/flight_delay_project/data/On_Time_Reporting_Carrier_On_Time_Performance_1987_present_2015_12.zip to ../project/data/FlightDelays/On_Time_Reporting_Carrier_On_Time_Performance_1987_present_2015_12.zip\n",
      "download: s3://aws-tc-largeobjects/CUR-TF-200-ACMLFO-1/flight_delay_project/data/On_Time_Reporting_Carrier_On_Time_Performance_1987_present_2015_6.zip to ../project/data/FlightDelays/On_Time_Reporting_Carrier_On_Time_Performance_1987_present_2015_6.zip\n",
      "download: s3://aws-tc-largeobjects/CUR-TF-200-ACMLFO-1/flight_delay_project/data/On_Time_Reporting_Carrier_On_Time_Performance_1987_present_2015_7.zip to ../project/data/FlightDelays/On_Time_Reporting_Carrier_On_Time_Performance_1987_present_2015_7.zip\n",
      "download: s3://aws-tc-largeobjects/CUR-TF-200-ACMLFO-1/flight_delay_project/data/On_Time_Reporting_Carrier_On_Time_Performance_1987_present_2015_8.zip to ../project/data/FlightDelays/On_Time_Reporting_Carrier_On_Time_Performance_1987_present_2015_8.zip\n",
      "download: s3://aws-tc-largeobjects/CUR-TF-200-ACMLFO-1/flight_delay_project/data/On_Time_Reporting_Carrier_On_Time_Performance_1987_present_2015_9.zip to ../project/data/FlightDelays/On_Time_Reporting_Carrier_On_Time_Performance_1987_present_2015_9.zip\n",
      "download: s3://aws-tc-largeobjects/CUR-TF-200-ACMLFO-1/flight_delay_project/data/On_Time_Reporting_Carrier_On_Time_Performance_1987_present_2015_5.zip to ../project/data/FlightDelays/On_Time_Reporting_Carrier_On_Time_Performance_1987_present_2015_5.zip\n",
      "download: s3://aws-tc-largeobjects/CUR-TF-200-ACMLFO-1/flight_delay_project/data/On_Time_Reporting_Carrier_On_Time_Performance_1987_present_2016_1.zip to ../project/data/FlightDelays/On_Time_Reporting_Carrier_On_Time_Performance_1987_present_2016_1.zip\n",
      "download: s3://aws-tc-largeobjects/CUR-TF-200-ACMLFO-1/flight_delay_project/data/On_Time_Reporting_Carrier_On_Time_Performance_1987_present_2016_10.zip to ../project/data/FlightDelays/On_Time_Reporting_Carrier_On_Time_Performance_1987_present_2016_10.zip\n",
      "download: s3://aws-tc-largeobjects/CUR-TF-200-ACMLFO-1/flight_delay_project/data/On_Time_Reporting_Carrier_On_Time_Performance_1987_present_2016_11.zip to ../project/data/FlightDelays/On_Time_Reporting_Carrier_On_Time_Performance_1987_present_2016_11.zip\n",
      "download: s3://aws-tc-largeobjects/CUR-TF-200-ACMLFO-1/flight_delay_project/data/On_Time_Reporting_Carrier_On_Time_Performance_1987_present_2016_2.zip to ../project/data/FlightDelays/On_Time_Reporting_Carrier_On_Time_Performance_1987_present_2016_2.zip\n",
      "download: s3://aws-tc-largeobjects/CUR-TF-200-ACMLFO-1/flight_delay_project/data/On_Time_Reporting_Carrier_On_Time_Performance_1987_present_2016_12.zip to ../project/data/FlightDelays/On_Time_Reporting_Carrier_On_Time_Performance_1987_present_2016_12.zip\n",
      "download: s3://aws-tc-largeobjects/CUR-TF-200-ACMLFO-1/flight_delay_project/data/On_Time_Reporting_Carrier_On_Time_Performance_1987_present_2016_3.zip to ../project/data/FlightDelays/On_Time_Reporting_Carrier_On_Time_Performance_1987_present_2016_3.zip\n",
      "download: s3://aws-tc-largeobjects/CUR-TF-200-ACMLFO-1/flight_delay_project/data/On_Time_Reporting_Carrier_On_Time_Performance_1987_present_2016_4.zip to ../project/data/FlightDelays/On_Time_Reporting_Carrier_On_Time_Performance_1987_present_2016_4.zip\n",
      "download: s3://aws-tc-largeobjects/CUR-TF-200-ACMLFO-1/flight_delay_project/data/On_Time_Reporting_Carrier_On_Time_Performance_1987_present_2016_5.zip to ../project/data/FlightDelays/On_Time_Reporting_Carrier_On_Time_Performance_1987_present_2016_5.zip\n",
      "download: s3://aws-tc-largeobjects/CUR-TF-200-ACMLFO-1/flight_delay_project/data/On_Time_Reporting_Carrier_On_Time_Performance_1987_present_2016_6.zip to ../project/data/FlightDelays/On_Time_Reporting_Carrier_On_Time_Performance_1987_present_2016_6.zip\n",
      "download: s3://aws-tc-largeobjects/CUR-TF-200-ACMLFO-1/flight_delay_project/data/On_Time_Reporting_Carrier_On_Time_Performance_1987_present_2016_7.zip to ../project/data/FlightDelays/On_Time_Reporting_Carrier_On_Time_Performance_1987_present_2016_7.zip\n",
      "download: s3://aws-tc-largeobjects/CUR-TF-200-ACMLFO-1/flight_delay_project/data/On_Time_Reporting_Carrier_On_Time_Performance_1987_present_2016_8.zip to ../project/data/FlightDelays/On_Time_Reporting_Carrier_On_Time_Performance_1987_present_2016_8.zip\n",
      "download: s3://aws-tc-largeobjects/CUR-TF-200-ACMLFO-1/flight_delay_project/data/On_Time_Reporting_Carrier_On_Time_Performance_1987_present_2017_1.zip to ../project/data/FlightDelays/On_Time_Reporting_Carrier_On_Time_Performance_1987_present_2017_1.zip\n",
      "download: s3://aws-tc-largeobjects/CUR-TF-200-ACMLFO-1/flight_delay_project/data/On_Time_Reporting_Carrier_On_Time_Performance_1987_present_2017_10.zip to ../project/data/FlightDelays/On_Time_Reporting_Carrier_On_Time_Performance_1987_present_2017_10.zip\n",
      "download: s3://aws-tc-largeobjects/CUR-TF-200-ACMLFO-1/flight_delay_project/data/On_Time_Reporting_Carrier_On_Time_Performance_1987_present_2016_9.zip to ../project/data/FlightDelays/On_Time_Reporting_Carrier_On_Time_Performance_1987_present_2016_9.zip\n",
      "download: s3://aws-tc-largeobjects/CUR-TF-200-ACMLFO-1/flight_delay_project/data/On_Time_Reporting_Carrier_On_Time_Performance_1987_present_2017_11.zip to ../project/data/FlightDelays/On_Time_Reporting_Carrier_On_Time_Performance_1987_present_2017_11.zip\n",
      "download: s3://aws-tc-largeobjects/CUR-TF-200-ACMLFO-1/flight_delay_project/data/On_Time_Reporting_Carrier_On_Time_Performance_1987_present_2017_2.zip to ../project/data/FlightDelays/On_Time_Reporting_Carrier_On_Time_Performance_1987_present_2017_2.zip\n",
      "download: s3://aws-tc-largeobjects/CUR-TF-200-ACMLFO-1/flight_delay_project/data/On_Time_Reporting_Carrier_On_Time_Performance_1987_present_2017_12.zip to ../project/data/FlightDelays/On_Time_Reporting_Carrier_On_Time_Performance_1987_present_2017_12.zip\n",
      "download: s3://aws-tc-largeobjects/CUR-TF-200-ACMLFO-1/flight_delay_project/data/On_Time_Reporting_Carrier_On_Time_Performance_1987_present_2017_5.zip to ../project/data/FlightDelays/On_Time_Reporting_Carrier_On_Time_Performance_1987_present_2017_5.zip\n",
      "download: s3://aws-tc-largeobjects/CUR-TF-200-ACMLFO-1/flight_delay_project/data/On_Time_Reporting_Carrier_On_Time_Performance_1987_present_2017_3.zip to ../project/data/FlightDelays/On_Time_Reporting_Carrier_On_Time_Performance_1987_present_2017_3.zip\n",
      "download: s3://aws-tc-largeobjects/CUR-TF-200-ACMLFO-1/flight_delay_project/data/On_Time_Reporting_Carrier_On_Time_Performance_1987_present_2017_4.zip to ../project/data/FlightDelays/On_Time_Reporting_Carrier_On_Time_Performance_1987_present_2017_4.zip\n",
      "download: s3://aws-tc-largeobjects/CUR-TF-200-ACMLFO-1/flight_delay_project/data/On_Time_Reporting_Carrier_On_Time_Performance_1987_present_2017_7.zip to ../project/data/FlightDelays/On_Time_Reporting_Carrier_On_Time_Performance_1987_present_2017_7.zip\n",
      "download: s3://aws-tc-largeobjects/CUR-TF-200-ACMLFO-1/flight_delay_project/data/On_Time_Reporting_Carrier_On_Time_Performance_1987_present_2017_6.zip to ../project/data/FlightDelays/On_Time_Reporting_Carrier_On_Time_Performance_1987_present_2017_6.zip\n",
      "download: s3://aws-tc-largeobjects/CUR-TF-200-ACMLFO-1/flight_delay_project/data/On_Time_Reporting_Carrier_On_Time_Performance_1987_present_2017_9.zip to ../project/data/FlightDelays/On_Time_Reporting_Carrier_On_Time_Performance_1987_present_2017_9.zip\n",
      "download: s3://aws-tc-largeobjects/CUR-TF-200-ACMLFO-1/flight_delay_project/data/On_Time_Reporting_Carrier_On_Time_Performance_1987_present_2017_8.zip to ../project/data/FlightDelays/On_Time_Reporting_Carrier_On_Time_Performance_1987_present_2017_8.zip\n",
      "download: s3://aws-tc-largeobjects/CUR-TF-200-ACMLFO-1/flight_delay_project/data/On_Time_Reporting_Carrier_On_Time_Performance_1987_present_2018_1.zip to ../project/data/FlightDelays/On_Time_Reporting_Carrier_On_Time_Performance_1987_present_2018_1.zip\n",
      "download: s3://aws-tc-largeobjects/CUR-TF-200-ACMLFO-1/flight_delay_project/data/On_Time_Reporting_Carrier_On_Time_Performance_1987_present_2018_12.zip to ../project/data/FlightDelays/On_Time_Reporting_Carrier_On_Time_Performance_1987_present_2018_12.zip\n",
      "download: s3://aws-tc-largeobjects/CUR-TF-200-ACMLFO-1/flight_delay_project/data/On_Time_Reporting_Carrier_On_Time_Performance_1987_present_2018_11.zip to ../project/data/FlightDelays/On_Time_Reporting_Carrier_On_Time_Performance_1987_present_2018_11.zip\n",
      "download: s3://aws-tc-largeobjects/CUR-TF-200-ACMLFO-1/flight_delay_project/data/On_Time_Reporting_Carrier_On_Time_Performance_1987_present_2018_10.zip to ../project/data/FlightDelays/On_Time_Reporting_Carrier_On_Time_Performance_1987_present_2018_10.zip\n",
      "download: s3://aws-tc-largeobjects/CUR-TF-200-ACMLFO-1/flight_delay_project/data/On_Time_Reporting_Carrier_On_Time_Performance_1987_present_2018_2.zip to ../project/data/FlightDelays/On_Time_Reporting_Carrier_On_Time_Performance_1987_present_2018_2.zip\n",
      "download: s3://aws-tc-largeobjects/CUR-TF-200-ACMLFO-1/flight_delay_project/data/On_Time_Reporting_Carrier_On_Time_Performance_1987_present_2018_6.zip to ../project/data/FlightDelays/On_Time_Reporting_Carrier_On_Time_Performance_1987_present_2018_6.zip\n",
      "download: s3://aws-tc-largeobjects/CUR-TF-200-ACMLFO-1/flight_delay_project/data/On_Time_Reporting_Carrier_On_Time_Performance_1987_present_2018_3.zip to ../project/data/FlightDelays/On_Time_Reporting_Carrier_On_Time_Performance_1987_present_2018_3.zip\n",
      "download: s3://aws-tc-largeobjects/CUR-TF-200-ACMLFO-1/flight_delay_project/data/On_Time_Reporting_Carrier_On_Time_Performance_1987_present_2018_4.zip to ../project/data/FlightDelays/On_Time_Reporting_Carrier_On_Time_Performance_1987_present_2018_4.zip\n",
      "download: s3://aws-tc-largeobjects/CUR-TF-200-ACMLFO-1/flight_delay_project/data/On_Time_Reporting_Carrier_On_Time_Performance_1987_present_2018_5.zip to ../project/data/FlightDelays/On_Time_Reporting_Carrier_On_Time_Performance_1987_present_2018_5.zip\n",
      "download: s3://aws-tc-largeobjects/CUR-TF-200-ACMLFO-1/flight_delay_project/data/On_Time_Reporting_Carrier_On_Time_Performance_1987_present_2018_7.zip to ../project/data/FlightDelays/On_Time_Reporting_Carrier_On_Time_Performance_1987_present_2018_7.zip\n",
      "download: s3://aws-tc-largeobjects/CUR-TF-200-ACMLFO-1/flight_delay_project/data/On_Time_Reporting_Carrier_On_Time_Performance_1987_present_2018_9.zip to ../project/data/FlightDelays/On_Time_Reporting_Carrier_On_Time_Performance_1987_present_2018_9.zip\n",
      "download: s3://aws-tc-largeobjects/CUR-TF-200-ACMLFO-1/flight_delay_project/data/On_Time_Reporting_Carrier_On_Time_Performance_1987_present_2018_8.zip to ../project/data/FlightDelays/On_Time_Reporting_Carrier_On_Time_Performance_1987_present_2018_8.zip\n"
     ]
    }
   ],
   "source": [
    "# download the files\n",
    "\n",
    "zip_path = '/home/ec2-user/SageMaker/project/data/FlightDelays/'\n",
    "base_path = '/home/ec2-user/SageMaker/project/data/FlightDelays/'\n",
    "csv_base_path = '/home/ec2-user/SageMaker/project/data/csvFlightDelays/'\n",
    "\n",
    "!mkdir -p {zip_path}\n",
    "!mkdir -p {csv_base_path}\n",
    "!aws s3 cp s3://aws-tc-largeobjects/CUR-TF-200-ACMLFO-1/flight_delay_project/data/ {zip_path} --recursive\n"
   ]
  },
  {
   "cell_type": "code",
   "execution_count": 4,
   "metadata": {},
   "outputs": [
    {
     "data": {
      "text/plain": [
       "60"
      ]
     },
     "execution_count": 4,
     "metadata": {},
     "output_type": "execute_result"
    }
   ],
   "source": [
    "zip_files = [str(file) for file in list(Path(base_path).iterdir()) if '.zip' in str(file)]\n",
    "len(zip_files)"
   ]
  },
  {
   "cell_type": "markdown",
   "metadata": {},
   "source": [
    "Extract comma-separated values (CSV) files from the .zip files."
   ]
  },
  {
   "cell_type": "code",
   "execution_count": 5,
   "metadata": {},
   "outputs": [
    {
     "name": "stdout",
     "output_type": "stream",
     "text": [
      "Extracting /home/ec2-user/SageMaker/project/data/FlightDelays/On_Time_Reporting_Carrier_On_Time_Performance_1987_present_2017_12.zip \n",
      "Extracting /home/ec2-user/SageMaker/project/data/FlightDelays/On_Time_Reporting_Carrier_On_Time_Performance_1987_present_2017_9.zip \n",
      "Extracting /home/ec2-user/SageMaker/project/data/FlightDelays/On_Time_Reporting_Carrier_On_Time_Performance_1987_present_2018_3.zip \n",
      "Extracting /home/ec2-user/SageMaker/project/data/FlightDelays/On_Time_Reporting_Carrier_On_Time_Performance_1987_present_2014_6.zip \n",
      "Extracting /home/ec2-user/SageMaker/project/data/FlightDelays/On_Time_Reporting_Carrier_On_Time_Performance_1987_present_2014_5.zip \n",
      "Extracting /home/ec2-user/SageMaker/project/data/FlightDelays/On_Time_Reporting_Carrier_On_Time_Performance_1987_present_2016_9.zip \n",
      "Extracting /home/ec2-user/SageMaker/project/data/FlightDelays/On_Time_Reporting_Carrier_On_Time_Performance_1987_present_2017_7.zip \n",
      "Extracting /home/ec2-user/SageMaker/project/data/FlightDelays/On_Time_Reporting_Carrier_On_Time_Performance_1987_present_2018_2.zip \n",
      "Extracting /home/ec2-user/SageMaker/project/data/FlightDelays/On_Time_Reporting_Carrier_On_Time_Performance_1987_present_2018_5.zip \n",
      "Extracting /home/ec2-user/SageMaker/project/data/FlightDelays/On_Time_Reporting_Carrier_On_Time_Performance_1987_present_2017_4.zip \n",
      "Extracting /home/ec2-user/SageMaker/project/data/FlightDelays/On_Time_Reporting_Carrier_On_Time_Performance_1987_present_2014_12.zip \n",
      "Extracting /home/ec2-user/SageMaker/project/data/FlightDelays/On_Time_Reporting_Carrier_On_Time_Performance_1987_present_2018_7.zip \n",
      "Extracting /home/ec2-user/SageMaker/project/data/FlightDelays/On_Time_Reporting_Carrier_On_Time_Performance_1987_present_2014_8.zip \n",
      "Extracting /home/ec2-user/SageMaker/project/data/FlightDelays/On_Time_Reporting_Carrier_On_Time_Performance_1987_present_2016_1.zip \n",
      "Extracting /home/ec2-user/SageMaker/project/data/FlightDelays/On_Time_Reporting_Carrier_On_Time_Performance_1987_present_2015_3.zip \n",
      "Extracting /home/ec2-user/SageMaker/project/data/FlightDelays/On_Time_Reporting_Carrier_On_Time_Performance_1987_present_2016_11.zip \n",
      "Extracting /home/ec2-user/SageMaker/project/data/FlightDelays/On_Time_Reporting_Carrier_On_Time_Performance_1987_present_2015_2.zip \n",
      "Extracting /home/ec2-user/SageMaker/project/data/FlightDelays/On_Time_Reporting_Carrier_On_Time_Performance_1987_present_2018_9.zip \n",
      "Extracting /home/ec2-user/SageMaker/project/data/FlightDelays/On_Time_Reporting_Carrier_On_Time_Performance_1987_present_2015_1.zip \n",
      "Extracting /home/ec2-user/SageMaker/project/data/FlightDelays/On_Time_Reporting_Carrier_On_Time_Performance_1987_present_2015_9.zip \n",
      "Extracting /home/ec2-user/SageMaker/project/data/FlightDelays/On_Time_Reporting_Carrier_On_Time_Performance_1987_present_2018_11.zip \n",
      "Extracting /home/ec2-user/SageMaker/project/data/FlightDelays/On_Time_Reporting_Carrier_On_Time_Performance_1987_present_2016_5.zip \n",
      "Extracting /home/ec2-user/SageMaker/project/data/FlightDelays/On_Time_Reporting_Carrier_On_Time_Performance_1987_present_2016_3.zip \n",
      "Extracting /home/ec2-user/SageMaker/project/data/FlightDelays/On_Time_Reporting_Carrier_On_Time_Performance_1987_present_2017_8.zip \n",
      "Extracting /home/ec2-user/SageMaker/project/data/FlightDelays/On_Time_Reporting_Carrier_On_Time_Performance_1987_present_2016_6.zip \n",
      "Extracting /home/ec2-user/SageMaker/project/data/FlightDelays/On_Time_Reporting_Carrier_On_Time_Performance_1987_present_2014_2.zip \n",
      "Extracting /home/ec2-user/SageMaker/project/data/FlightDelays/On_Time_Reporting_Carrier_On_Time_Performance_1987_present_2017_11.zip \n",
      "Extracting /home/ec2-user/SageMaker/project/data/FlightDelays/On_Time_Reporting_Carrier_On_Time_Performance_1987_present_2016_4.zip \n",
      "Extracting /home/ec2-user/SageMaker/project/data/FlightDelays/On_Time_Reporting_Carrier_On_Time_Performance_1987_present_2018_4.zip \n",
      "Extracting /home/ec2-user/SageMaker/project/data/FlightDelays/On_Time_Reporting_Carrier_On_Time_Performance_1987_present_2018_10.zip \n",
      "Extracting /home/ec2-user/SageMaker/project/data/FlightDelays/On_Time_Reporting_Carrier_On_Time_Performance_1987_present_2014_9.zip \n",
      "Extracting /home/ec2-user/SageMaker/project/data/FlightDelays/On_Time_Reporting_Carrier_On_Time_Performance_1987_present_2017_10.zip \n",
      "Extracting /home/ec2-user/SageMaker/project/data/FlightDelays/On_Time_Reporting_Carrier_On_Time_Performance_1987_present_2014_10.zip \n",
      "Extracting /home/ec2-user/SageMaker/project/data/FlightDelays/On_Time_Reporting_Carrier_On_Time_Performance_1987_present_2015_4.zip \n",
      "Extracting /home/ec2-user/SageMaker/project/data/FlightDelays/On_Time_Reporting_Carrier_On_Time_Performance_1987_present_2015_8.zip \n",
      "Extracting /home/ec2-user/SageMaker/project/data/FlightDelays/On_Time_Reporting_Carrier_On_Time_Performance_1987_present_2018_12.zip \n",
      "Extracting /home/ec2-user/SageMaker/project/data/FlightDelays/On_Time_Reporting_Carrier_On_Time_Performance_1987_present_2015_12.zip \n",
      "Extracting /home/ec2-user/SageMaker/project/data/FlightDelays/On_Time_Reporting_Carrier_On_Time_Performance_1987_present_2015_10.zip \n",
      "Extracting /home/ec2-user/SageMaker/project/data/FlightDelays/On_Time_Reporting_Carrier_On_Time_Performance_1987_present_2017_2.zip \n",
      "Extracting /home/ec2-user/SageMaker/project/data/FlightDelays/On_Time_Reporting_Carrier_On_Time_Performance_1987_present_2016_7.zip \n",
      "Extracting /home/ec2-user/SageMaker/project/data/FlightDelays/On_Time_Reporting_Carrier_On_Time_Performance_1987_present_2016_8.zip \n",
      "Extracting /home/ec2-user/SageMaker/project/data/FlightDelays/On_Time_Reporting_Carrier_On_Time_Performance_1987_present_2014_7.zip \n",
      "Extracting /home/ec2-user/SageMaker/project/data/FlightDelays/On_Time_Reporting_Carrier_On_Time_Performance_1987_present_2016_10.zip \n",
      "Extracting /home/ec2-user/SageMaker/project/data/FlightDelays/On_Time_Reporting_Carrier_On_Time_Performance_1987_present_2017_6.zip \n",
      "Extracting /home/ec2-user/SageMaker/project/data/FlightDelays/On_Time_Reporting_Carrier_On_Time_Performance_1987_present_2018_6.zip \n",
      "Extracting /home/ec2-user/SageMaker/project/data/FlightDelays/On_Time_Reporting_Carrier_On_Time_Performance_1987_present_2017_5.zip \n",
      "Extracting /home/ec2-user/SageMaker/project/data/FlightDelays/On_Time_Reporting_Carrier_On_Time_Performance_1987_present_2018_1.zip \n",
      "Extracting /home/ec2-user/SageMaker/project/data/FlightDelays/On_Time_Reporting_Carrier_On_Time_Performance_1987_present_2017_1.zip \n",
      "Extracting /home/ec2-user/SageMaker/project/data/FlightDelays/On_Time_Reporting_Carrier_On_Time_Performance_1987_present_2016_12.zip \n",
      "Extracting /home/ec2-user/SageMaker/project/data/FlightDelays/On_Time_Reporting_Carrier_On_Time_Performance_1987_present_2017_3.zip \n",
      "Extracting /home/ec2-user/SageMaker/project/data/FlightDelays/On_Time_Reporting_Carrier_On_Time_Performance_1987_present_2015_6.zip \n",
      "Extracting /home/ec2-user/SageMaker/project/data/FlightDelays/On_Time_Reporting_Carrier_On_Time_Performance_1987_present_2015_7.zip \n",
      "Extracting /home/ec2-user/SageMaker/project/data/FlightDelays/On_Time_Reporting_Carrier_On_Time_Performance_1987_present_2018_8.zip \n",
      "Extracting /home/ec2-user/SageMaker/project/data/FlightDelays/On_Time_Reporting_Carrier_On_Time_Performance_1987_present_2015_11.zip \n",
      "Extracting /home/ec2-user/SageMaker/project/data/FlightDelays/On_Time_Reporting_Carrier_On_Time_Performance_1987_present_2014_3.zip \n",
      "Extracting /home/ec2-user/SageMaker/project/data/FlightDelays/On_Time_Reporting_Carrier_On_Time_Performance_1987_present_2014_11.zip \n",
      "Extracting /home/ec2-user/SageMaker/project/data/FlightDelays/On_Time_Reporting_Carrier_On_Time_Performance_1987_present_2014_4.zip \n",
      "Extracting /home/ec2-user/SageMaker/project/data/FlightDelays/On_Time_Reporting_Carrier_On_Time_Performance_1987_present_2016_2.zip \n",
      "Extracting /home/ec2-user/SageMaker/project/data/FlightDelays/On_Time_Reporting_Carrier_On_Time_Performance_1987_present_2014_1.zip \n",
      "Extracting /home/ec2-user/SageMaker/project/data/FlightDelays/On_Time_Reporting_Carrier_On_Time_Performance_1987_present_2015_5.zip \n",
      "Files Extracted\n"
     ]
    }
   ],
   "source": [
    "def zip2csv(zipFile_name , file_path):\n",
    "    \"\"\"\n",
    "    Extract csv from zip files\n",
    "    zipFile_name: name of the zip file\n",
    "    file_path : name of the folder to store csv\n",
    "    \"\"\"\n",
    "\n",
    "    try:\n",
    "        with ZipFile(zipFile_name, 'r') as z: \n",
    "            print(f'Extracting {zipFile_name} ') \n",
    "            z.extractall(path=file_path) \n",
    "    except:\n",
    "        print(f'zip2csv failed for {zipFile_name}')\n",
    "\n",
    "for file in zip_files:\n",
    "    zip2csv(file, csv_base_path)\n",
    "\n",
    "print(\"Files Extracted\")"
   ]
  },
  {
   "cell_type": "code",
   "execution_count": 6,
   "metadata": {},
   "outputs": [
    {
     "data": {
      "text/plain": [
       "60"
      ]
     },
     "execution_count": 6,
     "metadata": {},
     "output_type": "execute_result"
    }
   ],
   "source": [
    "csv_files = [str(file) for file in list(Path(csv_base_path).iterdir()) if '.csv' in str(file)]\n",
    "len(csv_files)"
   ]
  },
  {
   "cell_type": "markdown",
   "metadata": {},
   "source": [
    "Before you load the CSV file, read the HTML file from the extracted folder. This HTML file includes the background and more information about the features that are included in the dataset."
   ]
  },
  {
   "cell_type": "code",
   "execution_count": 7,
   "metadata": {},
   "outputs": [
    {
     "data": {
      "text/html": [
       "\n",
       "        <iframe\n",
       "            width=\"1000\"\n",
       "            height=\"600\"\n",
       "            src=\"../project/data/csvFlightDelays/readme.html\"\n",
       "            frameborder=\"0\"\n",
       "            allowfullscreen\n",
       "        ></iframe>\n",
       "        "
      ],
      "text/plain": [
       "<IPython.lib.display.IFrame at 0x7f6c106e4a58>"
      ]
     },
     "execution_count": 7,
     "metadata": {},
     "output_type": "execute_result"
    }
   ],
   "source": [
    "from IPython.display import IFrame\n",
    "\n",
    "IFrame(src=os.path.relpath(f\"{csv_base_path}readme.html\"), width=1000, height=600)"
   ]
  },
  {
   "cell_type": "markdown",
   "metadata": {},
   "source": [
    "#### Load sample CSV file\n",
    "\n",
    "Before you combine all the CSV files, examine the data from a single CSV file. By using pandas, read the `On_Time_Reporting_Carrier_On_Time_Performance_(1987_present)_2018_9.csv` file first. You can use the built-in `read_csv` function in Python ([pandas.read_csv documentation](https://pandas.pydata.org/pandas-docs/stable/reference/api/pandas.read_csv.html))."
   ]
  },
  {
   "cell_type": "code",
   "execution_count": 8,
   "metadata": {},
   "outputs": [],
   "source": [
    "df_temp = pd.read_csv(f\"{csv_base_path}On_Time_Reporting_Carrier_On_Time_Performance_(1987_present)_2018_9.csv\")"
   ]
  },
  {
   "cell_type": "markdown",
   "metadata": {},
   "source": [
    "**Question**: Print the row and column length in the dataset, and print the column names.\n",
    "\n",
    "**Hint**: To view the rows and columns of a DataFrame, use the `<DataFrame>.shape` function. To view the column names, use the `<DataFrame>.columns` function."
   ]
  },
  {
   "cell_type": "code",
   "execution_count": 9,
   "metadata": {},
   "outputs": [
    {
     "name": "stdout",
     "output_type": "stream",
     "text": [
      "Rows and columns in one CSV file is (585749, 110)\n"
     ]
    }
   ],
   "source": [
    "df_shape = df_temp.shape\n",
    "print(f'Rows and columns in one CSV file is {df_shape}')"
   ]
  },
  {
   "cell_type": "markdown",
   "metadata": {},
   "source": [
    "**Question**: Print the first 10 rows of the dataset.  \n",
    "\n",
    "**Hint**: To print `x` number of rows, use the built-in `head(x)` function in pandas."
   ]
  },
  {
   "cell_type": "code",
   "execution_count": 10,
   "metadata": {},
   "outputs": [
    {
     "data": {
      "text/html": [
       "<div>\n",
       "<style scoped>\n",
       "    .dataframe tbody tr th:only-of-type {\n",
       "        vertical-align: middle;\n",
       "    }\n",
       "\n",
       "    .dataframe tbody tr th {\n",
       "        vertical-align: top;\n",
       "    }\n",
       "\n",
       "    .dataframe thead th {\n",
       "        text-align: right;\n",
       "    }\n",
       "</style>\n",
       "<table border=\"1\" class=\"dataframe\">\n",
       "  <thead>\n",
       "    <tr style=\"text-align: right;\">\n",
       "      <th></th>\n",
       "      <th>Year</th>\n",
       "      <th>Quarter</th>\n",
       "      <th>Month</th>\n",
       "      <th>DayofMonth</th>\n",
       "      <th>DayOfWeek</th>\n",
       "      <th>FlightDate</th>\n",
       "      <th>Reporting_Airline</th>\n",
       "      <th>DOT_ID_Reporting_Airline</th>\n",
       "      <th>IATA_CODE_Reporting_Airline</th>\n",
       "      <th>Tail_Number</th>\n",
       "      <th>...</th>\n",
       "      <th>Div4TailNum</th>\n",
       "      <th>Div5Airport</th>\n",
       "      <th>Div5AirportID</th>\n",
       "      <th>Div5AirportSeqID</th>\n",
       "      <th>Div5WheelsOn</th>\n",
       "      <th>Div5TotalGTime</th>\n",
       "      <th>Div5LongestGTime</th>\n",
       "      <th>Div5WheelsOff</th>\n",
       "      <th>Div5TailNum</th>\n",
       "      <th>Unnamed: 109</th>\n",
       "    </tr>\n",
       "  </thead>\n",
       "  <tbody>\n",
       "    <tr>\n",
       "      <th>0</th>\n",
       "      <td>2018</td>\n",
       "      <td>3</td>\n",
       "      <td>9</td>\n",
       "      <td>3</td>\n",
       "      <td>1</td>\n",
       "      <td>2018-09-03</td>\n",
       "      <td>9E</td>\n",
       "      <td>20363</td>\n",
       "      <td>9E</td>\n",
       "      <td>N908XJ</td>\n",
       "      <td>...</td>\n",
       "      <td>NaN</td>\n",
       "      <td>NaN</td>\n",
       "      <td>NaN</td>\n",
       "      <td>NaN</td>\n",
       "      <td>NaN</td>\n",
       "      <td>NaN</td>\n",
       "      <td>NaN</td>\n",
       "      <td>NaN</td>\n",
       "      <td>NaN</td>\n",
       "      <td>NaN</td>\n",
       "    </tr>\n",
       "    <tr>\n",
       "      <th>1</th>\n",
       "      <td>2018</td>\n",
       "      <td>3</td>\n",
       "      <td>9</td>\n",
       "      <td>9</td>\n",
       "      <td>7</td>\n",
       "      <td>2018-09-09</td>\n",
       "      <td>9E</td>\n",
       "      <td>20363</td>\n",
       "      <td>9E</td>\n",
       "      <td>N315PQ</td>\n",
       "      <td>...</td>\n",
       "      <td>NaN</td>\n",
       "      <td>NaN</td>\n",
       "      <td>NaN</td>\n",
       "      <td>NaN</td>\n",
       "      <td>NaN</td>\n",
       "      <td>NaN</td>\n",
       "      <td>NaN</td>\n",
       "      <td>NaN</td>\n",
       "      <td>NaN</td>\n",
       "      <td>NaN</td>\n",
       "    </tr>\n",
       "    <tr>\n",
       "      <th>2</th>\n",
       "      <td>2018</td>\n",
       "      <td>3</td>\n",
       "      <td>9</td>\n",
       "      <td>10</td>\n",
       "      <td>1</td>\n",
       "      <td>2018-09-10</td>\n",
       "      <td>9E</td>\n",
       "      <td>20363</td>\n",
       "      <td>9E</td>\n",
       "      <td>N582CA</td>\n",
       "      <td>...</td>\n",
       "      <td>NaN</td>\n",
       "      <td>NaN</td>\n",
       "      <td>NaN</td>\n",
       "      <td>NaN</td>\n",
       "      <td>NaN</td>\n",
       "      <td>NaN</td>\n",
       "      <td>NaN</td>\n",
       "      <td>NaN</td>\n",
       "      <td>NaN</td>\n",
       "      <td>NaN</td>\n",
       "    </tr>\n",
       "    <tr>\n",
       "      <th>3</th>\n",
       "      <td>2018</td>\n",
       "      <td>3</td>\n",
       "      <td>9</td>\n",
       "      <td>13</td>\n",
       "      <td>4</td>\n",
       "      <td>2018-09-13</td>\n",
       "      <td>9E</td>\n",
       "      <td>20363</td>\n",
       "      <td>9E</td>\n",
       "      <td>N292PQ</td>\n",
       "      <td>...</td>\n",
       "      <td>NaN</td>\n",
       "      <td>NaN</td>\n",
       "      <td>NaN</td>\n",
       "      <td>NaN</td>\n",
       "      <td>NaN</td>\n",
       "      <td>NaN</td>\n",
       "      <td>NaN</td>\n",
       "      <td>NaN</td>\n",
       "      <td>NaN</td>\n",
       "      <td>NaN</td>\n",
       "    </tr>\n",
       "    <tr>\n",
       "      <th>4</th>\n",
       "      <td>2018</td>\n",
       "      <td>3</td>\n",
       "      <td>9</td>\n",
       "      <td>14</td>\n",
       "      <td>5</td>\n",
       "      <td>2018-09-14</td>\n",
       "      <td>9E</td>\n",
       "      <td>20363</td>\n",
       "      <td>9E</td>\n",
       "      <td>N600LR</td>\n",
       "      <td>...</td>\n",
       "      <td>NaN</td>\n",
       "      <td>NaN</td>\n",
       "      <td>NaN</td>\n",
       "      <td>NaN</td>\n",
       "      <td>NaN</td>\n",
       "      <td>NaN</td>\n",
       "      <td>NaN</td>\n",
       "      <td>NaN</td>\n",
       "      <td>NaN</td>\n",
       "      <td>NaN</td>\n",
       "    </tr>\n",
       "    <tr>\n",
       "      <th>5</th>\n",
       "      <td>2018</td>\n",
       "      <td>3</td>\n",
       "      <td>9</td>\n",
       "      <td>16</td>\n",
       "      <td>7</td>\n",
       "      <td>2018-09-16</td>\n",
       "      <td>9E</td>\n",
       "      <td>20363</td>\n",
       "      <td>9E</td>\n",
       "      <td>N316PQ</td>\n",
       "      <td>...</td>\n",
       "      <td>NaN</td>\n",
       "      <td>NaN</td>\n",
       "      <td>NaN</td>\n",
       "      <td>NaN</td>\n",
       "      <td>NaN</td>\n",
       "      <td>NaN</td>\n",
       "      <td>NaN</td>\n",
       "      <td>NaN</td>\n",
       "      <td>NaN</td>\n",
       "      <td>NaN</td>\n",
       "    </tr>\n",
       "    <tr>\n",
       "      <th>6</th>\n",
       "      <td>2018</td>\n",
       "      <td>3</td>\n",
       "      <td>9</td>\n",
       "      <td>17</td>\n",
       "      <td>1</td>\n",
       "      <td>2018-09-17</td>\n",
       "      <td>9E</td>\n",
       "      <td>20363</td>\n",
       "      <td>9E</td>\n",
       "      <td>N916XJ</td>\n",
       "      <td>...</td>\n",
       "      <td>NaN</td>\n",
       "      <td>NaN</td>\n",
       "      <td>NaN</td>\n",
       "      <td>NaN</td>\n",
       "      <td>NaN</td>\n",
       "      <td>NaN</td>\n",
       "      <td>NaN</td>\n",
       "      <td>NaN</td>\n",
       "      <td>NaN</td>\n",
       "      <td>NaN</td>\n",
       "    </tr>\n",
       "    <tr>\n",
       "      <th>7</th>\n",
       "      <td>2018</td>\n",
       "      <td>3</td>\n",
       "      <td>9</td>\n",
       "      <td>20</td>\n",
       "      <td>4</td>\n",
       "      <td>2018-09-20</td>\n",
       "      <td>9E</td>\n",
       "      <td>20363</td>\n",
       "      <td>9E</td>\n",
       "      <td>N371CA</td>\n",
       "      <td>...</td>\n",
       "      <td>NaN</td>\n",
       "      <td>NaN</td>\n",
       "      <td>NaN</td>\n",
       "      <td>NaN</td>\n",
       "      <td>NaN</td>\n",
       "      <td>NaN</td>\n",
       "      <td>NaN</td>\n",
       "      <td>NaN</td>\n",
       "      <td>NaN</td>\n",
       "      <td>NaN</td>\n",
       "    </tr>\n",
       "    <tr>\n",
       "      <th>8</th>\n",
       "      <td>2018</td>\n",
       "      <td>3</td>\n",
       "      <td>9</td>\n",
       "      <td>21</td>\n",
       "      <td>5</td>\n",
       "      <td>2018-09-21</td>\n",
       "      <td>9E</td>\n",
       "      <td>20363</td>\n",
       "      <td>9E</td>\n",
       "      <td>N601LR</td>\n",
       "      <td>...</td>\n",
       "      <td>NaN</td>\n",
       "      <td>NaN</td>\n",
       "      <td>NaN</td>\n",
       "      <td>NaN</td>\n",
       "      <td>NaN</td>\n",
       "      <td>NaN</td>\n",
       "      <td>NaN</td>\n",
       "      <td>NaN</td>\n",
       "      <td>NaN</td>\n",
       "      <td>NaN</td>\n",
       "    </tr>\n",
       "    <tr>\n",
       "      <th>9</th>\n",
       "      <td>2018</td>\n",
       "      <td>3</td>\n",
       "      <td>9</td>\n",
       "      <td>23</td>\n",
       "      <td>7</td>\n",
       "      <td>2018-09-23</td>\n",
       "      <td>9E</td>\n",
       "      <td>20363</td>\n",
       "      <td>9E</td>\n",
       "      <td>N906XJ</td>\n",
       "      <td>...</td>\n",
       "      <td>NaN</td>\n",
       "      <td>NaN</td>\n",
       "      <td>NaN</td>\n",
       "      <td>NaN</td>\n",
       "      <td>NaN</td>\n",
       "      <td>NaN</td>\n",
       "      <td>NaN</td>\n",
       "      <td>NaN</td>\n",
       "      <td>NaN</td>\n",
       "      <td>NaN</td>\n",
       "    </tr>\n",
       "  </tbody>\n",
       "</table>\n",
       "<p>10 rows × 110 columns</p>\n",
       "</div>"
      ],
      "text/plain": [
       "   Year  Quarter  Month  DayofMonth  DayOfWeek  FlightDate Reporting_Airline  \\\n",
       "0  2018        3      9           3          1  2018-09-03                9E   \n",
       "1  2018        3      9           9          7  2018-09-09                9E   \n",
       "2  2018        3      9          10          1  2018-09-10                9E   \n",
       "3  2018        3      9          13          4  2018-09-13                9E   \n",
       "4  2018        3      9          14          5  2018-09-14                9E   \n",
       "5  2018        3      9          16          7  2018-09-16                9E   \n",
       "6  2018        3      9          17          1  2018-09-17                9E   \n",
       "7  2018        3      9          20          4  2018-09-20                9E   \n",
       "8  2018        3      9          21          5  2018-09-21                9E   \n",
       "9  2018        3      9          23          7  2018-09-23                9E   \n",
       "\n",
       "   DOT_ID_Reporting_Airline IATA_CODE_Reporting_Airline Tail_Number  ...  \\\n",
       "0                     20363                          9E      N908XJ  ...   \n",
       "1                     20363                          9E      N315PQ  ...   \n",
       "2                     20363                          9E      N582CA  ...   \n",
       "3                     20363                          9E      N292PQ  ...   \n",
       "4                     20363                          9E      N600LR  ...   \n",
       "5                     20363                          9E      N316PQ  ...   \n",
       "6                     20363                          9E      N916XJ  ...   \n",
       "7                     20363                          9E      N371CA  ...   \n",
       "8                     20363                          9E      N601LR  ...   \n",
       "9                     20363                          9E      N906XJ  ...   \n",
       "\n",
       "   Div4TailNum  Div5Airport  Div5AirportID  Div5AirportSeqID Div5WheelsOn  \\\n",
       "0          NaN          NaN            NaN               NaN          NaN   \n",
       "1          NaN          NaN            NaN               NaN          NaN   \n",
       "2          NaN          NaN            NaN               NaN          NaN   \n",
       "3          NaN          NaN            NaN               NaN          NaN   \n",
       "4          NaN          NaN            NaN               NaN          NaN   \n",
       "5          NaN          NaN            NaN               NaN          NaN   \n",
       "6          NaN          NaN            NaN               NaN          NaN   \n",
       "7          NaN          NaN            NaN               NaN          NaN   \n",
       "8          NaN          NaN            NaN               NaN          NaN   \n",
       "9          NaN          NaN            NaN               NaN          NaN   \n",
       "\n",
       "  Div5TotalGTime Div5LongestGTime  Div5WheelsOff Div5TailNum  Unnamed: 109  \n",
       "0            NaN              NaN            NaN         NaN           NaN  \n",
       "1            NaN              NaN            NaN         NaN           NaN  \n",
       "2            NaN              NaN            NaN         NaN           NaN  \n",
       "3            NaN              NaN            NaN         NaN           NaN  \n",
       "4            NaN              NaN            NaN         NaN           NaN  \n",
       "5            NaN              NaN            NaN         NaN           NaN  \n",
       "6            NaN              NaN            NaN         NaN           NaN  \n",
       "7            NaN              NaN            NaN         NaN           NaN  \n",
       "8            NaN              NaN            NaN         NaN           NaN  \n",
       "9            NaN              NaN            NaN         NaN           NaN  \n",
       "\n",
       "[10 rows x 110 columns]"
      ]
     },
     "execution_count": 10,
     "metadata": {},
     "output_type": "execute_result"
    }
   ],
   "source": [
    "df_temp.head(10)"
   ]
  },
  {
   "cell_type": "markdown",
   "metadata": {},
   "source": [
    "**Question**: Print all the columns in the dataset. To view the column names, use `<DataFrame>.columns`."
   ]
  },
  {
   "cell_type": "code",
   "execution_count": 11,
   "metadata": {},
   "outputs": [
    {
     "name": "stdout",
     "output_type": "stream",
     "text": [
      "The column names are :\n",
      "#########\n",
      "Year\n",
      "Quarter\n",
      "Month\n",
      "DayofMonth\n",
      "DayOfWeek\n",
      "FlightDate\n",
      "Reporting_Airline\n",
      "DOT_ID_Reporting_Airline\n",
      "IATA_CODE_Reporting_Airline\n",
      "Tail_Number\n",
      "Flight_Number_Reporting_Airline\n",
      "OriginAirportID\n",
      "OriginAirportSeqID\n",
      "OriginCityMarketID\n",
      "Origin\n",
      "OriginCityName\n",
      "OriginState\n",
      "OriginStateFips\n",
      "OriginStateName\n",
      "OriginWac\n",
      "DestAirportID\n",
      "DestAirportSeqID\n",
      "DestCityMarketID\n",
      "Dest\n",
      "DestCityName\n",
      "DestState\n",
      "DestStateFips\n",
      "DestStateName\n",
      "DestWac\n",
      "CRSDepTime\n",
      "DepTime\n",
      "DepDelay\n",
      "DepDelayMinutes\n",
      "DepDel15\n",
      "DepartureDelayGroups\n",
      "DepTimeBlk\n",
      "TaxiOut\n",
      "WheelsOff\n",
      "WheelsOn\n",
      "TaxiIn\n",
      "CRSArrTime\n",
      "ArrTime\n",
      "ArrDelay\n",
      "ArrDelayMinutes\n",
      "ArrDel15\n",
      "ArrivalDelayGroups\n",
      "ArrTimeBlk\n",
      "Cancelled\n",
      "CancellationCode\n",
      "Diverted\n",
      "CRSElapsedTime\n",
      "ActualElapsedTime\n",
      "AirTime\n",
      "Flights\n",
      "Distance\n",
      "DistanceGroup\n",
      "CarrierDelay\n",
      "WeatherDelay\n",
      "NASDelay\n",
      "SecurityDelay\n",
      "LateAircraftDelay\n",
      "FirstDepTime\n",
      "TotalAddGTime\n",
      "LongestAddGTime\n",
      "DivAirportLandings\n",
      "DivReachedDest\n",
      "DivActualElapsedTime\n",
      "DivArrDelay\n",
      "DivDistance\n",
      "Div1Airport\n",
      "Div1AirportID\n",
      "Div1AirportSeqID\n",
      "Div1WheelsOn\n",
      "Div1TotalGTime\n",
      "Div1LongestGTime\n",
      "Div1WheelsOff\n",
      "Div1TailNum\n",
      "Div2Airport\n",
      "Div2AirportID\n",
      "Div2AirportSeqID\n",
      "Div2WheelsOn\n",
      "Div2TotalGTime\n",
      "Div2LongestGTime\n",
      "Div2WheelsOff\n",
      "Div2TailNum\n",
      "Div3Airport\n",
      "Div3AirportID\n",
      "Div3AirportSeqID\n",
      "Div3WheelsOn\n",
      "Div3TotalGTime\n",
      "Div3LongestGTime\n",
      "Div3WheelsOff\n",
      "Div3TailNum\n",
      "Div4Airport\n",
      "Div4AirportID\n",
      "Div4AirportSeqID\n",
      "Div4WheelsOn\n",
      "Div4TotalGTime\n",
      "Div4LongestGTime\n",
      "Div4WheelsOff\n",
      "Div4TailNum\n",
      "Div5Airport\n",
      "Div5AirportID\n",
      "Div5AirportSeqID\n",
      "Div5WheelsOn\n",
      "Div5TotalGTime\n",
      "Div5LongestGTime\n",
      "Div5WheelsOff\n",
      "Div5TailNum\n",
      "Unnamed: 109\n"
     ]
    }
   ],
   "source": [
    "print(f'The column names are :')\n",
    "print('#########')\n",
    "for col in df_temp.columns:\n",
    "    print(col)"
   ]
  },
  {
   "cell_type": "markdown",
   "metadata": {},
   "source": [
    "**Question**: Print all the columns in the dataset that contain the word *Del*. This will help you see how many columns have *delay data* in them.\n",
    "\n",
    "**Hint**: To include values that pass certain `if` statement criteria, you can use a Python list comprehension.\n",
    "\n",
    "For example: `[x for x in [1,2,3,4,5] if x > 2]`  \n",
    "\n",
    "**Hint**: To check if the value is in a list, you can use the `in` keyword ([Python in Keyword documentation](https://www.w3schools.com/python/ref_keyword_in.asp)). \n",
    "\n",
    "For example: `5 in [1,2,3,4,5]`"
   ]
  },
  {
   "cell_type": "code",
   "execution_count": 12,
   "metadata": {},
   "outputs": [
    {
     "name": "stdout",
     "output_type": "stream",
     "text": [
      "The column names that contain the word \"Del\" are :\n",
      "#########\n",
      "['DepDelay', 'DepDelayMinutes', 'DepDel15', 'DepartureDelayGroups', 'ArrDelay', 'ArrDelayMinutes', 'ArrDel15', 'ArrivalDelayGroups', 'CarrierDelay', 'WeatherDelay', 'NASDelay', 'SecurityDelay', 'LateAircraftDelay', 'DivArrDelay']\n"
     ]
    }
   ],
   "source": [
    "print(f'The column names that contain the word \"Del\" are :')\n",
    "print('#########')\n",
    "print([x for x in df_temp.columns if \"Del\" in x])"
   ]
  },
  {
   "cell_type": "markdown",
   "metadata": {},
   "source": [
    "Here are some more questions to help you learn more about your dataset.\n",
    "\n",
    "**Questions**   \n",
    "\n",
    "1. How many rows and columns does the dataset have?   \n",
    "2. How many years are included in the dataset?   \n",
    "3. What is the date range for the dataset?   \n",
    "4. Which airlines are included in the dataset?   \n",
    "5. Which origin and destination airports are covered?\n",
    "\n",
    "**Hints**\n",
    "- To show the dimensions of the DataFrame, use `df_temp.shape`.\n",
    "- To refer to a specific column, use `df_temp.columnName` (for example, `df_temp.CarrierDelay`).\n",
    "- To get unique values for a column, use `df_temp.column.unique()` (for, example `df_temp.Year.unique()`)."
   ]
  },
  {
   "cell_type": "code",
   "execution_count": 13,
   "metadata": {},
   "outputs": [
    {
     "name": "stdout",
     "output_type": "stream",
     "text": [
      "The #rows and #columns are  585749  and  110\n",
      "The years in this dataset are:  [2018]\n",
      "The months covered in this dataset are:  [9]\n",
      "The date range for data is : 2018-09-01  to  2018-09-30\n",
      "The airlines covered in this dataset are:  ['9E', 'B6', 'WN', 'YV', 'YX', 'EV', 'AA', 'AS', 'DL', 'HA', 'UA', 'F9', 'G4', 'MQ', 'NK', 'OH', 'OO']\n",
      "The Origin airports covered are:  ['DFW', 'LGA', 'MSN', 'MSP', 'ATL', 'BDL', 'VLD', 'JFK', 'RDU', 'CHS', 'DTW', 'GRB', 'PVD', 'SHV', 'FNT', 'PIT', 'RIC', 'RST', 'RSW', 'CVG', 'LIT', 'ORD', 'JAX', 'TRI', 'BOS', 'CWA', 'DCA', 'CHO', 'AVP', 'IND', 'GRR', 'BTR', 'MEM', 'TUL', 'CLE', 'STL', 'BTV', 'OMA', 'MGM', 'TVC', 'SAV', 'GSP', 'EWR', 'OAJ', 'BNA', 'MCI', 'TLH', 'ROC', 'LEX', 'PWM', 'BUF', 'AGS', 'CLT', 'GSO', 'BWI', 'SAT', 'PHL', 'TYS', 'ACK', 'DSM', 'GNV', 'AVL', 'BGR', 'MHT', 'ILM', 'MOT', 'IAH', 'SBN', 'SYR', 'ORF', 'MKE', 'XNA', 'MSY', 'PBI', 'ABE', 'HPN', 'EVV', 'ALB', 'LNK', 'AUS', 'PHF', 'CHA', 'GTR', 'BMI', 'BQK', 'CID', 'CAK', 'ATW', 'ABY', 'CAE', 'SRQ', 'MLI', 'BHM', 'IAD', 'CSG', 'CMH', 'MCO', 'MBS', 'FLL', 'SDF', 'TPA', 'MVY', 'LAS', 'LGB', 'SFO', 'SAN', 'LAX', 'RNO', 'PDX', 'ANC', 'ABQ', 'SLC', 'DEN', 'PHX', 'OAK', 'SMF', 'SJU', 'SEA', 'HOU', 'STX', 'BUR', 'SWF', 'SJC', 'DAB', 'BQN', 'PSE', 'ORH', 'HYA', 'STT', 'ONT', 'HRL', 'ICT', 'ISP', 'LBB', 'MAF', 'MDW', 'OKC', 'PNS', 'SNA', 'TUS', 'AMA', 'BOI', 'CRP', 'DAL', 'ECP', 'ELP', 'GEG', 'LFT', 'MFE', 'MDT', 'JAN', 'COS', 'MOB', 'VPS', 'MTJ', 'DRO', 'GPT', 'BFL', 'MRY', 'SBA', 'PSP', 'FSD', 'BRO', 'RAP', 'COU', 'STS', 'PIA', 'FAT', 'SBP', 'FSM', 'HSV', 'BIS', 'DAY', 'BZN', 'MIA', 'EYW', 'MYR', 'HHH', 'GJT', 'FAR', 'SGF', 'HOB', 'CLL', 'LRD', 'AEX', 'ERI', 'MLU', 'LCH', 'ROA', 'LAW', 'MHK', 'GRK', 'SAF', 'GRI', 'JLN', 'ROW', 'FWA', 'CRW', 'LAN', 'OGG', 'HNL', 'KOA', 'EGE', 'LIH', 'MLB', 'JAC', 'FAI', 'RDM', 'ADQ', 'BET', 'BRW', 'SCC', 'KTN', 'YAK', 'CDV', 'JNU', 'SIT', 'PSG', 'WRG', 'OME', 'OTZ', 'ADK', 'FCA', 'FAY', 'PSC', 'BIL', 'MSO', 'ITO', 'PPG', 'MFR', 'EUG', 'GUM', 'SPN', 'DLH', 'TTN', 'BKG', 'SFB', 'PIE', 'PGD', 'AZA', 'SMX', 'RFD', 'SCK', 'OWB', 'HTS', 'BLV', 'IAG', 'USA', 'GFK', 'BLI', 'ELM', 'PBG', 'LCK', 'GTF', 'OGD', 'IDA', 'PVU', 'TOL', 'PSM', 'CKB', 'HGR', 'SPI', 'STC', 'ACT', 'TYR', 'ABI', 'AZO', 'CMI', 'BPT', 'GCK', 'MQT', 'ALO', 'TXK', 'SPS', 'SWO', 'DBQ', 'SUX', 'SJT', 'GGG', 'LSE', 'LBE', 'ACY', 'LYH', 'PGV', 'HVN', 'EWN', 'DHN', 'PIH', 'IMT', 'WYS', 'CPR', 'SCE', 'HLN', 'SUN', 'ISN', 'CMX', 'EAU', 'LWB', 'SHD', 'LBF', 'HYS', 'SLN', 'EAR', 'VEL', 'CNY', 'GCC', 'RKS', 'PUB', 'LBL', 'MKG', 'PAH', 'CGI', 'UIN', 'BFF', 'DVL', 'JMS', 'LAR', 'SGU', 'PRC', 'ASE', 'RDD', 'ACV', 'OTH', 'COD', 'LWS', 'ABR', 'APN', 'ESC', 'PLN', 'BJI', 'BRD', 'BTM', 'CDC', 'CIU', 'EKO', 'TWF', 'HIB', 'BGM', 'RHI', 'ITH', 'INL', 'FLG', 'YUM', 'MEI', 'PIB', 'HDN']\n",
      "The Destination airports covered are:  ['CVG', 'PWM', 'RDU', 'MSP', 'MSN', 'SHV', 'CLT', 'PIT', 'RIC', 'IAH', 'ATL', 'JFK', 'DCA', 'DTW', 'LGA', 'TYS', 'PVD', 'FNT', 'LIT', 'BUF', 'ORD', 'TRI', 'IND', 'BGR', 'AVP', 'BWI', 'LEX', 'BDL', 'GRR', 'CWA', 'TUL', 'MEM', 'AGS', 'EWR', 'MGM', 'PHL', 'SYR', 'OMA', 'STL', 'TVC', 'ORF', 'CLE', 'ABY', 'BOS', 'OAJ', 'TLH', 'BTR', 'SAT', 'JAX', 'BNA', 'CHO', 'VLD', 'ROC', 'DFW', 'GNV', 'ACK', 'PBI', 'CHS', 'GRB', 'MOT', 'MKE', 'DSM', 'ILM', 'GSO', 'MCI', 'SBN', 'BTV', 'MVY', 'XNA', 'RST', 'EVV', 'HPN', 'RSW', 'MDT', 'ROA', 'GSP', 'MCO', 'CSG', 'SAV', 'PHF', 'ALB', 'CHA', 'ABE', 'BMI', 'MSY', 'IAD', 'GTR', 'CID', 'CAK', 'ATW', 'AUS', 'BQK', 'MLI', 'CAE', 'CMH', 'AVL', 'MBS', 'FLL', 'SDF', 'TPA', 'LNK', 'SRQ', 'MHT', 'BHM', 'LAS', 'SFO', 'SAN', 'RNO', 'LGB', 'ANC', 'PDX', 'SJU', 'ABQ', 'SLC', 'DEN', 'LAX', 'PHX', 'OAK', 'SMF', 'SEA', 'STX', 'BUR', 'DAB', 'SJC', 'SWF', 'HOU', 'BQN', 'PSE', 'ORH', 'HYA', 'STT', 'ONT', 'DAL', 'ECP', 'ELP', 'HRL', 'MAF', 'MDW', 'OKC', 'PNS', 'SNA', 'AMA', 'BOI', 'GEG', 'ICT', 'LBB', 'TUS', 'ISP', 'CRP', 'MFE', 'LFT', 'VPS', 'JAN', 'COS', 'MOB', 'DRO', 'GPT', 'BFL', 'COU', 'SBP', 'MTJ', 'SBA', 'PSP', 'FSD', 'FSM', 'BRO', 'PIA', 'STS', 'FAT', 'RAP', 'MRY', 'HSV', 'BIS', 'DAY', 'BZN', 'MIA', 'EYW', 'MYR', 'HHH', 'GJT', 'FAR', 'MLU', 'LRD', 'CLL', 'LCH', 'FWA', 'GRK', 'SGF', 'HOB', 'LAW', 'MHK', 'SAF', 'JLN', 'ROW', 'GRI', 'AEX', 'CRW', 'LAN', 'ERI', 'HNL', 'KOA', 'OGG', 'EGE', 'LIH', 'JAC', 'MLB', 'RDM', 'BET', 'ADQ', 'BRW', 'SCC', 'FAI', 'JNU', 'CDV', 'YAK', 'SIT', 'KTN', 'WRG', 'PSG', 'OME', 'OTZ', 'ADK', 'FCA', 'BIL', 'PSC', 'FAY', 'MSO', 'ITO', 'PPG', 'MFR', 'DLH', 'EUG', 'GUM', 'SPN', 'TTN', 'BKG', 'AZA', 'SFB', 'LCK', 'BLI', 'SCK', 'PIE', 'RFD', 'PVU', 'PBG', 'BLV', 'PGD', 'SPI', 'USA', 'TOL', 'IDA', 'ELM', 'HTS', 'HGR', 'SMX', 'OGD', 'GFK', 'STC', 'GTF', 'IAG', 'CKB', 'OWB', 'PSM', 'ABI', 'TYR', 'ALO', 'SUX', 'AZO', 'ACT', 'CMI', 'BPT', 'TXK', 'SWO', 'SPS', 'DBQ', 'SJT', 'GGG', 'LSE', 'MQT', 'GCK', 'LBE', 'ACY', 'LYH', 'PGV', 'HVN', 'EWN', 'DHN', 'PIH', 'WYS', 'SCE', 'IMT', 'HLN', 'ASE', 'SUN', 'ISN', 'EAR', 'SGU', 'VEL', 'SHD', 'LWB', 'MKG', 'SLN', 'HYS', 'BFF', 'PUB', 'LBL', 'CMX', 'EAU', 'PAH', 'UIN', 'RKS', 'CGI', 'CNY', 'JMS', 'DVL', 'LAR', 'GCC', 'LBF', 'PRC', 'RDD', 'ACV', 'OTH', 'COD', 'LWS', 'ABR', 'APN', 'PLN', 'BJI', 'CPR', 'BRD', 'BTM', 'CDC', 'CIU', 'ESC', 'EKO', 'ITH', 'HIB', 'BGM', 'TWF', 'RHI', 'INL', 'FLG', 'YUM', 'MEI', 'PIB', 'HDN']\n"
     ]
    }
   ],
   "source": [
    "print(\"The #rows and #columns are \", df_temp.shape[0] , \" and \", df_temp.shape[1])\n",
    "print(\"The years in this dataset are: \", df_temp.Year.unique())\n",
    "print(\"The months covered in this dataset are: \", df_temp.Month.unique())\n",
    "print(\"The date range for data is :\" , min(df_temp.FlightDate.unique()), \" to \", max(df_temp.FlightDate.unique()))\n",
    "print(\"The airlines covered in this dataset are: \", list(df_temp.Reporting_Airline.unique()))\n",
    "print(\"The Origin airports covered are: \", list(df_temp.Origin.unique()))\n",
    "print(\"The Destination airports covered are: \", list(df_temp.Dest.unique()))"
   ]
  },
  {
   "cell_type": "markdown",
   "metadata": {},
   "source": [
    "**Question**: What is the count of all the origin and destination airports?\n",
    "\n",
    "**Hint**: To find the values for each airport by using the **Origin** and **Dest** columns, you can use the `values_count` function in pandas ([pandas.Series.value_counts documentation](https://pandas.pydata.org/pandas-docs/stable/reference/api/pandas.Series.value_counts.html))."
   ]
  },
  {
   "cell_type": "code",
   "execution_count": 14,
   "metadata": {},
   "outputs": [
    {
     "data": {
      "text/html": [
       "<div>\n",
       "<style scoped>\n",
       "    .dataframe tbody tr th:only-of-type {\n",
       "        vertical-align: middle;\n",
       "    }\n",
       "\n",
       "    .dataframe tbody tr th {\n",
       "        vertical-align: top;\n",
       "    }\n",
       "\n",
       "    .dataframe thead th {\n",
       "        text-align: right;\n",
       "    }\n",
       "</style>\n",
       "<table border=\"1\" class=\"dataframe\">\n",
       "  <thead>\n",
       "    <tr style=\"text-align: right;\">\n",
       "      <th></th>\n",
       "      <th>Origin</th>\n",
       "      <th>Destination</th>\n",
       "    </tr>\n",
       "  </thead>\n",
       "  <tbody>\n",
       "    <tr>\n",
       "      <th>ABE</th>\n",
       "      <td>303</td>\n",
       "      <td>303</td>\n",
       "    </tr>\n",
       "    <tr>\n",
       "      <th>ABI</th>\n",
       "      <td>169</td>\n",
       "      <td>169</td>\n",
       "    </tr>\n",
       "    <tr>\n",
       "      <th>ABQ</th>\n",
       "      <td>2077</td>\n",
       "      <td>2076</td>\n",
       "    </tr>\n",
       "    <tr>\n",
       "      <th>ABR</th>\n",
       "      <td>60</td>\n",
       "      <td>60</td>\n",
       "    </tr>\n",
       "    <tr>\n",
       "      <th>ABY</th>\n",
       "      <td>79</td>\n",
       "      <td>79</td>\n",
       "    </tr>\n",
       "    <tr>\n",
       "      <th>...</th>\n",
       "      <td>...</td>\n",
       "      <td>...</td>\n",
       "    </tr>\n",
       "    <tr>\n",
       "      <th>WRG</th>\n",
       "      <td>60</td>\n",
       "      <td>60</td>\n",
       "    </tr>\n",
       "    <tr>\n",
       "      <th>WYS</th>\n",
       "      <td>52</td>\n",
       "      <td>52</td>\n",
       "    </tr>\n",
       "    <tr>\n",
       "      <th>XNA</th>\n",
       "      <td>1004</td>\n",
       "      <td>1004</td>\n",
       "    </tr>\n",
       "    <tr>\n",
       "      <th>YAK</th>\n",
       "      <td>60</td>\n",
       "      <td>60</td>\n",
       "    </tr>\n",
       "    <tr>\n",
       "      <th>YUM</th>\n",
       "      <td>96</td>\n",
       "      <td>96</td>\n",
       "    </tr>\n",
       "  </tbody>\n",
       "</table>\n",
       "<p>346 rows × 2 columns</p>\n",
       "</div>"
      ],
      "text/plain": [
       "     Origin  Destination\n",
       "ABE     303          303\n",
       "ABI     169          169\n",
       "ABQ    2077         2076\n",
       "ABR      60           60\n",
       "ABY      79           79\n",
       "..      ...          ...\n",
       "WRG      60           60\n",
       "WYS      52           52\n",
       "XNA    1004         1004\n",
       "YAK      60           60\n",
       "YUM      96           96\n",
       "\n",
       "[346 rows x 2 columns]"
      ]
     },
     "execution_count": 14,
     "metadata": {},
     "output_type": "execute_result"
    }
   ],
   "source": [
    "counts = pd.DataFrame({'Origin':df_temp.Origin.value_counts(), 'Destination':df_temp.Dest.value_counts()})\n",
    "counts"
   ]
  },
  {
   "cell_type": "markdown",
   "metadata": {},
   "source": [
    "**Question**: Print the top 15 origin and destination airports based on number of flights in the dataset.\n",
    "\n",
    "**Hint**: You can use the `sort_values` function in pandas ([pandas.DataFrame.sort_values documentation](https://pandas.pydata.org/pandas-docs/stable/reference/api/pandas.DataFrame.sort_values.html))."
   ]
  },
  {
   "cell_type": "code",
   "execution_count": 15,
   "metadata": {},
   "outputs": [
    {
     "data": {
      "text/html": [
       "<div>\n",
       "<style scoped>\n",
       "    .dataframe tbody tr th:only-of-type {\n",
       "        vertical-align: middle;\n",
       "    }\n",
       "\n",
       "    .dataframe tbody tr th {\n",
       "        vertical-align: top;\n",
       "    }\n",
       "\n",
       "    .dataframe thead th {\n",
       "        text-align: right;\n",
       "    }\n",
       "</style>\n",
       "<table border=\"1\" class=\"dataframe\">\n",
       "  <thead>\n",
       "    <tr style=\"text-align: right;\">\n",
       "      <th></th>\n",
       "      <th>Origin</th>\n",
       "      <th>Destination</th>\n",
       "    </tr>\n",
       "  </thead>\n",
       "  <tbody>\n",
       "    <tr>\n",
       "      <th>ATL</th>\n",
       "      <td>31525</td>\n",
       "      <td>31521</td>\n",
       "    </tr>\n",
       "    <tr>\n",
       "      <th>ORD</th>\n",
       "      <td>28257</td>\n",
       "      <td>28250</td>\n",
       "    </tr>\n",
       "    <tr>\n",
       "      <th>DFW</th>\n",
       "      <td>22802</td>\n",
       "      <td>22795</td>\n",
       "    </tr>\n",
       "    <tr>\n",
       "      <th>DEN</th>\n",
       "      <td>19807</td>\n",
       "      <td>19807</td>\n",
       "    </tr>\n",
       "    <tr>\n",
       "      <th>CLT</th>\n",
       "      <td>19655</td>\n",
       "      <td>19654</td>\n",
       "    </tr>\n",
       "    <tr>\n",
       "      <th>LAX</th>\n",
       "      <td>17875</td>\n",
       "      <td>17873</td>\n",
       "    </tr>\n",
       "    <tr>\n",
       "      <th>SFO</th>\n",
       "      <td>14332</td>\n",
       "      <td>14348</td>\n",
       "    </tr>\n",
       "    <tr>\n",
       "      <th>IAH</th>\n",
       "      <td>14210</td>\n",
       "      <td>14203</td>\n",
       "    </tr>\n",
       "    <tr>\n",
       "      <th>LGA</th>\n",
       "      <td>13850</td>\n",
       "      <td>13850</td>\n",
       "    </tr>\n",
       "    <tr>\n",
       "      <th>MSP</th>\n",
       "      <td>13349</td>\n",
       "      <td>13347</td>\n",
       "    </tr>\n",
       "    <tr>\n",
       "      <th>LAS</th>\n",
       "      <td>13318</td>\n",
       "      <td>13322</td>\n",
       "    </tr>\n",
       "    <tr>\n",
       "      <th>PHX</th>\n",
       "      <td>13126</td>\n",
       "      <td>13128</td>\n",
       "    </tr>\n",
       "    <tr>\n",
       "      <th>DTW</th>\n",
       "      <td>12725</td>\n",
       "      <td>12724</td>\n",
       "    </tr>\n",
       "    <tr>\n",
       "      <th>BOS</th>\n",
       "      <td>12223</td>\n",
       "      <td>12227</td>\n",
       "    </tr>\n",
       "    <tr>\n",
       "      <th>SEA</th>\n",
       "      <td>11872</td>\n",
       "      <td>11877</td>\n",
       "    </tr>\n",
       "  </tbody>\n",
       "</table>\n",
       "</div>"
      ],
      "text/plain": [
       "     Origin  Destination\n",
       "ATL   31525        31521\n",
       "ORD   28257        28250\n",
       "DFW   22802        22795\n",
       "DEN   19807        19807\n",
       "CLT   19655        19654\n",
       "LAX   17875        17873\n",
       "SFO   14332        14348\n",
       "IAH   14210        14203\n",
       "LGA   13850        13850\n",
       "MSP   13349        13347\n",
       "LAS   13318        13322\n",
       "PHX   13126        13128\n",
       "DTW   12725        12724\n",
       "BOS   12223        12227\n",
       "SEA   11872        11877"
      ]
     },
     "execution_count": 15,
     "metadata": {},
     "output_type": "execute_result"
    }
   ],
   "source": [
    "counts.sort_values(by=['Origin','Destination'],ascending=False).head(15) # Enter your code here"
   ]
  },
  {
   "cell_type": "markdown",
   "metadata": {},
   "source": [
    "**Given all the information about a flight trip, can you predict if it would be delayed?**"
   ]
  },
  {
   "cell_type": "markdown",
   "metadata": {},
   "source": [
    "The **ArrDel15** column is an indicator variable that takes the value *1* when the delay is more than 15 minutes. Otherwise, it takes a value of *0*.\n",
    "\n",
    "You could use this as a target column for the classification problem."
   ]
  },
  {
   "cell_type": "markdown",
   "metadata": {},
   "source": [
    "Now, assume that you are traveling from San Francisco to Los Angeles on a work trip. You want to better manage your reservations in Los Angeles. Thus, want to have an idea of whether your flight will be delayed, given a set of features. How many features from this dataset would you need to know before your flight?\n",
    "\n",
    "Columns such as `DepDelay`, `ArrDelay`, `CarrierDelay`, `WeatherDelay`, `NASDelay`, `SecurityDelay`, `LateAircraftDelay`, and `DivArrDelay` contain information about a delay. But this delay could have occured at the origin or the destination. If there were a sudden weather delay 10 minutes before landing, this data wouldn't be helpful to managing your Los Angeles reservations.\n",
    "\n",
    "So to simplify the problem statement, consider the following columns to predict an arrival delay:<br>\n",
    "\n",
    "`Year`, `Quarter`, `Month`, `DayofMonth`, `DayOfWeek`, `FlightDate`, `Reporting_Airline`, `Origin`, `OriginState`, `Dest`, `DestState`, `CRSDepTime`, `DepDelayMinutes`, `DepartureDelayGroups`, `Cancelled`, `Diverted`, `Distance`, `DistanceGroup`, `ArrDelay`, `ArrDelayMinutes`, `ArrDel15`, `AirTime`\n",
    "\n",
    "You will also filter the source and destination airports to be:\n",
    "- Top airports: ATL, ORD, DFW, DEN, CLT, LAX, IAH, PHX, SFO\n",
    "- Top five airlines: UA, OO, WN, AA, DL\n",
    "\n",
    "This information should help reduce the size of data across the CSV files that will be combined."
   ]
  },
  {
   "cell_type": "markdown",
   "metadata": {},
   "source": [
    "#### Combine all CSV files\n",
    " \n",
    "First, create an empy DataFrame that you will use to copy your individual DataFrames from each file. Then, for each file in the `csv_files` list:\n",
    "\n",
    "1. Read the CSV file into a dataframe \n",
    "2. Filter the columns based on the `filter_cols` variable\n",
    "\n",
    "```\n",
    "        columns = ['col1', 'col2']\n",
    "        df_filter = df[columns]\n",
    "```\n",
    "\n",
    "3. Keep only the `subset_vals` in each of the `subset_cols`. To check if the `val` is in the DataFrame column, use the `isin` function in pandas ([pandas.DataFram.isin documentation](https://pandas.pydata.org/pandas-docs/stable/reference/api/pandas.DataFrame.isin.html)). Then, choose the rows that include it.\n",
    "\n",
    "```\n",
    "        df_eg[df_eg['col1'].isin('5')]\n",
    "```\n",
    "\n",
    "4. Concatenate the DataFrame with the empty DataFrame "
   ]
  },
  {
   "cell_type": "code",
   "execution_count": 16,
   "metadata": {},
   "outputs": [],
   "source": [
    "def combine_csv(csv_files, filter_cols, subset_cols, subset_vals, file_name):\n",
    "\n",
    "    \"\"\"\n",
    "    Combine csv files into one Data Frame\n",
    "    csv_files: list of csv file paths\n",
    "    filter_cols: list of columns to filter\n",
    "    subset_cols: list of columns to subset rows\n",
    "    subset_vals: list of list of values to subset rows\n",
    "    \"\"\"\n",
    "\n",
    "    df = pd.DataFrame()\n",
    "    \n",
    "    for file in csv_files:\n",
    "        df_temp = pd.read_csv(file)\n",
    "        df_temp = df_temp[filter_cols]\n",
    "        for col, val in zip(subset_cols,subset_vals):\n",
    "            df_temp = df_temp[df_temp[col].isin(val)]      \n",
    "        \n",
    "        df = pd.concat([df, df_temp], axis=0)\n",
    "      \n",
    "    df.to_csv(file_name, index=False)\n",
    "    print(f'Combined csv stored at {file_name}')"
   ]
  },
  {
   "cell_type": "code",
   "execution_count": 17,
   "metadata": {},
   "outputs": [],
   "source": [
    "#cols is the list of columns to predict Arrival Delay \n",
    "cols = ['Year','Quarter','Month','DayofMonth','DayOfWeek','FlightDate',\n",
    "        'Reporting_Airline','Origin','OriginState','Dest','DestState',\n",
    "        'CRSDepTime','Cancelled','Diverted','Distance','DistanceGroup',\n",
    "        'ArrDelay','ArrDelayMinutes','ArrDel15','AirTime']\n",
    "\n",
    "subset_cols = ['Origin', 'Dest', 'Reporting_Airline']\n",
    "\n",
    "# subset_vals is a list collection of the top origin and destination airports and top 5 airlines\n",
    "subset_vals = [['ATL', 'ORD', 'DFW', 'DEN', 'CLT', 'LAX', 'IAH', 'PHX', 'SFO'], \n",
    "               ['ATL', 'ORD', 'DFW', 'DEN', 'CLT', 'LAX', 'IAH', 'PHX', 'SFO'], \n",
    "               ['UA', 'OO', 'WN', 'AA', 'DL']]"
   ]
  },
  {
   "cell_type": "markdown",
   "metadata": {},
   "source": [
    "Use the previous function to merge all the different files into a single file that you can read easily. \n",
    "\n",
    "**Note**: This process will take 5-7 minutes to complete."
   ]
  },
  {
   "cell_type": "code",
   "execution_count": 18,
   "metadata": {},
   "outputs": [
    {
     "name": "stdout",
     "output_type": "stream",
     "text": [
      "Combined csv stored at /home/ec2-user/SageMaker/project/data/FlightDelays/combined_files.csv\n",
      "CSVs merged in 4.42 minutes\n"
     ]
    }
   ],
   "source": [
    "start = time.time()\n",
    "combined_csv_filename = f\"{base_path}combined_files.csv\"\n",
    "combine_csv(csv_files, cols, subset_cols, subset_vals, combined_csv_filename)\n",
    "print(f'CSVs merged in {round((time.time() - start)/60,2)} minutes')"
   ]
  },
  {
   "cell_type": "markdown",
   "metadata": {},
   "source": [
    "#### Load the dataset\n",
    "\n",
    "Load the combined dataset."
   ]
  },
  {
   "cell_type": "code",
   "execution_count": 19,
   "metadata": {},
   "outputs": [],
   "source": [
    "data = pd.read_csv(combined_csv_filename)"
   ]
  },
  {
   "cell_type": "markdown",
   "metadata": {},
   "source": [
    "Print the first five records."
   ]
  },
  {
   "cell_type": "code",
   "execution_count": 20,
   "metadata": {},
   "outputs": [
    {
     "data": {
      "text/html": [
       "<div>\n",
       "<style scoped>\n",
       "    .dataframe tbody tr th:only-of-type {\n",
       "        vertical-align: middle;\n",
       "    }\n",
       "\n",
       "    .dataframe tbody tr th {\n",
       "        vertical-align: top;\n",
       "    }\n",
       "\n",
       "    .dataframe thead th {\n",
       "        text-align: right;\n",
       "    }\n",
       "</style>\n",
       "<table border=\"1\" class=\"dataframe\">\n",
       "  <thead>\n",
       "    <tr style=\"text-align: right;\">\n",
       "      <th></th>\n",
       "      <th>Year</th>\n",
       "      <th>Quarter</th>\n",
       "      <th>Month</th>\n",
       "      <th>DayofMonth</th>\n",
       "      <th>DayOfWeek</th>\n",
       "      <th>FlightDate</th>\n",
       "      <th>Reporting_Airline</th>\n",
       "      <th>Origin</th>\n",
       "      <th>OriginState</th>\n",
       "      <th>Dest</th>\n",
       "      <th>DestState</th>\n",
       "      <th>CRSDepTime</th>\n",
       "      <th>Cancelled</th>\n",
       "      <th>Diverted</th>\n",
       "      <th>Distance</th>\n",
       "      <th>DistanceGroup</th>\n",
       "      <th>ArrDelay</th>\n",
       "      <th>ArrDelayMinutes</th>\n",
       "      <th>ArrDel15</th>\n",
       "      <th>AirTime</th>\n",
       "    </tr>\n",
       "  </thead>\n",
       "  <tbody>\n",
       "    <tr>\n",
       "      <th>0</th>\n",
       "      <td>2014</td>\n",
       "      <td>4</td>\n",
       "      <td>12</td>\n",
       "      <td>1</td>\n",
       "      <td>1</td>\n",
       "      <td>2014-12-01</td>\n",
       "      <td>AA</td>\n",
       "      <td>DFW</td>\n",
       "      <td>TX</td>\n",
       "      <td>SFO</td>\n",
       "      <td>CA</td>\n",
       "      <td>755</td>\n",
       "      <td>1.0</td>\n",
       "      <td>0.0</td>\n",
       "      <td>1464.0</td>\n",
       "      <td>6</td>\n",
       "      <td>NaN</td>\n",
       "      <td>NaN</td>\n",
       "      <td>NaN</td>\n",
       "      <td>NaN</td>\n",
       "    </tr>\n",
       "    <tr>\n",
       "      <th>1</th>\n",
       "      <td>2014</td>\n",
       "      <td>4</td>\n",
       "      <td>12</td>\n",
       "      <td>2</td>\n",
       "      <td>2</td>\n",
       "      <td>2014-12-02</td>\n",
       "      <td>AA</td>\n",
       "      <td>DFW</td>\n",
       "      <td>TX</td>\n",
       "      <td>SFO</td>\n",
       "      <td>CA</td>\n",
       "      <td>755</td>\n",
       "      <td>0.0</td>\n",
       "      <td>0.0</td>\n",
       "      <td>1464.0</td>\n",
       "      <td>6</td>\n",
       "      <td>99.0</td>\n",
       "      <td>99.0</td>\n",
       "      <td>1.0</td>\n",
       "      <td>214.0</td>\n",
       "    </tr>\n",
       "    <tr>\n",
       "      <th>2</th>\n",
       "      <td>2014</td>\n",
       "      <td>4</td>\n",
       "      <td>12</td>\n",
       "      <td>3</td>\n",
       "      <td>3</td>\n",
       "      <td>2014-12-03</td>\n",
       "      <td>AA</td>\n",
       "      <td>DFW</td>\n",
       "      <td>TX</td>\n",
       "      <td>SFO</td>\n",
       "      <td>CA</td>\n",
       "      <td>755</td>\n",
       "      <td>0.0</td>\n",
       "      <td>0.0</td>\n",
       "      <td>1464.0</td>\n",
       "      <td>6</td>\n",
       "      <td>28.0</td>\n",
       "      <td>28.0</td>\n",
       "      <td>1.0</td>\n",
       "      <td>236.0</td>\n",
       "    </tr>\n",
       "    <tr>\n",
       "      <th>3</th>\n",
       "      <td>2014</td>\n",
       "      <td>4</td>\n",
       "      <td>12</td>\n",
       "      <td>4</td>\n",
       "      <td>4</td>\n",
       "      <td>2014-12-04</td>\n",
       "      <td>AA</td>\n",
       "      <td>DFW</td>\n",
       "      <td>TX</td>\n",
       "      <td>SFO</td>\n",
       "      <td>CA</td>\n",
       "      <td>755</td>\n",
       "      <td>0.0</td>\n",
       "      <td>0.0</td>\n",
       "      <td>1464.0</td>\n",
       "      <td>6</td>\n",
       "      <td>-18.0</td>\n",
       "      <td>0.0</td>\n",
       "      <td>0.0</td>\n",
       "      <td>195.0</td>\n",
       "    </tr>\n",
       "    <tr>\n",
       "      <th>4</th>\n",
       "      <td>2014</td>\n",
       "      <td>4</td>\n",
       "      <td>12</td>\n",
       "      <td>5</td>\n",
       "      <td>5</td>\n",
       "      <td>2014-12-05</td>\n",
       "      <td>AA</td>\n",
       "      <td>DFW</td>\n",
       "      <td>TX</td>\n",
       "      <td>SFO</td>\n",
       "      <td>CA</td>\n",
       "      <td>755</td>\n",
       "      <td>0.0</td>\n",
       "      <td>0.0</td>\n",
       "      <td>1464.0</td>\n",
       "      <td>6</td>\n",
       "      <td>-5.0</td>\n",
       "      <td>0.0</td>\n",
       "      <td>0.0</td>\n",
       "      <td>212.0</td>\n",
       "    </tr>\n",
       "  </tbody>\n",
       "</table>\n",
       "</div>"
      ],
      "text/plain": [
       "   Year  Quarter  Month  DayofMonth  DayOfWeek  FlightDate Reporting_Airline  \\\n",
       "0  2014        4     12           1          1  2014-12-01                AA   \n",
       "1  2014        4     12           2          2  2014-12-02                AA   \n",
       "2  2014        4     12           3          3  2014-12-03                AA   \n",
       "3  2014        4     12           4          4  2014-12-04                AA   \n",
       "4  2014        4     12           5          5  2014-12-05                AA   \n",
       "\n",
       "  Origin OriginState Dest DestState  CRSDepTime  Cancelled  Diverted  \\\n",
       "0    DFW          TX  SFO        CA         755        1.0       0.0   \n",
       "1    DFW          TX  SFO        CA         755        0.0       0.0   \n",
       "2    DFW          TX  SFO        CA         755        0.0       0.0   \n",
       "3    DFW          TX  SFO        CA         755        0.0       0.0   \n",
       "4    DFW          TX  SFO        CA         755        0.0       0.0   \n",
       "\n",
       "   Distance  DistanceGroup  ArrDelay  ArrDelayMinutes  ArrDel15  AirTime  \n",
       "0    1464.0              6       NaN              NaN       NaN      NaN  \n",
       "1    1464.0              6      99.0             99.0       1.0    214.0  \n",
       "2    1464.0              6      28.0             28.0       1.0    236.0  \n",
       "3    1464.0              6     -18.0              0.0       0.0    195.0  \n",
       "4    1464.0              6      -5.0              0.0       0.0    212.0  "
      ]
     },
     "execution_count": 20,
     "metadata": {},
     "output_type": "execute_result"
    }
   ],
   "source": [
    "data.head(5)"
   ]
  },
  {
   "cell_type": "markdown",
   "metadata": {},
   "source": [
    "Here are some more questions to help you learn more about your dataset.\n",
    "\n",
    "**Questions**   \n",
    "\n",
    "1. How many rows and columns does the dataset have?   \n",
    "2. How many years are included in the dataset?   \n",
    "3. What is the date range for the dataset?   \n",
    "4. Which airlines are included in the dataset?   \n",
    "5. Which origin and destination airports are covered?"
   ]
  },
  {
   "cell_type": "code",
   "execution_count": 21,
   "metadata": {},
   "outputs": [
    {
     "name": "stdout",
     "output_type": "stream",
     "text": [
      "The #rows and #columns are  1658130  and  20\n",
      "The years in this dataset are:  [2014 2017 2018 2016 2015]\n",
      "The months covered in this dataset are:  [12  8  5  9 10  3  7 11  4  2  1  6]\n",
      "The date range for data is : 2014-01-01  to  2018-12-31\n",
      "The airlines covered in this dataset are:  ['AA', 'DL', 'UA', 'WN', 'OO']\n",
      "The Origin airports covered are:  ['DFW', 'SFO', 'DEN', 'ATL', 'PHX', 'ORD', 'LAX', 'IAH', 'CLT']\n",
      "The Destination airports covered are:  ['SFO', 'DFW', 'DEN', 'ATL', 'PHX', 'ORD', 'LAX', 'IAH', 'CLT']\n"
     ]
    }
   ],
   "source": [
    "print(\"The #rows and #columns are \", data.shape[0] , \" and \", data.shape[1])\n",
    "print(\"The years in this dataset are: \", data.Year.unique())\n",
    "print(\"The months covered in this dataset are: \", data.Month.unique())\n",
    "print(\"The date range for data is :\" , min(data.FlightDate.unique()), \" to \", max(data.FlightDate.unique()))\n",
    "print(\"The airlines covered in this dataset are: \", list(data.Reporting_Airline.unique()))\n",
    "print(\"The Origin airports covered are: \", list(data.Origin.unique()))\n",
    "print(\"The Destination airports covered are: \", list(data.Dest.unique()))"
   ]
  },
  {
   "cell_type": "markdown",
   "metadata": {},
   "source": [
    "Define your target column: **is_delay** (*1* means that the arrival time delayed more than 15 minutes, and *0* means all other cases). To rename the column from **ArrDel15** to *is_delay*, use the `rename` method .\n",
    "\n",
    "**Hint**: You can use the `rename` function in pandas ([pandas.DataFrame.rename documentation](https://pandas.pydata.org/pandas-docs/stable/reference/api/pandas.DataFrame.rename.html)).\n",
    "\n",
    "For example:\n",
    "```\n",
    "data.rename(columns={'col1':'column1'}, inplace=True)\n",
    "```"
   ]
  },
  {
   "cell_type": "code",
   "execution_count": 22,
   "metadata": {},
   "outputs": [],
   "source": [
    "data.rename(columns={'ArrDel15':'is_delay'}, inplace=True) # Enter your code here"
   ]
  },
  {
   "cell_type": "markdown",
   "metadata": {},
   "source": [
    "Look for nulls across columns. You can use the `isnull()` function ([pandas.isnull documentation](https://pandas.pydata.org/pandas-docs/version/0.17.0/generated/pandas.isnull.html)).\n",
    "\n",
    "**Hint**: `isnull()` detects whether the particular value is null or not. It returns a boolean (*True* or *False*) in its place. To sum the number of columns, use the `sum(axis=0)` function (for example, `df.isnull().sum(axis=0)`)."
   ]
  },
  {
   "cell_type": "code",
   "execution_count": 23,
   "metadata": {},
   "outputs": [
    {
     "data": {
      "text/plain": [
       "Year                     0\n",
       "Quarter                  0\n",
       "Month                    0\n",
       "DayofMonth               0\n",
       "DayOfWeek                0\n",
       "FlightDate               0\n",
       "Reporting_Airline        0\n",
       "Origin                   0\n",
       "OriginState              0\n",
       "Dest                     0\n",
       "DestState                0\n",
       "CRSDepTime               0\n",
       "Cancelled                0\n",
       "Diverted                 0\n",
       "Distance                 0\n",
       "DistanceGroup            0\n",
       "ArrDelay             22540\n",
       "ArrDelayMinutes      22540\n",
       "is_delay             22540\n",
       "AirTime              22540\n",
       "dtype: int64"
      ]
     },
     "execution_count": 23,
     "metadata": {},
     "output_type": "execute_result"
    }
   ],
   "source": [
    "data.isnull().sum(axis=0)\n",
    "# Enter your code here"
   ]
  },
  {
   "cell_type": "markdown",
   "metadata": {},
   "source": [
    "The arrival delay details and airtime are missing for 22,540 out of 1,658,130 rows, which is 1.3 percent. You can either remove or impute these rows. The documentation doesn't mention any information about missing rows.\n"
   ]
  },
  {
   "cell_type": "code",
   "execution_count": 24,
   "metadata": {},
   "outputs": [
    {
     "data": {
      "text/plain": [
       "Year                 0\n",
       "Quarter              0\n",
       "Month                0\n",
       "DayofMonth           0\n",
       "DayOfWeek            0\n",
       "FlightDate           0\n",
       "Reporting_Airline    0\n",
       "Origin               0\n",
       "OriginState          0\n",
       "Dest                 0\n",
       "DestState            0\n",
       "CRSDepTime           0\n",
       "Cancelled            0\n",
       "Diverted             0\n",
       "Distance             0\n",
       "DistanceGroup        0\n",
       "ArrDelay             0\n",
       "ArrDelayMinutes      0\n",
       "is_delay             0\n",
       "AirTime              0\n",
       "dtype: int64"
      ]
     },
     "execution_count": 24,
     "metadata": {},
     "output_type": "execute_result"
    }
   ],
   "source": [
    "### Remove null columns\n",
    "data = data[~data.is_delay.isnull()]\n",
    "data.isnull().sum(axis = 0)"
   ]
  },
  {
   "cell_type": "markdown",
   "metadata": {},
   "source": [
    "Get the hour of the day in 24-hour-time format from CRSDepTime."
   ]
  },
  {
   "cell_type": "code",
   "execution_count": 25,
   "metadata": {},
   "outputs": [],
   "source": [
    "data['DepHourofDay'] = (data['CRSDepTime']//100)"
   ]
  },
  {
   "cell_type": "markdown",
   "metadata": {},
   "source": [
    "## **The ML problem statement**\n",
    "- Given a set of features, can you predict if a flight is going to be delayed more than 15 minutes?\n",
    "- Because the target variable takes only a value of *0* or *1*, you could use a classification algorithm. \n",
    "\n",
    "Before you start modeling, it's a good practice to look at feature distribution, correlations, and others.\n",
    "- This will give you an idea of any non-linearity or patterns in the data\n",
    "    - Linear models: Add power, exponential, or interaction features\n",
    "    - Try a non-linear model\n",
    "- Data imbalance \n",
    "    - Choose metrics that won't give biased model performance (accuracy versus the area under the curve, or AUC)\n",
    "    - Use weighted or custom loss functions\n",
    "- Missing data\n",
    "    - Do imputation based on simple statistics -- mean, median, mode (numerical variables), frequent class (categorical variables)\n",
    "    - Clustering-based imputation (k-nearest neighbors, or KNNs, to predict column value)\n",
    "    - Drop column"
   ]
  },
  {
   "cell_type": "markdown",
   "metadata": {},
   "source": [
    "### Data exploration\n",
    "\n",
    "Check the classes *delay* versus *no delay*.\n"
   ]
  },
  {
   "cell_type": "code",
   "execution_count": 26,
   "metadata": {},
   "outputs": [
    {
     "data": {
      "image/png": "[encoded data removed]",
      "text/plain": [
       "<Figure size 432x288 with 1 Axes>"
      ]
     },
     "metadata": {
      "needs_background": "light"
     },
     "output_type": "display_data"
    }
   ],
   "source": [
    "(data.groupby('is_delay').size()/len(data) ).plot(kind='bar')# Enter your code here\n",
    "plt.ylabel('Frequency')\n",
    "plt.title('Distribution of classes')\n",
    "plt.show()"
   ]
  },
  {
   "cell_type": "markdown",
   "metadata": {},
   "source": [
    "**Question**: What can you deduce from the bar plot about the ratio of *delay* versus *no delay*?"
   ]
  },
  {
   "cell_type": "code",
   "execution_count": 27,
   "metadata": {},
   "outputs": [],
   "source": [
    "# Enter your answer here\n",
    "#the delayed flight is smaller than the non delayed one"
   ]
  },
  {
   "cell_type": "markdown",
   "metadata": {},
   "source": [
    "Run the following two cells and answer the questions."
   ]
  },
  {
   "cell_type": "code",
   "execution_count": 28,
   "metadata": {},
   "outputs": [
    {
     "data": {
      "image/png": "[encoded data removed]",
      "text/plain": [
       "<Figure size 1440x1440 with 6 Axes>"
      ]
     },
     "metadata": {
      "needs_background": "light"
     },
     "output_type": "display_data"
    }
   ],
   "source": [
    "viz_columns = ['Month', 'DepHourofDay', 'DayOfWeek', 'Reporting_Airline', 'Origin', 'Dest']\n",
    "fig, axes = plt.subplots(3, 2, figsize=(20,20), squeeze=False)\n",
    "# fig.autofmt_xdate(rotation=90)\n",
    "\n",
    "for idx, column in enumerate(viz_columns):\n",
    "    ax = axes[idx//2, idx%2]\n",
    "    temp = data.groupby(column)['is_delay'].value_counts(normalize=True).rename('percentage').\\\n",
    "    mul(100).reset_index().sort_values(column)\n",
    "    sns.barplot(x=column, y=\"percentage\", hue=\"is_delay\", data=temp, ax=ax)\n",
    "    plt.ylabel('% delay/no-delay')\n",
    "    \n",
    "\n",
    "plt.show()"
   ]
  },
  {
   "cell_type": "code",
   "execution_count": 29,
   "metadata": {},
   "outputs": [
    {
     "data": {
      "image/png": "[encoded data removed]",
      "text/plain": [
       "<Figure size 360x360 with 1 Axes>"
      ]
     },
     "metadata": {
      "needs_background": "light"
     },
     "output_type": "display_data"
    }
   ],
   "source": [
    "sns.lmplot( x=\"is_delay\", y=\"Distance\", data=data, fit_reg=False, hue='is_delay', legend=False)\n",
    "plt.legend(loc='center')\n",
    "plt.xlabel('is_delay')\n",
    "plt.ylabel('Distance')\n",
    "plt.show()"
   ]
  },
  {
   "cell_type": "markdown",
   "metadata": {},
   "source": [
    "**Questions**\n",
    "\n",
    "Using the data from the previous charts, answer these questions:\n",
    "\n",
    "- Which months have the most delays?\n",
    "- What time of the day has the most delays?\n",
    "- What day of the week has the most delays?\n",
    "- Which airline has the most delays?\n",
    "- Which origin and destination airports have the most delays?\n",
    "- Is flight distance a factor in the delays?"
   ]
  },
  {
   "cell_type": "code",
   "execution_count": 30,
   "metadata": {},
   "outputs": [],
   "source": [
    "# Enter your answers here\n",
    "#june, july and august\n",
    "#8 p.m.\n",
    "#thursday\n",
    "#WN airline\n",
    "#SFO\n",
    "#no"
   ]
  },
  {
   "cell_type": "markdown",
   "metadata": {},
   "source": [
    "### Features\n",
    "\n",
    "Look at all the columns and what their specific types are."
   ]
  },
  {
   "cell_type": "code",
   "execution_count": 31,
   "metadata": {},
   "outputs": [
    {
     "data": {
      "text/plain": [
       "Index(['Year', 'Quarter', 'Month', 'DayofMonth', 'DayOfWeek', 'FlightDate',\n",
       "       'Reporting_Airline', 'Origin', 'OriginState', 'Dest', 'DestState',\n",
       "       'CRSDepTime', 'Cancelled', 'Diverted', 'Distance', 'DistanceGroup',\n",
       "       'ArrDelay', 'ArrDelayMinutes', 'is_delay', 'AirTime', 'DepHourofDay'],\n",
       "      dtype='object')"
      ]
     },
     "execution_count": 31,
     "metadata": {},
     "output_type": "execute_result"
    }
   ],
   "source": [
    "data.columns"
   ]
  },
  {
   "cell_type": "code",
   "execution_count": 32,
   "metadata": {},
   "outputs": [
    {
     "data": {
      "text/plain": [
       "Year                   int64\n",
       "Quarter                int64\n",
       "Month                  int64\n",
       "DayofMonth             int64\n",
       "DayOfWeek              int64\n",
       "FlightDate            object\n",
       "Reporting_Airline     object\n",
       "Origin                object\n",
       "OriginState           object\n",
       "Dest                  object\n",
       "DestState             object\n",
       "CRSDepTime             int64\n",
       "Cancelled            float64\n",
       "Diverted             float64\n",
       "Distance             float64\n",
       "DistanceGroup          int64\n",
       "ArrDelay             float64\n",
       "ArrDelayMinutes      float64\n",
       "is_delay             float64\n",
       "AirTime              float64\n",
       "DepHourofDay           int64\n",
       "dtype: object"
      ]
     },
     "execution_count": 32,
     "metadata": {},
     "output_type": "execute_result"
    }
   ],
   "source": [
    "data.dtypes"
   ]
  },
  {
   "cell_type": "markdown",
   "metadata": {},
   "source": [
    "Filtering the required columns:\n",
    "- *Date* is redundant, because you have *Year*, *Quarter*, *Month*, *DayofMonth*, and *DayOfWeek* to describe the date.\n",
    "- Use *Origin* and *Dest* codes instead of *OriginState* and *DestState*.\n",
    "- Because you are only classifying whether the flight is delayed or not, you don't need *TotalDelayMinutes*, *DepDelayMinutes*, and *ArrDelayMinutes*.\n",
    "\n",
    "Treat *DepHourofDay* as a categorical variable because it doesn't have any quantitative relation with the target.\n",
    "- If you needed to do a one-hot encoding of this variable, it would result in 23 more columns.\n",
    "- Other alternatives to handling categorical variables include hash encoding, regularized mean encoding, and bucketizing the values, among others.\n",
    "- In this case, you only need to split into buckets.\n",
    "\n",
    "To change a column type to category, use the `astype` function ([pandas.DataFrame.astype documentation](https://pandas.pydata.org/pandas-docs/stable/reference/api/pandas.DataFrame.astype.html))."
   ]
  },
  {
   "cell_type": "code",
   "execution_count": 33,
   "metadata": {},
   "outputs": [],
   "source": [
    "data_orig = data.copy()\n",
    "data = data[[ 'is_delay', 'Quarter', 'Month', 'DayofMonth', 'DayOfWeek', \n",
    "       'Reporting_Airline', 'Origin', 'Dest','Distance','DepHourofDay']]\n",
    "categorical_columns  = ['Quarter', 'Month', 'DayofMonth', 'DayOfWeek', \n",
    "       'Reporting_Airline', 'Origin', 'Dest', 'DepHourofDay']\n",
    "for c in categorical_columns:\n",
    "    data[c] = data[c].astype('category')"
   ]
  },
  {
   "cell_type": "markdown",
   "metadata": {},
   "source": [
    "To use one-hot encoding, use the `get_dummies` function in pandas for the categorical columns that you selected. Then, you can concatenate those generated features to your original dataset by using the `concat` function in pandas. For encoding categorical variables, you can also use *dummy encoding* by using a keyword `drop_first=True`. For more information about dummy encoding, see [Dummy variable (statistics)](https://en.wikiversity.org/wiki/Dummy_variable_(statistics)).\n",
    "\n",
    "For example:\n",
    "```\n",
    "pd.get_dummies(df[['column1','columns2']], drop_first=True)\n",
    "```"
   ]
  },
  {
   "cell_type": "code",
   "execution_count": 34,
   "metadata": {},
   "outputs": [],
   "source": [
    "data_dummies = pd.get_dummies(data[['Quarter', 'Month', 'DayofMonth', 'DayOfWeek', \n",
    "       'Reporting_Airline', 'Origin', 'Dest','DepHourofDay']], drop_first=True) # Enter your code here\n",
    "data = pd.concat([data, data_dummies], axis = 1)\n",
    "data.drop(categorical_columns,axis=1, inplace=True)"
   ]
  },
  {
   "cell_type": "markdown",
   "metadata": {},
   "source": [
    "Check the length of the dataset and the new columns.\n",
    "\n",
    "**Hint**: Use the `shape` and `columns` properties."
   ]
  },
  {
   "cell_type": "code",
   "execution_count": 35,
   "metadata": {},
   "outputs": [
    {
     "data": {
      "text/html": [
       "<div>\n",
       "<style scoped>\n",
       "    .dataframe tbody tr th:only-of-type {\n",
       "        vertical-align: middle;\n",
       "    }\n",
       "\n",
       "    .dataframe tbody tr th {\n",
       "        vertical-align: top;\n",
       "    }\n",
       "\n",
       "    .dataframe thead th {\n",
       "        text-align: right;\n",
       "    }\n",
       "</style>\n",
       "<table border=\"1\" class=\"dataframe\">\n",
       "  <thead>\n",
       "    <tr style=\"text-align: right;\">\n",
       "      <th></th>\n",
       "      <th>is_delay</th>\n",
       "      <th>Distance</th>\n",
       "      <th>Quarter_2</th>\n",
       "      <th>Quarter_3</th>\n",
       "      <th>Quarter_4</th>\n",
       "      <th>Month_2</th>\n",
       "      <th>Month_3</th>\n",
       "      <th>Month_4</th>\n",
       "      <th>Month_5</th>\n",
       "      <th>Month_6</th>\n",
       "      <th>...</th>\n",
       "      <th>DepHourofDay_14</th>\n",
       "      <th>DepHourofDay_15</th>\n",
       "      <th>DepHourofDay_16</th>\n",
       "      <th>DepHourofDay_17</th>\n",
       "      <th>DepHourofDay_18</th>\n",
       "      <th>DepHourofDay_19</th>\n",
       "      <th>DepHourofDay_20</th>\n",
       "      <th>DepHourofDay_21</th>\n",
       "      <th>DepHourofDay_22</th>\n",
       "      <th>DepHourofDay_23</th>\n",
       "    </tr>\n",
       "  </thead>\n",
       "  <tbody>\n",
       "    <tr>\n",
       "      <th>1</th>\n",
       "      <td>1.0</td>\n",
       "      <td>1464.0</td>\n",
       "      <td>0</td>\n",
       "      <td>0</td>\n",
       "      <td>1</td>\n",
       "      <td>0</td>\n",
       "      <td>0</td>\n",
       "      <td>0</td>\n",
       "      <td>0</td>\n",
       "      <td>0</td>\n",
       "      <td>...</td>\n",
       "      <td>0</td>\n",
       "      <td>0</td>\n",
       "      <td>0</td>\n",
       "      <td>0</td>\n",
       "      <td>0</td>\n",
       "      <td>0</td>\n",
       "      <td>0</td>\n",
       "      <td>0</td>\n",
       "      <td>0</td>\n",
       "      <td>0</td>\n",
       "    </tr>\n",
       "    <tr>\n",
       "      <th>2</th>\n",
       "      <td>1.0</td>\n",
       "      <td>1464.0</td>\n",
       "      <td>0</td>\n",
       "      <td>0</td>\n",
       "      <td>1</td>\n",
       "      <td>0</td>\n",
       "      <td>0</td>\n",
       "      <td>0</td>\n",
       "      <td>0</td>\n",
       "      <td>0</td>\n",
       "      <td>...</td>\n",
       "      <td>0</td>\n",
       "      <td>0</td>\n",
       "      <td>0</td>\n",
       "      <td>0</td>\n",
       "      <td>0</td>\n",
       "      <td>0</td>\n",
       "      <td>0</td>\n",
       "      <td>0</td>\n",
       "      <td>0</td>\n",
       "      <td>0</td>\n",
       "    </tr>\n",
       "    <tr>\n",
       "      <th>3</th>\n",
       "      <td>0.0</td>\n",
       "      <td>1464.0</td>\n",
       "      <td>0</td>\n",
       "      <td>0</td>\n",
       "      <td>1</td>\n",
       "      <td>0</td>\n",
       "      <td>0</td>\n",
       "      <td>0</td>\n",
       "      <td>0</td>\n",
       "      <td>0</td>\n",
       "      <td>...</td>\n",
       "      <td>0</td>\n",
       "      <td>0</td>\n",
       "      <td>0</td>\n",
       "      <td>0</td>\n",
       "      <td>0</td>\n",
       "      <td>0</td>\n",
       "      <td>0</td>\n",
       "      <td>0</td>\n",
       "      <td>0</td>\n",
       "      <td>0</td>\n",
       "    </tr>\n",
       "    <tr>\n",
       "      <th>4</th>\n",
       "      <td>0.0</td>\n",
       "      <td>1464.0</td>\n",
       "      <td>0</td>\n",
       "      <td>0</td>\n",
       "      <td>1</td>\n",
       "      <td>0</td>\n",
       "      <td>0</td>\n",
       "      <td>0</td>\n",
       "      <td>0</td>\n",
       "      <td>0</td>\n",
       "      <td>...</td>\n",
       "      <td>0</td>\n",
       "      <td>0</td>\n",
       "      <td>0</td>\n",
       "      <td>0</td>\n",
       "      <td>0</td>\n",
       "      <td>0</td>\n",
       "      <td>0</td>\n",
       "      <td>0</td>\n",
       "      <td>0</td>\n",
       "      <td>0</td>\n",
       "    </tr>\n",
       "    <tr>\n",
       "      <th>5</th>\n",
       "      <td>0.0</td>\n",
       "      <td>1464.0</td>\n",
       "      <td>0</td>\n",
       "      <td>0</td>\n",
       "      <td>1</td>\n",
       "      <td>0</td>\n",
       "      <td>0</td>\n",
       "      <td>0</td>\n",
       "      <td>0</td>\n",
       "      <td>0</td>\n",
       "      <td>...</td>\n",
       "      <td>0</td>\n",
       "      <td>0</td>\n",
       "      <td>0</td>\n",
       "      <td>0</td>\n",
       "      <td>0</td>\n",
       "      <td>0</td>\n",
       "      <td>0</td>\n",
       "      <td>0</td>\n",
       "      <td>0</td>\n",
       "      <td>0</td>\n",
       "    </tr>\n",
       "  </tbody>\n",
       "</table>\n",
       "<p>5 rows × 94 columns</p>\n",
       "</div>"
      ],
      "text/plain": [
       "   is_delay  Distance  Quarter_2  Quarter_3  Quarter_4  Month_2  Month_3  \\\n",
       "1       1.0    1464.0          0          0          1        0        0   \n",
       "2       1.0    1464.0          0          0          1        0        0   \n",
       "3       0.0    1464.0          0          0          1        0        0   \n",
       "4       0.0    1464.0          0          0          1        0        0   \n",
       "5       0.0    1464.0          0          0          1        0        0   \n",
       "\n",
       "   Month_4  Month_5  Month_6  ...  DepHourofDay_14  DepHourofDay_15  \\\n",
       "1        0        0        0  ...                0                0   \n",
       "2        0        0        0  ...                0                0   \n",
       "3        0        0        0  ...                0                0   \n",
       "4        0        0        0  ...                0                0   \n",
       "5        0        0        0  ...                0                0   \n",
       "\n",
       "   DepHourofDay_16  DepHourofDay_17  DepHourofDay_18  DepHourofDay_19  \\\n",
       "1                0                0                0                0   \n",
       "2                0                0                0                0   \n",
       "3                0                0                0                0   \n",
       "4                0                0                0                0   \n",
       "5                0                0                0                0   \n",
       "\n",
       "   DepHourofDay_20  DepHourofDay_21  DepHourofDay_22  DepHourofDay_23  \n",
       "1                0                0                0                0  \n",
       "2                0                0                0                0  \n",
       "3                0                0                0                0  \n",
       "4                0                0                0                0  \n",
       "5                0                0                0                0  \n",
       "\n",
       "[5 rows x 94 columns]"
      ]
     },
     "execution_count": 35,
     "metadata": {},
     "output_type": "execute_result"
    }
   ],
   "source": [
    "# Enter your code here\n",
    "data.head()"
   ]
  },
  {
   "cell_type": "code",
   "execution_count": 36,
   "metadata": {},
   "outputs": [
    {
     "data": {
      "text/plain": [
       "(1635590, 94)"
      ]
     },
     "execution_count": 36,
     "metadata": {},
     "output_type": "execute_result"
    }
   ],
   "source": [
    "# Enter your code here\n",
    "data.shape"
   ]
  },
  {
   "cell_type": "markdown",
   "metadata": {},
   "source": [
    "You are now ready to train the model. Before you split the data, rename the **is_delay** column to *target*.\n",
    "\n",
    "**Hint**: You can use the `rename` function in pandas ([pandas.DataFrame.rename documentation](https://pandas.pydata.org/pandas-docs/stable/reference/api/pandas.DataFrame.rename.html))."
   ]
  },
  {
   "cell_type": "code",
   "execution_count": 37,
   "metadata": {},
   "outputs": [],
   "source": [
    "data.rename(columns = {'is_delay':'target'}, inplace=True )# Enter your code here"
   ]
  },
  {
   "cell_type": "markdown",
   "metadata": {},
   "source": [
    "## <span style=\"color:red\"> End of Step 2 </span>\n",
    "\n",
    "Save the project file to your local computer. Follow these steps:\n",
    "\n",
    "1. In the file explorer on the left, right-click the notebook that you're working on. \n",
    "\n",
    "2. Choose **Download**, and save the file locally.  \n",
    "\n",
    "This action downloads the current notebook to the default download folder on your computer."
   ]
  },
  {
   "cell_type": "markdown",
   "metadata": {},
   "source": [
    "# Step 3: Model training and evaluation\n",
    "\n",
    "You must include some preliminary steps when you convert the dataset from a DataFrame to a format that a machine learning algorithm can use. For Amazon SageMaker, you must perform these steps:\n",
    "\n",
    "1. Split the data into `train_data`, `validation_data`, and `test_data` by using `sklearn.model_selection.train_test_split`.  \n",
    "\n",
    "2. Convert the dataset to an appropriate file format that the Amazon SageMaker training job can use. This can be either a CSV file or record protobuf. For more information, see [Common Data Formats for Training](https://docs.aws.amazon.com/sagemaker/latest/dg/cdf-training.html).  \n",
    "\n",
    "3. Upload the data to your S3 bucket. If you haven't created one before, see [Create a Bucket](https://docs.aws.amazon.com/AmazonS3/latest/gsg/CreatingABucket.html).  \n",
    "\n",
    "Use the following cells to complete these steps. Insert and delete cells where needed.\n",
    "\n",
    "#### <span style=\"color: blue;\">Project presentation: In your project presentation, write down the key decisions that you made in this phase.</span>"
   ]
  },
  {
   "cell_type": "markdown",
   "metadata": {},
   "source": [
    "### Train-test split"
   ]
  },
  {
   "cell_type": "code",
   "execution_count": 38,
   "metadata": {},
   "outputs": [],
   "source": [
    "from sklearn.model_selection import train_test_split\n",
    "def split_data(data):\n",
    "    train, test_and_validate = train_test_split(data, test_size=0.2, random_state=42, stratify=data['target'])\n",
    "    test, validate = train_test_split(test_and_validate, test_size=0.5, random_state=42, stratify=test_and_validate['target'])\n",
    "    return train, validate, test"
   ]
  },
  {
   "cell_type": "code",
   "execution_count": 39,
   "metadata": {},
   "outputs": [
    {
     "name": "stdout",
     "output_type": "stream",
     "text": [
      "0.0    1033806\n",
      "1.0     274666\n",
      "Name: target, dtype: int64\n",
      "0.0    129226\n",
      "1.0     34333\n",
      "Name: target, dtype: int64\n",
      "0.0    129226\n",
      "1.0     34333\n",
      "Name: target, dtype: int64\n"
     ]
    }
   ],
   "source": [
    "train, validate, test = split_data(data)\n",
    "print(train['target'].value_counts())\n",
    "print(test['target'].value_counts())\n",
    "print(validate['target'].value_counts())"
   ]
  },
  {
   "cell_type": "markdown",
   "metadata": {},
   "source": [
    "**Sample answer**\n",
    "```\n",
    "0.0    1033570\n",
    "1.0     274902\n",
    "Name: target, dtype: int64\n",
    "0.0    129076\n",
    "1.0     34483\n",
    "Name: target, dtype: int64\n",
    "0.0    129612\n",
    "1.0     33947\n",
    "Name: target, dtype: int64\n",
    "```"
   ]
  },
  {
   "cell_type": "markdown",
   "metadata": {},
   "source": [
    "### Baseline classification model"
   ]
  },
  {
   "cell_type": "code",
   "execution_count": 41,
   "metadata": {},
   "outputs": [],
   "source": [
    "import sagemaker\n",
    "from sagemaker.serializers import CSVSerializer\n",
    "from sagemaker.amazon.amazon_estimator import RecordSet\n",
    "import boto3\n",
    "\n",
    "# Instantiate the LinearLearner estimator object with 1 ml.m4.xlarge\n",
    "classifier_estimator = sagemaker.LinearLearner(role=sagemaker.get_execution_role(),\n",
    "                                               instance_count=1,\n",
    "                                               instance_type='ml.m4.xlarge',\n",
    "                                               predictor_type='binary_classifier',\n",
    "                                               binary_classifier_model_selection_criteria='cross_entropy_loss')"
   ]
  },
  {
   "cell_type": "markdown",
   "metadata": {},
   "source": [
    "### Sample code\n",
    "```\n",
    "num_classes = len(pd.unique(train_labels))\n",
    "classifier_estimator = sagemaker.LinearLearner(role=sagemaker.get_execution_role(),\n",
    "                                              instance_count=1,\n",
    "                                              instance_type='ml.m4.xlarge',\n",
    "                                              predictor_type='binary_classifier',\n",
    "                                              binary_classifier_model_selection_criteria = 'cross_entropy_loss')\n",
    "                                              \n",
    "```"
   ]
  },
  {
   "cell_type": "markdown",
   "metadata": {},
   "source": [
    "Linear learner accepts training data in protobuf or CSV content types. It also accepts inference requests in protobuf, CSV, or JavaScript Object Notation (JSON) content types. Training data has features and ground-truth labels, but the data in an inference request has only features.\n",
    "\n",
    "In a production pipeline, AWS recommends converting the data to the Amazon SageMaker protobuf format and storing it in Amazon S3. To get up and running quickly, AWS provides the `record_set` operation for converting and uploading the dataset when it's small enough to fit in local memory. It accepts NumPy arrays like the ones you already have, so you will use it for this step. The `RecordSet` object will track the temporary Amazon S3 location of your data. Create train, validation, and test records by using the `estimator.record_set` function. Then, start your training job by using the `estimator.fit` function."
   ]
  },
  {
   "cell_type": "code",
   "execution_count": 42,
   "metadata": {},
   "outputs": [],
   "source": [
    "### Create train, validate, and test records\n",
    "train_records = classifier_estimator.record_set(train.values[:, 1:].astype(np.float32), train.values[:, 0].astype(np.float32), channel='train')\n",
    "val_records = classifier_estimator.record_set(validate.values[:, 1:].astype(np.float32), validate.values[:, 0].astype(np.float32), channel='validation')\n",
    "test_records = classifier_estimator.record_set(test.values[:, 1:].astype(np.float32), test.values[:, 0].astype(np.float32), channel='test')"
   ]
  },
  {
   "cell_type": "markdown",
   "metadata": {},
   "source": [
    "Now, train your model on the dataset that you just uploaded.\n",
    "\n",
    "### Sample code\n",
    "```\n",
    "linear.fit([train_records,val_records,test_records])\n",
    "```"
   ]
  },
  {
   "cell_type": "code",
   "execution_count": 43,
   "metadata": {},
   "outputs": [
    {
     "name": "stderr",
     "output_type": "stream",
     "text": [
      "Defaulting to the only supported framework/algorithm version: 1. Ignoring framework/algorithm version: 1.\n",
      "Defaulting to the only supported framework/algorithm version: 1. Ignoring framework/algorithm version: 1.\n"
     ]
    },
    {
     "name": "stdout",
     "output_type": "stream",
     "text": [
      "2022-06-09 05:03:13 Starting - Starting the training job...ProfilerReport-1654750993: InProgress\n",
      "...\n",
      "2022-06-09 05:04:00 Starting - Preparing the instances for training......\n",
      "2022-06-09 05:05:09 Downloading - Downloading input data.........\n",
      "2022-06-09 05:06:41 Training - Downloading the training image..\u001b[34mDocker entrypoint called with argument(s): train\u001b[0m\n",
      "\u001b[34mRunning default environment configuration script\u001b[0m\n",
      "\u001b[34m[06/09/2022 05:06:53 INFO 139715043796800] Reading default configuration from /opt/amazon/lib/python3.7/site-packages/algorithm/resources/default-input.json: {'mini_batch_size': '1000', 'epochs': '15', 'feature_dim': 'auto', 'use_bias': 'true', 'binary_classifier_model_selection_criteria': 'accuracy', 'f_beta': '1.0', 'target_recall': '0.8', 'target_precision': '0.8', 'num_models': 'auto', 'num_calibration_samples': '10000000', 'init_method': 'uniform', 'init_scale': '0.07', 'init_sigma': '0.01', 'init_bias': '0.0', 'optimizer': 'auto', 'loss': 'auto', 'margin': '1.0', 'quantile': '0.5', 'loss_insensitivity': '0.01', 'huber_delta': '1.0', 'num_classes': '1', 'accuracy_top_k': '3', 'wd': 'auto', 'l1': 'auto', 'momentum': 'auto', 'learning_rate': 'auto', 'beta_1': 'auto', 'beta_2': 'auto', 'bias_lr_mult': 'auto', 'bias_wd_mult': 'auto', 'use_lr_scheduler': 'true', 'lr_scheduler_step': 'auto', 'lr_scheduler_factor': 'auto', 'lr_scheduler_minimum_lr': 'auto', 'positive_example_weight_mult': '1.0', 'balance_multiclass_weights': 'false', 'normalize_data': 'true', 'normalize_label': 'auto', 'unbias_data': 'auto', 'unbias_label': 'auto', 'num_point_for_scaler': '10000', '_kvstore': 'auto', '_num_gpus': 'auto', '_num_kv_servers': 'auto', '_log_level': 'info', '_tuning_objective_metric': '', 'early_stopping_patience': '3', 'early_stopping_tolerance': '0.001', '_enable_profiler': 'false'}\u001b[0m\n",
      "\u001b[34m[06/09/2022 05:06:53 INFO 139715043796800] Merging with provided configuration from /opt/ml/input/config/hyperparameters.json: {'binary_classifier_model_selection_criteria': 'cross_entropy_loss', 'feature_dim': '93', 'mini_batch_size': '1000', 'predictor_type': 'binary_classifier'}\u001b[0m\n",
      "\u001b[34m[06/09/2022 05:06:53 INFO 139715043796800] Final configuration: {'mini_batch_size': '1000', 'epochs': '15', 'feature_dim': '93', 'use_bias': 'true', 'binary_classifier_model_selection_criteria': 'cross_entropy_loss', 'f_beta': '1.0', 'target_recall': '0.8', 'target_precision': '0.8', 'num_models': 'auto', 'num_calibration_samples': '10000000', 'init_method': 'uniform', 'init_scale': '0.07', 'init_sigma': '0.01', 'init_bias': '0.0', 'optimizer': 'auto', 'loss': 'auto', 'margin': '1.0', 'quantile': '0.5', 'loss_insensitivity': '0.01', 'huber_delta': '1.0', 'num_classes': '1', 'accuracy_top_k': '3', 'wd': 'auto', 'l1': 'auto', 'momentum': 'auto', 'learning_rate': 'auto', 'beta_1': 'auto', 'beta_2': 'auto', 'bias_lr_mult': 'auto', 'bias_wd_mult': 'auto', 'use_lr_scheduler': 'true', 'lr_scheduler_step': 'auto', 'lr_scheduler_factor': 'auto', 'lr_scheduler_minimum_lr': 'auto', 'positive_example_weight_mult': '1.0', 'balance_multiclass_weights': 'false', 'normalize_data': 'true', 'normalize_label': 'auto', 'unbias_data': 'auto', 'unbias_label': 'auto', 'num_point_for_scaler': '10000', '_kvstore': 'auto', '_num_gpus': 'auto', '_num_kv_servers': 'auto', '_log_level': 'info', '_tuning_objective_metric': '', 'early_stopping_patience': '3', 'early_stopping_tolerance': '0.001', '_enable_profiler': 'false', 'predictor_type': 'binary_classifier'}\u001b[0m\n",
      "\u001b[34m[06/09/2022 05:06:53 WARNING 139715043796800] Loggers have already been setup.\u001b[0m\n",
      "\u001b[34mProcess 1 is a worker.\u001b[0m\n",
      "\u001b[34m[06/09/2022 05:06:53 INFO 139715043796800] Using default worker.\u001b[0m\n",
      "\u001b[34m[06/09/2022 05:06:54 INFO 139715043796800] Checkpoint loading and saving are disabled.\u001b[0m\n",
      "\u001b[34m[2022-06-09 05:06:54.105] [tensorio] [warning] TensorIO is already initialized; ignoring the initialization routine.\u001b[0m\n",
      "\u001b[34m[2022-06-09 05:06:54.228] [tensorio] [warning] TensorIO is already initialized; ignoring the initialization routine.\u001b[0m\n",
      "\u001b[34m[2022-06-09 05:06:54.603] [tensorio] [info] epoch_stats={\"data_pipeline\": \"/opt/ml/input/data/train\", \"epoch\": 0, \"duration\": 509, \"num_examples\": 1, \"num_bytes\": 420000}\u001b[0m\n",
      "\u001b[34m[06/09/2022 05:06:54 INFO 139715043796800] Create Store: local\u001b[0m\n",
      "\u001b[34m[2022-06-09 05:06:54.876] [tensorio] [info] epoch_stats={\"data_pipeline\": \"/opt/ml/input/data/train\", \"epoch\": 1, \"duration\": 271, \"num_examples\": 11, \"num_bytes\": 4620000}\u001b[0m\n",
      "\u001b[34m[06/09/2022 05:06:54 INFO 139715043796800] Scaler algorithm parameters\n",
      " <algorithm.scaler.ScalerAlgorithmStable object at 0x7f11796dfed0>\u001b[0m\n",
      "\u001b[34m[06/09/2022 05:06:54 INFO 139715043796800] Scaling model computed with parameters:\n",
      " {'stdev_label': None, 'stdev_weight': \u001b[0m\n",
      "\u001b[34m[5.42602844e+02 4.33640718e-01 4.40458000e-01 4.33692932e-01\n",
      " 2.63537973e-01 2.74087489e-01 2.77387857e-01 2.75056005e-01\n",
      " 2.78339833e-01 2.82765329e-01 2.85136998e-01 2.81034082e-01\n",
      " 2.80364037e-01 2.73670942e-01 2.76841700e-01 1.74542710e-01\n",
      " 1.73808843e-01 1.71087340e-01 1.71834424e-01 1.79111123e-01\n",
      " 1.76482722e-01 1.87642947e-01 1.83088198e-01 1.85153931e-01\n",
      " 1.72824830e-01 1.88538611e-01 1.80995241e-01 1.75515801e-01\n",
      " 1.83088198e-01 1.77443638e-01 1.71585798e-01 1.70336530e-01\n",
      " 1.81695953e-01 1.87642977e-01 1.75999999e-01 1.75030023e-01\n",
      " 1.75273076e-01 1.64972737e-01 1.79347873e-01 1.84239134e-01\n",
      " 1.78636521e-01 1.82393610e-01 1.74298480e-01 1.66267514e-01\n",
      " 1.36524737e-01 3.52649897e-01 3.49143386e-01 3.57960284e-01\n",
      " 3.55370164e-01 3.22392672e-01 3.46230894e-01 3.71753871e-01\n",
      " 2.37991452e-01 4.59982634e-01 3.10150653e-01 2.41320595e-01\n",
      " 3.14806342e-01 3.27390790e-01 2.76978374e-01 3.54739159e-01\n",
      " 3.40652317e-01 2.89538592e-01 3.32360923e-01 2.45722085e-01\n",
      " 3.11981052e-01 3.32156509e-01 2.67311335e-01 3.55639875e-01\n",
      " 3.40749949e-01 2.93465912e-01 3.32667232e-01 5.71140721e-02\n",
      " 1.00000000e+00 1.00000000e+00 1.63928643e-01 2.26555109e-01\n",
      " 2.58638412e-01 2.50650704e-01 2.44104043e-01 2.50493765e-01\n",
      " 2.38494664e-01 2.37991437e-01 2.43289709e-01 2.45238140e-01\n",
      " 2.35284090e-01 2.27802724e-01 2.46525869e-01 2.21291766e-01\n",
      " 2.16626123e-01 1.87642962e-01 1.64972723e-01 1.76000014e-01\n",
      " 1.02582805e-01]\u001b[0m\n",
      "\u001b[34m<NDArray 93 @cpu(0)>, 'mean_label': None, 'mean_weight': \u001b[0m\n",
      "\u001b[34m[1.01604962e+03 2.51090884e-01 2.63363659e-01 2.51181841e-01\n",
      " 7.50909150e-02 8.18181857e-02 8.40000063e-02 8.24545547e-02\n",
      " 8.46363679e-02 8.76363665e-02 8.92727450e-02 8.64545554e-02\n",
      " 8.60000178e-02 8.15454721e-02 8.36363658e-02 3.14545482e-02\n",
      " 3.11818197e-02 3.01818196e-02 3.04545481e-02 3.31818201e-02\n",
      " 3.21818180e-02 3.65454555e-02 3.47272754e-02 3.55454534e-02\n",
      " 3.08181811e-02 3.69090922e-02 3.39090973e-02 3.18181813e-02\n",
      " 3.47272791e-02 3.25454548e-02 3.03636398e-02 2.99090967e-02\n",
      " 3.41818221e-02 3.65454592e-02 3.20000015e-02 3.16363648e-02\n",
      " 3.17272693e-02 2.80000009e-02 3.32727283e-02 3.51818204e-02\n",
      " 3.29999998e-02 3.44545469e-02 3.13636363e-02 2.84545440e-02\n",
      " 1.90000013e-02 1.45545483e-01 1.42090932e-01 1.50909096e-01\n",
      " 1.48272753e-01 1.17818192e-01 1.39272735e-01 1.65636376e-01\n",
      " 6.02727346e-02 3.04000020e-01 1.07818194e-01 6.20909110e-02\n",
      " 1.11545466e-01 1.22090921e-01 8.37272704e-02 1.47636354e-01\n",
      " 1.34000018e-01 9.23636481e-02 1.26454547e-01 6.45454675e-02\n",
      " 1.09272741e-01 1.26272753e-01 7.74545521e-02 1.48545459e-01\n",
      " 1.34090930e-01 9.51818228e-02 1.26727283e-01 3.27272713e-03\n",
      " 0.00000000e+00 0.00000000e+00 2.76363641e-02 5.42727299e-02\n",
      " 7.20909089e-02 6.73636422e-02 6.36363700e-02 6.72727302e-02\n",
      " 6.05454594e-02 6.02727346e-02 6.31818250e-02 6.42727390e-02\n",
      " 5.88181876e-02 5.49091026e-02 6.49999976e-02 5.16363718e-02\n",
      " 4.93636392e-02 3.65454592e-02 2.80000027e-02 3.20000052e-02\n",
      " 1.06363660e-02]\u001b[0m\n",
      "\u001b[34m<NDArray 93 @cpu(0)>}\u001b[0m\n",
      "\u001b[34m[06/09/2022 05:06:54 INFO 139715043796800] nvidia-smi: took 0.035 seconds to run.\u001b[0m\n",
      "\u001b[34m[06/09/2022 05:06:54 INFO 139715043796800] nvidia-smi identified 0 GPUs.\u001b[0m\n",
      "\u001b[34m[06/09/2022 05:06:54 INFO 139715043796800] Number of GPUs being used: 0\u001b[0m\n",
      "\u001b[34m#metrics {\"StartTime\": 1654751215.033275, \"EndTime\": 1654751215.0333214, \"Dimensions\": {\"Algorithm\": \"Linear Learner\", \"Host\": \"algo-1\", \"Operation\": \"training\", \"Meta\": \"init_train_data_iter\"}, \"Metrics\": {\"Total Records Seen\": {\"sum\": 12000.0, \"count\": 1, \"min\": 12000, \"max\": 12000}, \"Total Batches Seen\": {\"sum\": 12.0, \"count\": 1, \"min\": 12, \"max\": 12}, \"Max Records Seen Between Resets\": {\"sum\": 11000.0, \"count\": 1, \"min\": 11000, \"max\": 11000}, \"Max Batches Seen Between Resets\": {\"sum\": 11.0, \"count\": 1, \"min\": 11, \"max\": 11}, \"Reset Count\": {\"sum\": 2.0, \"count\": 1, \"min\": 2, \"max\": 2}, \"Number of Records Since Last Reset\": {\"sum\": 0.0, \"count\": 1, \"min\": 0, \"max\": 0}, \"Number of Batches Since Last Reset\": {\"sum\": 0.0, \"count\": 1, \"min\": 0, \"max\": 0}}}\u001b[0m\n",
      "\n",
      "2022-06-09 05:07:01 Training - Training image download completed. Training in progress.\u001b[34m[2022-06-09 05:07:55.587] [tensorio] [info] epoch_stats={\"data_pipeline\": \"/opt/ml/input/data/train\", \"epoch\": 3, \"duration\": 60553, \"num_examples\": 1309, \"num_bytes\": 549558240}\u001b[0m\n",
      "\u001b[34m#metrics {\"StartTime\": 1654751275.5878944, \"EndTime\": 1654751275.5879946, \"Dimensions\": {\"Algorithm\": \"Linear Learner\", \"Host\": \"algo-1\", \"Operation\": \"training\", \"epoch\": 0, \"model\": 0}, \"Metrics\": {\"train_binary_classification_cross_entropy_objective\": {\"sum\": 0.49428068407157877, \"count\": 1, \"min\": 0.49428068407157877, \"max\": 0.49428068407157877}}}\u001b[0m\n",
      "\u001b[34m#metrics {\"StartTime\": 1654751275.5883412, \"EndTime\": 1654751275.588361, \"Dimensions\": {\"Algorithm\": \"Linear Learner\", \"Host\": \"algo-1\", \"Operation\": \"training\", \"epoch\": 0, \"model\": 1}, \"Metrics\": {\"train_binary_classification_cross_entropy_objective\": {\"sum\": 0.49489948643675635, \"count\": 1, \"min\": 0.49489948643675635, \"max\": 0.49489948643675635}}}\u001b[0m\n",
      "\u001b[34m#metrics {\"StartTime\": 1654751275.5884671, \"EndTime\": 1654751275.5884836, \"Dimensions\": {\"Algorithm\": \"Linear Learner\", \"Host\": \"algo-1\", \"Operation\": \"training\", \"epoch\": 0, \"model\": 2}, \"Metrics\": {\"train_binary_classification_cross_entropy_objective\": {\"sum\": 0.4943895601278416, \"count\": 1, \"min\": 0.4943895601278416, \"max\": 0.4943895601278416}}}\u001b[0m\n",
      "\u001b[34m#metrics {\"StartTime\": 1654751275.5885317, \"EndTime\": 1654751275.5885494, \"Dimensions\": {\"Algorithm\": \"Linear Learner\", \"Host\": \"algo-1\", \"Operation\": \"training\", \"epoch\": 0, \"model\": 3}, \"Metrics\": {\"train_binary_classification_cross_entropy_objective\": {\"sum\": 0.494941029749879, \"count\": 1, \"min\": 0.494941029749879, \"max\": 0.494941029749879}}}\u001b[0m\n",
      "\u001b[34m#metrics {\"StartTime\": 1654751275.5885894, \"EndTime\": 1654751275.5886004, \"Dimensions\": {\"Algorithm\": \"Linear Learner\", \"Host\": \"algo-1\", \"Operation\": \"training\", \"epoch\": 0, \"model\": 4}, \"Metrics\": {\"train_binary_classification_cross_entropy_objective\": {\"sum\": 0.5074563732788833, \"count\": 1, \"min\": 0.5074563732788833, \"max\": 0.5074563732788833}}}\u001b[0m\n",
      "\u001b[34m#metrics {\"StartTime\": 1654751275.5886388, \"EndTime\": 1654751275.5886495, \"Dimensions\": {\"Algorithm\": \"Linear Learner\", \"Host\": \"algo-1\", \"Operation\": \"training\", \"epoch\": 0, \"model\": 5}, \"Metrics\": {\"train_binary_classification_cross_entropy_objective\": {\"sum\": 0.517965679180367, \"count\": 1, \"min\": 0.517965679180367, \"max\": 0.517965679180367}}}\u001b[0m\n",
      "\u001b[34m#metrics {\"StartTime\": 1654751275.5886922, \"EndTime\": 1654751275.5887027, \"Dimensions\": {\"Algorithm\": \"Linear Learner\", \"Host\": \"algo-1\", \"Operation\": \"training\", \"epoch\": 0, \"model\": 6}, \"Metrics\": {\"train_binary_classification_cross_entropy_objective\": {\"sum\": 0.5074342861117208, \"count\": 1, \"min\": 0.5074342861117208, \"max\": 0.5074342861117208}}}\u001b[0m\n",
      "\u001b[34m#metrics {\"StartTime\": 1654751275.5887408, \"EndTime\": 1654751275.5887516, \"Dimensions\": {\"Algorithm\": \"Linear Learner\", \"Host\": \"algo-1\", \"Operation\": \"training\", \"epoch\": 0, \"model\": 7}, \"Metrics\": {\"train_binary_classification_cross_entropy_objective\": {\"sum\": 0.5179916994287334, \"count\": 1, \"min\": 0.5179916994287334, \"max\": 0.5179916994287334}}}\u001b[0m\n",
      "\u001b[34m#metrics {\"StartTime\": 1654751275.5887902, \"EndTime\": 1654751275.5888019, \"Dimensions\": {\"Algorithm\": \"Linear Learner\", \"Host\": \"algo-1\", \"Operation\": \"training\", \"epoch\": 0, \"model\": 8}, \"Metrics\": {\"train_binary_classification_cross_entropy_objective\": {\"sum\": 0.4944408261827008, \"count\": 1, \"min\": 0.4944408261827008, \"max\": 0.4944408261827008}}}\u001b[0m\n",
      "\u001b[34m#metrics {\"StartTime\": 1654751275.5888405, \"EndTime\": 1654751275.588851, \"Dimensions\": {\"Algorithm\": \"Linear Learner\", \"Host\": \"algo-1\", \"Operation\": \"training\", \"epoch\": 0, \"model\": 9}, \"Metrics\": {\"train_binary_classification_cross_entropy_objective\": {\"sum\": 0.4949497708428526, \"count\": 1, \"min\": 0.4949497708428526, \"max\": 0.4949497708428526}}}\u001b[0m\n",
      "\u001b[34m#metrics {\"StartTime\": 1654751275.5888863, \"EndTime\": 1654751275.588897, \"Dimensions\": {\"Algorithm\": \"Linear Learner\", \"Host\": \"algo-1\", \"Operation\": \"training\", \"epoch\": 0, \"model\": 10}, \"Metrics\": {\"train_binary_classification_cross_entropy_objective\": {\"sum\": 0.49449242515447306, \"count\": 1, \"min\": 0.49449242515447306, \"max\": 0.49449242515447306}}}\u001b[0m\n",
      "\u001b[34m#metrics {\"StartTime\": 1654751275.5889359, \"EndTime\": 1654751275.5889452, \"Dimensions\": {\"Algorithm\": \"Linear Learner\", \"Host\": \"algo-1\", \"Operation\": \"training\", \"epoch\": 0, \"model\": 11}, \"Metrics\": {\"train_binary_classification_cross_entropy_objective\": {\"sum\": 0.4949452381192362, \"count\": 1, \"min\": 0.4949452381192362, \"max\": 0.4949452381192362}}}\u001b[0m\n",
      "\u001b[34m#metrics {\"StartTime\": 1654751275.588983, \"EndTime\": 1654751275.5889935, \"Dimensions\": {\"Algorithm\": \"Linear Learner\", \"Host\": \"algo-1\", \"Operation\": \"training\", \"epoch\": 0, \"model\": 12}, \"Metrics\": {\"train_binary_classification_cross_entropy_objective\": {\"sum\": 0.5066976421251209, \"count\": 1, \"min\": 0.5066976421251209, \"max\": 0.5066976421251209}}}\u001b[0m\n",
      "\u001b[34m#metrics {\"StartTime\": 1654751275.5890331, \"EndTime\": 1654751275.589043, \"Dimensions\": {\"Algorithm\": \"Linear Learner\", \"Host\": \"algo-1\", \"Operation\": \"training\", \"epoch\": 0, \"model\": 13}, \"Metrics\": {\"train_binary_classification_cross_entropy_objective\": {\"sum\": 0.5163871534155049, \"count\": 1, \"min\": 0.5163871534155049, \"max\": 0.5163871534155049}}}\u001b[0m\n",
      "\u001b[34m#metrics {\"StartTime\": 1654751275.5890791, \"EndTime\": 1654751275.5890918, \"Dimensions\": {\"Algorithm\": \"Linear Learner\", \"Host\": \"algo-1\", \"Operation\": \"training\", \"epoch\": 0, \"model\": 14}, \"Metrics\": {\"train_binary_classification_cross_entropy_objective\": {\"sum\": 0.5066906371277042, \"count\": 1, \"min\": 0.5066906371277042, \"max\": 0.5066906371277042}}}\u001b[0m\n",
      "\u001b[34m#metrics {\"StartTime\": 1654751275.5891275, \"EndTime\": 1654751275.589138, \"Dimensions\": {\"Algorithm\": \"Linear Learner\", \"Host\": \"algo-1\", \"Operation\": \"training\", \"epoch\": 0, \"model\": 15}, \"Metrics\": {\"train_binary_classification_cross_entropy_objective\": {\"sum\": 0.5163985391319345, \"count\": 1, \"min\": 0.5163985391319345, \"max\": 0.5163985391319345}}}\u001b[0m\n",
      "\u001b[34m#metrics {\"StartTime\": 1654751275.5891762, \"EndTime\": 1654751275.5891876, \"Dimensions\": {\"Algorithm\": \"Linear Learner\", \"Host\": \"algo-1\", \"Operation\": \"training\", \"epoch\": 0, \"model\": 16}, \"Metrics\": {\"train_binary_classification_cross_entropy_objective\": {\"sum\": 0.509224305179141, \"count\": 1, \"min\": 0.509224305179141, \"max\": 0.509224305179141}}}\u001b[0m\n",
      "\u001b[34m#metrics {\"StartTime\": 1654751275.589226, \"EndTime\": 1654751275.5892365, \"Dimensions\": {\"Algorithm\": \"Linear Learner\", \"Host\": \"algo-1\", \"Operation\": \"training\", \"epoch\": 0, \"model\": 17}, \"Metrics\": {\"train_binary_classification_cross_entropy_objective\": {\"sum\": 0.5093080675784236, \"count\": 1, \"min\": 0.5093080675784236, \"max\": 0.5093080675784236}}}\u001b[0m\n",
      "\u001b[34m#metrics {\"StartTime\": 1654751275.5892804, \"EndTime\": 1654751275.5892916, \"Dimensions\": {\"Algorithm\": \"Linear Learner\", \"Host\": \"algo-1\", \"Operation\": \"training\", \"epoch\": 0, \"model\": 18}, \"Metrics\": {\"train_binary_classification_cross_entropy_objective\": {\"sum\": 0.5092027460500734, \"count\": 1, \"min\": 0.5092027460500734, \"max\": 0.5092027460500734}}}\u001b[0m\n",
      "\u001b[34m#metrics {\"StartTime\": 1654751275.58933, \"EndTime\": 1654751275.589343, \"Dimensions\": {\"Algorithm\": \"Linear Learner\", \"Host\": \"algo-1\", \"Operation\": \"training\", \"epoch\": 0, \"model\": 19}, \"Metrics\": {\"train_binary_classification_cross_entropy_objective\": {\"sum\": 0.5092917737581679, \"count\": 1, \"min\": 0.5092917737581679, \"max\": 0.5092917737581679}}}\u001b[0m\n",
      "\u001b[34m#metrics {\"StartTime\": 1654751275.5893874, \"EndTime\": 1654751275.5894032, \"Dimensions\": {\"Algorithm\": \"Linear Learner\", \"Host\": \"algo-1\", \"Operation\": \"training\", \"epoch\": 0, \"model\": 20}, \"Metrics\": {\"train_binary_classification_cross_entropy_objective\": {\"sum\": 0.5105825683640413, \"count\": 1, \"min\": 0.5105825683640413, \"max\": 0.5105825683640413}}}\u001b[0m\n",
      "\u001b[34m#metrics {\"StartTime\": 1654751275.5894332, \"EndTime\": 1654751275.5894392, \"Dimensions\": {\"Algorithm\": \"Linear Learner\", \"Host\": \"algo-1\", \"Operation\": \"training\", \"epoch\": 0, \"model\": 21}, \"Metrics\": {\"train_binary_classification_cross_entropy_objective\": {\"sum\": 0.5123297989871524, \"count\": 1, \"min\": 0.5123297989871524, \"max\": 0.5123297989871524}}}\u001b[0m\n",
      "\u001b[34m#metrics {\"StartTime\": 1654751275.5894663, \"EndTime\": 1654751275.5894747, \"Dimensions\": {\"Algorithm\": \"Linear Learner\", \"Host\": \"algo-1\", \"Operation\": \"training\", \"epoch\": 0, \"model\": 22}, \"Metrics\": {\"train_binary_classification_cross_entropy_objective\": {\"sum\": 0.510574432186395, \"count\": 1, \"min\": 0.510574432186395, \"max\": 0.510574432186395}}}\u001b[0m\n",
      "\u001b[34m#metrics {\"StartTime\": 1654751275.5894997, \"EndTime\": 1654751275.5895069, \"Dimensions\": {\"Algorithm\": \"Linear Learner\", \"Host\": \"algo-1\", \"Operation\": \"training\", \"epoch\": 0, \"model\": 23}, \"Metrics\": {\"train_binary_classification_cross_entropy_objective\": {\"sum\": 0.5122949068495257, \"count\": 1, \"min\": 0.5122949068495257, \"max\": 0.5122949068495257}}}\u001b[0m\n",
      "\u001b[34m#metrics {\"StartTime\": 1654751275.5895326, \"EndTime\": 1654751275.5895386, \"Dimensions\": {\"Algorithm\": \"Linear Learner\", \"Host\": \"algo-1\", \"Operation\": \"training\", \"epoch\": 0, \"model\": 24}, \"Metrics\": {\"train_binary_classification_cross_entropy_objective\": {\"sum\": 0.5150493532233282, \"count\": 1, \"min\": 0.5150493532233282, \"max\": 0.5150493532233282}}}\u001b[0m\n",
      "\u001b[34m#metrics {\"StartTime\": 1654751275.5895646, \"EndTime\": 1654751275.5895727, \"Dimensions\": {\"Algorithm\": \"Linear Learner\", \"Host\": \"algo-1\", \"Operation\": \"training\", \"epoch\": 0, \"model\": 25}, \"Metrics\": {\"train_binary_classification_cross_entropy_objective\": {\"sum\": 0.5151133798021789, \"count\": 1, \"min\": 0.5151133798021789, \"max\": 0.5151133798021789}}}\u001b[0m\n",
      "\u001b[34m#metrics {\"StartTime\": 1654751275.5895967, \"EndTime\": 1654751275.5896087, \"Dimensions\": {\"Algorithm\": \"Linear Learner\", \"Host\": \"algo-1\", \"Operation\": \"training\", \"epoch\": 0, \"model\": 26}, \"Metrics\": {\"train_binary_classification_cross_entropy_objective\": {\"sum\": 0.515067073530378, \"count\": 1, \"min\": 0.515067073530378, \"max\": 0.515067073530378}}}\u001b[0m\n",
      "\u001b[34m#metrics {\"StartTime\": 1654751275.5896351, \"EndTime\": 1654751275.5896432, \"Dimensions\": {\"Algorithm\": \"Linear Learner\", \"Host\": \"algo-1\", \"Operation\": \"training\", \"epoch\": 0, \"model\": 27}, \"Metrics\": {\"train_binary_classification_cross_entropy_objective\": {\"sum\": 0.5151152992831822, \"count\": 1, \"min\": 0.5151152992831822, \"max\": 0.5151152992831822}}}\u001b[0m\n",
      "\u001b[34m#metrics {\"StartTime\": 1654751275.5896688, \"EndTime\": 1654751275.5896766, \"Dimensions\": {\"Algorithm\": \"Linear Learner\", \"Host\": \"algo-1\", \"Operation\": \"training\", \"epoch\": 0, \"model\": 28}, \"Metrics\": {\"train_binary_classification_cross_entropy_objective\": {\"sum\": 0.5150711930067896, \"count\": 1, \"min\": 0.5150711930067896, \"max\": 0.5150711930067896}}}\u001b[0m\n",
      "\u001b[34m#metrics {\"StartTime\": 1654751275.5897014, \"EndTime\": 1654751275.589709, \"Dimensions\": {\"Algorithm\": \"Linear Learner\", \"Host\": \"algo-1\", \"Operation\": \"training\", \"epoch\": 0, \"model\": 29}, \"Metrics\": {\"train_binary_classification_cross_entropy_objective\": {\"sum\": 0.5158246384600251, \"count\": 1, \"min\": 0.5158246384600251, \"max\": 0.5158246384600251}}}\u001b[0m\n",
      "\u001b[34m#metrics {\"StartTime\": 1654751275.5897374, \"EndTime\": 1654751275.589746, \"Dimensions\": {\"Algorithm\": \"Linear Learner\", \"Host\": \"algo-1\", \"Operation\": \"training\", \"epoch\": 0, \"model\": 30}, \"Metrics\": {\"train_binary_classification_cross_entropy_objective\": {\"sum\": 0.5150540414046074, \"count\": 1, \"min\": 0.5150540414046074, \"max\": 0.5150540414046074}}}\u001b[0m\n",
      "\u001b[34m#metrics {\"StartTime\": 1654751275.589772, \"EndTime\": 1654751275.5897799, \"Dimensions\": {\"Algorithm\": \"Linear Learner\", \"Host\": \"algo-1\", \"Operation\": \"training\", \"epoch\": 0, \"model\": 31}, \"Metrics\": {\"train_binary_classification_cross_entropy_objective\": {\"sum\": 0.5157908805357206, \"count\": 1, \"min\": 0.5157908805357206, \"max\": 0.5157908805357206}}}\u001b[0m\n",
      "\u001b[34m[06/09/2022 05:07:55 INFO 139715043796800] #quality_metric: host=algo-1, epoch=0, train binary_classification_cross_entropy_objective <loss>=0.49428068407157877\u001b[0m\n",
      "\u001b[34m[2022-06-09 05:07:55.617] [tensorio] [info] epoch_stats={\"data_pipeline\": \"/opt/ml/input/data/validation\", \"epoch\": 0, \"duration\": 61511, \"num_examples\": 1, \"num_bytes\": 420000}\u001b[0m\n",
      "\u001b[34m[2022-06-09 05:08:01.742] [tensorio] [info] epoch_stats={\"data_pipeline\": \"/opt/ml/input/data/validation\", \"epoch\": 2, \"duration\": 6124, \"num_examples\": 164, \"num_bytes\": 68694780}\u001b[0m\n",
      "\u001b[34m#metrics {\"StartTime\": 1654751281.752499, \"EndTime\": 1654751281.752601, \"Dimensions\": {\"Algorithm\": \"Linear Learner\", \"Host\": \"algo-1\", \"Operation\": \"training\", \"epoch\": 0, \"model\": 0}, \"Metrics\": {\"validation_binary_classification_cross_entropy_objective\": {\"sum\": 0.49244397908638854, \"count\": 1, \"min\": 0.49244397908638854, \"max\": 0.49244397908638854}}}\u001b[0m\n",
      "\u001b[34m#metrics {\"StartTime\": 1654751281.752699, \"EndTime\": 1654751281.7527199, \"Dimensions\": {\"Algorithm\": \"Linear Learner\", \"Host\": \"algo-1\", \"Operation\": \"training\", \"epoch\": 0, \"model\": 1}, \"Metrics\": {\"validation_binary_classification_cross_entropy_objective\": {\"sum\": 0.49387628193568767, \"count\": 1, \"min\": 0.49387628193568767, \"max\": 0.49387628193568767}}}\u001b[0m\n",
      "\u001b[34m#metrics {\"StartTime\": 1654751281.7527902, \"EndTime\": 1654751281.7528088, \"Dimensions\": {\"Algorithm\": \"Linear Learner\", \"Host\": \"algo-1\", \"Operation\": \"training\", \"epoch\": 0, \"model\": 2}, \"Metrics\": {\"validation_binary_classification_cross_entropy_objective\": {\"sum\": 0.49245664910847586, \"count\": 1, \"min\": 0.49245664910847586, \"max\": 0.49245664910847586}}}\u001b[0m\n",
      "\u001b[34m#metrics {\"StartTime\": 1654751281.7528603, \"EndTime\": 1654751281.752875, \"Dimensions\": {\"Algorithm\": \"Linear Learner\", \"Host\": \"algo-1\", \"Operation\": \"training\", \"epoch\": 0, \"model\": 3}, \"Metrics\": {\"validation_binary_classification_cross_entropy_objective\": {\"sum\": 0.4938703989256529, \"count\": 1, \"min\": 0.4938703989256529, \"max\": 0.4938703989256529}}}\u001b[0m\n",
      "\u001b[34m#metrics {\"StartTime\": 1654751281.7529242, \"EndTime\": 1654751281.7529383, \"Dimensions\": {\"Algorithm\": \"Linear Learner\", \"Host\": \"algo-1\", \"Operation\": \"training\", \"epoch\": 0, \"model\": 4}, \"Metrics\": {\"validation_binary_classification_cross_entropy_objective\": {\"sum\": 0.5008479094855011, \"count\": 1, \"min\": 0.5008479094855011, \"max\": 0.5008479094855011}}}\u001b[0m\n",
      "\u001b[34m#metrics {\"StartTime\": 1654751281.7529917, \"EndTime\": 1654751281.7530105, \"Dimensions\": {\"Algorithm\": \"Linear Learner\", \"Host\": \"algo-1\", \"Operation\": \"training\", \"epoch\": 0, \"model\": 5}, \"Metrics\": {\"validation_binary_classification_cross_entropy_objective\": {\"sum\": 0.5121973120621562, \"count\": 1, \"min\": 0.5121973120621562, \"max\": 0.5121973120621562}}}\u001b[0m\n",
      "\u001b[34m#metrics {\"StartTime\": 1654751281.7530637, \"EndTime\": 1654751281.75308, \"Dimensions\": {\"Algorithm\": \"Linear Learner\", \"Host\": \"algo-1\", \"Operation\": \"training\", \"epoch\": 0, \"model\": 6}, \"Metrics\": {\"validation_binary_classification_cross_entropy_objective\": {\"sum\": 0.5008472687542463, \"count\": 1, \"min\": 0.5008472687542463, \"max\": 0.5008472687542463}}}\u001b[0m\n",
      "\u001b[34m#metrics {\"StartTime\": 1654751281.7531362, \"EndTime\": 1654751281.7531514, \"Dimensions\": {\"Algorithm\": \"Linear Learner\", \"Host\": \"algo-1\", \"Operation\": \"training\", \"epoch\": 0, \"model\": 7}, \"Metrics\": {\"validation_binary_classification_cross_entropy_objective\": {\"sum\": 0.5121858740576795, \"count\": 1, \"min\": 0.5121858740576795, \"max\": 0.5121858740576795}}}\u001b[0m\n",
      "\u001b[34m#metrics {\"StartTime\": 1654751281.753197, \"EndTime\": 1654751281.7532158, \"Dimensions\": {\"Algorithm\": \"Linear Learner\", \"Host\": \"algo-1\", \"Operation\": \"training\", \"epoch\": 0, \"model\": 8}, \"Metrics\": {\"validation_binary_classification_cross_entropy_objective\": {\"sum\": 0.4926231666533082, \"count\": 1, \"min\": 0.4926231666533082, \"max\": 0.4926231666533082}}}\u001b[0m\n",
      "\u001b[34m#metrics {\"StartTime\": 1654751281.7533324, \"EndTime\": 1654751281.7533522, \"Dimensions\": {\"Algorithm\": \"Linear Learner\", \"Host\": \"algo-1\", \"Operation\": \"training\", \"epoch\": 0, \"model\": 9}, \"Metrics\": {\"validation_binary_classification_cross_entropy_objective\": {\"sum\": 0.49408613168373827, \"count\": 1, \"min\": 0.49408613168373827, \"max\": 0.49408613168373827}}}\u001b[0m\n",
      "\u001b[34m#metrics {\"StartTime\": 1654751281.753392, \"EndTime\": 1654751281.753403, \"Dimensions\": {\"Algorithm\": \"Linear Learner\", \"Host\": \"algo-1\", \"Operation\": \"training\", \"epoch\": 0, \"model\": 10}, \"Metrics\": {\"validation_binary_classification_cross_entropy_objective\": {\"sum\": 0.49261962938390635, \"count\": 1, \"min\": 0.49261962938390635, \"max\": 0.49261962938390635}}}\u001b[0m\n",
      "\u001b[34m#metrics {\"StartTime\": 1654751281.7534294, \"EndTime\": 1654751281.7534397, \"Dimensions\": {\"Algorithm\": \"Linear Learner\", \"Host\": \"algo-1\", \"Operation\": \"training\", \"epoch\": 0, \"model\": 11}, \"Metrics\": {\"validation_binary_classification_cross_entropy_objective\": {\"sum\": 0.49408663191684654, \"count\": 1, \"min\": 0.49408663191684654, \"max\": 0.49408663191684654}}}\u001b[0m\n",
      "\u001b[34m#metrics {\"StartTime\": 1654751281.753465, \"EndTime\": 1654751281.7534714, \"Dimensions\": {\"Algorithm\": \"Linear Learner\", \"Host\": \"algo-1\", \"Operation\": \"training\", \"epoch\": 0, \"model\": 12}, \"Metrics\": {\"validation_binary_classification_cross_entropy_objective\": {\"sum\": 0.500651099943233, \"count\": 1, \"min\": 0.500651099943233, \"max\": 0.500651099943233}}}\u001b[0m\n",
      "\u001b[34m#metrics {\"StartTime\": 1654751281.753497, \"EndTime\": 1654751281.7535112, \"Dimensions\": {\"Algorithm\": \"Linear Learner\", \"Host\": \"algo-1\", \"Operation\": \"training\", \"epoch\": 0, \"model\": 13}, \"Metrics\": {\"validation_binary_classification_cross_entropy_objective\": {\"sum\": 0.5107459357964982, \"count\": 1, \"min\": 0.5107459357964982, \"max\": 0.5107459357964982}}}\u001b[0m\n",
      "\u001b[34m#metrics {\"StartTime\": 1654751281.7535622, \"EndTime\": 1654751281.753576, \"Dimensions\": {\"Algorithm\": \"Linear Learner\", \"Host\": \"algo-1\", \"Operation\": \"training\", \"epoch\": 0, \"model\": 14}, \"Metrics\": {\"validation_binary_classification_cross_entropy_objective\": {\"sum\": 0.500650860555289, \"count\": 1, \"min\": 0.500650860555289, \"max\": 0.500650860555289}}}\u001b[0m\n",
      "\u001b[34m#metrics {\"StartTime\": 1654751281.7536283, \"EndTime\": 1654751281.753644, \"Dimensions\": {\"Algorithm\": \"Linear Learner\", \"Host\": \"algo-1\", \"Operation\": \"training\", \"epoch\": 0, \"model\": 15}, \"Metrics\": {\"validation_binary_classification_cross_entropy_objective\": {\"sum\": 0.5107419540827608, \"count\": 1, \"min\": 0.5107419540827608, \"max\": 0.5107419540827608}}}\u001b[0m\n",
      "\u001b[34m#metrics {\"StartTime\": 1654751281.7536967, \"EndTime\": 1654751281.7537134, \"Dimensions\": {\"Algorithm\": \"Linear Learner\", \"Host\": \"algo-1\", \"Operation\": \"training\", \"epoch\": 0, \"model\": 16}, \"Metrics\": {\"validation_binary_classification_cross_entropy_objective\": {\"sum\": 0.5081007156212074, \"count\": 1, \"min\": 0.5081007156212074, \"max\": 0.5081007156212074}}}\u001b[0m\n",
      "\u001b[34m#metrics {\"StartTime\": 1654751281.7538323, \"EndTime\": 1654751281.7538526, \"Dimensions\": {\"Algorithm\": \"Linear Learner\", \"Host\": \"algo-1\", \"Operation\": \"training\", \"epoch\": 0, \"model\": 17}, \"Metrics\": {\"validation_binary_classification_cross_entropy_objective\": {\"sum\": 0.508476750793638, \"count\": 1, \"min\": 0.508476750793638, \"max\": 0.508476750793638}}}\u001b[0m\n",
      "\u001b[34m#metrics {\"StartTime\": 1654751281.7539058, \"EndTime\": 1654751281.7539237, \"Dimensions\": {\"Algorithm\": \"Linear Learner\", \"Host\": \"algo-1\", \"Operation\": \"training\", \"epoch\": 0, \"model\": 18}, \"Metrics\": {\"validation_binary_classification_cross_entropy_objective\": {\"sum\": 0.5080995500276874, \"count\": 1, \"min\": 0.5080995500276874, \"max\": 0.5080995500276874}}}\u001b[0m\n",
      "\u001b[34m#metrics {\"StartTime\": 1654751281.753993, \"EndTime\": 1654751281.7540128, \"Dimensions\": {\"Algorithm\": \"Linear Learner\", \"Host\": \"algo-1\", \"Operation\": \"training\", \"epoch\": 0, \"model\": 19}, \"Metrics\": {\"validation_binary_classification_cross_entropy_objective\": {\"sum\": 0.5084803862064994, \"count\": 1, \"min\": 0.5084803862064994, \"max\": 0.5084803862064994}}}\u001b[0m\n",
      "\u001b[34m#metrics {\"StartTime\": 1654751281.7540789, \"EndTime\": 1654751281.7540967, \"Dimensions\": {\"Algorithm\": \"Linear Learner\", \"Host\": \"algo-1\", \"Operation\": \"training\", \"epoch\": 0, \"model\": 20}, \"Metrics\": {\"validation_binary_classification_cross_entropy_objective\": {\"sum\": 0.5100348752372877, \"count\": 1, \"min\": 0.5100348752372877, \"max\": 0.5100348752372877}}}\u001b[0m\n",
      "\u001b[34m#metrics {\"StartTime\": 1654751281.7541556, \"EndTime\": 1654751281.7541723, \"Dimensions\": {\"Algorithm\": \"Linear Learner\", \"Host\": \"algo-1\", \"Operation\": \"training\", \"epoch\": 0, \"model\": 21}, \"Metrics\": {\"validation_binary_classification_cross_entropy_objective\": {\"sum\": 0.5085490286003684, \"count\": 1, \"min\": 0.5085490286003684, \"max\": 0.5085490286003684}}}\u001b[0m\n",
      "\u001b[34m#metrics {\"StartTime\": 1654751281.7542255, \"EndTime\": 1654751281.7542455, \"Dimensions\": {\"Algorithm\": \"Linear Learner\", \"Host\": \"algo-1\", \"Operation\": \"training\", \"epoch\": 0, \"model\": 22}, \"Metrics\": {\"validation_binary_classification_cross_entropy_objective\": {\"sum\": 0.5100285662547852, \"count\": 1, \"min\": 0.5100285662547852, \"max\": 0.5100285662547852}}}\u001b[0m\n",
      "\u001b[34m#metrics {\"StartTime\": 1654751281.7543056, \"EndTime\": 1654751281.7543209, \"Dimensions\": {\"Algorithm\": \"Linear Learner\", \"Host\": \"algo-1\", \"Operation\": \"training\", \"epoch\": 0, \"model\": 23}, \"Metrics\": {\"validation_binary_classification_cross_entropy_objective\": {\"sum\": 0.5085551696567996, \"count\": 1, \"min\": 0.5085551696567996, \"max\": 0.5085551696567996}}}\u001b[0m\n",
      "\u001b[34m#metrics {\"StartTime\": 1654751281.7543733, \"EndTime\": 1654751281.7543905, \"Dimensions\": {\"Algorithm\": \"Linear Learner\", \"Host\": \"algo-1\", \"Operation\": \"training\", \"epoch\": 0, \"model\": 24}, \"Metrics\": {\"validation_binary_classification_cross_entropy_objective\": {\"sum\": 0.5137467481974561, \"count\": 1, \"min\": 0.5137467481974561, \"max\": 0.5137467481974561}}}\u001b[0m\n",
      "\u001b[34m#metrics {\"StartTime\": 1654751281.7544467, \"EndTime\": 1654751281.7544627, \"Dimensions\": {\"Algorithm\": \"Linear Learner\", \"Host\": \"algo-1\", \"Operation\": \"training\", \"epoch\": 0, \"model\": 25}, \"Metrics\": {\"validation_binary_classification_cross_entropy_objective\": {\"sum\": 0.5144442399569283, \"count\": 1, \"min\": 0.5144442399569283, \"max\": 0.5144442399569283}}}\u001b[0m\n",
      "\u001b[34m#metrics {\"StartTime\": 1654751281.7545452, \"EndTime\": 1654751281.7545652, \"Dimensions\": {\"Algorithm\": \"Linear Learner\", \"Host\": \"algo-1\", \"Operation\": \"training\", \"epoch\": 0, \"model\": 26}, \"Metrics\": {\"validation_binary_classification_cross_entropy_objective\": {\"sum\": 0.5137626925913513, \"count\": 1, \"min\": 0.5137626925913513, \"max\": 0.5137626925913513}}}\u001b[0m\n",
      "\u001b[34m#metrics {\"StartTime\": 1654751281.7546139, \"EndTime\": 1654751281.7546308, \"Dimensions\": {\"Algorithm\": \"Linear Learner\", \"Host\": \"algo-1\", \"Operation\": \"training\", \"epoch\": 0, \"model\": 27}, \"Metrics\": {\"validation_binary_classification_cross_entropy_objective\": {\"sum\": 0.5144337400994371, \"count\": 1, \"min\": 0.5144337400994371, \"max\": 0.5144337400994371}}}\u001b[0m\n",
      "\u001b[34m#metrics {\"StartTime\": 1654751281.7546844, \"EndTime\": 1654751281.754701, \"Dimensions\": {\"Algorithm\": \"Linear Learner\", \"Host\": \"algo-1\", \"Operation\": \"training\", \"epoch\": 0, \"model\": 28}, \"Metrics\": {\"validation_binary_classification_cross_entropy_objective\": {\"sum\": 0.5153510483924666, \"count\": 1, \"min\": 0.5153510483924666, \"max\": 0.5153510483924666}}}\u001b[0m\n",
      "\u001b[34m#metrics {\"StartTime\": 1654751281.75474, \"EndTime\": 1654751281.7547548, \"Dimensions\": {\"Algorithm\": \"Linear Learner\", \"Host\": \"algo-1\", \"Operation\": \"training\", \"epoch\": 0, \"model\": 29}, \"Metrics\": {\"validation_binary_classification_cross_entropy_objective\": {\"sum\": 0.5136512913685056, \"count\": 1, \"min\": 0.5136512913685056, \"max\": 0.5136512913685056}}}\u001b[0m\n",
      "\u001b[34m#metrics {\"StartTime\": 1654751281.7548063, \"EndTime\": 1654751281.7548215, \"Dimensions\": {\"Algorithm\": \"Linear Learner\", \"Host\": \"algo-1\", \"Operation\": \"training\", \"epoch\": 0, \"model\": 30}, \"Metrics\": {\"validation_binary_classification_cross_entropy_objective\": {\"sum\": 0.5153821636008212, \"count\": 1, \"min\": 0.5153821636008212, \"max\": 0.5153821636008212}}}\u001b[0m\n",
      "\u001b[34m#metrics {\"StartTime\": 1654751281.7548826, \"EndTime\": 1654751281.754898, \"Dimensions\": {\"Algorithm\": \"Linear Learner\", \"Host\": \"algo-1\", \"Operation\": \"training\", \"epoch\": 0, \"model\": 31}, \"Metrics\": {\"validation_binary_classification_cross_entropy_objective\": {\"sum\": 0.5136333380190429, \"count\": 1, \"min\": 0.5136333380190429, \"max\": 0.5136333380190429}}}\u001b[0m\n",
      "\u001b[34m[06/09/2022 05:08:01 INFO 139715043796800] #quality_metric: host=algo-1, epoch=0, validation binary_classification_cross_entropy_objective <loss>=0.49244397908638854\u001b[0m\n",
      "\u001b[34m[06/09/2022 05:08:01 INFO 139715043796800] #early_stopping_criteria_metric: host=algo-1, epoch=0, criteria=binary_classification_cross_entropy_objective, value=0.49244397908638854\u001b[0m\n",
      "\u001b[34m[06/09/2022 05:08:01 INFO 139715043796800] Epoch 0: Loss improved. Updating best model\u001b[0m\n",
      "\u001b[34m[06/09/2022 05:08:01 INFO 139715043796800] Saving model for epoch: 0\u001b[0m\n",
      "\u001b[34m[06/09/2022 05:08:01 INFO 139715043796800] Saved checkpoint to \"/tmp/tmpu003i7s7/mx-mod-0000.params\"\u001b[0m\n",
      "\u001b[34m[06/09/2022 05:08:01 INFO 139715043796800] #progress_metric: host=algo-1, completed 6.666666666666667 % of epochs\u001b[0m\n",
      "\u001b[34m#metrics {\"StartTime\": 1654751215.0336623, \"EndTime\": 1654751281.7676811, \"Dimensions\": {\"Algorithm\": \"Linear Learner\", \"Host\": \"algo-1\", \"Operation\": \"training\", \"epoch\": 0, \"Meta\": \"training_data_iter\"}, \"Metrics\": {\"Total Records Seen\": {\"sum\": 1320472.0, \"count\": 1, \"min\": 1320472, \"max\": 1320472}, \"Total Batches Seen\": {\"sum\": 1321.0, \"count\": 1, \"min\": 1321, \"max\": 1321}, \"Max Records Seen Between Resets\": {\"sum\": 1308472.0, \"count\": 1, \"min\": 1308472, \"max\": 1308472}, \"Max Batches Seen Between Resets\": {\"sum\": 1309.0, \"count\": 1, \"min\": 1309, \"max\": 1309}, \"Reset Count\": {\"sum\": 3.0, \"count\": 1, \"min\": 3, \"max\": 3}, \"Number of Records Since Last Reset\": {\"sum\": 1308472.0, \"count\": 1, \"min\": 1308472, \"max\": 1308472}, \"Number of Batches Since Last Reset\": {\"sum\": 1309.0, \"count\": 1, \"min\": 1309, \"max\": 1309}}}\u001b[0m\n",
      "\u001b[34m[06/09/2022 05:08:01 INFO 139715043796800] #throughput_metric: host=algo-1, train throughput=19607.227134648136 records/second\u001b[0m\n",
      "\u001b[34m[2022-06-09 05:09:02.998] [tensorio] [info] epoch_stats={\"data_pipeline\": \"/opt/ml/input/data/train\", \"epoch\": 5, \"duration\": 61230, \"num_examples\": 1309, \"num_bytes\": 549558240}\u001b[0m\n",
      "\u001b[34m#metrics {\"StartTime\": 1654751342.999042, \"EndTime\": 1654751342.999167, \"Dimensions\": {\"Algorithm\": \"Linear Learner\", \"Host\": \"algo-1\", \"Operation\": \"training\", \"epoch\": 1, \"model\": 0}, \"Metrics\": {\"train_binary_classification_cross_entropy_objective\": {\"sum\": 0.4921835005873934, \"count\": 1, \"min\": 0.4921835005873934, \"max\": 0.4921835005873934}}}\u001b[0m\n",
      "\u001b[34m#metrics {\"StartTime\": 1654751342.99928, \"EndTime\": 1654751342.9992976, \"Dimensions\": {\"Algorithm\": \"Linear Learner\", \"Host\": \"algo-1\", \"Operation\": \"training\", \"epoch\": 1, \"model\": 1}, \"Metrics\": {\"train_binary_classification_cross_entropy_objective\": {\"sum\": 0.49318302849819173, \"count\": 1, \"min\": 0.49318302849819173, \"max\": 0.49318302849819173}}}\u001b[0m\n",
      "\u001b[34m#metrics {\"StartTime\": 1654751342.9993565, \"EndTime\": 1654751342.99937, \"Dimensions\": {\"Algorithm\": \"Linear Learner\", \"Host\": \"algo-1\", \"Operation\": \"training\", \"epoch\": 1, \"model\": 2}, \"Metrics\": {\"train_binary_classification_cross_entropy_objective\": {\"sum\": 0.4921912895692598, \"count\": 1, \"min\": 0.4921912895692598, \"max\": 0.4921912895692598}}}\u001b[0m\n",
      "\u001b[34m#metrics {\"StartTime\": 1654751342.999416, \"EndTime\": 1654751342.9994276, \"Dimensions\": {\"Algorithm\": \"Linear Learner\", \"Host\": \"algo-1\", \"Operation\": \"training\", \"epoch\": 1, \"model\": 3}, \"Metrics\": {\"train_binary_classification_cross_entropy_objective\": {\"sum\": 0.49318059945762704, \"count\": 1, \"min\": 0.49318059945762704, \"max\": 0.49318059945762704}}}\u001b[0m\n",
      "\u001b[34m#metrics {\"StartTime\": 1654751342.9994981, \"EndTime\": 1654751342.9995112, \"Dimensions\": {\"Algorithm\": \"Linear Learner\", \"Host\": \"algo-1\", \"Operation\": \"training\", \"epoch\": 1, \"model\": 4}, \"Metrics\": {\"train_binary_classification_cross_entropy_objective\": {\"sum\": 0.4962401925883162, \"count\": 1, \"min\": 0.4962401925883162, \"max\": 0.4962401925883162}}}\u001b[0m\n",
      "\u001b[34m#metrics {\"StartTime\": 1654751342.9995558, \"EndTime\": 1654751342.9995666, \"Dimensions\": {\"Algorithm\": \"Linear Learner\", \"Host\": \"algo-1\", \"Operation\": \"training\", \"epoch\": 1, \"model\": 5}, \"Metrics\": {\"train_binary_classification_cross_entropy_objective\": {\"sum\": 0.5141533055670036, \"count\": 1, \"min\": 0.5141533055670036, \"max\": 0.5141533055670036}}}\u001b[0m\n",
      "\u001b[34m#metrics {\"StartTime\": 1654751342.999611, \"EndTime\": 1654751342.9996226, \"Dimensions\": {\"Algorithm\": \"Linear Learner\", \"Host\": \"algo-1\", \"Operation\": \"training\", \"epoch\": 1, \"model\": 6}, \"Metrics\": {\"train_binary_classification_cross_entropy_objective\": {\"sum\": 0.49624014802518607, \"count\": 1, \"min\": 0.49624014802518607, \"max\": 0.49624014802518607}}}\u001b[0m\n",
      "\u001b[34m#metrics {\"StartTime\": 1654751342.9996738, \"EndTime\": 1654751342.9996865, \"Dimensions\": {\"Algorithm\": \"Linear Learner\", \"Host\": \"algo-1\", \"Operation\": \"training\", \"epoch\": 1, \"model\": 7}, \"Metrics\": {\"train_binary_classification_cross_entropy_objective\": {\"sum\": 0.5141528088164257, \"count\": 1, \"min\": 0.5141528088164257, \"max\": 0.5141528088164257}}}\u001b[0m\n",
      "\u001b[34m#metrics {\"StartTime\": 1654751342.9997354, \"EndTime\": 1654751342.999747, \"Dimensions\": {\"Algorithm\": \"Linear Learner\", \"Host\": \"algo-1\", \"Operation\": \"training\", \"epoch\": 1, \"model\": 8}, \"Metrics\": {\"train_binary_classification_cross_entropy_objective\": {\"sum\": 0.4923635701170755, \"count\": 1, \"min\": 0.4923635701170755, \"max\": 0.4923635701170755}}}\u001b[0m\n",
      "\u001b[34m#metrics {\"StartTime\": 1654751342.9998016, \"EndTime\": 1654751342.999813, \"Dimensions\": {\"Algorithm\": \"Linear Learner\", \"Host\": \"algo-1\", \"Operation\": \"training\", \"epoch\": 1, \"model\": 9}, \"Metrics\": {\"train_binary_classification_cross_entropy_objective\": {\"sum\": 0.4933208169266354, \"count\": 1, \"min\": 0.4933208169266354, \"max\": 0.4933208169266354}}}\u001b[0m\n",
      "\u001b[34m#metrics {\"StartTime\": 1654751342.999861, \"EndTime\": 1654751342.9998727, \"Dimensions\": {\"Algorithm\": \"Linear Learner\", \"Host\": \"algo-1\", \"Operation\": \"training\", \"epoch\": 1, \"model\": 10}, \"Metrics\": {\"train_binary_classification_cross_entropy_objective\": {\"sum\": 0.4923628904476807, \"count\": 1, \"min\": 0.4923628904476807, \"max\": 0.4923628904476807}}}\u001b[0m\n",
      "\u001b[34m#metrics {\"StartTime\": 1654751342.999913, \"EndTime\": 1654751342.999924, \"Dimensions\": {\"Algorithm\": \"Linear Learner\", \"Host\": \"algo-1\", \"Operation\": \"training\", \"epoch\": 1, \"model\": 11}, \"Metrics\": {\"train_binary_classification_cross_entropy_objective\": {\"sum\": 0.49332089718693256, \"count\": 1, \"min\": 0.49332089718693256, \"max\": 0.49332089718693256}}}\u001b[0m\n",
      "\u001b[34m#metrics {\"StartTime\": 1654751342.9999626, \"EndTime\": 1654751342.999973, \"Dimensions\": {\"Algorithm\": \"Linear Learner\", \"Host\": \"algo-1\", \"Operation\": \"training\", \"epoch\": 1, \"model\": 12}, \"Metrics\": {\"train_binary_classification_cross_entropy_objective\": {\"sum\": 0.49620215156391856, \"count\": 1, \"min\": 0.49620215156391856, \"max\": 0.49620215156391856}}}\u001b[0m\n",
      "\u001b[34m#metrics {\"StartTime\": 1654751343.0000112, \"EndTime\": 1654751343.0000217, \"Dimensions\": {\"Algorithm\": \"Linear Learner\", \"Host\": \"algo-1\", \"Operation\": \"training\", \"epoch\": 1, \"model\": 13}, \"Metrics\": {\"train_binary_classification_cross_entropy_objective\": {\"sum\": 0.5128615008712909, \"count\": 1, \"min\": 0.5128615008712909, \"max\": 0.5128615008712909}}}\u001b[0m\n",
      "\u001b[34m#metrics {\"StartTime\": 1654751343.0000596, \"EndTime\": 1654751343.0000699, \"Dimensions\": {\"Algorithm\": \"Linear Learner\", \"Host\": \"algo-1\", \"Operation\": \"training\", \"epoch\": 1, \"model\": 14}, \"Metrics\": {\"train_binary_classification_cross_entropy_objective\": {\"sum\": 0.4962024576262961, \"count\": 1, \"min\": 0.4962024576262961, \"max\": 0.4962024576262961}}}\u001b[0m\n",
      "\u001b[34m#metrics {\"StartTime\": 1654751343.0001166, \"EndTime\": 1654751343.0001283, \"Dimensions\": {\"Algorithm\": \"Linear Learner\", \"Host\": \"algo-1\", \"Operation\": \"training\", \"epoch\": 1, \"model\": 15}, \"Metrics\": {\"train_binary_classification_cross_entropy_objective\": {\"sum\": 0.5128614036256749, \"count\": 1, \"min\": 0.5128614036256749, \"max\": 0.5128614036256749}}}\u001b[0m\n",
      "\u001b[34m#metrics {\"StartTime\": 1654751343.000176, \"EndTime\": 1654751343.0001876, \"Dimensions\": {\"Algorithm\": \"Linear Learner\", \"Host\": \"algo-1\", \"Operation\": \"training\", \"epoch\": 1, \"model\": 16}, \"Metrics\": {\"train_binary_classification_cross_entropy_objective\": {\"sum\": 0.5077989481654736, \"count\": 1, \"min\": 0.5077989481654736, \"max\": 0.5077989481654736}}}\u001b[0m\n",
      "\u001b[34m#metrics {\"StartTime\": 1654751343.0002358, \"EndTime\": 1654751343.0002475, \"Dimensions\": {\"Algorithm\": \"Linear Learner\", \"Host\": \"algo-1\", \"Operation\": \"training\", \"epoch\": 1, \"model\": 17}, \"Metrics\": {\"train_binary_classification_cross_entropy_objective\": {\"sum\": 0.5080419211198066, \"count\": 1, \"min\": 0.5080419211198066, \"max\": 0.5080419211198066}}}\u001b[0m\n",
      "\u001b[34m#metrics {\"StartTime\": 1654751343.0002956, \"EndTime\": 1654751343.0003078, \"Dimensions\": {\"Algorithm\": \"Linear Learner\", \"Host\": \"algo-1\", \"Operation\": \"training\", \"epoch\": 1, \"model\": 18}, \"Metrics\": {\"train_binary_classification_cross_entropy_objective\": {\"sum\": 0.5077989356364679, \"count\": 1, \"min\": 0.5077989356364679, \"max\": 0.5077989356364679}}}\u001b[0m\n",
      "\u001b[34m#metrics {\"StartTime\": 1654751343.0003555, \"EndTime\": 1654751343.0003674, \"Dimensions\": {\"Algorithm\": \"Linear Learner\", \"Host\": \"algo-1\", \"Operation\": \"training\", \"epoch\": 1, \"model\": 19}, \"Metrics\": {\"train_binary_classification_cross_entropy_objective\": {\"sum\": 0.5080419783752628, \"count\": 1, \"min\": 0.5080419783752628, \"max\": 0.5080419783752628}}}\u001b[0m\n",
      "\u001b[34m#metrics {\"StartTime\": 1654751343.00045, \"EndTime\": 1654751343.0004685, \"Dimensions\": {\"Algorithm\": \"Linear Learner\", \"Host\": \"algo-1\", \"Operation\": \"training\", \"epoch\": 1, \"model\": 20}, \"Metrics\": {\"train_binary_classification_cross_entropy_objective\": {\"sum\": 0.5086715136186792, \"count\": 1, \"min\": 0.5086715136186792, \"max\": 0.5086715136186792}}}\u001b[0m\n",
      "\u001b[34m#metrics {\"StartTime\": 1654751343.00052, \"EndTime\": 1654751343.0005374, \"Dimensions\": {\"Algorithm\": \"Linear Learner\", \"Host\": \"algo-1\", \"Operation\": \"training\", \"epoch\": 1, \"model\": 21}, \"Metrics\": {\"train_binary_classification_cross_entropy_objective\": {\"sum\": 0.5114984014668595, \"count\": 1, \"min\": 0.5114984014668595, \"max\": 0.5114984014668595}}}\u001b[0m\n",
      "\u001b[34m#metrics {\"StartTime\": 1654751343.0005856, \"EndTime\": 1654751343.0006018, \"Dimensions\": {\"Algorithm\": \"Linear Learner\", \"Host\": \"algo-1\", \"Operation\": \"training\", \"epoch\": 1, \"model\": 22}, \"Metrics\": {\"train_binary_classification_cross_entropy_objective\": {\"sum\": 0.5086713359494457, \"count\": 1, \"min\": 0.5086713359494457, \"max\": 0.5086713359494457}}}\u001b[0m\n",
      "\u001b[34m#metrics {\"StartTime\": 1654751343.0006502, \"EndTime\": 1654751343.0006669, \"Dimensions\": {\"Algorithm\": \"Linear Learner\", \"Host\": \"algo-1\", \"Operation\": \"training\", \"epoch\": 1, \"model\": 23}, \"Metrics\": {\"train_binary_classification_cross_entropy_objective\": {\"sum\": 0.5114989323980582, \"count\": 1, \"min\": 0.5114989323980582, \"max\": 0.5114989323980582}}}\u001b[0m\n",
      "\u001b[34m#metrics {\"StartTime\": 1654751343.0007145, \"EndTime\": 1654751343.0007312, \"Dimensions\": {\"Algorithm\": \"Linear Learner\", \"Host\": \"algo-1\", \"Operation\": \"training\", \"epoch\": 1, \"model\": 24}, \"Metrics\": {\"train_binary_classification_cross_entropy_objective\": {\"sum\": 0.5137807088962754, \"count\": 1, \"min\": 0.5137807088962754, \"max\": 0.5137807088962754}}}\u001b[0m\n",
      "\u001b[34m#metrics {\"StartTime\": 1654751343.0007777, \"EndTime\": 1654751343.000793, \"Dimensions\": {\"Algorithm\": \"Linear Learner\", \"Host\": \"algo-1\", \"Operation\": \"training\", \"epoch\": 1, \"model\": 25}, \"Metrics\": {\"train_binary_classification_cross_entropy_objective\": {\"sum\": 0.5138791538903472, \"count\": 1, \"min\": 0.5138791538903472, \"max\": 0.5138791538903472}}}\u001b[0m\n",
      "\u001b[34m#metrics {\"StartTime\": 1654751343.000837, \"EndTime\": 1654751343.000853, \"Dimensions\": {\"Algorithm\": \"Linear Learner\", \"Host\": \"algo-1\", \"Operation\": \"training\", \"epoch\": 1, \"model\": 26}, \"Metrics\": {\"train_binary_classification_cross_entropy_objective\": {\"sum\": 0.5137810923958408, \"count\": 1, \"min\": 0.5137810923958408, \"max\": 0.5137810923958408}}}\u001b[0m\n",
      "\u001b[34m#metrics {\"StartTime\": 1654751343.000897, \"EndTime\": 1654751343.0009131, \"Dimensions\": {\"Algorithm\": \"Linear Learner\", \"Host\": \"algo-1\", \"Operation\": \"training\", \"epoch\": 1, \"model\": 27}, \"Metrics\": {\"train_binary_classification_cross_entropy_objective\": {\"sum\": 0.5138789485733078, \"count\": 1, \"min\": 0.5138789485733078, \"max\": 0.5138789485733078}}}\u001b[0m\n",
      "\u001b[34m#metrics {\"StartTime\": 1654751343.0009642, \"EndTime\": 1654751343.0009804, \"Dimensions\": {\"Algorithm\": \"Linear Learner\", \"Host\": \"algo-1\", \"Operation\": \"training\", \"epoch\": 1, \"model\": 28}, \"Metrics\": {\"train_binary_classification_cross_entropy_objective\": {\"sum\": 0.5141620804672942, \"count\": 1, \"min\": 0.5141620804672942, \"max\": 0.5141620804672942}}}\u001b[0m\n",
      "\u001b[34m#metrics {\"StartTime\": 1654751343.0010285, \"EndTime\": 1654751343.0010452, \"Dimensions\": {\"Algorithm\": \"Linear Learner\", \"Host\": \"algo-1\", \"Operation\": \"training\", \"epoch\": 1, \"model\": 29}, \"Metrics\": {\"train_binary_classification_cross_entropy_objective\": {\"sum\": 0.5152413763110426, \"count\": 1, \"min\": 0.5152413763110426, \"max\": 0.5152413763110426}}}\u001b[0m\n",
      "\u001b[34m#metrics {\"StartTime\": 1654751343.0010903, \"EndTime\": 1654751343.001106, \"Dimensions\": {\"Algorithm\": \"Linear Learner\", \"Host\": \"algo-1\", \"Operation\": \"training\", \"epoch\": 1, \"model\": 30}, \"Metrics\": {\"train_binary_classification_cross_entropy_objective\": {\"sum\": 0.5141629199106759, \"count\": 1, \"min\": 0.5141629199106759, \"max\": 0.5141629199106759}}}\u001b[0m\n",
      "\u001b[34m#metrics {\"StartTime\": 1654751343.0011487, \"EndTime\": 1654751343.001164, \"Dimensions\": {\"Algorithm\": \"Linear Learner\", \"Host\": \"algo-1\", \"Operation\": \"training\", \"epoch\": 1, \"model\": 31}, \"Metrics\": {\"train_binary_classification_cross_entropy_objective\": {\"sum\": 0.5152430568310099, \"count\": 1, \"min\": 0.5152430568310099, \"max\": 0.5152430568310099}}}\u001b[0m\n",
      "\u001b[34m[06/09/2022 05:09:03 INFO 139715043796800] #quality_metric: host=algo-1, epoch=1, train binary_classification_cross_entropy_objective <loss>=0.4921835005873934\u001b[0m\n",
      "\u001b[34m[2022-06-09 05:09:08.816] [tensorio] [info] epoch_stats={\"data_pipeline\": \"/opt/ml/input/data/validation\", \"epoch\": 5, \"duration\": 5791, \"num_examples\": 164, \"num_bytes\": 68694780}\u001b[0m\n",
      "\u001b[34m#metrics {\"StartTime\": 1654751348.823075, \"EndTime\": 1654751348.8231382, \"Dimensions\": {\"Algorithm\": \"Linear Learner\", \"Host\": \"algo-1\", \"Operation\": \"training\", \"epoch\": 1, \"model\": 0}, \"Metrics\": {\"validation_binary_classification_cross_entropy_objective\": {\"sum\": 0.492157347194619, \"count\": 1, \"min\": 0.492157347194619, \"max\": 0.492157347194619}}}\u001b[0m\n",
      "\u001b[34m#metrics {\"StartTime\": 1654751348.8232312, \"EndTime\": 1654751348.8232546, \"Dimensions\": {\"Algorithm\": \"Linear Learner\", \"Host\": \"algo-1\", \"Operation\": \"training\", \"epoch\": 1, \"model\": 1}, \"Metrics\": {\"validation_binary_classification_cross_entropy_objective\": {\"sum\": 0.49383368804743005, \"count\": 1, \"min\": 0.49383368804743005, \"max\": 0.49383368804743005}}}\u001b[0m\n",
      "\u001b[34m#metrics {\"StartTime\": 1654751348.82332, \"EndTime\": 1654751348.8233383, \"Dimensions\": {\"Algorithm\": \"Linear Learner\", \"Host\": \"algo-1\", \"Operation\": \"training\", \"epoch\": 1, \"model\": 2}, \"Metrics\": {\"validation_binary_classification_cross_entropy_objective\": {\"sum\": 0.492167880823909, \"count\": 1, \"min\": 0.492167880823909, \"max\": 0.492167880823909}}}\u001b[0m\n",
      "\u001b[34m#metrics {\"StartTime\": 1654751348.8233964, \"EndTime\": 1654751348.8234143, \"Dimensions\": {\"Algorithm\": \"Linear Learner\", \"Host\": \"algo-1\", \"Operation\": \"training\", \"epoch\": 1, \"model\": 3}, \"Metrics\": {\"validation_binary_classification_cross_entropy_objective\": {\"sum\": 0.49383103052405786, \"count\": 1, \"min\": 0.49383103052405786, \"max\": 0.49383103052405786}}}\u001b[0m\n",
      "\u001b[34m#metrics {\"StartTime\": 1654751348.8234992, \"EndTime\": 1654751348.8235185, \"Dimensions\": {\"Algorithm\": \"Linear Learner\", \"Host\": \"algo-1\", \"Operation\": \"training\", \"epoch\": 1, \"model\": 4}, \"Metrics\": {\"validation_binary_classification_cross_entropy_objective\": {\"sum\": 0.49442728618553977, \"count\": 1, \"min\": 0.49442728618553977, \"max\": 0.49442728618553977}}}\u001b[0m\n",
      "\u001b[34m#metrics {\"StartTime\": 1654751348.8235762, \"EndTime\": 1654751348.8235886, \"Dimensions\": {\"Algorithm\": \"Linear Learner\", \"Host\": \"algo-1\", \"Operation\": \"training\", \"epoch\": 1, \"model\": 5}, \"Metrics\": {\"validation_binary_classification_cross_entropy_objective\": {\"sum\": 0.5106377225568258, \"count\": 1, \"min\": 0.5106377225568258, \"max\": 0.5106377225568258}}}\u001b[0m\n",
      "\u001b[34m#metrics {\"StartTime\": 1654751348.8236413, \"EndTime\": 1654751348.8236566, \"Dimensions\": {\"Algorithm\": \"Linear Learner\", \"Host\": \"algo-1\", \"Operation\": \"training\", \"epoch\": 1, \"model\": 6}, \"Metrics\": {\"validation_binary_classification_cross_entropy_objective\": {\"sum\": 0.49442758863905284, \"count\": 1, \"min\": 0.49442758863905284, \"max\": 0.49442758863905284}}}\u001b[0m\n",
      "\u001b[34m#metrics {\"StartTime\": 1654751348.8237028, \"EndTime\": 1654751348.823715, \"Dimensions\": {\"Algorithm\": \"Linear Learner\", \"Host\": \"algo-1\", \"Operation\": \"training\", \"epoch\": 1, \"model\": 7}, \"Metrics\": {\"validation_binary_classification_cross_entropy_objective\": {\"sum\": 0.5106359757525142, \"count\": 1, \"min\": 0.5106359757525142, \"max\": 0.5106359757525142}}}\u001b[0m\n",
      "\u001b[34m#metrics {\"StartTime\": 1654751348.823759, \"EndTime\": 1654751348.8237746, \"Dimensions\": {\"Algorithm\": \"Linear Learner\", \"Host\": \"algo-1\", \"Operation\": \"training\", \"epoch\": 1, \"model\": 8}, \"Metrics\": {\"validation_binary_classification_cross_entropy_objective\": {\"sum\": 0.4923596367243505, \"count\": 1, \"min\": 0.4923596367243505, \"max\": 0.4923596367243505}}}\u001b[0m\n",
      "\u001b[34m#metrics {\"StartTime\": 1654751348.8238208, \"EndTime\": 1654751348.8238351, \"Dimensions\": {\"Algorithm\": \"Linear Learner\", \"Host\": \"algo-1\", \"Operation\": \"training\", \"epoch\": 1, \"model\": 9}, \"Metrics\": {\"validation_binary_classification_cross_entropy_objective\": {\"sum\": 0.49406095937905053, \"count\": 1, \"min\": 0.49406095937905053, \"max\": 0.49406095937905053}}}\u001b[0m\n",
      "\u001b[34m#metrics {\"StartTime\": 1654751348.8238807, \"EndTime\": 1654751348.8238947, \"Dimensions\": {\"Algorithm\": \"Linear Learner\", \"Host\": \"algo-1\", \"Operation\": \"training\", \"epoch\": 1, \"model\": 10}, \"Metrics\": {\"validation_binary_classification_cross_entropy_objective\": {\"sum\": 0.49235902230151374, \"count\": 1, \"min\": 0.49235902230151374, \"max\": 0.49235902230151374}}}\u001b[0m\n",
      "\u001b[34m#metrics {\"StartTime\": 1654751348.8239439, \"EndTime\": 1654751348.823961, \"Dimensions\": {\"Algorithm\": \"Linear Learner\", \"Host\": \"algo-1\", \"Operation\": \"training\", \"epoch\": 1, \"model\": 11}, \"Metrics\": {\"validation_binary_classification_cross_entropy_objective\": {\"sum\": 0.4940611508147719, \"count\": 1, \"min\": 0.4940611508147719, \"max\": 0.4940611508147719}}}\u001b[0m\n",
      "\u001b[34m#metrics {\"StartTime\": 1654751348.8240085, \"EndTime\": 1654751348.824023, \"Dimensions\": {\"Algorithm\": \"Linear Learner\", \"Host\": \"algo-1\", \"Operation\": \"training\", \"epoch\": 1, \"model\": 12}, \"Metrics\": {\"validation_binary_classification_cross_entropy_objective\": {\"sum\": 0.49472691742108116, \"count\": 1, \"min\": 0.49472691742108116, \"max\": 0.49472691742108116}}}\u001b[0m\n",
      "\u001b[34m#metrics {\"StartTime\": 1654751348.8240707, \"EndTime\": 1654751348.8240848, \"Dimensions\": {\"Algorithm\": \"Linear Learner\", \"Host\": \"algo-1\", \"Operation\": \"training\", \"epoch\": 1, \"model\": 13}, \"Metrics\": {\"validation_binary_classification_cross_entropy_objective\": {\"sum\": 0.509183598087717, \"count\": 1, \"min\": 0.509183598087717, \"max\": 0.509183598087717}}}\u001b[0m\n",
      "\u001b[34m#metrics {\"StartTime\": 1654751348.8241298, \"EndTime\": 1654751348.824146, \"Dimensions\": {\"Algorithm\": \"Linear Learner\", \"Host\": \"algo-1\", \"Operation\": \"training\", \"epoch\": 1, \"model\": 14}, \"Metrics\": {\"validation_binary_classification_cross_entropy_objective\": {\"sum\": 0.4947267265451133, \"count\": 1, \"min\": 0.4947267265451133, \"max\": 0.4947267265451133}}}\u001b[0m\n",
      "\u001b[34m#metrics {\"StartTime\": 1654751348.8241935, \"EndTime\": 1654751348.8242052, \"Dimensions\": {\"Algorithm\": \"Linear Learner\", \"Host\": \"algo-1\", \"Operation\": \"training\", \"epoch\": 1, \"model\": 15}, \"Metrics\": {\"validation_binary_classification_cross_entropy_objective\": {\"sum\": 0.5091827136770742, \"count\": 1, \"min\": 0.5091827136770742, \"max\": 0.5091827136770742}}}\u001b[0m\n",
      "\u001b[34m#metrics {\"StartTime\": 1654751348.824232, \"EndTime\": 1654751348.8242402, \"Dimensions\": {\"Algorithm\": \"Linear Learner\", \"Host\": \"algo-1\", \"Operation\": \"training\", \"epoch\": 1, \"model\": 16}, \"Metrics\": {\"validation_binary_classification_cross_entropy_objective\": {\"sum\": 0.5078017096304053, \"count\": 1, \"min\": 0.5078017096304053, \"max\": 0.5078017096304053}}}\u001b[0m\n",
      "\u001b[34m#metrics {\"StartTime\": 1654751348.8242655, \"EndTime\": 1654751348.8242745, \"Dimensions\": {\"Algorithm\": \"Linear Learner\", \"Host\": \"algo-1\", \"Operation\": \"training\", \"epoch\": 1, \"model\": 17}, \"Metrics\": {\"validation_binary_classification_cross_entropy_objective\": {\"sum\": 0.5086065792906368, \"count\": 1, \"min\": 0.5086065792906368, \"max\": 0.5086065792906368}}}\u001b[0m\n",
      "\u001b[34m#metrics {\"StartTime\": 1654751348.8242977, \"EndTime\": 1654751348.8243062, \"Dimensions\": {\"Algorithm\": \"Linear Learner\", \"Host\": \"algo-1\", \"Operation\": \"training\", \"epoch\": 1, \"model\": 18}, \"Metrics\": {\"validation_binary_classification_cross_entropy_objective\": {\"sum\": 0.5078025354535075, \"count\": 1, \"min\": 0.5078025354535075, \"max\": 0.5078025354535075}}}\u001b[0m\n",
      "\u001b[34m#metrics {\"StartTime\": 1654751348.8243294, \"EndTime\": 1654751348.8243382, \"Dimensions\": {\"Algorithm\": \"Linear Learner\", \"Host\": \"algo-1\", \"Operation\": \"training\", \"epoch\": 1, \"model\": 19}, \"Metrics\": {\"validation_binary_classification_cross_entropy_objective\": {\"sum\": 0.508607376939476, \"count\": 1, \"min\": 0.508607376939476, \"max\": 0.508607376939476}}}\u001b[0m\n",
      "\u001b[34m#metrics {\"StartTime\": 1654751348.8243618, \"EndTime\": 1654751348.824369, \"Dimensions\": {\"Algorithm\": \"Linear Learner\", \"Host\": \"algo-1\", \"Operation\": \"training\", \"epoch\": 1, \"model\": 20}, \"Metrics\": {\"validation_binary_classification_cross_entropy_objective\": {\"sum\": 0.5083499570939185, \"count\": 1, \"min\": 0.5083499570939185, \"max\": 0.5083499570939185}}}\u001b[0m\n",
      "\u001b[34m#metrics {\"StartTime\": 1654751348.824394, \"EndTime\": 1654751348.8244016, \"Dimensions\": {\"Algorithm\": \"Linear Learner\", \"Host\": \"algo-1\", \"Operation\": \"training\", \"epoch\": 1, \"model\": 21}, \"Metrics\": {\"validation_binary_classification_cross_entropy_objective\": {\"sum\": 0.5088243260420718, \"count\": 1, \"min\": 0.5088243260420718, \"max\": 0.5088243260420718}}}\u001b[0m\n",
      "\u001b[34m#metrics {\"StartTime\": 1654751348.8244257, \"EndTime\": 1654751348.824433, \"Dimensions\": {\"Algorithm\": \"Linear Learner\", \"Host\": \"algo-1\", \"Operation\": \"training\", \"epoch\": 1, \"model\": 22}, \"Metrics\": {\"validation_binary_classification_cross_entropy_objective\": {\"sum\": 0.5083509314383017, \"count\": 1, \"min\": 0.5083509314383017, \"max\": 0.5083509314383017}}}\u001b[0m\n",
      "\u001b[34m#metrics {\"StartTime\": 1654751348.8244581, \"EndTime\": 1654751348.8244717, \"Dimensions\": {\"Algorithm\": \"Linear Learner\", \"Host\": \"algo-1\", \"Operation\": \"training\", \"epoch\": 1, \"model\": 23}, \"Metrics\": {\"validation_binary_classification_cross_entropy_objective\": {\"sum\": 0.5088243691430969, \"count\": 1, \"min\": 0.5088243691430969, \"max\": 0.5088243691430969}}}\u001b[0m\n",
      "\u001b[34m#metrics {\"StartTime\": 1654751348.8245182, \"EndTime\": 1654751348.8245354, \"Dimensions\": {\"Algorithm\": \"Linear Learner\", \"Host\": \"algo-1\", \"Operation\": \"training\", \"epoch\": 1, \"model\": 24}, \"Metrics\": {\"validation_binary_classification_cross_entropy_objective\": {\"sum\": 0.5137769166759372, \"count\": 1, \"min\": 0.5137769166759372, \"max\": 0.5137769166759372}}}\u001b[0m\n",
      "\u001b[34m#metrics {\"StartTime\": 1654751348.8245826, \"EndTime\": 1654751348.8245966, \"Dimensions\": {\"Algorithm\": \"Linear Learner\", \"Host\": \"algo-1\", \"Operation\": \"training\", \"epoch\": 1, \"model\": 25}, \"Metrics\": {\"validation_binary_classification_cross_entropy_objective\": {\"sum\": 0.5145836646825697, \"count\": 1, \"min\": 0.5145836646825697, \"max\": 0.5145836646825697}}}\u001b[0m\n",
      "\u001b[34m#metrics {\"StartTime\": 1654751348.8246312, \"EndTime\": 1654751348.8246403, \"Dimensions\": {\"Algorithm\": \"Linear Learner\", \"Host\": \"algo-1\", \"Operation\": \"training\", \"epoch\": 1, \"model\": 26}, \"Metrics\": {\"validation_binary_classification_cross_entropy_objective\": {\"sum\": 0.5137714208287892, \"count\": 1, \"min\": 0.5137714208287892, \"max\": 0.5137714208287892}}}\u001b[0m\n",
      "\u001b[34m#metrics {\"StartTime\": 1654751348.824666, \"EndTime\": 1654751348.824674, \"Dimensions\": {\"Algorithm\": \"Linear Learner\", \"Host\": \"algo-1\", \"Operation\": \"training\", \"epoch\": 1, \"model\": 27}, \"Metrics\": {\"validation_binary_classification_cross_entropy_objective\": {\"sum\": 0.5145861526006097, \"count\": 1, \"min\": 0.5145861526006097, \"max\": 0.5145861526006097}}}\u001b[0m\n",
      "\u001b[34m#metrics {\"StartTime\": 1654751348.8246984, \"EndTime\": 1654751348.8247056, \"Dimensions\": {\"Algorithm\": \"Linear Learner\", \"Host\": \"algo-1\", \"Operation\": \"training\", \"epoch\": 1, \"model\": 28}, \"Metrics\": {\"validation_binary_classification_cross_entropy_objective\": {\"sum\": 0.5139614099603751, \"count\": 1, \"min\": 0.5139614099603751, \"max\": 0.5139614099603751}}}\u001b[0m\n",
      "\u001b[34m#metrics {\"StartTime\": 1654751348.8247306, \"EndTime\": 1654751348.8247392, \"Dimensions\": {\"Algorithm\": \"Linear Learner\", \"Host\": \"algo-1\", \"Operation\": \"training\", \"epoch\": 1, \"model\": 29}, \"Metrics\": {\"validation_binary_classification_cross_entropy_objective\": {\"sum\": 0.5139231237490179, \"count\": 1, \"min\": 0.5139231237490179, \"max\": 0.5139231237490179}}}\u001b[0m\n",
      "\u001b[34m#metrics {\"StartTime\": 1654751348.8247635, \"EndTime\": 1654751348.82477, \"Dimensions\": {\"Algorithm\": \"Linear Learner\", \"Host\": \"algo-1\", \"Operation\": \"training\", \"epoch\": 1, \"model\": 30}, \"Metrics\": {\"validation_binary_classification_cross_entropy_objective\": {\"sum\": 0.5139271351296947, \"count\": 1, \"min\": 0.5139271351296947, \"max\": 0.5139271351296947}}}\u001b[0m\n",
      "\u001b[34m#metrics {\"StartTime\": 1654751348.8247945, \"EndTime\": 1654751348.8248022, \"Dimensions\": {\"Algorithm\": \"Linear Learner\", \"Host\": \"algo-1\", \"Operation\": \"training\", \"epoch\": 1, \"model\": 31}, \"Metrics\": {\"validation_binary_classification_cross_entropy_objective\": {\"sum\": 0.5139289802640503, \"count\": 1, \"min\": 0.5139289802640503, \"max\": 0.5139289802640503}}}\u001b[0m\n",
      "\u001b[34m[06/09/2022 05:09:08 INFO 139715043796800] #quality_metric: host=algo-1, epoch=1, validation binary_classification_cross_entropy_objective <loss>=0.492157347194619\u001b[0m\n",
      "\u001b[34m[06/09/2022 05:09:08 INFO 139715043796800] #early_stopping_criteria_metric: host=algo-1, epoch=1, criteria=binary_classification_cross_entropy_objective, value=0.492157347194619\u001b[0m\n",
      "\u001b[34m[06/09/2022 05:09:08 INFO 139715043796800] Saving model for epoch: 1\u001b[0m\n",
      "\u001b[34m[06/09/2022 05:09:08 INFO 139715043796800] Saved checkpoint to \"/tmp/tmpup2vt5g4/mx-mod-0000.params\"\u001b[0m\n",
      "\u001b[34m[06/09/2022 05:09:08 INFO 139715043796800] #progress_metric: host=algo-1, completed 13.333333333333334 % of epochs\u001b[0m\n",
      "\u001b[34m#metrics {\"StartTime\": 1654751281.7683358, \"EndTime\": 1654751348.8339992, \"Dimensions\": {\"Algorithm\": \"Linear Learner\", \"Host\": \"algo-1\", \"Operation\": \"training\", \"epoch\": 1, \"Meta\": \"training_data_iter\"}, \"Metrics\": {\"Total Records Seen\": {\"sum\": 2628944.0, \"count\": 1, \"min\": 2628944, \"max\": 2628944}, \"Total Batches Seen\": {\"sum\": 2630.0, \"count\": 1, \"min\": 2630, \"max\": 2630}, \"Max Records Seen Between Resets\": {\"sum\": 1308472.0, \"count\": 1, \"min\": 1308472, \"max\": 1308472}, \"Max Batches Seen Between Resets\": {\"sum\": 1309.0, \"count\": 1, \"min\": 1309, \"max\": 1309}, \"Reset Count\": {\"sum\": 4.0, \"count\": 1, \"min\": 4, \"max\": 4}, \"Number of Records Since Last Reset\": {\"sum\": 1308472.0, \"count\": 1, \"min\": 1308472, \"max\": 1308472}, \"Number of Batches Since Last Reset\": {\"sum\": 1309.0, \"count\": 1, \"min\": 1309, \"max\": 1309}}}\u001b[0m\n",
      "\u001b[34m[06/09/2022 05:09:08 INFO 139715043796800] #throughput_metric: host=algo-1, train throughput=19510.267437933064 records/second\u001b[0m\n",
      "\u001b[34m[2022-06-09 05:10:09.607] [tensorio] [info] epoch_stats={\"data_pipeline\": \"/opt/ml/input/data/train\", \"epoch\": 7, \"duration\": 60769, \"num_examples\": 1309, \"num_bytes\": 549558240}\u001b[0m\n",
      "\u001b[34m#metrics {\"StartTime\": 1654751409.607709, \"EndTime\": 1654751409.6078198, \"Dimensions\": {\"Algorithm\": \"Linear Learner\", \"Host\": \"algo-1\", \"Operation\": \"training\", \"epoch\": 2, \"model\": 0}, \"Metrics\": {\"train_binary_classification_cross_entropy_objective\": {\"sum\": 0.4920164307760536, \"count\": 1, \"min\": 0.4920164307760536, \"max\": 0.4920164307760536}}}\u001b[0m\n",
      "\u001b[34m#metrics {\"StartTime\": 1654751409.607953, \"EndTime\": 1654751409.607976, \"Dimensions\": {\"Algorithm\": \"Linear Learner\", \"Host\": \"algo-1\", \"Operation\": \"training\", \"epoch\": 2, \"model\": 1}, \"Metrics\": {\"train_binary_classification_cross_entropy_objective\": {\"sum\": 0.49303664246538725, \"count\": 1, \"min\": 0.49303664246538725, \"max\": 0.49303664246538725}}}\u001b[0m\n",
      "\u001b[34m#metrics {\"StartTime\": 1654751409.608042, \"EndTime\": 1654751409.6080627, \"Dimensions\": {\"Algorithm\": \"Linear Learner\", \"Host\": \"algo-1\", \"Operation\": \"training\", \"epoch\": 2, \"model\": 2}, \"Metrics\": {\"train_binary_classification_cross_entropy_objective\": {\"sum\": 0.4920232772593834, \"count\": 1, \"min\": 0.4920232772593834, \"max\": 0.4920232772593834}}}\u001b[0m\n",
      "\u001b[34m#metrics {\"StartTime\": 1654751409.6081176, \"EndTime\": 1654751409.6081433, \"Dimensions\": {\"Algorithm\": \"Linear Learner\", \"Host\": \"algo-1\", \"Operation\": \"training\", \"epoch\": 2, \"model\": 3}, \"Metrics\": {\"train_binary_classification_cross_entropy_objective\": {\"sum\": 0.49303578025047934, \"count\": 1, \"min\": 0.49303578025047934, \"max\": 0.49303578025047934}}}\u001b[0m\n",
      "\u001b[34m#metrics {\"StartTime\": 1654751409.608199, \"EndTime\": 1654751409.6082158, \"Dimensions\": {\"Algorithm\": \"Linear Learner\", \"Host\": \"algo-1\", \"Operation\": \"training\", \"epoch\": 2, \"model\": 4}, \"Metrics\": {\"train_binary_classification_cross_entropy_objective\": {\"sum\": 0.4931329185182531, \"count\": 1, \"min\": 0.4931329185182531, \"max\": 0.4931329185182531}}}\u001b[0m\n",
      "\u001b[34m#metrics {\"StartTime\": 1654751409.6082757, \"EndTime\": 1654751409.608293, \"Dimensions\": {\"Algorithm\": \"Linear Learner\", \"Host\": \"algo-1\", \"Operation\": \"training\", \"epoch\": 2, \"model\": 5}, \"Metrics\": {\"train_binary_classification_cross_entropy_objective\": {\"sum\": 0.511439772626311, \"count\": 1, \"min\": 0.511439772626311, \"max\": 0.511439772626311}}}\u001b[0m\n",
      "\u001b[34m#metrics {\"StartTime\": 1654751409.6083386, \"EndTime\": 1654751409.6083577, \"Dimensions\": {\"Algorithm\": \"Linear Learner\", \"Host\": \"algo-1\", \"Operation\": \"training\", \"epoch\": 2, \"model\": 6}, \"Metrics\": {\"train_binary_classification_cross_entropy_objective\": {\"sum\": 0.4931329091623289, \"count\": 1, \"min\": 0.4931329091623289, \"max\": 0.4931329091623289}}}\u001b[0m\n",
      "\u001b[34m#metrics {\"StartTime\": 1654751409.6084094, \"EndTime\": 1654751409.6084254, \"Dimensions\": {\"Algorithm\": \"Linear Learner\", \"Host\": \"algo-1\", \"Operation\": \"training\", \"epoch\": 2, \"model\": 7}, \"Metrics\": {\"train_binary_classification_cross_entropy_objective\": {\"sum\": 0.51143968065361, \"count\": 1, \"min\": 0.51143968065361, \"max\": 0.51143968065361}}}\u001b[0m\n",
      "\u001b[34m#metrics {\"StartTime\": 1654751409.6084776, \"EndTime\": 1654751409.6084974, \"Dimensions\": {\"Algorithm\": \"Linear Learner\", \"Host\": \"algo-1\", \"Operation\": \"training\", \"epoch\": 2, \"model\": 8}, \"Metrics\": {\"train_binary_classification_cross_entropy_objective\": {\"sum\": 0.4922091307100535, \"count\": 1, \"min\": 0.4922091307100535, \"max\": 0.4922091307100535}}}\u001b[0m\n",
      "\u001b[34m#metrics {\"StartTime\": 1654751409.6085472, \"EndTime\": 1654751409.6085637, \"Dimensions\": {\"Algorithm\": \"Linear Learner\", \"Host\": \"algo-1\", \"Operation\": \"training\", \"epoch\": 2, \"model\": 9}, \"Metrics\": {\"train_binary_classification_cross_entropy_objective\": {\"sum\": 0.4931898127564596, \"count\": 1, \"min\": 0.4931898127564596, \"max\": 0.4931898127564596}}}\u001b[0m\n",
      "\u001b[34m#metrics {\"StartTime\": 1654751409.608631, \"EndTime\": 1654751409.6086504, \"Dimensions\": {\"Algorithm\": \"Linear Learner\", \"Host\": \"algo-1\", \"Operation\": \"training\", \"epoch\": 2, \"model\": 10}, \"Metrics\": {\"train_binary_classification_cross_entropy_objective\": {\"sum\": 0.4922087665522864, \"count\": 1, \"min\": 0.4922087665522864, \"max\": 0.4922087665522864}}}\u001b[0m\n",
      "\u001b[34m#metrics {\"StartTime\": 1654751409.6087608, \"EndTime\": 1654751409.608785, \"Dimensions\": {\"Algorithm\": \"Linear Learner\", \"Host\": \"algo-1\", \"Operation\": \"training\", \"epoch\": 2, \"model\": 11}, \"Metrics\": {\"train_binary_classification_cross_entropy_objective\": {\"sum\": 0.4931898317249543, \"count\": 1, \"min\": 0.4931898317249543, \"max\": 0.4931898317249543}}}\u001b[0m\n",
      "\u001b[34m#metrics {\"StartTime\": 1654751409.608883, \"EndTime\": 1654751409.6089137, \"Dimensions\": {\"Algorithm\": \"Linear Learner\", \"Host\": \"algo-1\", \"Operation\": \"training\", \"epoch\": 2, \"model\": 12}, \"Metrics\": {\"train_binary_classification_cross_entropy_objective\": {\"sum\": 0.4932823280311141, \"count\": 1, \"min\": 0.4932823280311141, \"max\": 0.4932823280311141}}}\u001b[0m\n",
      "\u001b[34m#metrics {\"StartTime\": 1654751409.609013, \"EndTime\": 1654751409.6090376, \"Dimensions\": {\"Algorithm\": \"Linear Learner\", \"Host\": \"algo-1\", \"Operation\": \"training\", \"epoch\": 2, \"model\": 13}, \"Metrics\": {\"train_binary_classification_cross_entropy_objective\": {\"sum\": 0.5103438674506792, \"count\": 1, \"min\": 0.5103438674506792, \"max\": 0.5103438674506792}}}\u001b[0m\n",
      "\u001b[34m#metrics {\"StartTime\": 1654751409.6091428, \"EndTime\": 1654751409.6091638, \"Dimensions\": {\"Algorithm\": \"Linear Learner\", \"Host\": \"algo-1\", \"Operation\": \"training\", \"epoch\": 2, \"model\": 14}, \"Metrics\": {\"train_binary_classification_cross_entropy_objective\": {\"sum\": 0.4932823604152108, \"count\": 1, \"min\": 0.4932823604152108, \"max\": 0.4932823604152108}}}\u001b[0m\n",
      "\u001b[34m#metrics {\"StartTime\": 1654751409.6092558, \"EndTime\": 1654751409.6092687, \"Dimensions\": {\"Algorithm\": \"Linear Learner\", \"Host\": \"algo-1\", \"Operation\": \"training\", \"epoch\": 2, \"model\": 15}, \"Metrics\": {\"train_binary_classification_cross_entropy_objective\": {\"sum\": 0.5103438341099917, \"count\": 1, \"min\": 0.5103438341099917, \"max\": 0.5103438341099917}}}\u001b[0m\n",
      "\u001b[34m#metrics {\"StartTime\": 1654751409.6093, \"EndTime\": 1654751409.60931, \"Dimensions\": {\"Algorithm\": \"Linear Learner\", \"Host\": \"algo-1\", \"Operation\": \"training\", \"epoch\": 2, \"model\": 16}, \"Metrics\": {\"train_binary_classification_cross_entropy_objective\": {\"sum\": 0.5077683837377333, \"count\": 1, \"min\": 0.5077683837377333, \"max\": 0.5077683837377333}}}\u001b[0m\n",
      "\u001b[34m#metrics {\"StartTime\": 1654751409.6094, \"EndTime\": 1654751409.609417, \"Dimensions\": {\"Algorithm\": \"Linear Learner\", \"Host\": \"algo-1\", \"Operation\": \"training\", \"epoch\": 2, \"model\": 17}, \"Metrics\": {\"train_binary_classification_cross_entropy_objective\": {\"sum\": 0.5080227842418426, \"count\": 1, \"min\": 0.5080227842418426, \"max\": 0.5080227842418426}}}\u001b[0m\n",
      "\u001b[34m#metrics {\"StartTime\": 1654751409.6094542, \"EndTime\": 1654751409.6094656, \"Dimensions\": {\"Algorithm\": \"Linear Learner\", \"Host\": \"algo-1\", \"Operation\": \"training\", \"epoch\": 2, \"model\": 18}, \"Metrics\": {\"train_binary_classification_cross_entropy_objective\": {\"sum\": 0.5077683991831742, \"count\": 1, \"min\": 0.5077683991831742, \"max\": 0.5077683991831742}}}\u001b[0m\n",
      "\u001b[34m#metrics {\"StartTime\": 1654751409.609514, \"EndTime\": 1654751409.6095293, \"Dimensions\": {\"Algorithm\": \"Linear Learner\", \"Host\": \"algo-1\", \"Operation\": \"training\", \"epoch\": 2, \"model\": 19}, \"Metrics\": {\"train_binary_classification_cross_entropy_objective\": {\"sum\": 0.5080228108863947, \"count\": 1, \"min\": 0.5080228108863947, \"max\": 0.5080228108863947}}}\u001b[0m\n",
      "\u001b[34m#metrics {\"StartTime\": 1654751409.6095712, \"EndTime\": 1654751409.6095865, \"Dimensions\": {\"Algorithm\": \"Linear Learner\", \"Host\": \"algo-1\", \"Operation\": \"training\", \"epoch\": 2, \"model\": 20}, \"Metrics\": {\"train_binary_classification_cross_entropy_objective\": {\"sum\": 0.5080204028908266, \"count\": 1, \"min\": 0.5080204028908266, \"max\": 0.5080204028908266}}}\u001b[0m\n",
      "\u001b[34m#metrics {\"StartTime\": 1654751409.6096377, \"EndTime\": 1654751409.609654, \"Dimensions\": {\"Algorithm\": \"Linear Learner\", \"Host\": \"algo-1\", \"Operation\": \"training\", \"epoch\": 2, \"model\": 21}, \"Metrics\": {\"train_binary_classification_cross_entropy_objective\": {\"sum\": 0.5111027337637152, \"count\": 1, \"min\": 0.5111027337637152, \"max\": 0.5111027337637152}}}\u001b[0m\n",
      "\u001b[34m#metrics {\"StartTime\": 1654751409.6097004, \"EndTime\": 1654751409.6097145, \"Dimensions\": {\"Algorithm\": \"Linear Learner\", \"Host\": \"algo-1\", \"Operation\": \"training\", \"epoch\": 2, \"model\": 22}, \"Metrics\": {\"train_binary_classification_cross_entropy_objective\": {\"sum\": 0.5080203953080951, \"count\": 1, \"min\": 0.5080203953080951, \"max\": 0.5080203953080951}}}\u001b[0m\n",
      "\u001b[34m#metrics {\"StartTime\": 1654751409.6097603, \"EndTime\": 1654751409.6097753, \"Dimensions\": {\"Algorithm\": \"Linear Learner\", \"Host\": \"algo-1\", \"Operation\": \"training\", \"epoch\": 2, \"model\": 23}, \"Metrics\": {\"train_binary_classification_cross_entropy_objective\": {\"sum\": 0.5111027658211711, \"count\": 1, \"min\": 0.5111027658211711, \"max\": 0.5111027658211711}}}\u001b[0m\n",
      "\u001b[34m#metrics {\"StartTime\": 1654751409.6098177, \"EndTime\": 1654751409.6098323, \"Dimensions\": {\"Algorithm\": \"Linear Learner\", \"Host\": \"algo-1\", \"Operation\": \"training\", \"epoch\": 2, \"model\": 24}, \"Metrics\": {\"train_binary_classification_cross_entropy_objective\": {\"sum\": 0.5137729636609372, \"count\": 1, \"min\": 0.5137729636609372, \"max\": 0.5137729636609372}}}\u001b[0m\n",
      "\u001b[34m#metrics {\"StartTime\": 1654751409.609876, \"EndTime\": 1654751409.6098878, \"Dimensions\": {\"Algorithm\": \"Linear Learner\", \"Host\": \"algo-1\", \"Operation\": \"training\", \"epoch\": 2, \"model\": 25}, \"Metrics\": {\"train_binary_classification_cross_entropy_objective\": {\"sum\": 0.5138810509031336, \"count\": 1, \"min\": 0.5138810509031336, \"max\": 0.5138810509031336}}}\u001b[0m\n",
      "\u001b[34m#metrics {\"StartTime\": 1654751409.6099317, \"EndTime\": 1654751409.609944, \"Dimensions\": {\"Algorithm\": \"Linear Learner\", \"Host\": \"algo-1\", \"Operation\": \"training\", \"epoch\": 2, \"model\": 26}, \"Metrics\": {\"train_binary_classification_cross_entropy_objective\": {\"sum\": 0.5137728973295346, \"count\": 1, \"min\": 0.5137728973295346, \"max\": 0.5137728973295346}}}\u001b[0m\n",
      "\u001b[34m#metrics {\"StartTime\": 1654751409.6099877, \"EndTime\": 1654751409.610001, \"Dimensions\": {\"Algorithm\": \"Linear Learner\", \"Host\": \"algo-1\", \"Operation\": \"training\", \"epoch\": 2, \"model\": 27}, \"Metrics\": {\"train_binary_classification_cross_entropy_objective\": {\"sum\": 0.5138810049167831, \"count\": 1, \"min\": 0.5138810049167831, \"max\": 0.5138810049167831}}}\u001b[0m\n",
      "\u001b[34m#metrics {\"StartTime\": 1654751409.6100438, \"EndTime\": 1654751409.610056, \"Dimensions\": {\"Algorithm\": \"Linear Learner\", \"Host\": \"algo-1\", \"Operation\": \"training\", \"epoch\": 2, \"model\": 28}, \"Metrics\": {\"train_binary_classification_cross_entropy_objective\": {\"sum\": 0.5138739800176124, \"count\": 1, \"min\": 0.5138739800176124, \"max\": 0.5138739800176124}}}\u001b[0m\n",
      "\u001b[34m#metrics {\"StartTime\": 1654751409.6101038, \"EndTime\": 1654751409.6101167, \"Dimensions\": {\"Algorithm\": \"Linear Learner\", \"Host\": \"algo-1\", \"Operation\": \"training\", \"epoch\": 2, \"model\": 29}, \"Metrics\": {\"train_binary_classification_cross_entropy_objective\": {\"sum\": 0.515061126545664, \"count\": 1, \"min\": 0.515061126545664, \"max\": 0.515061126545664}}}\u001b[0m\n",
      "\u001b[34m#metrics {\"StartTime\": 1654751409.6101606, \"EndTime\": 1654751409.6101742, \"Dimensions\": {\"Algorithm\": \"Linear Learner\", \"Host\": \"algo-1\", \"Operation\": \"training\", \"epoch\": 2, \"model\": 30}, \"Metrics\": {\"train_binary_classification_cross_entropy_objective\": {\"sum\": 0.5138742514794026, \"count\": 1, \"min\": 0.5138742514794026, \"max\": 0.5138742514794026}}}\u001b[0m\n",
      "\u001b[34m#metrics {\"StartTime\": 1654751409.6102204, \"EndTime\": 1654751409.610236, \"Dimensions\": {\"Algorithm\": \"Linear Learner\", \"Host\": \"algo-1\", \"Operation\": \"training\", \"epoch\": 2, \"model\": 31}, \"Metrics\": {\"train_binary_classification_cross_entropy_objective\": {\"sum\": 0.5150616483542533, \"count\": 1, \"min\": 0.5150616483542533, \"max\": 0.5150616483542533}}}\u001b[0m\n",
      "\u001b[34m[06/09/2022 05:10:09 INFO 139715043796800] #quality_metric: host=algo-1, epoch=2, train binary_classification_cross_entropy_objective <loss>=0.4920164307760536\u001b[0m\n",
      "\u001b[34m[2022-06-09 05:10:14.998] [tensorio] [info] epoch_stats={\"data_pipeline\": \"/opt/ml/input/data/validation\", \"epoch\": 8, \"duration\": 5359, \"num_examples\": 164, \"num_bytes\": 68694780}\u001b[0m\n",
      "\u001b[34m#metrics {\"StartTime\": 1654751415.0096068, \"EndTime\": 1654751415.0096788, \"Dimensions\": {\"Algorithm\": \"Linear Learner\", \"Host\": \"algo-1\", \"Operation\": \"training\", \"epoch\": 2, \"model\": 0}, \"Metrics\": {\"validation_binary_classification_cross_entropy_objective\": {\"sum\": 0.49211420717346027, \"count\": 1, \"min\": 0.49211420717346027, \"max\": 0.49211420717346027}}}\u001b[0m\n",
      "\u001b[34m#metrics {\"StartTime\": 1654751415.009872, \"EndTime\": 1654751415.0098953, \"Dimensions\": {\"Algorithm\": \"Linear Learner\", \"Host\": \"algo-1\", \"Operation\": \"training\", \"epoch\": 2, \"model\": 1}, \"Metrics\": {\"validation_binary_classification_cross_entropy_objective\": {\"sum\": 0.4936375602850118, \"count\": 1, \"min\": 0.4936375602850118, \"max\": 0.4936375602850118}}}\u001b[0m\n",
      "\u001b[34m#metrics {\"StartTime\": 1654751415.0099988, \"EndTime\": 1654751415.010021, \"Dimensions\": {\"Algorithm\": \"Linear Learner\", \"Host\": \"algo-1\", \"Operation\": \"training\", \"epoch\": 2, \"model\": 2}, \"Metrics\": {\"validation_binary_classification_cross_entropy_objective\": {\"sum\": 0.4921243321826432, \"count\": 1, \"min\": 0.4921243321826432, \"max\": 0.4921243321826432}}}\u001b[0m\n",
      "\u001b[34m#metrics {\"StartTime\": 1654751415.0100954, \"EndTime\": 1654751415.0101156, \"Dimensions\": {\"Algorithm\": \"Linear Learner\", \"Host\": \"algo-1\", \"Operation\": \"training\", \"epoch\": 2, \"model\": 3}, \"Metrics\": {\"validation_binary_classification_cross_entropy_objective\": {\"sum\": 0.49363623236295606, \"count\": 1, \"min\": 0.49363623236295606, \"max\": 0.49363623236295606}}}\u001b[0m\n",
      "\u001b[34m#metrics {\"StartTime\": 1654751415.0101786, \"EndTime\": 1654751415.0101929, \"Dimensions\": {\"Algorithm\": \"Linear Learner\", \"Host\": \"algo-1\", \"Operation\": \"training\", \"epoch\": 2, \"model\": 4}, \"Metrics\": {\"validation_binary_classification_cross_entropy_objective\": {\"sum\": 0.49272673281883134, \"count\": 1, \"min\": 0.49272673281883134, \"max\": 0.49272673281883134}}}\u001b[0m\n",
      "\u001b[34m#metrics {\"StartTime\": 1654751415.010232, \"EndTime\": 1654751415.0102472, \"Dimensions\": {\"Algorithm\": \"Linear Learner\", \"Host\": \"algo-1\", \"Operation\": \"training\", \"epoch\": 2, \"model\": 5}, \"Metrics\": {\"validation_binary_classification_cross_entropy_objective\": {\"sum\": 0.5094241797995104, \"count\": 1, \"min\": 0.5094241797995104, \"max\": 0.5094241797995104}}}\u001b[0m\n",
      "\u001b[34m#metrics {\"StartTime\": 1654751415.0103004, \"EndTime\": 1654751415.0103168, \"Dimensions\": {\"Algorithm\": \"Linear Learner\", \"Host\": \"algo-1\", \"Operation\": \"training\", \"epoch\": 2, \"model\": 6}, \"Metrics\": {\"validation_binary_classification_cross_entropy_objective\": {\"sum\": 0.4927266857995313, \"count\": 1, \"min\": 0.4927266857995313, \"max\": 0.4927266857995313}}}\u001b[0m\n",
      "\u001b[34m#metrics {\"StartTime\": 1654751415.0103762, \"EndTime\": 1654751415.0103924, \"Dimensions\": {\"Algorithm\": \"Linear Learner\", \"Host\": \"algo-1\", \"Operation\": \"training\", \"epoch\": 2, \"model\": 7}, \"Metrics\": {\"validation_binary_classification_cross_entropy_objective\": {\"sum\": 0.5094240575866473, \"count\": 1, \"min\": 0.5094240575866473, \"max\": 0.5094240575866473}}}\u001b[0m\n",
      "\u001b[34m#metrics {\"StartTime\": 1654751415.0104556, \"EndTime\": 1654751415.0104735, \"Dimensions\": {\"Algorithm\": \"Linear Learner\", \"Host\": \"algo-1\", \"Operation\": \"training\", \"epoch\": 2, \"model\": 8}, \"Metrics\": {\"validation_binary_classification_cross_entropy_objective\": {\"sum\": 0.49232543559455705, \"count\": 1, \"min\": 0.49232543559455705, \"max\": 0.49232543559455705}}}\u001b[0m\n",
      "\u001b[34m#metrics {\"StartTime\": 1654751415.0105388, \"EndTime\": 1654751415.0105577, \"Dimensions\": {\"Algorithm\": \"Linear Learner\", \"Host\": \"algo-1\", \"Operation\": \"training\", \"epoch\": 2, \"model\": 9}, \"Metrics\": {\"validation_binary_classification_cross_entropy_objective\": {\"sum\": 0.49386878627561387, \"count\": 1, \"min\": 0.49386878627561387, \"max\": 0.49386878627561387}}}\u001b[0m\n",
      "\u001b[34m#metrics {\"StartTime\": 1654751415.010609, \"EndTime\": 1654751415.0106251, \"Dimensions\": {\"Algorithm\": \"Linear Learner\", \"Host\": \"algo-1\", \"Operation\": \"training\", \"epoch\": 2, \"model\": 10}, \"Metrics\": {\"validation_binary_classification_cross_entropy_objective\": {\"sum\": 0.49232516653967373, \"count\": 1, \"min\": 0.49232516653967373, \"max\": 0.49232516653967373}}}\u001b[0m\n",
      "\u001b[34m#metrics {\"StartTime\": 1654751415.0106854, \"EndTime\": 1654751415.0107028, \"Dimensions\": {\"Algorithm\": \"Linear Learner\", \"Host\": \"algo-1\", \"Operation\": \"training\", \"epoch\": 2, \"model\": 11}, \"Metrics\": {\"validation_binary_classification_cross_entropy_objective\": {\"sum\": 0.49386885437896505, \"count\": 1, \"min\": 0.49386885437896505, \"max\": 0.49386885437896505}}}\u001b[0m\n",
      "\u001b[34m#metrics {\"StartTime\": 1654751415.010756, \"EndTime\": 1654751415.0107718, \"Dimensions\": {\"Algorithm\": \"Linear Learner\", \"Host\": \"algo-1\", \"Operation\": \"training\", \"epoch\": 2, \"model\": 12}, \"Metrics\": {\"validation_binary_classification_cross_entropy_objective\": {\"sum\": 0.4929556690441575, \"count\": 1, \"min\": 0.4929556690441575, \"max\": 0.4929556690441575}}}\u001b[0m\n",
      "\u001b[34m#metrics {\"StartTime\": 1654751415.0108042, \"EndTime\": 1654751415.0108128, \"Dimensions\": {\"Algorithm\": \"Linear Learner\", \"Host\": \"algo-1\", \"Operation\": \"training\", \"epoch\": 2, \"model\": 13}, \"Metrics\": {\"validation_binary_classification_cross_entropy_objective\": {\"sum\": 0.508111775978608, \"count\": 1, \"min\": 0.508111775978608, \"max\": 0.508111775978608}}}\u001b[0m\n",
      "\u001b[34m#metrics {\"StartTime\": 1654751415.010839, \"EndTime\": 1654751415.0108464, \"Dimensions\": {\"Algorithm\": \"Linear Learner\", \"Host\": \"algo-1\", \"Operation\": \"training\", \"epoch\": 2, \"model\": 14}, \"Metrics\": {\"validation_binary_classification_cross_entropy_objective\": {\"sum\": 0.49295570524155513, \"count\": 1, \"min\": 0.49295570524155513, \"max\": 0.49295570524155513}}}\u001b[0m\n",
      "\u001b[34m#metrics {\"StartTime\": 1654751415.0108945, \"EndTime\": 1654751415.0109096, \"Dimensions\": {\"Algorithm\": \"Linear Learner\", \"Host\": \"algo-1\", \"Operation\": \"training\", \"epoch\": 2, \"model\": 15}, \"Metrics\": {\"validation_binary_classification_cross_entropy_objective\": {\"sum\": 0.5081117946370605, \"count\": 1, \"min\": 0.5081117946370605, \"max\": 0.5081117946370605}}}\u001b[0m\n",
      "\u001b[34m#metrics {\"StartTime\": 1654751415.0109603, \"EndTime\": 1654751415.0109746, \"Dimensions\": {\"Algorithm\": \"Linear Learner\", \"Host\": \"algo-1\", \"Operation\": \"training\", \"epoch\": 2, \"model\": 16}, \"Metrics\": {\"validation_binary_classification_cross_entropy_objective\": {\"sum\": 0.5077449341988332, \"count\": 1, \"min\": 0.5077449341988332, \"max\": 0.5077449341988332}}}\u001b[0m\n",
      "\u001b[34m#metrics {\"StartTime\": 1654751415.0110214, \"EndTime\": 1654751415.011037, \"Dimensions\": {\"Algorithm\": \"Linear Learner\", \"Host\": \"algo-1\", \"Operation\": \"training\", \"epoch\": 2, \"model\": 17}, \"Metrics\": {\"validation_binary_classification_cross_entropy_objective\": {\"sum\": 0.5086076314407664, \"count\": 1, \"min\": 0.5086076314407664, \"max\": 0.5086076314407664}}}\u001b[0m\n",
      "\u001b[34m#metrics {\"StartTime\": 1654751415.011068, \"EndTime\": 1654751415.0110767, \"Dimensions\": {\"Algorithm\": \"Linear Learner\", \"Host\": \"algo-1\", \"Operation\": \"training\", \"epoch\": 2, \"model\": 18}, \"Metrics\": {\"validation_binary_classification_cross_entropy_objective\": {\"sum\": 0.5077455823934688, \"count\": 1, \"min\": 0.5077455823934688, \"max\": 0.5077455823934688}}}\u001b[0m\n",
      "\u001b[34m#metrics {\"StartTime\": 1654751415.0111024, \"EndTime\": 1654751415.0111096, \"Dimensions\": {\"Algorithm\": \"Linear Learner\", \"Host\": \"algo-1\", \"Operation\": \"training\", \"epoch\": 2, \"model\": 19}, \"Metrics\": {\"validation_binary_classification_cross_entropy_objective\": {\"sum\": 0.5086078766128307, \"count\": 1, \"min\": 0.5086078766128307, \"max\": 0.5086078766128307}}}\u001b[0m\n",
      "\u001b[34m#metrics {\"StartTime\": 1654751415.0111346, \"EndTime\": 1654751415.0111418, \"Dimensions\": {\"Algorithm\": \"Linear Learner\", \"Host\": \"algo-1\", \"Operation\": \"training\", \"epoch\": 2, \"model\": 20}, \"Metrics\": {\"validation_binary_classification_cross_entropy_objective\": {\"sum\": 0.508348940954602, \"count\": 1, \"min\": 0.508348940954602, \"max\": 0.508348940954602}}}\u001b[0m\n",
      "\u001b[34m#metrics {\"StartTime\": 1654751415.0111666, \"EndTime\": 1654751415.0111737, \"Dimensions\": {\"Algorithm\": \"Linear Learner\", \"Host\": \"algo-1\", \"Operation\": \"training\", \"epoch\": 2, \"model\": 21}, \"Metrics\": {\"validation_binary_classification_cross_entropy_objective\": {\"sum\": 0.5098296087514793, \"count\": 1, \"min\": 0.5098296087514793, \"max\": 0.5098296087514793}}}\u001b[0m\n",
      "\u001b[34m#metrics {\"StartTime\": 1654751415.0111985, \"EndTime\": 1654751415.0112057, \"Dimensions\": {\"Algorithm\": \"Linear Learner\", \"Host\": \"algo-1\", \"Operation\": \"training\", \"epoch\": 2, \"model\": 22}, \"Metrics\": {\"validation_binary_classification_cross_entropy_objective\": {\"sum\": 0.5083489090486485, \"count\": 1, \"min\": 0.5083489090486485, \"max\": 0.5083489090486485}}}\u001b[0m\n",
      "\u001b[34m#metrics {\"StartTime\": 1654751415.0112448, \"EndTime\": 1654751415.011259, \"Dimensions\": {\"Algorithm\": \"Linear Learner\", \"Host\": \"algo-1\", \"Operation\": \"training\", \"epoch\": 2, \"model\": 23}, \"Metrics\": {\"validation_binary_classification_cross_entropy_objective\": {\"sum\": 0.5098296098709865, \"count\": 1, \"min\": 0.5098296098709865, \"max\": 0.5098296098709865}}}\u001b[0m\n",
      "\u001b[34m#metrics {\"StartTime\": 1654751415.0113096, \"EndTime\": 1654751415.0113237, \"Dimensions\": {\"Algorithm\": \"Linear Learner\", \"Host\": \"algo-1\", \"Operation\": \"training\", \"epoch\": 2, \"model\": 24}, \"Metrics\": {\"validation_binary_classification_cross_entropy_objective\": {\"sum\": 0.5137644548821784, \"count\": 1, \"min\": 0.5137644548821784, \"max\": 0.5137644548821784}}}\u001b[0m\n",
      "\u001b[34m#metrics {\"StartTime\": 1654751415.0113637, \"EndTime\": 1654751415.011379, \"Dimensions\": {\"Algorithm\": \"Linear Learner\", \"Host\": \"algo-1\", \"Operation\": \"training\", \"epoch\": 2, \"model\": 25}, \"Metrics\": {\"validation_binary_classification_cross_entropy_objective\": {\"sum\": 0.5145244735411681, \"count\": 1, \"min\": 0.5145244735411681, \"max\": 0.5145244735411681}}}\u001b[0m\n",
      "\u001b[34m#metrics {\"StartTime\": 1654751415.011431, \"EndTime\": 1654751415.0114732, \"Dimensions\": {\"Algorithm\": \"Linear Learner\", \"Host\": \"algo-1\", \"Operation\": \"training\", \"epoch\": 2, \"model\": 26}, \"Metrics\": {\"validation_binary_classification_cross_entropy_objective\": {\"sum\": 0.5137632071914678, \"count\": 1, \"min\": 0.5137632071914678, \"max\": 0.5137632071914678}}}\u001b[0m\n",
      "\u001b[34m#metrics {\"StartTime\": 1654751415.011529, \"EndTime\": 1654751415.0115454, \"Dimensions\": {\"Algorithm\": \"Linear Learner\", \"Host\": \"algo-1\", \"Operation\": \"training\", \"epoch\": 2, \"model\": 27}, \"Metrics\": {\"validation_binary_classification_cross_entropy_objective\": {\"sum\": 0.5145150512093017, \"count\": 1, \"min\": 0.5145150512093017, \"max\": 0.5145150512093017}}}\u001b[0m\n",
      "\u001b[34m#metrics {\"StartTime\": 1654751415.0115774, \"EndTime\": 1654751415.0115857, \"Dimensions\": {\"Algorithm\": \"Linear Learner\", \"Host\": \"algo-1\", \"Operation\": \"training\", \"epoch\": 2, \"model\": 28}, \"Metrics\": {\"validation_binary_classification_cross_entropy_objective\": {\"sum\": 0.5139834463389716, \"count\": 1, \"min\": 0.5139834463389716, \"max\": 0.5139834463389716}}}\u001b[0m\n",
      "\u001b[34m#metrics {\"StartTime\": 1654751415.011612, \"EndTime\": 1654751415.0116193, \"Dimensions\": {\"Algorithm\": \"Linear Learner\", \"Host\": \"algo-1\", \"Operation\": \"training\", \"epoch\": 2, \"model\": 29}, \"Metrics\": {\"validation_binary_classification_cross_entropy_objective\": {\"sum\": 0.5138635012241974, \"count\": 1, \"min\": 0.5138635012241974, \"max\": 0.5138635012241974}}}\u001b[0m\n",
      "\u001b[34m#metrics {\"StartTime\": 1654751415.0116444, \"EndTime\": 1654751415.0116518, \"Dimensions\": {\"Algorithm\": \"Linear Learner\", \"Host\": \"algo-1\", \"Operation\": \"training\", \"epoch\": 2, \"model\": 30}, \"Metrics\": {\"validation_binary_classification_cross_entropy_objective\": {\"sum\": 0.5139937943166605, \"count\": 1, \"min\": 0.5139937943166605, \"max\": 0.5139937943166605}}}\u001b[0m\n",
      "\u001b[34m#metrics {\"StartTime\": 1654751415.011677, \"EndTime\": 1654751415.0116844, \"Dimensions\": {\"Algorithm\": \"Linear Learner\", \"Host\": \"algo-1\", \"Operation\": \"training\", \"epoch\": 2, \"model\": 31}, \"Metrics\": {\"validation_binary_classification_cross_entropy_objective\": {\"sum\": 0.5138635165241284, \"count\": 1, \"min\": 0.5138635165241284, \"max\": 0.5138635165241284}}}\u001b[0m\n",
      "\u001b[34m[06/09/2022 05:10:15 INFO 139715043796800] #quality_metric: host=algo-1, epoch=2, validation binary_classification_cross_entropy_objective <loss>=0.49211420717346027\u001b[0m\n",
      "\u001b[34m[06/09/2022 05:10:15 INFO 139715043796800] #early_stopping_criteria_metric: host=algo-1, epoch=2, criteria=binary_classification_cross_entropy_objective, value=0.49211420717346027\u001b[0m\n",
      "\u001b[34m[06/09/2022 05:10:15 INFO 139715043796800] Saving model for epoch: 2\u001b[0m\n",
      "\u001b[34m[06/09/2022 05:10:15 INFO 139715043796800] Saved checkpoint to \"/tmp/tmpy_dof7ze/mx-mod-0000.params\"\u001b[0m\n",
      "\u001b[34m[06/09/2022 05:10:15 INFO 139715043796800] #progress_metric: host=algo-1, completed 20.0 % of epochs\u001b[0m\n",
      "\u001b[34m#metrics {\"StartTime\": 1654751348.837705, \"EndTime\": 1654751415.019621, \"Dimensions\": {\"Algorithm\": \"Linear Learner\", \"Host\": \"algo-1\", \"Operation\": \"training\", \"epoch\": 2, \"Meta\": \"training_data_iter\"}, \"Metrics\": {\"Total Records Seen\": {\"sum\": 3937416.0, \"count\": 1, \"min\": 3937416, \"max\": 3937416}, \"Total Batches Seen\": {\"sum\": 3939.0, \"count\": 1, \"min\": 3939, \"max\": 3939}, \"Max Records Seen Between Resets\": {\"sum\": 1308472.0, \"count\": 1, \"min\": 1308472, \"max\": 1308472}, \"Max Batches Seen Between Resets\": {\"sum\": 1309.0, \"count\": 1, \"min\": 1309, \"max\": 1309}, \"Reset Count\": {\"sum\": 5.0, \"count\": 1, \"min\": 5, \"max\": 5}, \"Number of Records Since Last Reset\": {\"sum\": 1308472.0, \"count\": 1, \"min\": 1308472, \"max\": 1308472}, \"Number of Batches Since Last Reset\": {\"sum\": 1309.0, \"count\": 1, \"min\": 1309, \"max\": 1309}}}\u001b[0m\n",
      "\u001b[34m[06/09/2022 05:10:15 INFO 139715043796800] #throughput_metric: host=algo-1, train throughput=19770.793612286387 records/second\u001b[0m\n",
      "\u001b[34m[2022-06-09 05:11:15.711] [tensorio] [info] epoch_stats={\"data_pipeline\": \"/opt/ml/input/data/train\", \"epoch\": 9, \"duration\": 60678, \"num_examples\": 1309, \"num_bytes\": 549558240}\u001b[0m\n",
      "\u001b[34m#metrics {\"StartTime\": 1654751475.7117393, \"EndTime\": 1654751475.7118485, \"Dimensions\": {\"Algorithm\": \"Linear Learner\", \"Host\": \"algo-1\", \"Operation\": \"training\", \"epoch\": 3, \"model\": 0}, \"Metrics\": {\"train_binary_classification_cross_entropy_objective\": {\"sum\": 0.49194761235415024, \"count\": 1, \"min\": 0.49194761235415024, \"max\": 0.49194761235415024}}}\u001b[0m\n",
      "\u001b[34m#metrics {\"StartTime\": 1654751475.7119734, \"EndTime\": 1654751475.7119975, \"Dimensions\": {\"Algorithm\": \"Linear Learner\", \"Host\": \"algo-1\", \"Operation\": \"training\", \"epoch\": 3, \"model\": 1}, \"Metrics\": {\"train_binary_classification_cross_entropy_objective\": {\"sum\": 0.49289912678196524, \"count\": 1, \"min\": 0.49289912678196524, \"max\": 0.49289912678196524}}}\u001b[0m\n",
      "\u001b[34m#metrics {\"StartTime\": 1654751475.712062, \"EndTime\": 1654751475.7120821, \"Dimensions\": {\"Algorithm\": \"Linear Learner\", \"Host\": \"algo-1\", \"Operation\": \"training\", \"epoch\": 3, \"model\": 2}, \"Metrics\": {\"train_binary_classification_cross_entropy_objective\": {\"sum\": 0.49196998134228065, \"count\": 1, \"min\": 0.49196998134228065, \"max\": 0.49196998134228065}}}\u001b[0m\n",
      "\u001b[34m#metrics {\"StartTime\": 1654751475.7121437, \"EndTime\": 1654751475.7121613, \"Dimensions\": {\"Algorithm\": \"Linear Learner\", \"Host\": \"algo-1\", \"Operation\": \"training\", \"epoch\": 3, \"model\": 3}, \"Metrics\": {\"train_binary_classification_cross_entropy_objective\": {\"sum\": 0.4928987652839871, \"count\": 1, \"min\": 0.4928987652839871, \"max\": 0.4928987652839871}}}\u001b[0m\n",
      "\u001b[34m#metrics {\"StartTime\": 1654751475.7122183, \"EndTime\": 1654751475.7122357, \"Dimensions\": {\"Algorithm\": \"Linear Learner\", \"Host\": \"algo-1\", \"Operation\": \"training\", \"epoch\": 3, \"model\": 4}, \"Metrics\": {\"train_binary_classification_cross_entropy_objective\": {\"sum\": 0.4922538257330565, \"count\": 1, \"min\": 0.4922538257330565, \"max\": 0.4922538257330565}}}\u001b[0m\n",
      "\u001b[34m#metrics {\"StartTime\": 1654751475.7122934, \"EndTime\": 1654751475.7123115, \"Dimensions\": {\"Algorithm\": \"Linear Learner\", \"Host\": \"algo-1\", \"Operation\": \"training\", \"epoch\": 3, \"model\": 5}, \"Metrics\": {\"train_binary_classification_cross_entropy_objective\": {\"sum\": 0.5091083996740685, \"count\": 1, \"min\": 0.5091083996740685, \"max\": 0.5091083996740685}}}\u001b[0m\n",
      "\u001b[34m#metrics {\"StartTime\": 1654751475.7123675, \"EndTime\": 1654751475.7123961, \"Dimensions\": {\"Algorithm\": \"Linear Learner\", \"Host\": \"algo-1\", \"Operation\": \"training\", \"epoch\": 3, \"model\": 6}, \"Metrics\": {\"train_binary_classification_cross_entropy_objective\": {\"sum\": 0.49225382540641577, \"count\": 1, \"min\": 0.49225382540641577, \"max\": 0.49225382540641577}}}\u001b[0m\n",
      "\u001b[34m#metrics {\"StartTime\": 1654751475.7124505, \"EndTime\": 1654751475.7124684, \"Dimensions\": {\"Algorithm\": \"Linear Learner\", \"Host\": \"algo-1\", \"Operation\": \"training\", \"epoch\": 3, \"model\": 7}, \"Metrics\": {\"train_binary_classification_cross_entropy_objective\": {\"sum\": 0.5091083725395552, \"count\": 1, \"min\": 0.5091083725395552, \"max\": 0.5091083725395552}}}\u001b[0m\n",
      "\u001b[34m#metrics {\"StartTime\": 1654751475.7125194, \"EndTime\": 1654751475.7125375, \"Dimensions\": {\"Algorithm\": \"Linear Learner\", \"Host\": \"algo-1\", \"Operation\": \"training\", \"epoch\": 3, \"model\": 8}, \"Metrics\": {\"train_binary_classification_cross_entropy_objective\": {\"sum\": 0.4921450520320041, \"count\": 1, \"min\": 0.4921450520320041, \"max\": 0.4921450520320041}}}\u001b[0m\n",
      "\u001b[34m#metrics {\"StartTime\": 1654751475.7125952, \"EndTime\": 1654751475.7126122, \"Dimensions\": {\"Algorithm\": \"Linear Learner\", \"Host\": \"algo-1\", \"Operation\": \"training\", \"epoch\": 3, \"model\": 9}, \"Metrics\": {\"train_binary_classification_cross_entropy_objective\": {\"sum\": 0.49306183043313684, \"count\": 1, \"min\": 0.49306183043313684, \"max\": 0.49306183043313684}}}\u001b[0m\n",
      "\u001b[34m#metrics {\"StartTime\": 1654751475.7126722, \"EndTime\": 1654751475.7126954, \"Dimensions\": {\"Algorithm\": \"Linear Learner\", \"Host\": \"algo-1\", \"Operation\": \"training\", \"epoch\": 3, \"model\": 10}, \"Metrics\": {\"train_binary_classification_cross_entropy_objective\": {\"sum\": 0.4921604596992516, \"count\": 1, \"min\": 0.4921604596992516, \"max\": 0.4921604596992516}}}\u001b[0m\n",
      "\u001b[34m#metrics {\"StartTime\": 1654751475.7127562, \"EndTime\": 1654751475.7127707, \"Dimensions\": {\"Algorithm\": \"Linear Learner\", \"Host\": \"algo-1\", \"Operation\": \"training\", \"epoch\": 3, \"model\": 11}, \"Metrics\": {\"train_binary_classification_cross_entropy_objective\": {\"sum\": 0.49306183505277024, \"count\": 1, \"min\": 0.49306183505277024, \"max\": 0.49306183505277024}}}\u001b[0m\n",
      "\u001b[34m#metrics {\"StartTime\": 1654751475.7128253, \"EndTime\": 1654751475.7128444, \"Dimensions\": {\"Algorithm\": \"Linear Learner\", \"Host\": \"algo-1\", \"Operation\": \"training\", \"epoch\": 3, \"model\": 12}, \"Metrics\": {\"train_binary_classification_cross_entropy_objective\": {\"sum\": 0.492452689751208, \"count\": 1, \"min\": 0.492452689751208, \"max\": 0.492452689751208}}}\u001b[0m\n",
      "\u001b[34m#metrics {\"StartTime\": 1654751475.7128985, \"EndTime\": 1654751475.7129154, \"Dimensions\": {\"Algorithm\": \"Linear Learner\", \"Host\": \"algo-1\", \"Operation\": \"training\", \"epoch\": 3, \"model\": 13}, \"Metrics\": {\"train_binary_classification_cross_entropy_objective\": {\"sum\": 0.5081883711508655, \"count\": 1, \"min\": 0.5081883711508655, \"max\": 0.5081883711508655}}}\u001b[0m\n",
      "\u001b[34m#metrics {\"StartTime\": 1654751475.7129683, \"EndTime\": 1654751475.7129846, \"Dimensions\": {\"Algorithm\": \"Linear Learner\", \"Host\": \"algo-1\", \"Operation\": \"training\", \"epoch\": 3, \"model\": 14}, \"Metrics\": {\"train_binary_classification_cross_entropy_objective\": {\"sum\": 0.4924526918043784, \"count\": 1, \"min\": 0.4924526918043784, \"max\": 0.4924526918043784}}}\u001b[0m\n",
      "\u001b[34m#metrics {\"StartTime\": 1654751475.7130573, \"EndTime\": 1654751475.713076, \"Dimensions\": {\"Algorithm\": \"Linear Learner\", \"Host\": \"algo-1\", \"Operation\": \"training\", \"epoch\": 3, \"model\": 15}, \"Metrics\": {\"train_binary_classification_cross_entropy_objective\": {\"sum\": 0.5081883648047024, \"count\": 1, \"min\": 0.5081883648047024, \"max\": 0.5081883648047024}}}\u001b[0m\n",
      "\u001b[34m#metrics {\"StartTime\": 1654751475.7131367, \"EndTime\": 1654751475.7131543, \"Dimensions\": {\"Algorithm\": \"Linear Learner\", \"Host\": \"algo-1\", \"Operation\": \"training\", \"epoch\": 3, \"model\": 16}, \"Metrics\": {\"train_binary_classification_cross_entropy_objective\": {\"sum\": 0.5077504395884476, \"count\": 1, \"min\": 0.5077504395884476, \"max\": 0.5077504395884476}}}\u001b[0m\n",
      "\u001b[34m#metrics {\"StartTime\": 1654751475.71322, \"EndTime\": 1654751475.7132387, \"Dimensions\": {\"Algorithm\": \"Linear Learner\", \"Host\": \"algo-1\", \"Operation\": \"training\", \"epoch\": 3, \"model\": 17}, \"Metrics\": {\"train_binary_classification_cross_entropy_objective\": {\"sum\": 0.5079921285646771, \"count\": 1, \"min\": 0.5079921285646771, \"max\": 0.5079921285646771}}}\u001b[0m\n",
      "\u001b[34m#metrics {\"StartTime\": 1654751475.7132947, \"EndTime\": 1654751475.713313, \"Dimensions\": {\"Algorithm\": \"Linear Learner\", \"Host\": \"algo-1\", \"Operation\": \"training\", \"epoch\": 3, \"model\": 18}, \"Metrics\": {\"train_binary_classification_cross_entropy_objective\": {\"sum\": 0.5077582276837177, \"count\": 1, \"min\": 0.5077582276837177, \"max\": 0.5077582276837177}}}\u001b[0m\n",
      "\u001b[34m#metrics {\"StartTime\": 1654751475.7133603, \"EndTime\": 1654751475.7133768, \"Dimensions\": {\"Algorithm\": \"Linear Learner\", \"Host\": \"algo-1\", \"Operation\": \"training\", \"epoch\": 3, \"model\": 19}, \"Metrics\": {\"train_binary_classification_cross_entropy_objective\": {\"sum\": 0.5079921353308068, \"count\": 1, \"min\": 0.5079921353308068, \"max\": 0.5079921353308068}}}\u001b[0m\n",
      "\u001b[34m#metrics {\"StartTime\": 1654751475.7134285, \"EndTime\": 1654751475.7134461, \"Dimensions\": {\"Algorithm\": \"Linear Learner\", \"Host\": \"algo-1\", \"Operation\": \"training\", \"epoch\": 3, \"model\": 20}, \"Metrics\": {\"train_binary_classification_cross_entropy_objective\": {\"sum\": 0.5078200335254728, \"count\": 1, \"min\": 0.5078200335254728, \"max\": 0.5078200335254728}}}\u001b[0m\n",
      "\u001b[34m#metrics {\"StartTime\": 1654751475.713506, \"EndTime\": 1654751475.713522, \"Dimensions\": {\"Algorithm\": \"Linear Learner\", \"Host\": \"algo-1\", \"Operation\": \"training\", \"epoch\": 3, \"model\": 21}, \"Metrics\": {\"train_binary_classification_cross_entropy_objective\": {\"sum\": 0.5107072332306375, \"count\": 1, \"min\": 0.5107072332306375, \"max\": 0.5107072332306375}}}\u001b[0m\n",
      "\u001b[34m#metrics {\"StartTime\": 1654751475.7135773, \"EndTime\": 1654751475.7135954, \"Dimensions\": {\"Algorithm\": \"Linear Learner\", \"Host\": \"algo-1\", \"Operation\": \"training\", \"epoch\": 3, \"model\": 22}, \"Metrics\": {\"train_binary_classification_cross_entropy_objective\": {\"sum\": 0.5078200324755561, \"count\": 1, \"min\": 0.5078200324755561, \"max\": 0.5078200324755561}}}\u001b[0m\n",
      "\u001b[34m#metrics {\"StartTime\": 1654751475.7136426, \"EndTime\": 1654751475.7136605, \"Dimensions\": {\"Algorithm\": \"Linear Learner\", \"Host\": \"algo-1\", \"Operation\": \"training\", \"epoch\": 3, \"model\": 23}, \"Metrics\": {\"train_binary_classification_cross_entropy_objective\": {\"sum\": 0.5107072377569449, \"count\": 1, \"min\": 0.5107072377569449, \"max\": 0.5107072377569449}}}\u001b[0m\n",
      "\u001b[34m#metrics {\"StartTime\": 1654751475.7137058, \"EndTime\": 1654751475.7137222, \"Dimensions\": {\"Algorithm\": \"Linear Learner\", \"Host\": \"algo-1\", \"Operation\": \"training\", \"epoch\": 3, \"model\": 24}, \"Metrics\": {\"train_binary_classification_cross_entropy_objective\": {\"sum\": 0.513768293211584, \"count\": 1, \"min\": 0.513768293211584, \"max\": 0.513768293211584}}}\u001b[0m\n",
      "\u001b[34m#metrics {\"StartTime\": 1654751475.7137773, \"EndTime\": 1654751475.7137947, \"Dimensions\": {\"Algorithm\": \"Linear Learner\", \"Host\": \"algo-1\", \"Operation\": \"training\", \"epoch\": 3, \"model\": 25}, \"Metrics\": {\"train_binary_classification_cross_entropy_objective\": {\"sum\": 0.5138695034995356, \"count\": 1, \"min\": 0.5138695034995356, \"max\": 0.5138695034995356}}}\u001b[0m\n",
      "\u001b[34m#metrics {\"StartTime\": 1654751475.7138474, \"EndTime\": 1654751475.713864, \"Dimensions\": {\"Algorithm\": \"Linear Learner\", \"Host\": \"algo-1\", \"Operation\": \"training\", \"epoch\": 3, \"model\": 26}, \"Metrics\": {\"train_binary_classification_cross_entropy_objective\": {\"sum\": 0.5137697486527469, \"count\": 1, \"min\": 0.5137697486527469, \"max\": 0.5137697486527469}}}\u001b[0m\n",
      "\u001b[34m#metrics {\"StartTime\": 1654751475.71393, \"EndTime\": 1654751475.7139485, \"Dimensions\": {\"Algorithm\": \"Linear Learner\", \"Host\": \"algo-1\", \"Operation\": \"training\", \"epoch\": 3, \"model\": 27}, \"Metrics\": {\"train_binary_classification_cross_entropy_objective\": {\"sum\": 0.513869120769909, \"count\": 1, \"min\": 0.513869120769909, \"max\": 0.513869120769909}}}\u001b[0m\n",
      "\u001b[34m#metrics {\"StartTime\": 1654751475.713998, \"EndTime\": 1654751475.7140086, \"Dimensions\": {\"Algorithm\": \"Linear Learner\", \"Host\": \"algo-1\", \"Operation\": \"training\", \"epoch\": 3, \"model\": 28}, \"Metrics\": {\"train_binary_classification_cross_entropy_objective\": {\"sum\": 0.5137887873751672, \"count\": 1, \"min\": 0.5137887873751672, \"max\": 0.5137887873751672}}}\u001b[0m\n",
      "\u001b[34m#metrics {\"StartTime\": 1654751475.714037, \"EndTime\": 1654751475.7140508, \"Dimensions\": {\"Algorithm\": \"Linear Learner\", \"Host\": \"algo-1\", \"Operation\": \"training\", \"epoch\": 3, \"model\": 29}, \"Metrics\": {\"train_binary_classification_cross_entropy_objective\": {\"sum\": 0.5148545207918966, \"count\": 1, \"min\": 0.5148545207918966, \"max\": 0.5148545207918966}}}\u001b[0m\n",
      "\u001b[34m#metrics {\"StartTime\": 1654751475.7141016, \"EndTime\": 1654751475.714117, \"Dimensions\": {\"Algorithm\": \"Linear Learner\", \"Host\": \"algo-1\", \"Operation\": \"training\", \"epoch\": 3, \"model\": 30}, \"Metrics\": {\"train_binary_classification_cross_entropy_objective\": {\"sum\": 0.5137885542936645, \"count\": 1, \"min\": 0.5137885542936645, \"max\": 0.5137885542936645}}}\u001b[0m\n",
      "\u001b[34m#metrics {\"StartTime\": 1654751475.7141702, \"EndTime\": 1654751475.7141867, \"Dimensions\": {\"Algorithm\": \"Linear Learner\", \"Host\": \"algo-1\", \"Operation\": \"training\", \"epoch\": 3, \"model\": 31}, \"Metrics\": {\"train_binary_classification_cross_entropy_objective\": {\"sum\": 0.514854540087032, \"count\": 1, \"min\": 0.514854540087032, \"max\": 0.514854540087032}}}\u001b[0m\n",
      "\u001b[34m[06/09/2022 05:11:15 INFO 139715043796800] #quality_metric: host=algo-1, epoch=3, train binary_classification_cross_entropy_objective <loss>=0.49194761235415024\u001b[0m\n",
      "\u001b[34m[2022-06-09 05:11:21.062] [tensorio] [info] epoch_stats={\"data_pipeline\": \"/opt/ml/input/data/validation\", \"epoch\": 11, \"duration\": 5316, \"num_examples\": 164, \"num_bytes\": 68694780}\u001b[0m\n",
      "\u001b[34m#metrics {\"StartTime\": 1654751481.0710642, \"EndTime\": 1654751481.0711513, \"Dimensions\": {\"Algorithm\": \"Linear Learner\", \"Host\": \"algo-1\", \"Operation\": \"training\", \"epoch\": 3, \"model\": 0}, \"Metrics\": {\"validation_binary_classification_cross_entropy_objective\": {\"sum\": 0.49211885555370116, \"count\": 1, \"min\": 0.49211885555370116, \"max\": 0.49211885555370116}}}\u001b[0m\n",
      "\u001b[34m#metrics {\"StartTime\": 1654751481.0712404, \"EndTime\": 1654751481.071314, \"Dimensions\": {\"Algorithm\": \"Linear Learner\", \"Host\": \"algo-1\", \"Operation\": \"training\", \"epoch\": 3, \"model\": 1}, \"Metrics\": {\"validation_binary_classification_cross_entropy_objective\": {\"sum\": 0.49341171856401256, \"count\": 1, \"min\": 0.49341171856401256, \"max\": 0.49341171856401256}}}\u001b[0m\n",
      "\u001b[34m#metrics {\"StartTime\": 1654751481.071412, \"EndTime\": 1654751481.0714343, \"Dimensions\": {\"Algorithm\": \"Linear Learner\", \"Host\": \"algo-1\", \"Operation\": \"training\", \"epoch\": 3, \"model\": 2}, \"Metrics\": {\"validation_binary_classification_cross_entropy_objective\": {\"sum\": 0.49212285835148983, \"count\": 1, \"min\": 0.49212285835148983, \"max\": 0.49212285835148983}}}\u001b[0m\n",
      "\u001b[34m#metrics {\"StartTime\": 1654751481.0715353, \"EndTime\": 1654751481.0715566, \"Dimensions\": {\"Algorithm\": \"Linear Learner\", \"Host\": \"algo-1\", \"Operation\": \"training\", \"epoch\": 3, \"model\": 3}, \"Metrics\": {\"validation_binary_classification_cross_entropy_objective\": {\"sum\": 0.4934109778234531, \"count\": 1, \"min\": 0.4934109778234531, \"max\": 0.4934109778234531}}}\u001b[0m\n",
      "\u001b[34m#metrics {\"StartTime\": 1654751481.0716136, \"EndTime\": 1654751481.0716317, \"Dimensions\": {\"Algorithm\": \"Linear Learner\", \"Host\": \"algo-1\", \"Operation\": \"training\", \"epoch\": 3, \"model\": 4}, \"Metrics\": {\"validation_binary_classification_cross_entropy_objective\": {\"sum\": 0.49215666634769173, \"count\": 1, \"min\": 0.49215666634769173, \"max\": 0.49215666634769173}}}\u001b[0m\n",
      "\u001b[34m#metrics {\"StartTime\": 1654751481.0716877, \"EndTime\": 1654751481.071703, \"Dimensions\": {\"Algorithm\": \"Linear Learner\", \"Host\": \"algo-1\", \"Operation\": \"training\", \"epoch\": 3, \"model\": 5}, \"Metrics\": {\"validation_binary_classification_cross_entropy_objective\": {\"sum\": 0.5079659693159153, \"count\": 1, \"min\": 0.5079659693159153, \"max\": 0.5079659693159153}}}\u001b[0m\n",
      "\u001b[34m#metrics {\"StartTime\": 1654751481.0717583, \"EndTime\": 1654751481.0717747, \"Dimensions\": {\"Algorithm\": \"Linear Learner\", \"Host\": \"algo-1\", \"Operation\": \"training\", \"epoch\": 3, \"model\": 6}, \"Metrics\": {\"validation_binary_classification_cross_entropy_objective\": {\"sum\": 0.4921566641086774, \"count\": 1, \"min\": 0.4921566641086774, \"max\": 0.4921566641086774}}}\u001b[0m\n",
      "\u001b[34m#metrics {\"StartTime\": 1654751481.071829, \"EndTime\": 1654751481.0718446, \"Dimensions\": {\"Algorithm\": \"Linear Learner\", \"Host\": \"algo-1\", \"Operation\": \"training\", \"epoch\": 3, \"model\": 7}, \"Metrics\": {\"validation_binary_classification_cross_entropy_objective\": {\"sum\": 0.5079659816304939, \"count\": 1, \"min\": 0.5079659816304939, \"max\": 0.5079659816304939}}}\u001b[0m\n",
      "\u001b[34m#metrics {\"StartTime\": 1654751481.0718985, \"EndTime\": 1654751481.0719144, \"Dimensions\": {\"Algorithm\": \"Linear Learner\", \"Host\": \"algo-1\", \"Operation\": \"training\", \"epoch\": 3, \"model\": 8}, \"Metrics\": {\"validation_binary_classification_cross_entropy_objective\": {\"sum\": 0.49232948205312427, \"count\": 1, \"min\": 0.49232948205312427, \"max\": 0.49232948205312427}}}\u001b[0m\n",
      "\u001b[34m#metrics {\"StartTime\": 1654751481.0719676, \"EndTime\": 1654751481.071986, \"Dimensions\": {\"Algorithm\": \"Linear Learner\", \"Host\": \"algo-1\", \"Operation\": \"training\", \"epoch\": 3, \"model\": 9}, \"Metrics\": {\"validation_binary_classification_cross_entropy_objective\": {\"sum\": 0.493643842399343, \"count\": 1, \"min\": 0.493643842399343, \"max\": 0.493643842399343}}}\u001b[0m\n",
      "\u001b[34m#metrics {\"StartTime\": 1654751481.0720398, \"EndTime\": 1654751481.0720553, \"Dimensions\": {\"Algorithm\": \"Linear Learner\", \"Host\": \"algo-1\", \"Operation\": \"training\", \"epoch\": 3, \"model\": 10}, \"Metrics\": {\"validation_binary_classification_cross_entropy_objective\": {\"sum\": 0.492324419268656, \"count\": 1, \"min\": 0.492324419268656, \"max\": 0.492324419268656}}}\u001b[0m\n",
      "\u001b[34m#metrics {\"StartTime\": 1654751481.0721078, \"EndTime\": 1654751481.0721254, \"Dimensions\": {\"Algorithm\": \"Linear Learner\", \"Host\": \"algo-1\", \"Operation\": \"training\", \"epoch\": 3, \"model\": 11}, \"Metrics\": {\"validation_binary_classification_cross_entropy_objective\": {\"sum\": 0.4936438610577954, \"count\": 1, \"min\": 0.4936438610577954, \"max\": 0.4936438610577954}}}\u001b[0m\n",
      "\u001b[34m#metrics {\"StartTime\": 1654751481.0721774, \"EndTime\": 1654751481.0721958, \"Dimensions\": {\"Algorithm\": \"Linear Learner\", \"Host\": \"algo-1\", \"Operation\": \"training\", \"epoch\": 3, \"model\": 12}, \"Metrics\": {\"validation_binary_classification_cross_entropy_objective\": {\"sum\": 0.49239749528397914, \"count\": 1, \"min\": 0.49239749528397914, \"max\": 0.49239749528397914}}}\u001b[0m\n",
      "\u001b[34m#metrics {\"StartTime\": 1654751481.0722494, \"EndTime\": 1654751481.0722668, \"Dimensions\": {\"Algorithm\": \"Linear Learner\", \"Host\": \"algo-1\", \"Operation\": \"training\", \"epoch\": 3, \"model\": 13}, \"Metrics\": {\"validation_binary_classification_cross_entropy_objective\": {\"sum\": 0.5070744005445259, \"count\": 1, \"min\": 0.5070744005445259, \"max\": 0.5070744005445259}}}\u001b[0m\n",
      "\u001b[34m#metrics {\"StartTime\": 1654751481.0723197, \"EndTime\": 1654751481.0723374, \"Dimensions\": {\"Algorithm\": \"Linear Learner\", \"Host\": \"algo-1\", \"Operation\": \"training\", \"epoch\": 3, \"model\": 14}, \"Metrics\": {\"validation_binary_classification_cross_entropy_objective\": {\"sum\": 0.4923974964034863, \"count\": 1, \"min\": 0.4923974964034863, \"max\": 0.4923974964034863}}}\u001b[0m\n",
      "\u001b[34m#metrics {\"StartTime\": 1654751481.0723896, \"EndTime\": 1654751481.0724065, \"Dimensions\": {\"Algorithm\": \"Linear Learner\", \"Host\": \"algo-1\", \"Operation\": \"training\", \"epoch\": 3, \"model\": 15}, \"Metrics\": {\"validation_binary_classification_cross_entropy_objective\": {\"sum\": 0.5070744167773794, \"count\": 1, \"min\": 0.5070744167773794, \"max\": 0.5070744167773794}}}\u001b[0m\n",
      "\u001b[34m#metrics {\"StartTime\": 1654751481.0724595, \"EndTime\": 1654751481.0724766, \"Dimensions\": {\"Algorithm\": \"Linear Learner\", \"Host\": \"algo-1\", \"Operation\": \"training\", \"epoch\": 3, \"model\": 16}, \"Metrics\": {\"validation_binary_classification_cross_entropy_objective\": {\"sum\": 0.5077810300944656, \"count\": 1, \"min\": 0.5077810300944656, \"max\": 0.5077810300944656}}}\u001b[0m\n",
      "\u001b[34m#metrics {\"StartTime\": 1654751481.0725322, \"EndTime\": 1654751481.07255, \"Dimensions\": {\"Algorithm\": \"Linear Learner\", \"Host\": \"algo-1\", \"Operation\": \"training\", \"epoch\": 3, \"model\": 17}, \"Metrics\": {\"validation_binary_classification_cross_entropy_objective\": {\"sum\": 0.508583979613363, \"count\": 1, \"min\": 0.508583979613363, \"max\": 0.508583979613363}}}\u001b[0m\n",
      "\u001b[34m#metrics {\"StartTime\": 1654751481.0726032, \"EndTime\": 1654751481.072621, \"Dimensions\": {\"Algorithm\": \"Linear Learner\", \"Host\": \"algo-1\", \"Operation\": \"training\", \"epoch\": 3, \"model\": 18}, \"Metrics\": {\"validation_binary_classification_cross_entropy_objective\": {\"sum\": 0.5077483710857612, \"count\": 1, \"min\": 0.5077483710857612, \"max\": 0.5077483710857612}}}\u001b[0m\n",
      "\u001b[34m#metrics {\"StartTime\": 1654751481.0726738, \"EndTime\": 1654751481.072693, \"Dimensions\": {\"Algorithm\": \"Linear Learner\", \"Host\": \"algo-1\", \"Operation\": \"training\", \"epoch\": 3, \"model\": 19}, \"Metrics\": {\"validation_binary_classification_cross_entropy_objective\": {\"sum\": 0.5085840514484046, \"count\": 1, \"min\": 0.5085840514484046, \"max\": 0.5085840514484046}}}\u001b[0m\n",
      "\u001b[34m#metrics {\"StartTime\": 1654751481.0727532, \"EndTime\": 1654751481.072771, \"Dimensions\": {\"Algorithm\": \"Linear Learner\", \"Host\": \"algo-1\", \"Operation\": \"training\", \"epoch\": 3, \"model\": 20}, \"Metrics\": {\"validation_binary_classification_cross_entropy_objective\": {\"sum\": 0.5078537357395091, \"count\": 1, \"min\": 0.5078537357395091, \"max\": 0.5078537357395091}}}\u001b[0m\n",
      "\u001b[34m#metrics {\"StartTime\": 1654751481.0728216, \"EndTime\": 1654751481.0728362, \"Dimensions\": {\"Algorithm\": \"Linear Learner\", \"Host\": \"algo-1\", \"Operation\": \"training\", \"epoch\": 3, \"model\": 21}, \"Metrics\": {\"validation_binary_classification_cross_entropy_objective\": {\"sum\": 0.5104586111163919, \"count\": 1, \"min\": 0.5104586111163919, \"max\": 0.5104586111163919}}}\u001b[0m\n",
      "\u001b[34m#metrics {\"StartTime\": 1654751481.072887, \"EndTime\": 1654751481.0729053, \"Dimensions\": {\"Algorithm\": \"Linear Learner\", \"Host\": \"algo-1\", \"Operation\": \"training\", \"epoch\": 3, \"model\": 22}, \"Metrics\": {\"validation_binary_classification_cross_entropy_objective\": {\"sum\": 0.5078537219322543, \"count\": 1, \"min\": 0.5078537219322543, \"max\": 0.5078537219322543}}}\u001b[0m\n",
      "\u001b[34m#metrics {\"StartTime\": 1654751481.0729682, \"EndTime\": 1654751481.0729837, \"Dimensions\": {\"Algorithm\": \"Linear Learner\", \"Host\": \"algo-1\", \"Operation\": \"training\", \"epoch\": 3, \"model\": 23}, \"Metrics\": {\"validation_binary_classification_cross_entropy_objective\": {\"sum\": 0.5104586094371312, \"count\": 1, \"min\": 0.5104586094371312, \"max\": 0.5104586094371312}}}\u001b[0m\n",
      "\u001b[34m#metrics {\"StartTime\": 1654751481.0730357, \"EndTime\": 1654751481.073052, \"Dimensions\": {\"Algorithm\": \"Linear Learner\", \"Host\": \"algo-1\", \"Operation\": \"training\", \"epoch\": 3, \"model\": 24}, \"Metrics\": {\"validation_binary_classification_cross_entropy_objective\": {\"sum\": 0.5137631194967417, \"count\": 1, \"min\": 0.5137631194967417, \"max\": 0.5137631194967417}}}\u001b[0m\n",
      "\u001b[34m#metrics {\"StartTime\": 1654751481.0731068, \"EndTime\": 1654751481.0731237, \"Dimensions\": {\"Algorithm\": \"Linear Learner\", \"Host\": \"algo-1\", \"Operation\": \"training\", \"epoch\": 3, \"model\": 25}, \"Metrics\": {\"validation_binary_classification_cross_entropy_objective\": {\"sum\": 0.5144677035205473, \"count\": 1, \"min\": 0.5144677035205473, \"max\": 0.5144677035205473}}}\u001b[0m\n",
      "\u001b[34m#metrics {\"StartTime\": 1654751481.0731847, \"EndTime\": 1654751481.073204, \"Dimensions\": {\"Algorithm\": \"Linear Learner\", \"Host\": \"algo-1\", \"Operation\": \"training\", \"epoch\": 3, \"model\": 26}, \"Metrics\": {\"validation_binary_classification_cross_entropy_objective\": {\"sum\": 0.5137620938416145, \"count\": 1, \"min\": 0.5137620938416145, \"max\": 0.5137620938416145}}}\u001b[0m\n",
      "\u001b[34m#metrics {\"StartTime\": 1654751481.0732625, \"EndTime\": 1654751481.0732784, \"Dimensions\": {\"Algorithm\": \"Linear Learner\", \"Host\": \"algo-1\", \"Operation\": \"training\", \"epoch\": 3, \"model\": 27}, \"Metrics\": {\"validation_binary_classification_cross_entropy_objective\": {\"sum\": 0.5144325564072182, \"count\": 1, \"min\": 0.5144325564072182, \"max\": 0.5144325564072182}}}\u001b[0m\n",
      "\u001b[34m#metrics {\"StartTime\": 1654751481.0733292, \"EndTime\": 1654751481.073343, \"Dimensions\": {\"Algorithm\": \"Linear Learner\", \"Host\": \"algo-1\", \"Operation\": \"training\", \"epoch\": 3, \"model\": 28}, \"Metrics\": {\"validation_binary_classification_cross_entropy_objective\": {\"sum\": 0.513765824039414, \"count\": 1, \"min\": 0.513765824039414, \"max\": 0.513765824039414}}}\u001b[0m\n",
      "\u001b[34m#metrics {\"StartTime\": 1654751481.0733876, \"EndTime\": 1654751481.073401, \"Dimensions\": {\"Algorithm\": \"Linear Learner\", \"Host\": \"algo-1\", \"Operation\": \"training\", \"epoch\": 3, \"model\": 29}, \"Metrics\": {\"validation_binary_classification_cross_entropy_objective\": {\"sum\": 0.5136422186960368, \"count\": 1, \"min\": 0.5136422186960368, \"max\": 0.5136422186960368}}}\u001b[0m\n",
      "\u001b[34m#metrics {\"StartTime\": 1654751481.0734444, \"EndTime\": 1654751481.0734596, \"Dimensions\": {\"Algorithm\": \"Linear Learner\", \"Host\": \"algo-1\", \"Operation\": \"training\", \"epoch\": 3, \"model\": 30}, \"Metrics\": {\"validation_binary_classification_cross_entropy_objective\": {\"sum\": 0.5137657673177187, \"count\": 1, \"min\": 0.5137657673177187, \"max\": 0.5137657673177187}}}\u001b[0m\n",
      "\u001b[34m#metrics {\"StartTime\": 1654751481.0735006, \"EndTime\": 1654751481.0735154, \"Dimensions\": {\"Algorithm\": \"Linear Learner\", \"Host\": \"algo-1\", \"Operation\": \"training\", \"epoch\": 3, \"model\": 31}, \"Metrics\": {\"validation_binary_classification_cross_entropy_objective\": {\"sum\": 0.5136422231740654, \"count\": 1, \"min\": 0.5136422231740654, \"max\": 0.5136422231740654}}}\u001b[0m\n",
      "\u001b[34m[06/09/2022 05:11:21 INFO 139715043796800] #quality_metric: host=algo-1, epoch=3, validation binary_classification_cross_entropy_objective <loss>=0.49211885555370116\u001b[0m\n",
      "\u001b[34m[06/09/2022 05:11:21 INFO 139715043796800] #early_stopping_criteria_metric: host=algo-1, epoch=3, criteria=binary_classification_cross_entropy_objective, value=0.49211885555370116\u001b[0m\n",
      "\u001b[34m[06/09/2022 05:11:21 INFO 139715043796800] Saving model for epoch: 3\u001b[0m\n",
      "\u001b[34m[06/09/2022 05:11:21 INFO 139715043796800] Saved checkpoint to \"/tmp/tmplo6_fn9t/mx-mod-0000.params\"\u001b[0m\n",
      "\u001b[34m[06/09/2022 05:11:21 INFO 139715043796800] #progress_metric: host=algo-1, completed 26.666666666666668 % of epochs\u001b[0m\n",
      "\u001b[34m#metrics {\"StartTime\": 1654751415.033173, \"EndTime\": 1654751481.0828207, \"Dimensions\": {\"Algorithm\": \"Linear Learner\", \"Host\": \"algo-1\", \"Operation\": \"training\", \"epoch\": 3, \"Meta\": \"training_data_iter\"}, \"Metrics\": {\"Total Records Seen\": {\"sum\": 5245888.0, \"count\": 1, \"min\": 5245888, \"max\": 5245888}, \"Total Batches Seen\": {\"sum\": 5248.0, \"count\": 1, \"min\": 5248, \"max\": 5248}, \"Max Records Seen Between Resets\": {\"sum\": 1308472.0, \"count\": 1, \"min\": 1308472, \"max\": 1308472}, \"Max Batches Seen Between Resets\": {\"sum\": 1309.0, \"count\": 1, \"min\": 1309, \"max\": 1309}, \"Reset Count\": {\"sum\": 6.0, \"count\": 1, \"min\": 6, \"max\": 6}, \"Number of Records Since Last Reset\": {\"sum\": 1308472.0, \"count\": 1, \"min\": 1308472, \"max\": 1308472}, \"Number of Batches Since Last Reset\": {\"sum\": 1309.0, \"count\": 1, \"min\": 1309, \"max\": 1309}}}\u001b[0m\n",
      "\u001b[34m[06/09/2022 05:11:21 INFO 139715043796800] #throughput_metric: host=algo-1, train throughput=19810.376725640144 records/second\u001b[0m\n",
      "\u001b[34m[2022-06-09 05:12:21.750] [tensorio] [info] epoch_stats={\"data_pipeline\": \"/opt/ml/input/data/train\", \"epoch\": 11, \"duration\": 60663, \"num_examples\": 1309, \"num_bytes\": 549558240}\u001b[0m\n",
      "\u001b[34m#metrics {\"StartTime\": 1654751541.7507653, \"EndTime\": 1654751541.7508605, \"Dimensions\": {\"Algorithm\": \"Linear Learner\", \"Host\": \"algo-1\", \"Operation\": \"training\", \"epoch\": 4, \"model\": 0}, \"Metrics\": {\"train_binary_classification_cross_entropy_objective\": {\"sum\": 0.49192083931552527, \"count\": 1, \"min\": 0.49192083931552527, \"max\": 0.49192083931552527}}}\u001b[0m\n",
      "\u001b[34m#metrics {\"StartTime\": 1654751541.7509813, \"EndTime\": 1654751541.751003, \"Dimensions\": {\"Algorithm\": \"Linear Learner\", \"Host\": \"algo-1\", \"Operation\": \"training\", \"epoch\": 4, \"model\": 1}, \"Metrics\": {\"train_binary_classification_cross_entropy_objective\": {\"sum\": 0.49277733630725734, \"count\": 1, \"min\": 0.49277733630725734, \"max\": 0.49277733630725734}}}\u001b[0m\n",
      "\u001b[34m#metrics {\"StartTime\": 1654751541.751065, \"EndTime\": 1654751541.7510853, \"Dimensions\": {\"Algorithm\": \"Linear Learner\", \"Host\": \"algo-1\", \"Operation\": \"training\", \"epoch\": 4, \"model\": 2}, \"Metrics\": {\"train_binary_classification_cross_entropy_objective\": {\"sum\": 0.4919686951243549, \"count\": 1, \"min\": 0.4919686951243549, \"max\": 0.4919686951243549}}}\u001b[0m\n",
      "\u001b[34m#metrics {\"StartTime\": 1654751541.7511415, \"EndTime\": 1654751541.7511616, \"Dimensions\": {\"Algorithm\": \"Linear Learner\", \"Host\": \"algo-1\", \"Operation\": \"training\", \"epoch\": 4, \"model\": 3}, \"Metrics\": {\"train_binary_classification_cross_entropy_objective\": {\"sum\": 0.49277715695815716, \"count\": 1, \"min\": 0.49277715695815716, \"max\": 0.49277715695815716}}}\u001b[0m\n",
      "\u001b[34m#metrics {\"StartTime\": 1654751541.7512183, \"EndTime\": 1654751541.7512364, \"Dimensions\": {\"Algorithm\": \"Linear Learner\", \"Host\": \"algo-1\", \"Operation\": \"training\", \"epoch\": 4, \"model\": 4}, \"Metrics\": {\"train_binary_classification_cross_entropy_objective\": {\"sum\": 0.49202462143270975, \"count\": 1, \"min\": 0.49202462143270975, \"max\": 0.49202462143270975}}}\u001b[0m\n",
      "\u001b[34m#metrics {\"StartTime\": 1654751541.7512953, \"EndTime\": 1654751541.7513132, \"Dimensions\": {\"Algorithm\": \"Linear Learner\", \"Host\": \"algo-1\", \"Operation\": \"training\", \"epoch\": 4, \"model\": 5}, \"Metrics\": {\"train_binary_classification_cross_entropy_objective\": {\"sum\": 0.507124238763745, \"count\": 1, \"min\": 0.507124238763745, \"max\": 0.507124238763745}}}\u001b[0m\n",
      "\u001b[34m#metrics {\"StartTime\": 1654751541.7513676, \"EndTime\": 1654751541.7513843, \"Dimensions\": {\"Algorithm\": \"Linear Learner\", \"Host\": \"algo-1\", \"Operation\": \"training\", \"epoch\": 4, \"model\": 6}, \"Metrics\": {\"train_binary_classification_cross_entropy_objective\": {\"sum\": 0.4920246216426931, \"count\": 1, \"min\": 0.4920246216426931, \"max\": 0.4920246216426931}}}\u001b[0m\n",
      "\u001b[34m#metrics {\"StartTime\": 1654751541.7515197, \"EndTime\": 1654751541.7515388, \"Dimensions\": {\"Algorithm\": \"Linear Learner\", \"Host\": \"algo-1\", \"Operation\": \"training\", \"epoch\": 4, \"model\": 7}, \"Metrics\": {\"train_binary_classification_cross_entropy_objective\": {\"sum\": 0.5071242314609913, \"count\": 1, \"min\": 0.5071242314609913, \"max\": 0.5071242314609913}}}\u001b[0m\n",
      "\u001b[34m#metrics {\"StartTime\": 1654751541.751594, \"EndTime\": 1654751541.7516086, \"Dimensions\": {\"Algorithm\": \"Linear Learner\", \"Host\": \"algo-1\", \"Operation\": \"training\", \"epoch\": 4, \"model\": 8}, \"Metrics\": {\"train_binary_classification_cross_entropy_objective\": {\"sum\": 0.4921188546510282, \"count\": 1, \"min\": 0.4921188546510282, \"max\": 0.4921188546510282}}}\u001b[0m\n",
      "\u001b[34m#metrics {\"StartTime\": 1654751541.751662, \"EndTime\": 1654751541.7516794, \"Dimensions\": {\"Algorithm\": \"Linear Learner\", \"Host\": \"algo-1\", \"Operation\": \"training\", \"epoch\": 4, \"model\": 9}, \"Metrics\": {\"train_binary_classification_cross_entropy_objective\": {\"sum\": 0.492947212592542, \"count\": 1, \"min\": 0.492947212592542, \"max\": 0.492947212592542}}}\u001b[0m\n",
      "\u001b[34m#metrics {\"StartTime\": 1654751541.7517319, \"EndTime\": 1654751541.751748, \"Dimensions\": {\"Algorithm\": \"Linear Learner\", \"Host\": \"algo-1\", \"Operation\": \"training\", \"epoch\": 4, \"model\": 10}, \"Metrics\": {\"train_binary_classification_cross_entropy_objective\": {\"sum\": 0.49215978138308275, \"count\": 1, \"min\": 0.49215978138308275, \"max\": 0.49215978138308275}}}\u001b[0m\n",
      "\u001b[34m#metrics {\"StartTime\": 1654751541.7518027, \"EndTime\": 1654751541.751821, \"Dimensions\": {\"Algorithm\": \"Linear Learner\", \"Host\": \"algo-1\", \"Operation\": \"training\", \"epoch\": 4, \"model\": 11}, \"Metrics\": {\"train_binary_classification_cross_entropy_objective\": {\"sum\": 0.49294721378244755, \"count\": 1, \"min\": 0.49294721378244755, \"max\": 0.49294721378244755}}}\u001b[0m\n",
      "\u001b[34m#metrics {\"StartTime\": 1654751541.7518775, \"EndTime\": 1654751541.7518947, \"Dimensions\": {\"Algorithm\": \"Linear Learner\", \"Host\": \"algo-1\", \"Operation\": \"training\", \"epoch\": 4, \"model\": 12}, \"Metrics\": {\"train_binary_classification_cross_entropy_objective\": {\"sum\": 0.49223665656226856, \"count\": 1, \"min\": 0.49223665656226856, \"max\": 0.49223665656226856}}}\u001b[0m\n",
      "\u001b[34m#metrics {\"StartTime\": 1654751541.7519507, \"EndTime\": 1654751541.7519677, \"Dimensions\": {\"Algorithm\": \"Linear Learner\", \"Host\": \"algo-1\", \"Operation\": \"training\", \"epoch\": 4, \"model\": 13}, \"Metrics\": {\"train_binary_classification_cross_entropy_objective\": {\"sum\": 0.5063583795856628, \"count\": 1, \"min\": 0.5063583795856628, \"max\": 0.5063583795856628}}}\u001b[0m\n",
      "\u001b[34m#metrics {\"StartTime\": 1654751541.7520218, \"EndTime\": 1654751541.7520385, \"Dimensions\": {\"Algorithm\": \"Linear Learner\", \"Host\": \"algo-1\", \"Operation\": \"training\", \"epoch\": 4, \"model\": 14}, \"Metrics\": {\"train_binary_classification_cross_entropy_objective\": {\"sum\": 0.49223665679558337, \"count\": 1, \"min\": 0.49223665679558337, \"max\": 0.49223665679558337}}}\u001b[0m\n",
      "\u001b[34m#metrics {\"StartTime\": 1654751541.7520936, \"EndTime\": 1654751541.7521105, \"Dimensions\": {\"Algorithm\": \"Linear Learner\", \"Host\": \"algo-1\", \"Operation\": \"training\", \"epoch\": 4, \"model\": 15}, \"Metrics\": {\"train_binary_classification_cross_entropy_objective\": {\"sum\": 0.5063583781624423, \"count\": 1, \"min\": 0.5063583781624423, \"max\": 0.5063583781624423}}}\u001b[0m\n",
      "\u001b[34m#metrics {\"StartTime\": 1654751541.7521622, \"EndTime\": 1654751541.752179, \"Dimensions\": {\"Algorithm\": \"Linear Learner\", \"Host\": \"algo-1\", \"Operation\": \"training\", \"epoch\": 4, \"model\": 16}, \"Metrics\": {\"train_binary_classification_cross_entropy_objective\": {\"sum\": 0.5077445638347474, \"count\": 1, \"min\": 0.5077445638347474, \"max\": 0.5077445638347474}}}\u001b[0m\n",
      "\u001b[34m#metrics {\"StartTime\": 1654751541.7522306, \"EndTime\": 1654751541.7522464, \"Dimensions\": {\"Algorithm\": \"Linear Learner\", \"Host\": \"algo-1\", \"Operation\": \"training\", \"epoch\": 4, \"model\": 17}, \"Metrics\": {\"train_binary_classification_cross_entropy_objective\": {\"sum\": 0.5079618004148524, \"count\": 1, \"min\": 0.5079618004148524, \"max\": 0.5079618004148524}}}\u001b[0m\n",
      "\u001b[34m#metrics {\"StartTime\": 1654751541.7523036, \"EndTime\": 1654751541.752331, \"Dimensions\": {\"Algorithm\": \"Linear Learner\", \"Host\": \"algo-1\", \"Operation\": \"training\", \"epoch\": 4, \"model\": 18}, \"Metrics\": {\"train_binary_classification_cross_entropy_objective\": {\"sum\": 0.5077585208671174, \"count\": 1, \"min\": 0.5077585208671174, \"max\": 0.5077585208671174}}}\u001b[0m\n",
      "\u001b[34m#metrics {\"StartTime\": 1654751541.7523859, \"EndTime\": 1654751541.7524028, \"Dimensions\": {\"Algorithm\": \"Linear Learner\", \"Host\": \"algo-1\", \"Operation\": \"training\", \"epoch\": 4, \"model\": 19}, \"Metrics\": {\"train_binary_classification_cross_entropy_objective\": {\"sum\": 0.5079618023047024, \"count\": 1, \"min\": 0.5079618023047024, \"max\": 0.5079618023047024}}}\u001b[0m\n",
      "\u001b[34m#metrics {\"StartTime\": 1654751541.7524571, \"EndTime\": 1654751541.7524743, \"Dimensions\": {\"Algorithm\": \"Linear Learner\", \"Host\": \"algo-1\", \"Operation\": \"training\", \"epoch\": 4, \"model\": 20}, \"Metrics\": {\"train_binary_classification_cross_entropy_objective\": {\"sum\": 0.5077741253120819, \"count\": 1, \"min\": 0.5077741253120819, \"max\": 0.5077741253120819}}}\u001b[0m\n",
      "\u001b[34m#metrics {\"StartTime\": 1654751541.7525287, \"EndTime\": 1654751541.752545, \"Dimensions\": {\"Algorithm\": \"Linear Learner\", \"Host\": \"algo-1\", \"Operation\": \"training\", \"epoch\": 4, \"model\": 21}, \"Metrics\": {\"train_binary_classification_cross_entropy_objective\": {\"sum\": 0.5103893008684164, \"count\": 1, \"min\": 0.5103893008684164, \"max\": 0.5103893008684164}}}\u001b[0m\n",
      "\u001b[34m#metrics {\"StartTime\": 1654751541.7525997, \"EndTime\": 1654751541.7526166, \"Dimensions\": {\"Algorithm\": \"Linear Learner\", \"Host\": \"algo-1\", \"Operation\": \"training\", \"epoch\": 4, \"model\": 22}, \"Metrics\": {\"train_binary_classification_cross_entropy_objective\": {\"sum\": 0.5077741253587449, \"count\": 1, \"min\": 0.5077741253587449, \"max\": 0.5077741253587449}}}\u001b[0m\n",
      "\u001b[34m#metrics {\"StartTime\": 1654751541.752669, \"EndTime\": 1654751541.752685, \"Dimensions\": {\"Algorithm\": \"Linear Learner\", \"Host\": \"algo-1\", \"Operation\": \"training\", \"epoch\": 4, \"model\": 23}, \"Metrics\": {\"train_binary_classification_cross_entropy_objective\": {\"sum\": 0.5103893017783442, \"count\": 1, \"min\": 0.5103893017783442, \"max\": 0.5103893017783442}}}\u001b[0m\n",
      "\u001b[34m#metrics {\"StartTime\": 1654751541.7527351, \"EndTime\": 1654751541.752752, \"Dimensions\": {\"Algorithm\": \"Linear Learner\", \"Host\": \"algo-1\", \"Operation\": \"training\", \"epoch\": 4, \"model\": 24}, \"Metrics\": {\"train_binary_classification_cross_entropy_objective\": {\"sum\": 0.5137662080303974, \"count\": 1, \"min\": 0.5137662080303974, \"max\": 0.5137662080303974}}}\u001b[0m\n",
      "\u001b[34m#metrics {\"StartTime\": 1654751541.752807, \"EndTime\": 1654751541.7528245, \"Dimensions\": {\"Algorithm\": \"Linear Learner\", \"Host\": \"algo-1\", \"Operation\": \"training\", \"epoch\": 4, \"model\": 25}, \"Metrics\": {\"train_binary_classification_cross_entropy_objective\": {\"sum\": 0.5138560962502016, \"count\": 1, \"min\": 0.5138560962502016, \"max\": 0.5138560962502016}}}\u001b[0m\n",
      "\u001b[34m#metrics {\"StartTime\": 1654751541.7528777, \"EndTime\": 1654751541.7528963, \"Dimensions\": {\"Algorithm\": \"Linear Learner\", \"Host\": \"algo-1\", \"Operation\": \"training\", \"epoch\": 4, \"model\": 26}, \"Metrics\": {\"train_binary_classification_cross_entropy_objective\": {\"sum\": 0.5137699379177268, \"count\": 1, \"min\": 0.5137699379177268, \"max\": 0.5137699379177268}}}\u001b[0m\n",
      "\u001b[34m#metrics {\"StartTime\": 1654751541.7529483, \"EndTime\": 1654751541.7529655, \"Dimensions\": {\"Algorithm\": \"Linear Learner\", \"Host\": \"algo-1\", \"Operation\": \"training\", \"epoch\": 4, \"model\": 27}, \"Metrics\": {\"train_binary_classification_cross_entropy_objective\": {\"sum\": 0.5138567868387298, \"count\": 1, \"min\": 0.5138567868387298, \"max\": 0.5138567868387298}}}\u001b[0m\n",
      "\u001b[34m#metrics {\"StartTime\": 1654751541.7530227, \"EndTime\": 1654751541.7530382, \"Dimensions\": {\"Algorithm\": \"Linear Learner\", \"Host\": \"algo-1\", \"Operation\": \"training\", \"epoch\": 4, \"model\": 28}, \"Metrics\": {\"train_binary_classification_cross_entropy_objective\": {\"sum\": 0.5137755905058041, \"count\": 1, \"min\": 0.5137755905058041, \"max\": 0.5137755905058041}}}\u001b[0m\n",
      "\u001b[34m#metrics {\"StartTime\": 1654751541.7530913, \"EndTime\": 1654751541.7531068, \"Dimensions\": {\"Algorithm\": \"Linear Learner\", \"Host\": \"algo-1\", \"Operation\": \"training\", \"epoch\": 4, \"model\": 29}, \"Metrics\": {\"train_binary_classification_cross_entropy_objective\": {\"sum\": 0.5147186440984044, \"count\": 1, \"min\": 0.5147186440984044, \"max\": 0.5147186440984044}}}\u001b[0m\n",
      "\u001b[34m#metrics {\"StartTime\": 1654751541.7531624, \"EndTime\": 1654751541.7531776, \"Dimensions\": {\"Algorithm\": \"Linear Learner\", \"Host\": \"algo-1\", \"Operation\": \"training\", \"epoch\": 4, \"model\": 30}, \"Metrics\": {\"train_binary_classification_cross_entropy_objective\": {\"sum\": 0.5137756450081454, \"count\": 1, \"min\": 0.5137756450081454, \"max\": 0.5137756450081454}}}\u001b[0m\n",
      "\u001b[34m#metrics {\"StartTime\": 1654751541.7532322, \"EndTime\": 1654751541.7532482, \"Dimensions\": {\"Algorithm\": \"Linear Learner\", \"Host\": \"algo-1\", \"Operation\": \"training\", \"epoch\": 4, \"model\": 31}, \"Metrics\": {\"train_binary_classification_cross_entropy_objective\": {\"sum\": 0.5147186485313859, \"count\": 1, \"min\": 0.5147186485313859, \"max\": 0.5147186485313859}}}\u001b[0m\n",
      "\u001b[34m[06/09/2022 05:12:21 INFO 139715043796800] #quality_metric: host=algo-1, epoch=4, train binary_classification_cross_entropy_objective <loss>=0.49192083931552527\u001b[0m\n",
      "\u001b[34m[2022-06-09 05:12:27.113] [tensorio] [info] epoch_stats={\"data_pipeline\": \"/opt/ml/input/data/validation\", \"epoch\": 14, \"duration\": 5332, \"num_examples\": 164, \"num_bytes\": 68694780}\u001b[0m\n",
      "\u001b[34m#metrics {\"StartTime\": 1654751547.123309, \"EndTime\": 1654751547.123374, \"Dimensions\": {\"Algorithm\": \"Linear Learner\", \"Host\": \"algo-1\", \"Operation\": \"training\", \"epoch\": 4, \"model\": 0}, \"Metrics\": {\"validation_binary_classification_cross_entropy_objective\": {\"sum\": 0.49212052809737233, \"count\": 1, \"min\": 0.49212052809737233, \"max\": 0.49212052809737233}}}\u001b[0m\n",
      "\u001b[34m#metrics {\"StartTime\": 1654751547.1235082, \"EndTime\": 1654751547.1235251, \"Dimensions\": {\"Algorithm\": \"Linear Learner\", \"Host\": \"algo-1\", \"Operation\": \"training\", \"epoch\": 4, \"model\": 1}, \"Metrics\": {\"validation_binary_classification_cross_entropy_objective\": {\"sum\": 0.49318995371485785, \"count\": 1, \"min\": 0.49318995371485785, \"max\": 0.49318995371485785}}}\u001b[0m\n",
      "\u001b[34m#metrics {\"StartTime\": 1654751547.1235945, \"EndTime\": 1654751547.123613, \"Dimensions\": {\"Algorithm\": \"Linear Learner\", \"Host\": \"algo-1\", \"Operation\": \"training\", \"epoch\": 4, \"model\": 2}, \"Metrics\": {\"validation_binary_classification_cross_entropy_objective\": {\"sum\": 0.4921217431357912, \"count\": 1, \"min\": 0.4921217431357912, \"max\": 0.4921217431357912}}}\u001b[0m\n",
      "\u001b[34m#metrics {\"StartTime\": 1654751547.1236694, \"EndTime\": 1654751547.1236863, \"Dimensions\": {\"Algorithm\": \"Linear Learner\", \"Host\": \"algo-1\", \"Operation\": \"training\", \"epoch\": 4, \"model\": 3}, \"Metrics\": {\"validation_binary_classification_cross_entropy_objective\": {\"sum\": 0.4931894930376686, \"count\": 1, \"min\": 0.4931894930376686, \"max\": 0.4931894930376686}}}\u001b[0m\n",
      "\u001b[34m#metrics {\"StartTime\": 1654751547.1237507, \"EndTime\": 1654751547.123769, \"Dimensions\": {\"Algorithm\": \"Linear Learner\", \"Host\": \"algo-1\", \"Operation\": \"training\", \"epoch\": 4, \"model\": 4}, \"Metrics\": {\"validation_binary_classification_cross_entropy_objective\": {\"sum\": 0.49207401966580583, \"count\": 1, \"min\": 0.49207401966580583, \"max\": 0.49207401966580583}}}\u001b[0m\n",
      "\u001b[34m#metrics {\"StartTime\": 1654751547.1238177, \"EndTime\": 1654751547.1238334, \"Dimensions\": {\"Algorithm\": \"Linear Learner\", \"Host\": \"algo-1\", \"Operation\": \"training\", \"epoch\": 4, \"model\": 5}, \"Metrics\": {\"validation_binary_classification_cross_entropy_objective\": {\"sum\": 0.5061634669117514, \"count\": 1, \"min\": 0.5061634669117514, \"max\": 0.5061634669117514}}}\u001b[0m\n",
      "\u001b[34m#metrics {\"StartTime\": 1654751547.1238928, \"EndTime\": 1654751547.1239104, \"Dimensions\": {\"Algorithm\": \"Linear Learner\", \"Host\": \"algo-1\", \"Operation\": \"training\", \"epoch\": 4, \"model\": 6}, \"Metrics\": {\"validation_binary_classification_cross_entropy_objective\": {\"sum\": 0.4920740198523903, \"count\": 1, \"min\": 0.4920740198523903, \"max\": 0.4920740198523903}}}\u001b[0m\n",
      "\u001b[34m#metrics {\"StartTime\": 1654751547.1239607, \"EndTime\": 1654751547.1239774, \"Dimensions\": {\"Algorithm\": \"Linear Learner\", \"Host\": \"algo-1\", \"Operation\": \"training\", \"epoch\": 4, \"model\": 7}, \"Metrics\": {\"validation_binary_classification_cross_entropy_objective\": {\"sum\": 0.5061634706434418, \"count\": 1, \"min\": 0.5061634706434418, \"max\": 0.5061634706434418}}}\u001b[0m\n",
      "\u001b[34m#metrics {\"StartTime\": 1654751547.1240277, \"EndTime\": 1654751547.1240447, \"Dimensions\": {\"Algorithm\": \"Linear Learner\", \"Host\": \"algo-1\", \"Operation\": \"training\", \"epoch\": 4, \"model\": 8}, \"Metrics\": {\"validation_binary_classification_cross_entropy_objective\": {\"sum\": 0.4923308579274026, \"count\": 1, \"min\": 0.4923308579274026, \"max\": 0.4923308579274026}}}\u001b[0m\n",
      "\u001b[34m#metrics {\"StartTime\": 1654751547.124103, \"EndTime\": 1654751547.124119, \"Dimensions\": {\"Algorithm\": \"Linear Learner\", \"Host\": \"algo-1\", \"Operation\": \"training\", \"epoch\": 4, \"model\": 9}, \"Metrics\": {\"validation_binary_classification_cross_entropy_objective\": {\"sum\": 0.4934214888760158, \"count\": 1, \"min\": 0.4934214888760158, \"max\": 0.4934214888760158}}}\u001b[0m\n",
      "\u001b[34m#metrics {\"StartTime\": 1654751547.1241739, \"EndTime\": 1654751547.1241899, \"Dimensions\": {\"Algorithm\": \"Linear Learner\", \"Host\": \"algo-1\", \"Operation\": \"training\", \"epoch\": 4, \"model\": 10}, \"Metrics\": {\"validation_binary_classification_cross_entropy_objective\": {\"sum\": 0.49232459391177025, \"count\": 1, \"min\": 0.49232459391177025, \"max\": 0.49232459391177025}}}\u001b[0m\n",
      "\u001b[34m#metrics {\"StartTime\": 1654751547.1242325, \"EndTime\": 1654751547.1242473, \"Dimensions\": {\"Algorithm\": \"Linear Learner\", \"Host\": \"algo-1\", \"Operation\": \"training\", \"epoch\": 4, \"model\": 11}, \"Metrics\": {\"validation_binary_classification_cross_entropy_objective\": {\"sum\": 0.49342149708573485, \"count\": 1, \"min\": 0.49342149708573485, \"max\": 0.49342149708573485}}}\u001b[0m\n",
      "\u001b[34m#metrics {\"StartTime\": 1654751547.1243005, \"EndTime\": 1654751547.1243176, \"Dimensions\": {\"Algorithm\": \"Linear Learner\", \"Host\": \"algo-1\", \"Operation\": \"training\", \"epoch\": 4, \"model\": 12}, \"Metrics\": {\"validation_binary_classification_cross_entropy_objective\": {\"sum\": 0.492325015592794, \"count\": 1, \"min\": 0.492325015592794, \"max\": 0.492325015592794}}}\u001b[0m\n",
      "\u001b[34m#metrics {\"StartTime\": 1654751547.1243653, \"EndTime\": 1654751547.1243818, \"Dimensions\": {\"Algorithm\": \"Linear Learner\", \"Host\": \"algo-1\", \"Operation\": \"training\", \"epoch\": 4, \"model\": 13}, \"Metrics\": {\"validation_binary_classification_cross_entropy_objective\": {\"sum\": 0.505691189016356, \"count\": 1, \"min\": 0.505691189016356, \"max\": 0.505691189016356}}}\u001b[0m\n",
      "\u001b[34m#metrics {\"StartTime\": 1654751547.1244404, \"EndTime\": 1654751547.1244574, \"Dimensions\": {\"Algorithm\": \"Linear Learner\", \"Host\": \"algo-1\", \"Operation\": \"training\", \"epoch\": 4, \"model\": 14}, \"Metrics\": {\"validation_binary_classification_cross_entropy_objective\": {\"sum\": 0.49232501745863927, \"count\": 1, \"min\": 0.49232501745863927, \"max\": 0.49232501745863927}}}\u001b[0m\n",
      "\u001b[34m#metrics {\"StartTime\": 1654751547.1245072, \"EndTime\": 1654751547.1245234, \"Dimensions\": {\"Algorithm\": \"Linear Learner\", \"Host\": \"algo-1\", \"Operation\": \"training\", \"epoch\": 4, \"model\": 15}, \"Metrics\": {\"validation_binary_classification_cross_entropy_objective\": {\"sum\": 0.5056911878968489, \"count\": 1, \"min\": 0.5056911878968489, \"max\": 0.5056911878968489}}}\u001b[0m\n",
      "\u001b[34m#metrics {\"StartTime\": 1654751547.124582, \"EndTime\": 1654751547.124599, \"Dimensions\": {\"Algorithm\": \"Linear Learner\", \"Host\": \"algo-1\", \"Operation\": \"training\", \"epoch\": 4, \"model\": 16}, \"Metrics\": {\"validation_binary_classification_cross_entropy_objective\": {\"sum\": 0.5077736256742239, \"count\": 1, \"min\": 0.5077736256742239, \"max\": 0.5077736256742239}}}\u001b[0m\n",
      "\u001b[34m#metrics {\"StartTime\": 1654751547.1246479, \"EndTime\": 1654751547.1246636, \"Dimensions\": {\"Algorithm\": \"Linear Learner\", \"Host\": \"algo-1\", \"Operation\": \"training\", \"epoch\": 4, \"model\": 17}, \"Metrics\": {\"validation_binary_classification_cross_entropy_objective\": {\"sum\": 0.5085401303844294, \"count\": 1, \"min\": 0.5085401303844294, \"max\": 0.5085401303844294}}}\u001b[0m\n",
      "\u001b[34m#metrics {\"StartTime\": 1654751547.1247156, \"EndTime\": 1654751547.1247315, \"Dimensions\": {\"Algorithm\": \"Linear Learner\", \"Host\": \"algo-1\", \"Operation\": \"training\", \"epoch\": 4, \"model\": 18}, \"Metrics\": {\"validation_binary_classification_cross_entropy_objective\": {\"sum\": 0.5077483798552338, \"count\": 1, \"min\": 0.5077483798552338, \"max\": 0.5077483798552338}}}\u001b[0m\n",
      "\u001b[34m#metrics {\"StartTime\": 1654751547.1247857, \"EndTime\": 1654751547.1248024, \"Dimensions\": {\"Algorithm\": \"Linear Learner\", \"Host\": \"algo-1\", \"Operation\": \"training\", \"epoch\": 4, \"model\": 19}, \"Metrics\": {\"validation_binary_classification_cross_entropy_objective\": {\"sum\": 0.5085401413929163, \"count\": 1, \"min\": 0.5085401413929163, \"max\": 0.5085401413929163}}}\u001b[0m\n",
      "\u001b[34m#metrics {\"StartTime\": 1654751547.1248548, \"EndTime\": 1654751547.1248703, \"Dimensions\": {\"Algorithm\": \"Linear Learner\", \"Host\": \"algo-1\", \"Operation\": \"training\", \"epoch\": 4, \"model\": 20}, \"Metrics\": {\"validation_binary_classification_cross_entropy_objective\": {\"sum\": 0.5077427692586037, \"count\": 1, \"min\": 0.5077427692586037, \"max\": 0.5077427692586037}}}\u001b[0m\n",
      "\u001b[34m#metrics {\"StartTime\": 1654751547.1249232, \"EndTime\": 1654751547.1249409, \"Dimensions\": {\"Algorithm\": \"Linear Learner\", \"Host\": \"algo-1\", \"Operation\": \"training\", \"epoch\": 4, \"model\": 21}, \"Metrics\": {\"validation_binary_classification_cross_entropy_objective\": {\"sum\": 0.5102105453127651, \"count\": 1, \"min\": 0.5102105453127651, \"max\": 0.5102105453127651}}}\u001b[0m\n",
      "\u001b[34m#metrics {\"StartTime\": 1654751547.1249955, \"EndTime\": 1654751547.125014, \"Dimensions\": {\"Algorithm\": \"Linear Learner\", \"Host\": \"algo-1\", \"Operation\": \"training\", \"epoch\": 4, \"model\": 22}, \"Metrics\": {\"validation_binary_classification_cross_entropy_objective\": {\"sum\": 0.507742767206174, \"count\": 1, \"min\": 0.507742767206174, \"max\": 0.507742767206174}}}\u001b[0m\n",
      "\u001b[34m#metrics {\"StartTime\": 1654751547.125067, \"EndTime\": 1654751547.125083, \"Dimensions\": {\"Algorithm\": \"Linear Learner\", \"Host\": \"algo-1\", \"Operation\": \"training\", \"epoch\": 4, \"model\": 23}, \"Metrics\": {\"validation_binary_classification_cross_entropy_objective\": {\"sum\": 0.5102105471786104, \"count\": 1, \"min\": 0.5102105471786104, \"max\": 0.5102105471786104}}}\u001b[0m\n",
      "\u001b[34m#metrics {\"StartTime\": 1654751547.1251361, \"EndTime\": 1654751547.1251538, \"Dimensions\": {\"Algorithm\": \"Linear Learner\", \"Host\": \"algo-1\", \"Operation\": \"training\", \"epoch\": 4, \"model\": 24}, \"Metrics\": {\"validation_binary_classification_cross_entropy_objective\": {\"sum\": 0.5137610786352206, \"count\": 1, \"min\": 0.5137610786352206, \"max\": 0.5137610786352206}}}\u001b[0m\n",
      "\u001b[34m#metrics {\"StartTime\": 1654751547.1252089, \"EndTime\": 1654751547.1252263, \"Dimensions\": {\"Algorithm\": \"Linear Learner\", \"Host\": \"algo-1\", \"Operation\": \"training\", \"epoch\": 4, \"model\": 25}, \"Metrics\": {\"validation_binary_classification_cross_entropy_objective\": {\"sum\": 0.5143027568308206, \"count\": 1, \"min\": 0.5143027568308206, \"max\": 0.5143027568308206}}}\u001b[0m\n",
      "\u001b[34m#metrics {\"StartTime\": 1654751547.125279, \"EndTime\": 1654751547.125296, \"Dimensions\": {\"Algorithm\": \"Linear Learner\", \"Host\": \"algo-1\", \"Operation\": \"training\", \"epoch\": 4, \"model\": 26}, \"Metrics\": {\"validation_binary_classification_cross_entropy_objective\": {\"sum\": 0.5137616850349229, \"count\": 1, \"min\": 0.5137616850349229, \"max\": 0.5137616850349229}}}\u001b[0m\n",
      "\u001b[34m#metrics {\"StartTime\": 1654751547.1253502, \"EndTime\": 1654751547.1253664, \"Dimensions\": {\"Algorithm\": \"Linear Learner\", \"Host\": \"algo-1\", \"Operation\": \"training\", \"epoch\": 4, \"model\": 27}, \"Metrics\": {\"validation_binary_classification_cross_entropy_objective\": {\"sum\": 0.5142900119883392, \"count\": 1, \"min\": 0.5142900119883392, \"max\": 0.5142900119883392}}}\u001b[0m\n",
      "\u001b[34m#metrics {\"StartTime\": 1654751547.1254208, \"EndTime\": 1654751547.1254392, \"Dimensions\": {\"Algorithm\": \"Linear Learner\", \"Host\": \"algo-1\", \"Operation\": \"training\", \"epoch\": 4, \"model\": 28}, \"Metrics\": {\"validation_binary_classification_cross_entropy_objective\": {\"sum\": 0.5137659354303746, \"count\": 1, \"min\": 0.5137659354303746, \"max\": 0.5137659354303746}}}\u001b[0m\n",
      "\u001b[34m#metrics {\"StartTime\": 1654751547.1254935, \"EndTime\": 1654751547.12551, \"Dimensions\": {\"Algorithm\": \"Linear Learner\", \"Host\": \"algo-1\", \"Operation\": \"training\", \"epoch\": 4, \"model\": 29}, \"Metrics\": {\"validation_binary_classification_cross_entropy_objective\": {\"sum\": 0.5137087612676752, \"count\": 1, \"min\": 0.5137087612676752, \"max\": 0.5137087612676752}}}\u001b[0m\n",
      "\u001b[34m#metrics {\"StartTime\": 1654751547.1255648, \"EndTime\": 1654751547.12558, \"Dimensions\": {\"Algorithm\": \"Linear Learner\", \"Host\": \"algo-1\", \"Operation\": \"training\", \"epoch\": 4, \"model\": 30}, \"Metrics\": {\"validation_binary_classification_cross_entropy_objective\": {\"sum\": 0.5137647284150902, \"count\": 1, \"min\": 0.5137647284150902, \"max\": 0.5137647284150902}}}\u001b[0m\n",
      "\u001b[34m#metrics {\"StartTime\": 1654751547.125635, \"EndTime\": 1654751547.1257093, \"Dimensions\": {\"Algorithm\": \"Linear Learner\", \"Host\": \"algo-1\", \"Operation\": \"training\", \"epoch\": 4, \"model\": 31}, \"Metrics\": {\"validation_binary_classification_cross_entropy_objective\": {\"sum\": 0.5137087588420763, \"count\": 1, \"min\": 0.5137087588420763, \"max\": 0.5137087588420763}}}\u001b[0m\n",
      "\u001b[34m[06/09/2022 05:12:27 INFO 139715043796800] #quality_metric: host=algo-1, epoch=4, validation binary_classification_cross_entropy_objective <loss>=0.49212052809737233\u001b[0m\n",
      "\u001b[34m[06/09/2022 05:12:27 INFO 139715043796800] #early_stopping_criteria_metric: host=algo-1, epoch=4, criteria=binary_classification_cross_entropy_objective, value=0.49207401966580583\u001b[0m\n",
      "\u001b[34m[06/09/2022 05:12:27 INFO 139715043796800] Saving model for epoch: 4\u001b[0m\n",
      "\u001b[34m[06/09/2022 05:12:27 INFO 139715043796800] Saved checkpoint to \"/tmp/tmpkiy0_1mq/mx-mod-0000.params\"\u001b[0m\n",
      "\u001b[34m[06/09/2022 05:12:27 INFO 139715043796800] Early stop condition met. Stopping training.\u001b[0m\n",
      "\u001b[34m[06/09/2022 05:12:27 INFO 139715043796800] #progress_metric: host=algo-1, completed 100 % epochs\u001b[0m\n",
      "\u001b[34m#metrics {\"StartTime\": 1654751481.0868735, \"EndTime\": 1654751547.1337311, \"Dimensions\": {\"Algorithm\": \"Linear Learner\", \"Host\": \"algo-1\", \"Operation\": \"training\", \"epoch\": 4, \"Meta\": \"training_data_iter\"}, \"Metrics\": {\"Total Records Seen\": {\"sum\": 6554360.0, \"count\": 1, \"min\": 6554360, \"max\": 6554360}, \"Total Batches Seen\": {\"sum\": 6557.0, \"count\": 1, \"min\": 6557, \"max\": 6557}, \"Max Records Seen Between Resets\": {\"sum\": 1308472.0, \"count\": 1, \"min\": 1308472, \"max\": 1308472}, \"Max Batches Seen Between Resets\": {\"sum\": 1309.0, \"count\": 1, \"min\": 1309, \"max\": 1309}, \"Reset Count\": {\"sum\": 7.0, \"count\": 1, \"min\": 7, \"max\": 7}, \"Number of Records Since Last Reset\": {\"sum\": 1308472.0, \"count\": 1, \"min\": 1308472, \"max\": 1308472}, \"Number of Batches Since Last Reset\": {\"sum\": 1309.0, \"count\": 1, \"min\": 1309, \"max\": 1309}}}\u001b[0m\n",
      "\u001b[34m[06/09/2022 05:12:27 INFO 139715043796800] #throughput_metric: host=algo-1, train throughput=19811.220282549642 records/second\u001b[0m\n",
      "\u001b[34m[06/09/2022 05:12:27 WARNING 139715043796800] wait_for_all_workers will not sync workers since the kv store is not running distributed\u001b[0m\n",
      "\u001b[34m[06/09/2022 05:12:27 WARNING 139715043796800] wait_for_all_workers will not sync workers since the kv store is not running distributed\u001b[0m\n",
      "\u001b[34m[2022-06-09 05:12:32.393] [tensorio] [info] epoch_stats={\"data_pipeline\": \"/opt/ml/input/data/validation\", \"epoch\": 17, \"duration\": 5226, \"num_examples\": 164, \"num_bytes\": 68694780}\u001b[0m\n",
      "\u001b[34m[06/09/2022 05:12:32 INFO 139715043796800] #early_stopping_criteria_metric: host=algo-1, epoch=4, criteria=binary_classification_cross_entropy_objective, value=0.49207401966580583\u001b[0m\n",
      "\u001b[34m[2022-06-09 05:12:33.244] [tensorio] [info] epoch_stats={\"data_pipeline\": \"/opt/ml/input/data/validation\", \"epoch\": 19, \"duration\": 840, \"num_examples\": 164, \"num_bytes\": 68694780}\u001b[0m\n",
      "\u001b[34m[06/09/2022 05:12:33 INFO 139715043796800] #validation_score (algo-1) : ('binary_classification_cross_entropy_objective', 0.49244397908638854)\u001b[0m\n",
      "\u001b[34m[06/09/2022 05:12:33 INFO 139715043796800] #validation_score (algo-1) : ('binary_classification_accuracy', 0.7903631105594923)\u001b[0m\n",
      "\u001b[34m[06/09/2022 05:12:33 INFO 139715043796800] #validation_score (algo-1) : ('binary_f_1.000', 0.0105615513360651)\u001b[0m\n",
      "\u001b[34m[06/09/2022 05:12:33 INFO 139715043796800] #validation_score (algo-1) : ('precision', 0.5700934579439252)\u001b[0m\n",
      "\u001b[34m[06/09/2022 05:12:33 INFO 139715043796800] #validation_score (algo-1) : ('recall', 0.00533014883639647)\u001b[0m\n",
      "\u001b[34m[06/09/2022 05:12:33 INFO 139715043796800] #validation_score (algo-1) : ('roc_auc_score', 0.6430855753633817)\u001b[0m\n",
      "\u001b[34m[06/09/2022 05:12:33 INFO 139715043796800] #validation_score (algo-1) : ('binary_balanced_accuracy', 0.5)\u001b[0m\n",
      "\u001b[34m[06/09/2022 05:12:33 INFO 139715043796800] #validation_score (algo-1) : ('binary_log_loss', 0.7529370318776242)\u001b[0m\n",
      "\u001b[34m[06/09/2022 05:12:33 INFO 139715043796800] #quality_metric: host=algo-1, validation binary_classification_cross_entropy_objective <loss>=0.49244397908638854\u001b[0m\n",
      "\u001b[34m[06/09/2022 05:12:33 INFO 139715043796800] #quality_metric: host=algo-1, validation binary_classification_accuracy <score>=0.7903631105594923\u001b[0m\n",
      "\u001b[34m[06/09/2022 05:12:33 INFO 139715043796800] #quality_metric: host=algo-1, validation binary_f_1.000 <score>=0.0105615513360651\u001b[0m\n",
      "\u001b[34m[06/09/2022 05:12:33 INFO 139715043796800] #quality_metric: host=algo-1, validation precision <score>=0.5700934579439252\u001b[0m\n",
      "\u001b[34m[06/09/2022 05:12:33 INFO 139715043796800] #quality_metric: host=algo-1, validation recall <score>=0.00533014883639647\u001b[0m\n",
      "\u001b[34m[06/09/2022 05:12:33 INFO 139715043796800] #quality_metric: host=algo-1, validation roc_auc_score <score>=0.6430855753633817\u001b[0m\n",
      "\u001b[34m[06/09/2022 05:12:33 INFO 139715043796800] #quality_metric: host=algo-1, validation binary_balanced_accuracy <score>=0.5\u001b[0m\n",
      "\u001b[34m[06/09/2022 05:12:33 INFO 139715043796800] #quality_metric: host=algo-1, validation binary_log_loss <score>=0.7529370318776242\u001b[0m\n",
      "\u001b[34m[06/09/2022 05:12:33 INFO 139715043796800] Best model found for hyperparameters: {\"optimizer\": \"adam\", \"learning_rate\": 0.005, \"l1\": 0.0, \"wd\": 0.0001, \"lr_scheduler_step\": 10, \"lr_scheduler_factor\": 0.99, \"lr_scheduler_minimum_lr\": 1e-05}\u001b[0m\n",
      "\u001b[34m[06/09/2022 05:12:33 INFO 139715043796800] Saved checkpoint to \"/tmp/tmpb2mdkb8k/mx-mod-0000.params\"\u001b[0m\n",
      "\u001b[34m[2022-06-09 05:12:33.575] [tensorio] [info] epoch_stats={\"data_pipeline\": \"/opt/ml/input/data/test\", \"epoch\": 0, \"duration\": 339346, \"num_examples\": 1, \"num_bytes\": 420000}\u001b[0m\n",
      "\u001b[34m[2022-06-09 05:12:34.481] [tensorio] [info] epoch_stats={\"data_pipeline\": \"/opt/ml/input/data/test\", \"epoch\": 1, \"duration\": 905, \"num_examples\": 164, \"num_bytes\": 68694780}\u001b[0m\n",
      "\u001b[34m#metrics {\"StartTime\": 1654751553.571885, \"EndTime\": 1654751554.8289738, \"Dimensions\": {\"Algorithm\": \"Linear Learner\", \"Host\": \"algo-1\", \"Operation\": \"training\", \"Meta\": \"test_data_iter\"}, \"Metrics\": {\"Total Records Seen\": {\"sum\": 163559.0, \"count\": 1, \"min\": 163559, \"max\": 163559}, \"Total Batches Seen\": {\"sum\": 164.0, \"count\": 1, \"min\": 164, \"max\": 164}, \"Max Records Seen Between Resets\": {\"sum\": 163559.0, \"count\": 1, \"min\": 163559, \"max\": 163559}, \"Max Batches Seen Between Resets\": {\"sum\": 164.0, \"count\": 1, \"min\": 164, \"max\": 164}, \"Reset Count\": {\"sum\": 1.0, \"count\": 1, \"min\": 1, \"max\": 1}, \"Number of Records Since Last Reset\": {\"sum\": 163559.0, \"count\": 1, \"min\": 163559, \"max\": 163559}, \"Number of Batches Since Last Reset\": {\"sum\": 164.0, \"count\": 1, \"min\": 164, \"max\": 164}}}\u001b[0m\n",
      "\u001b[34m[06/09/2022 05:12:34 INFO 139715043796800] #test_score (algo-1) : ('binary_classification_cross_entropy_objective', 0.4925900652526979)\u001b[0m\n",
      "\u001b[34m[06/09/2022 05:12:34 INFO 139715043796800] #test_score (algo-1) : ('binary_classification_accuracy', 0.7901246644941581)\u001b[0m\n",
      "\u001b[34m[06/09/2022 05:12:34 INFO 139715043796800] #test_score (algo-1) : ('binary_f_1.000', 0.01003604902667628)\u001b[0m\n",
      "\u001b[34m[06/09/2022 05:12:34 INFO 139715043796800] #test_score (algo-1) : ('precision', 0.5087719298245614)\u001b[0m\n",
      "\u001b[34m[06/09/2022 05:12:34 INFO 139715043796800] #test_score (algo-1) : ('recall', 0.005068010369032709)\u001b[0m\n",
      "\u001b[34m[06/09/2022 05:12:34 INFO 139715043796800] #test_score (algo-1) : ('roc_auc_score', 0.6428452349994747)\u001b[0m\n",
      "\u001b[34m[06/09/2022 05:12:34 INFO 139715043796800] #test_score (algo-1) : ('binary_balanced_accuracy', 0.5)\u001b[0m\n",
      "\u001b[34m[06/09/2022 05:12:34 INFO 139715043796800] #test_score (algo-1) : ('binary_log_loss', 0.753097895239442)\u001b[0m\n",
      "\u001b[34m[06/09/2022 05:12:34 INFO 139715043796800] #quality_metric: host=algo-1, test binary_classification_cross_entropy_objective <loss>=0.4925900652526979\u001b[0m\n",
      "\u001b[34m[06/09/2022 05:12:34 INFO 139715043796800] #quality_metric: host=algo-1, test binary_classification_accuracy <score>=0.7901246644941581\u001b[0m\n",
      "\u001b[34m[06/09/2022 05:12:34 INFO 139715043796800] #quality_metric: host=algo-1, test binary_f_1.000 <score>=0.01003604902667628\u001b[0m\n",
      "\u001b[34m[06/09/2022 05:12:34 INFO 139715043796800] #quality_metric: host=algo-1, test precision <score>=0.5087719298245614\u001b[0m\n",
      "\u001b[34m[06/09/2022 05:12:34 INFO 139715043796800] #quality_metric: host=algo-1, test recall <score>=0.005068010369032709\u001b[0m\n",
      "\u001b[34m[06/09/2022 05:12:34 INFO 139715043796800] #quality_metric: host=algo-1, test roc_auc_score <score>=0.6428452349994747\u001b[0m\n",
      "\u001b[34m[06/09/2022 05:12:34 INFO 139715043796800] #quality_metric: host=algo-1, test binary_balanced_accuracy <score>=0.5\u001b[0m\n",
      "\u001b[34m[06/09/2022 05:12:34 INFO 139715043796800] #quality_metric: host=algo-1, test binary_log_loss <score>=0.753097895239442\u001b[0m\n",
      "\u001b[34m#metrics {\"StartTime\": 1654751214.0933223, \"EndTime\": 1654751554.837578, \"Dimensions\": {\"Algorithm\": \"Linear Learner\", \"Host\": \"algo-1\", \"Operation\": \"training\"}, \"Metrics\": {\"initialize.time\": {\"sum\": 636.5156173706055, \"count\": 1, \"min\": 636.5156173706055, \"max\": 636.5156173706055}, \"epochs\": {\"sum\": 15.0, \"count\": 1, \"min\": 15, \"max\": 15}, \"check_early_stopping.time\": {\"sum\": 2.215862274169922, \"count\": 6, \"min\": 0.1766681671142578, \"max\": 0.8711814880371094}, \"update.time\": {\"sum\": 332055.0887584686, \"count\": 5, \"min\": 66042.93870925903, \"max\": 67061.29932403564}, \"finalize.time\": {\"sum\": 6434.182643890381, \"count\": 1, \"min\": 6434.182643890381, \"max\": 6434.182643890381}, \"setuptime\": {\"sum\": 29.4036865234375, \"count\": 1, \"min\": 29.4036865234375, \"max\": 29.4036865234375}, \"totaltime\": {\"sum\": 341044.8954105377, \"count\": 1, \"min\": 341044.8954105377, \"max\": 341044.8954105377}}}\u001b[0m\n",
      "\n",
      "2022-06-09 05:12:47 Uploading - Uploading generated training model\n",
      "2022-06-09 05:13:02 Completed - Training job completed\n",
      "ProfilerReport-1654750993: NoIssuesFound\n",
      "Training seconds: 469\n",
      "Billable seconds: 469\n"
     ]
    }
   ],
   "source": [
    "### Fit the classifier\n",
    "# Enter your code here\n",
    "classifier_estimator.fit([train_records,val_records,test_records])"
   ]
  },
  {
   "cell_type": "markdown",
   "metadata": {},
   "source": [
    "## Model evaluation\n",
    "In this section, you will evaluate your trained model. "
   ]
  },
  {
   "cell_type": "markdown",
   "metadata": {},
   "source": [
    "First, examine the metrics for the training job:"
   ]
  },
  {
   "cell_type": "code",
   "execution_count": 44,
   "metadata": {},
   "outputs": [
    {
     "data": {
      "text/html": [
       "<div>\n",
       "<style scoped>\n",
       "    .dataframe tbody tr th:only-of-type {\n",
       "        vertical-align: middle;\n",
       "    }\n",
       "\n",
       "    .dataframe tbody tr th {\n",
       "        vertical-align: top;\n",
       "    }\n",
       "\n",
       "    .dataframe thead th {\n",
       "        text-align: right;\n",
       "    }\n",
       "</style>\n",
       "<table border=\"1\" class=\"dataframe\">\n",
       "  <thead>\n",
       "    <tr style=\"text-align: right;\">\n",
       "      <th></th>\n",
       "      <th>timestamp</th>\n",
       "      <th>metric_name</th>\n",
       "      <th>value</th>\n",
       "    </tr>\n",
       "  </thead>\n",
       "  <tbody>\n",
       "    <tr>\n",
       "      <th>0</th>\n",
       "      <td>0.0</td>\n",
       "      <td>test:objective_loss</td>\n",
       "      <td>0.492590</td>\n",
       "    </tr>\n",
       "    <tr>\n",
       "      <th>1</th>\n",
       "      <td>0.0</td>\n",
       "      <td>test:binary_f_beta</td>\n",
       "      <td>0.010036</td>\n",
       "    </tr>\n",
       "    <tr>\n",
       "      <th>2</th>\n",
       "      <td>0.0</td>\n",
       "      <td>test:precision</td>\n",
       "      <td>0.508772</td>\n",
       "    </tr>\n",
       "    <tr>\n",
       "      <th>3</th>\n",
       "      <td>0.0</td>\n",
       "      <td>test:recall</td>\n",
       "      <td>0.005068</td>\n",
       "    </tr>\n",
       "  </tbody>\n",
       "</table>\n",
       "</div>"
      ],
      "text/plain": [
       "   timestamp          metric_name     value\n",
       "0        0.0  test:objective_loss  0.492590\n",
       "1        0.0   test:binary_f_beta  0.010036\n",
       "2        0.0       test:precision  0.508772\n",
       "3        0.0          test:recall  0.005068"
      ]
     },
     "execution_count": 44,
     "metadata": {},
     "output_type": "execute_result"
    }
   ],
   "source": [
    "sagemaker.analytics.TrainingJobAnalytics(classifier_estimator._current_job_name, \n",
    "                                         metric_names = ['test:objective_loss', \n",
    "                                                         'test:binary_f_beta',\n",
    "                                                         'test:precision',\n",
    "                                                         'test:recall']\n",
    "                                        ).dataframe()"
   ]
  },
  {
   "cell_type": "markdown",
   "metadata": {},
   "source": [
    "Next, set up some functions that will help load the test data into Amazon S3 and perform a prediction by using the batch prediction function. Using batch prediction will help reduce costs because the instances will only run when predictions are performed on the supplied test data.\n",
    "\n",
    "**Note:** Replace `<LabBucketName>` with the name of the lab bucket that was created during the lab setup."
   ]
  },
  {
   "cell_type": "code",
   "execution_count": 51,
   "metadata": {},
   "outputs": [],
   "source": [
    "import io\n",
    "bucket='sagemaker-us-east-1-577204790654'\n",
    "prefix='flight-linear'\n",
    "train_file='flight_train.csv'\n",
    "test_file='flight_test.csv'\n",
    "validate_file='flight_validate.csv'\n",
    "whole_file='flight.csv'\n",
    "s3_resource = boto3.Session().resource('s3')\n",
    "\n",
    "def upload_s3_csv(filename, folder, dataframe):\n",
    "    csv_buffer = io.StringIO()\n",
    "    dataframe.to_csv(csv_buffer, header=False, index=False )\n",
    "    s3_resource.Bucket(bucket).Object(os.path.join(prefix, folder, filename)).put(Body=csv_buffer.getvalue())"
   ]
  },
  {
   "cell_type": "code",
   "execution_count": 52,
   "metadata": {},
   "outputs": [],
   "source": [
    "def batch_linear_predict(test_data, estimator):\n",
    "    batch_X = test_data.iloc[:,1:];\n",
    "    batch_X_file='batch-in.csv'\n",
    "    upload_s3_csv(batch_X_file, 'batch-in', batch_X)\n",
    "\n",
    "    batch_output = \"s3://{}/{}/batch-out/\".format(bucket,prefix)\n",
    "    batch_input = \"s3://{}/{}/batch-in/{}\".format(bucket,prefix,batch_X_file)\n",
    "\n",
    "    classifier_transformer = estimator.transformer(instance_count=1,\n",
    "                                           instance_type='ml.m4.xlarge',\n",
    "                                           strategy='MultiRecord',\n",
    "                                           assemble_with='Line',\n",
    "                                           output_path=batch_output)\n",
    "\n",
    "    classifier_transformer.transform(data=batch_input,\n",
    "                             data_type='S3Prefix',\n",
    "                             content_type='text/csv',\n",
    "                             split_type='Line')\n",
    "    \n",
    "    classifier_transformer.wait()\n",
    "\n",
    "    s3 = boto3.client('s3')\n",
    "    obj = s3.get_object(Bucket=bucket, Key=\"{}/batch-out/{}\".format(prefix,'batch-in.csv.out'))\n",
    "    target_predicted_df = pd.read_json(io.BytesIO(obj['Body'].read()),orient=\"records\",lines=True)\n",
    "    return test_data.iloc[:,0], target_predicted_df.iloc[:,0]"
   ]
  },
  {
   "cell_type": "markdown",
   "metadata": {},
   "source": [
    "\n",
    "To run the predictions on the test dataset, run the `batch_linear_predict` function (which was defined previously) on your test dataset.\n"
   ]
  },
  {
   "cell_type": "code",
   "execution_count": 53,
   "metadata": {},
   "outputs": [
    {
     "name": "stderr",
     "output_type": "stream",
     "text": [
      "Defaulting to the only supported framework/algorithm version: 1. Ignoring framework/algorithm version: 1.\n"
     ]
    },
    {
     "name": "stdout",
     "output_type": "stream",
     "text": [
      "......................................\u001b[34mDocker entrypoint called with argument(s): serve\u001b[0m\n",
      "\u001b[34mRunning default environment configuration script\u001b[0m\n",
      "\u001b[34m[06/09/2022 05:22:17 INFO 139767105390400] loaded entry point class algorithm.serve.server_config:config_api\u001b[0m\n",
      "\u001b[34m[06/09/2022 05:22:17 INFO 139767105390400] loading entry points\u001b[0m\n",
      "\u001b[34m[06/09/2022 05:22:17 INFO 139767105390400] loaded request iterator application/json\u001b[0m\n",
      "\u001b[34m[06/09/2022 05:22:17 INFO 139767105390400] loaded request iterator application/jsonlines\u001b[0m\n",
      "\u001b[34m[06/09/2022 05:22:17 INFO 139767105390400] loaded request iterator application/x-recordio-protobuf\u001b[0m\n",
      "\u001b[34m[06/09/2022 05:22:17 INFO 139767105390400] loaded request iterator text/csv\u001b[0m\n",
      "\u001b[34m[06/09/2022 05:22:17 INFO 139767105390400] loaded response encoder application/json\u001b[0m\n",
      "\u001b[34m[06/09/2022 05:22:17 INFO 139767105390400] loaded response encoder application/jsonlines\u001b[0m\n",
      "\u001b[34m[06/09/2022 05:22:17 INFO 139767105390400] loaded response encoder application/x-recordio-protobuf\u001b[0m\n",
      "\u001b[34m[06/09/2022 05:22:17 INFO 139767105390400] loaded response encoder text/csv\u001b[0m\n",
      "\u001b[34m[06/09/2022 05:22:18 INFO 139767105390400] loaded entry point class algorithm:model\u001b[0m\n",
      "\u001b[34m[06/09/2022 05:22:18 INFO 139767105390400] Number of server workers: 4\u001b[0m\n",
      "\u001b[34m[06/09/2022 05:22:18 INFO 139767105390400] loading model...\u001b[0m\n",
      "\u001b[34m[06/09/2022 05:22:18 INFO 139767105390400] ...model loaded.\u001b[0m\n",
      "\u001b[34m[2022-06-09 05:22:18 +0000] [1] [INFO] Starting gunicorn 20.1.0\u001b[0m\n",
      "\u001b[34m[2022-06-09 05:22:18 +0000] [1] [INFO] Listening at: http://0.0.0.0:8080 (1)\u001b[0m\n",
      "\u001b[34m[2022-06-09 05:22:18 +0000] [1] [INFO] Using worker: sync\u001b[0m\n",
      "\u001b[34m[2022-06-09 05:22:18 +0000] [62] [INFO] Booting worker with pid: 62\u001b[0m\n",
      "\u001b[34m[2022-06-09 05:22:18 +0000] [71] [INFO] Booting worker with pid: 71\u001b[0m\n",
      "\u001b[34m[2022-06-09 05:22:18 +0000] [80] [INFO] Booting worker with pid: 80\u001b[0m\n",
      "\u001b[34m[2022-06-09 05:22:18 +0000] [89] [INFO] Booting worker with pid: 89\u001b[0m\n",
      "\u001b[34m#metrics {\"StartTime\": 1654752138.1592906, \"EndTime\": 1654752139.2264066, \"Dimensions\": {\"Algorithm\": \"LinearLearnerModel\", \"Host\": \"UNKNOWN\", \"Operation\": \"scoring\"}, \"Metrics\": {\"execution_parameters.count\": {\"sum\": 1.0, \"count\": 1, \"min\": 1, \"max\": 1}}}\u001b[0m\n",
      "\u001b[34m#metrics {\"StartTime\": 1654752138.1592906, \"EndTime\": 1654752142.0879986, \"Dimensions\": {\"Algorithm\": \"LinearLearnerModel\", \"Host\": \"UNKNOWN\", \"Operation\": \"scoring\"}, \"Metrics\": {\"json.encoder.time\": {\"sum\": 141.55912399291992, \"count\": 1, \"min\": 141.55912399291992, \"max\": 141.55912399291992}, \"invocations.count\": {\"sum\": 1.0, \"count\": 1, \"min\": 1, \"max\": 1}}}\u001b[0m\n",
      "\u001b[34m#metrics {\"StartTime\": 1654752138.1592906, \"EndTime\": 1654752142.0892966, \"Dimensions\": {\"Algorithm\": \"LinearLearnerModel\", \"Host\": \"UNKNOWN\", \"Operation\": \"scoring\"}, \"Metrics\": {\"json.encoder.time\": {\"sum\": 142.26531982421875, \"count\": 1, \"min\": 142.26531982421875, \"max\": 142.26531982421875}, \"invocations.count\": {\"sum\": 1.0, \"count\": 1, \"min\": 1, \"max\": 1}}}\u001b[0m\n",
      "\u001b[34m#metrics {\"StartTime\": 1654752139.2265759, \"EndTime\": 1654752142.2244427, \"Dimensions\": {\"Algorithm\": \"LinearLearnerModel\", \"Host\": \"UNKNOWN\", \"Operation\": \"scoring\"}, \"Metrics\": {\"json.encoder.time\": {\"sum\": 145.87807655334473, \"count\": 1, \"min\": 145.87807655334473, \"max\": 145.87807655334473}, \"invocations.count\": {\"sum\": 1.0, \"count\": 1, \"min\": 1, \"max\": 1}}}\u001b[0m\n",
      "\u001b[34m#metrics {\"StartTime\": 1654752138.1592906, \"EndTime\": 1654752142.2631361, \"Dimensions\": {\"Algorithm\": \"LinearLearnerModel\", \"Host\": \"UNKNOWN\", \"Operation\": \"scoring\"}, \"Metrics\": {\"json.encoder.time\": {\"sum\": 155.20119667053223, \"count\": 1, \"min\": 155.20119667053223, \"max\": 155.20119667053223}, \"invocations.count\": {\"sum\": 1.0, \"count\": 1, \"min\": 1, \"max\": 1}}}\u001b[0m\n",
      "\n",
      "\u001b[34m#metrics {\"StartTime\": 1654752142.0894425, \"EndTime\": 1654752143.0590403, \"Dimensions\": {\"Algorithm\": \"LinearLearnerModel\", \"Host\": \"UNKNOWN\", \"Operation\": \"scoring\"}, \"Metrics\": {\"json.encoder.time\": {\"sum\": 70.0979232788086, \"count\": 1, \"min\": 70.0979232788086, \"max\": 70.0979232788086}, \"invocations.count\": {\"sum\": 1.0, \"count\": 1, \"min\": 1, \"max\": 1}}}\u001b[0m\n",
      "\u001b[35m#metrics {\"StartTime\": 1654752142.0894425, \"EndTime\": 1654752143.0590403, \"Dimensions\": {\"Algorithm\": \"LinearLearnerModel\", \"Host\": \"UNKNOWN\", \"Operation\": \"scoring\"}, \"Metrics\": {\"json.encoder.time\": {\"sum\": 70.0979232788086, \"count\": 1, \"min\": 70.0979232788086, \"max\": 70.0979232788086}, \"invocations.count\": {\"sum\": 1.0, \"count\": 1, \"min\": 1, \"max\": 1}}}\u001b[0m\n",
      "\u001b[32m2022-06-09T05:22:19.233:[sagemaker logs]: MaxConcurrentTransforms=4, MaxPayloadInMB=6, BatchStrategy=MULTI_RECORD\u001b[0m\n",
      "\u001b[34mDocker entrypoint called with argument(s): serve\u001b[0m\n",
      "\u001b[34mRunning default environment configuration script\u001b[0m\n",
      "\u001b[35mDocker entrypoint called with argument(s): serve\u001b[0m\n",
      "\u001b[35mRunning default environment configuration script\u001b[0m\n",
      "\u001b[34m[06/09/2022 05:22:17 INFO 139767105390400] loaded entry point class algorithm.serve.server_config:config_api\u001b[0m\n",
      "\u001b[34m[06/09/2022 05:22:17 INFO 139767105390400] loading entry points\u001b[0m\n",
      "\u001b[34m[06/09/2022 05:22:17 INFO 139767105390400] loaded request iterator application/json\u001b[0m\n",
      "\u001b[34m[06/09/2022 05:22:17 INFO 139767105390400] loaded request iterator application/jsonlines\u001b[0m\n",
      "\u001b[34m[06/09/2022 05:22:17 INFO 139767105390400] loaded request iterator application/x-recordio-protobuf\u001b[0m\n",
      "\u001b[35m[06/09/2022 05:22:17 INFO 139767105390400] loaded entry point class algorithm.serve.server_config:config_api\u001b[0m\n",
      "\u001b[35m[06/09/2022 05:22:17 INFO 139767105390400] loading entry points\u001b[0m\n",
      "\u001b[35m[06/09/2022 05:22:17 INFO 139767105390400] loaded request iterator application/json\u001b[0m\n",
      "\u001b[35m[06/09/2022 05:22:17 INFO 139767105390400] loaded request iterator application/jsonlines\u001b[0m\n",
      "\u001b[35m[06/09/2022 05:22:17 INFO 139767105390400] loaded request iterator application/x-recordio-protobuf\u001b[0m\n",
      "\u001b[34m[06/09/2022 05:22:17 INFO 139767105390400] loaded request iterator text/csv\u001b[0m\n",
      "\u001b[34m[06/09/2022 05:22:17 INFO 139767105390400] loaded response encoder application/json\u001b[0m\n",
      "\u001b[34m[06/09/2022 05:22:17 INFO 139767105390400] loaded response encoder application/jsonlines\u001b[0m\n",
      "\u001b[34m[06/09/2022 05:22:17 INFO 139767105390400] loaded response encoder application/x-recordio-protobuf\u001b[0m\n",
      "\u001b[34m[06/09/2022 05:22:17 INFO 139767105390400] loaded response encoder text/csv\u001b[0m\n",
      "\u001b[34m[06/09/2022 05:22:18 INFO 139767105390400] loaded entry point class algorithm:model\u001b[0m\n",
      "\u001b[34m[06/09/2022 05:22:18 INFO 139767105390400] Number of server workers: 4\u001b[0m\n",
      "\u001b[34m[06/09/2022 05:22:18 INFO 139767105390400] loading model...\u001b[0m\n",
      "\u001b[34m[06/09/2022 05:22:18 INFO 139767105390400] ...model loaded.\u001b[0m\n",
      "\u001b[34m[2022-06-09 05:22:18 +0000] [1] [INFO] Starting gunicorn 20.1.0\u001b[0m\n",
      "\u001b[34m[2022-06-09 05:22:18 +0000] [1] [INFO] Listening at: http://0.0.0.0:8080 (1)\u001b[0m\n",
      "\u001b[34m[2022-06-09 05:22:18 +0000] [1] [INFO] Using worker: sync\u001b[0m\n",
      "\u001b[34m[2022-06-09 05:22:18 +0000] [62] [INFO] Booting worker with pid: 62\u001b[0m\n",
      "\u001b[34m[2022-06-09 05:22:18 +0000] [71] [INFO] Booting worker with pid: 71\u001b[0m\n",
      "\u001b[34m[2022-06-09 05:22:18 +0000] [80] [INFO] Booting worker with pid: 80\u001b[0m\n",
      "\u001b[34m[2022-06-09 05:22:18 +0000] [89] [INFO] Booting worker with pid: 89\u001b[0m\n",
      "\u001b[35m[06/09/2022 05:22:17 INFO 139767105390400] loaded request iterator text/csv\u001b[0m\n",
      "\u001b[35m[06/09/2022 05:22:17 INFO 139767105390400] loaded response encoder application/json\u001b[0m\n",
      "\u001b[35m[06/09/2022 05:22:17 INFO 139767105390400] loaded response encoder application/jsonlines\u001b[0m\n",
      "\u001b[35m[06/09/2022 05:22:17 INFO 139767105390400] loaded response encoder application/x-recordio-protobuf\u001b[0m\n",
      "\u001b[35m[06/09/2022 05:22:17 INFO 139767105390400] loaded response encoder text/csv\u001b[0m\n",
      "\u001b[35m[06/09/2022 05:22:18 INFO 139767105390400] loaded entry point class algorithm:model\u001b[0m\n",
      "\u001b[35m[06/09/2022 05:22:18 INFO 139767105390400] Number of server workers: 4\u001b[0m\n",
      "\u001b[35m[06/09/2022 05:22:18 INFO 139767105390400] loading model...\u001b[0m\n",
      "\u001b[35m[06/09/2022 05:22:18 INFO 139767105390400] ...model loaded.\u001b[0m\n",
      "\u001b[35m[2022-06-09 05:22:18 +0000] [1] [INFO] Starting gunicorn 20.1.0\u001b[0m\n",
      "\u001b[35m[2022-06-09 05:22:18 +0000] [1] [INFO] Listening at: http://0.0.0.0:8080 (1)\u001b[0m\n",
      "\u001b[35m[2022-06-09 05:22:18 +0000] [1] [INFO] Using worker: sync\u001b[0m\n",
      "\u001b[35m[2022-06-09 05:22:18 +0000] [62] [INFO] Booting worker with pid: 62\u001b[0m\n",
      "\u001b[35m[2022-06-09 05:22:18 +0000] [71] [INFO] Booting worker with pid: 71\u001b[0m\n",
      "\u001b[35m[2022-06-09 05:22:18 +0000] [80] [INFO] Booting worker with pid: 80\u001b[0m\n",
      "\u001b[35m[2022-06-09 05:22:18 +0000] [89] [INFO] Booting worker with pid: 89\u001b[0m\n",
      "\u001b[34m#metrics {\"StartTime\": 1654752138.1592906, \"EndTime\": 1654752139.2264066, \"Dimensions\": {\"Algorithm\": \"LinearLearnerModel\", \"Host\": \"UNKNOWN\", \"Operation\": \"scoring\"}, \"Metrics\": {\"execution_parameters.count\": {\"sum\": 1.0, \"count\": 1, \"min\": 1, \"max\": 1}}}\u001b[0m\n",
      "\u001b[35m#metrics {\"StartTime\": 1654752138.1592906, \"EndTime\": 1654752139.2264066, \"Dimensions\": {\"Algorithm\": \"LinearLearnerModel\", \"Host\": \"UNKNOWN\", \"Operation\": \"scoring\"}, \"Metrics\": {\"execution_parameters.count\": {\"sum\": 1.0, \"count\": 1, \"min\": 1, \"max\": 1}}}\u001b[0m\n",
      "\u001b[34m#metrics {\"StartTime\": 1654752138.1592906, \"EndTime\": 1654752142.0879986, \"Dimensions\": {\"Algorithm\": \"LinearLearnerModel\", \"Host\": \"UNKNOWN\", \"Operation\": \"scoring\"}, \"Metrics\": {\"json.encoder.time\": {\"sum\": 141.55912399291992, \"count\": 1, \"min\": 141.55912399291992, \"max\": 141.55912399291992}, \"invocations.count\": {\"sum\": 1.0, \"count\": 1, \"min\": 1, \"max\": 1}}}\u001b[0m\n",
      "\u001b[34m#metrics {\"StartTime\": 1654752138.1592906, \"EndTime\": 1654752142.0892966, \"Dimensions\": {\"Algorithm\": \"LinearLearnerModel\", \"Host\": \"UNKNOWN\", \"Operation\": \"scoring\"}, \"Metrics\": {\"json.encoder.time\": {\"sum\": 142.26531982421875, \"count\": 1, \"min\": 142.26531982421875, \"max\": 142.26531982421875}, \"invocations.count\": {\"sum\": 1.0, \"count\": 1, \"min\": 1, \"max\": 1}}}\u001b[0m\n",
      "\u001b[34m#metrics {\"StartTime\": 1654752139.2265759, \"EndTime\": 1654752142.2244427, \"Dimensions\": {\"Algorithm\": \"LinearLearnerModel\", \"Host\": \"UNKNOWN\", \"Operation\": \"scoring\"}, \"Metrics\": {\"json.encoder.time\": {\"sum\": 145.87807655334473, \"count\": 1, \"min\": 145.87807655334473, \"max\": 145.87807655334473}, \"invocations.count\": {\"sum\": 1.0, \"count\": 1, \"min\": 1, \"max\": 1}}}\u001b[0m\n",
      "\u001b[34m#metrics {\"StartTime\": 1654752138.1592906, \"EndTime\": 1654752142.2631361, \"Dimensions\": {\"Algorithm\": \"LinearLearnerModel\", \"Host\": \"UNKNOWN\", \"Operation\": \"scoring\"}, \"Metrics\": {\"json.encoder.time\": {\"sum\": 155.20119667053223, \"count\": 1, \"min\": 155.20119667053223, \"max\": 155.20119667053223}, \"invocations.count\": {\"sum\": 1.0, \"count\": 1, \"min\": 1, \"max\": 1}}}\u001b[0m\n",
      "\u001b[35m#metrics {\"StartTime\": 1654752138.1592906, \"EndTime\": 1654752142.0879986, \"Dimensions\": {\"Algorithm\": \"LinearLearnerModel\", \"Host\": \"UNKNOWN\", \"Operation\": \"scoring\"}, \"Metrics\": {\"json.encoder.time\": {\"sum\": 141.55912399291992, \"count\": 1, \"min\": 141.55912399291992, \"max\": 141.55912399291992}, \"invocations.count\": {\"sum\": 1.0, \"count\": 1, \"min\": 1, \"max\": 1}}}\u001b[0m\n",
      "\u001b[35m#metrics {\"StartTime\": 1654752138.1592906, \"EndTime\": 1654752142.0892966, \"Dimensions\": {\"Algorithm\": \"LinearLearnerModel\", \"Host\": \"UNKNOWN\", \"Operation\": \"scoring\"}, \"Metrics\": {\"json.encoder.time\": {\"sum\": 142.26531982421875, \"count\": 1, \"min\": 142.26531982421875, \"max\": 142.26531982421875}, \"invocations.count\": {\"sum\": 1.0, \"count\": 1, \"min\": 1, \"max\": 1}}}\u001b[0m\n",
      "\u001b[35m#metrics {\"StartTime\": 1654752139.2265759, \"EndTime\": 1654752142.2244427, \"Dimensions\": {\"Algorithm\": \"LinearLearnerModel\", \"Host\": \"UNKNOWN\", \"Operation\": \"scoring\"}, \"Metrics\": {\"json.encoder.time\": {\"sum\": 145.87807655334473, \"count\": 1, \"min\": 145.87807655334473, \"max\": 145.87807655334473}, \"invocations.count\": {\"sum\": 1.0, \"count\": 1, \"min\": 1, \"max\": 1}}}\u001b[0m\n",
      "\u001b[35m#metrics {\"StartTime\": 1654752138.1592906, \"EndTime\": 1654752142.2631361, \"Dimensions\": {\"Algorithm\": \"LinearLearnerModel\", \"Host\": \"UNKNOWN\", \"Operation\": \"scoring\"}, \"Metrics\": {\"json.encoder.time\": {\"sum\": 155.20119667053223, \"count\": 1, \"min\": 155.20119667053223, \"max\": 155.20119667053223}, \"invocations.count\": {\"sum\": 1.0, \"count\": 1, \"min\": 1, \"max\": 1}}}\u001b[0m\n",
      "\u001b[34m#metrics {\"StartTime\": 1654752142.0894425, \"EndTime\": 1654752143.0590403, \"Dimensions\": {\"Algorithm\": \"LinearLearnerModel\", \"Host\": \"UNKNOWN\", \"Operation\": \"scoring\"}, \"Metrics\": {\"json.encoder.time\": {\"sum\": 70.0979232788086, \"count\": 1, \"min\": 70.0979232788086, \"max\": 70.0979232788086}, \"invocations.count\": {\"sum\": 1.0, \"count\": 1, \"min\": 1, \"max\": 1}}}\u001b[0m\n",
      "\u001b[35m#metrics {\"StartTime\": 1654752142.0894425, \"EndTime\": 1654752143.0590403, \"Dimensions\": {\"Algorithm\": \"LinearLearnerModel\", \"Host\": \"UNKNOWN\", \"Operation\": \"scoring\"}, \"Metrics\": {\"json.encoder.time\": {\"sum\": 70.0979232788086, \"count\": 1, \"min\": 70.0979232788086, \"max\": 70.0979232788086}, \"invocations.count\": {\"sum\": 1.0, \"count\": 1, \"min\": 1, \"max\": 1}}}\u001b[0m\n",
      "\u001b[32m2022-06-09T05:22:19.233:[sagemaker logs]: MaxConcurrentTransforms=4, MaxPayloadInMB=6, BatchStrategy=MULTI_RECORD\u001b[0m\n"
     ]
    }
   ],
   "source": [
    "test_labels, target_predicted = batch_linear_predict(test, classifier_estimator)"
   ]
  },
  {
   "cell_type": "markdown",
   "metadata": {},
   "source": [
    "To view a plot of the confusion matrix, and various scoring metrics, create a couple of functions:"
   ]
  },
  {
   "cell_type": "code",
   "execution_count": 54,
   "metadata": {},
   "outputs": [],
   "source": [
    "from sklearn.metrics import confusion_matrix\n",
    "\n",
    "def plot_confusion_matrix(test_labels, target_predicted):\n",
    "    matrix = confusion_matrix(test_labels, target_predicted)\n",
    "    df_confusion = pd.DataFrame(matrix)\n",
    "    colormap = sns.color_palette(\"BrBG\", 10)\n",
    "    sns.heatmap(df_confusion, annot=True, fmt='.2f', cbar=None, cmap=colormap)\n",
    "    plt.title(\"Confusion Matrix\")\n",
    "    plt.tight_layout()\n",
    "    plt.ylabel(\"True Class\")\n",
    "    plt.xlabel(\"Predicted Class\")\n",
    "    plt.show()\n",
    "    "
   ]
  },
  {
   "cell_type": "code",
   "execution_count": 55,
   "metadata": {},
   "outputs": [],
   "source": [
    "from sklearn import metrics\n",
    "\n",
    "def plot_roc(test_labels, target_predicted):\n",
    "    TN, FP, FN, TP = confusion_matrix(test_labels, target_predicted).ravel()\n",
    "    # Sensitivity, hit rate, recall, or true positive rate\n",
    "    Sensitivity  = float(TP)/(TP+FN)*100\n",
    "    # Specificity or true negative rate\n",
    "    Specificity  = float(TN)/(TN+FP)*100\n",
    "    # Precision or positive predictive value\n",
    "    Precision = float(TP)/(TP+FP)*100\n",
    "    # Negative predictive value\n",
    "    NPV = float(TN)/(TN+FN)*100\n",
    "    # Fall out or false positive rate\n",
    "    FPR = float(FP)/(FP+TN)*100\n",
    "    # False negative rate\n",
    "    FNR = float(FN)/(TP+FN)*100\n",
    "    # False discovery rate\n",
    "    FDR = float(FP)/(TP+FP)*100\n",
    "    # Overall accuracy\n",
    "    ACC = float(TP+TN)/(TP+FP+FN+TN)*100\n",
    "\n",
    "    print(\"Sensitivity or TPR: \", Sensitivity, \"%\") \n",
    "    print( \"Specificity or TNR: \",Specificity, \"%\") \n",
    "    print(\"Precision: \",Precision, \"%\") \n",
    "    print(\"Negative Predictive Value: \",NPV, \"%\") \n",
    "    print( \"False Positive Rate: \",FPR,\"%\")\n",
    "    print(\"False Negative Rate: \",FNR, \"%\") \n",
    "    print(\"False Discovery Rate: \",FDR, \"%\" )\n",
    "    print(\"Accuracy: \",ACC, \"%\") \n",
    "\n",
    "    test_labels = test.iloc[:,0];\n",
    "    print(\"Validation AUC\", metrics.roc_auc_score(test_labels, target_predicted) )\n",
    "\n",
    "    fpr, tpr, thresholds = metrics.roc_curve(test_labels, target_predicted)\n",
    "    roc_auc = metrics.auc(fpr, tpr)\n",
    "\n",
    "    plt.figure()\n",
    "    plt.plot(fpr, tpr, label='ROC curve (area = %0.2f)' % (roc_auc))\n",
    "    plt.plot([0, 1], [0, 1], 'k--')\n",
    "    plt.xlim([0.0, 1.0])\n",
    "    plt.ylim([0.0, 1.05])\n",
    "    plt.xlabel('False Positive Rate')\n",
    "    plt.ylabel('True Positive Rate')\n",
    "    plt.title('Receiver operating characteristic')\n",
    "    plt.legend(loc=\"lower right\")\n",
    "\n",
    "    # create the axis of thresholds (scores)\n",
    "    ax2 = plt.gca().twinx()\n",
    "    ax2.plot(fpr, thresholds, markeredgecolor='r',linestyle='dashed', color='r')\n",
    "    ax2.set_ylabel('Threshold',color='r')\n",
    "    ax2.set_ylim([thresholds[-1],thresholds[0]])\n",
    "    ax2.set_xlim([fpr[0],fpr[-1]])\n",
    "\n",
    "    print(plt.figure())"
   ]
  },
  {
   "cell_type": "markdown",
   "metadata": {},
   "source": [
    "To plot the confusion matrix, call the `plot_confusion_matrix` function on the `test_labels` and the `target_predicted` data from your batch job:"
   ]
  },
  {
   "cell_type": "code",
   "execution_count": 57,
   "metadata": {},
   "outputs": [
    {
     "data": {
      "image/png": "[encoded data removed]",
      "text/plain": [
       "<Figure size 432x288 with 1 Axes>"
      ]
     },
     "metadata": {
      "needs_background": "light"
     },
     "output_type": "display_data"
    }
   ],
   "source": [
    "# Enter your code here\n",
    "plot_confusion_matrix(test_labels, target_predicted)"
   ]
  },
  {
   "cell_type": "markdown",
   "metadata": {},
   "source": [
    "To print statistics and plot a receiver operating characteristic (ROC) curve, call the `plot_roc` function on the `test_labels` and `target_predicted` data from your batch job:"
   ]
  },
  {
   "cell_type": "code",
   "execution_count": 58,
   "metadata": {},
   "outputs": [
    {
     "name": "stdout",
     "output_type": "stream",
     "text": [
      "Sensitivity or TPR:  0.5068010369032709 %\n",
      "Specificity or TNR:  99.86999520220388 %\n",
      "Precision:  50.877192982456144 %\n",
      "Negative Predictive Value:  79.07142025646839 %\n",
      "False Positive Rate:  0.13000479779610913 %\n",
      "False Negative Rate:  99.49319896309673 %\n",
      "False Discovery Rate:  49.122807017543856 %\n",
      "Accuracy:  79.01246644941581 %\n",
      "Validation AUC 0.5018839811955358\n",
      "Figure(432x288)\n"
     ]
    },
    {
     "data": {
      "image/png": "[encoded data removed]",
      "text/plain": [
       "<Figure size 432x288 with 2 Axes>"
      ]
     },
     "metadata": {
      "needs_background": "light"
     },
     "output_type": "display_data"
    },
    {
     "data": {
      "text/plain": [
       "<Figure size 432x288 with 0 Axes>"
      ]
     },
     "metadata": {},
     "output_type": "display_data"
    }
   ],
   "source": [
    "# Enter your code here\n",
    "plot_roc(test_labels, target_predicted)"
   ]
  },
  {
   "cell_type": "markdown",
   "metadata": {},
   "source": [
    "### Key questions to consider:\n",
    "\n",
    "1. How does your model's performance on the test set compare to its performance on the training set? What can you deduce from this comparison? \n",
    "2. Are there obvious differences between the outcomes of metrics like accuracy, precision, and recall? If so, why might you be seeing those differences? \n",
    "3. Given your business situation and goals, which metric (or metrics) is the most important for you to consider? Why?\n",
    "4. From a business standpoint, is the outcome for the metric (or metrics) that you consider to be the most important sufficient for what you need? If not, what are some things you might change in your next iteration? (This will happen in the feature engineering section, which is next.)\n",
    "\n",
    "Use the following cells to answer these (and other) questions. Insert and delete cells where needed.\n",
    "\n",
    "#### <span style=\"color: blue;\">Project presentation: In your project presentation, write down your answers to these questions -- and other similar questions that you might answer -- in this section. Record the key details and decisions that you made.</span>"
   ]
  },
  {
   "cell_type": "markdown",
   "metadata": {},
   "source": [
    "\n",
    "**Question**: What can you summarize from the confusion matrix?\n"
   ]
  },
  {
   "cell_type": "code",
   "execution_count": null,
   "metadata": {},
   "outputs": [],
   "source": [
    "# Enter your answer here\n",
    "#Training set is better than the test set because training test based on a real life situation since the test set is used based on a test data\n",
    "#We can see the obvious difference between these three figures as the threshold is large\n",
    "#plot roc and confusion matrix are both important to this specific business process. It helps establish a point of view about the accuracy of the machine learning base on the appropriate data.\n",
    "#Yes it is sufficient\n"
   ]
  },
  {
   "cell_type": "markdown",
   "metadata": {},
   "source": [
    "## <span style=\"color:red\"> End of Step 3 </span>\n",
    "\n",
    "Save the project file to your local computer. Follow these steps:\n",
    "\n",
    "1. In the file explorer on the left, right-click the notebook that you're working on. \n",
    "\n",
    "2. Select **Download**, and save the file locally.  \n",
    "\n",
    "This action downloads the current notebook to the default download folder on your computer."
   ]
  },
  {
   "cell_type": "markdown",
   "metadata": {},
   "source": [
    "# Iteration II"
   ]
  },
  {
   "cell_type": "markdown",
   "metadata": {},
   "source": [
    "# Step 4: Feature engineering\n",
    "\n",
    "You have now gone through one iteration of training and evaluating your model. Given that the first outcome that you reached for your model probably wasn't sufficient for solving your business problem, what could you change about your data to possibly improve model performance?\n",
    "\n",
    "### Key questions to consider:\n",
    "\n",
    "1. How might the balance of your two main classes (*delay* and *no delay*) impact model performance?\n",
    "2. Do you have any features that are correlated?\n",
    "3. At this stage, could you perform any feature-reduction techniques that might have a positive impact on model performance? \n",
    "4. Can you think of adding some more data or datasets?\n",
    "5. After performing some feature engineering, how does the performance of your model compare to the first iteration?\n",
    "\n",
    "Use the following cells to perform specific feature-engineering techniques that you think could improve your model performance (use the previous questions as a guide). Insert and delete cells where needed.\n",
    "\n",
    "#### <span style=\"color: blue;\">Project presentation: In your project presentation, record your key decisions and the methods that you use in this section. Also include any new performance metrics that you obtain after you evaluate your model again.</span>\n",
    "\n",
    "Before you start, think about why the precision and recall are around 80 percent, and the accuracy is at 99 percent."
   ]
  },
  {
   "cell_type": "markdown",
   "metadata": {},
   "source": [
    "Add more features:\n",
    "\n",
    "1. Holidays\n",
    "2. Weather"
   ]
  },
  {
   "cell_type": "markdown",
   "metadata": {},
   "source": [
    "Because the list of holidays from 2014 to 2018 is known, you can create an indicator variable **is_holiday** to mark them.\n",
    "\n",
    "The hypothesis is that airplane delays could be higher during holidays compared to the rest of the days. Add a boolean variable `is_holiday` that includes the holidays for the years 2014-2018."
   ]
  },
  {
   "cell_type": "code",
   "execution_count": 60,
   "metadata": {},
   "outputs": [],
   "source": [
    "# Source: http://www.calendarpedia.com/holidays/federal-holidays-2014.html\n",
    "\n",
    "holidays_14 = ['2014-01-01',  '2014-01-20', '2014-02-17', '2014-05-26', '2014-07-04', '2014-09-01', '2014-10-13', '2014-11-11', '2014-11-27', '2014-12-25' ] \n",
    "holidays_15 = ['2015-01-01',  '2015-01-19', '2015-02-16', '2015-05-25', '2015-06-03', '2015-07-04', '2015-09-07', '2015-10-12', '2015-11-11', '2015-11-26', '2015-12-25'] \n",
    "holidays_16 = ['2016-01-01',  '2016-01-18', '2016-02-15', '2016-05-30', '2016-07-04', '2016-09-05', '2016-10-10', '2016-11-11', '2016-11-24', '2016-12-25', '2016-12-26']\n",
    "holidays_17 = ['2017-01-02', '2017-01-16', '2017-02-20', '2017-05-29' , '2017-07-04', '2017-09-04' ,'2017-10-09', '2017-11-10', '2017-11-23', '2017-12-25']\n",
    "holidays_18 = ['2018-01-01', '2018-01-15', '2018-02-19', '2018-05-28' , '2018-07-04', '2018-09-03' ,'2018-10-08', '2018-11-12','2018-11-22', '2018-12-25']\n",
    "holidays = holidays_14+ holidays_15+ holidays_16 + holidays_17+ holidays_18\n",
    "\n",
    "### Add indicator variable for holidays\n",
    "data_orig['is_holiday'] = np.isin(data_orig['FlightDate'],holidays) # Enter your code here "
   ]
  },
  {
   "cell_type": "markdown",
   "metadata": {},
   "source": [
    "Weather data was fetched from https://www.ncei.noaa.gov/access/services/data/v1?dataset=daily-summaries&stations=USW00023174,USW00012960,USW00003017,USW00094846,USW00013874,USW00023234,USW00003927,USW00023183,USW00013881&dataTypes=AWND,PRCP,SNOW,SNWD,TAVG,TMIN,TMAX&startDate=2014-01-01&endDate=2018-12-31.\n",
    "<br>\n",
    "\n",
    "This dataset has information on wind speed, precipitation, snow, and temperature for cities by their airport codes.\n",
    "\n",
    "**Question**: Could bad weather because of rain, heavy winds, or snow lead to airplane delays? You will now check."
   ]
  },
  {
   "cell_type": "code",
   "execution_count": 61,
   "metadata": {},
   "outputs": [
    {
     "name": "stdout",
     "output_type": "stream",
     "text": [
      "download: s3://aws-tc-largeobjects/CUR-TF-200-ACMLFO-1/flight_delay_project/data2/daily-summaries.csv to ../project/data/daily-summaries.csv\n"
     ]
    }
   ],
   "source": [
    "!aws s3 cp s3://aws-tc-largeobjects/CUR-TF-200-ACMLFO-1/flight_delay_project/data2/daily-summaries.csv /home/ec2-user/SageMaker/project/data/\n",
    "#!wget 'https://www.ncei.noaa.gov/access/services/data/v1?dataset=daily-summaries&stations=USW00023174,USW00012960,USW00003017,USW00094846,USW00013874,USW00023234,USW00003927,USW00023183,USW00013881&dataTypes=AWND,PRCP,SNOW,SNWD,TAVG,TMIN,TMAX&startDate=2014-01-01&endDate=2018-12-31' -O /home/ec2-user/SageMaker/project/data/daily-summaries.csv"
   ]
  },
  {
   "cell_type": "markdown",
   "metadata": {},
   "source": [
    "Import the weather data that was prepared for the airport codes in the dataset. Use the following stations and airports  for the analysis. Create a new column called *airport* that maps the weather station to the airport name."
   ]
  },
  {
   "cell_type": "code",
   "execution_count": 62,
   "metadata": {},
   "outputs": [],
   "source": [
    "weather = pd.read_csv('/home/ec2-user/SageMaker/project/data/daily-summaries.csv')\n",
    "station = ['USW00023174','USW00012960','USW00003017','USW00094846','USW00013874','USW00023234','USW00003927','USW00023183','USW00013881'] \n",
    "airports = ['LAX', 'IAH', 'DEN', 'ORD', 'ATL', 'SFO', 'DFW', 'PHX', 'CLT']\n",
    "\n",
    "### Map weather stations to airport code\n",
    "station_map = {s:a for s,a in zip(station, airports)}\n",
    "weather['airport'] = weather['STATION'].map(station_map)"
   ]
  },
  {
   "cell_type": "markdown",
   "metadata": {},
   "source": [
    "From the **DATE** column, create another column called *MONTH*."
   ]
  },
  {
   "cell_type": "code",
   "execution_count": 63,
   "metadata": {},
   "outputs": [
    {
     "data": {
      "text/html": [
       "<div>\n",
       "<style scoped>\n",
       "    .dataframe tbody tr th:only-of-type {\n",
       "        vertical-align: middle;\n",
       "    }\n",
       "\n",
       "    .dataframe tbody tr th {\n",
       "        vertical-align: top;\n",
       "    }\n",
       "\n",
       "    .dataframe thead th {\n",
       "        text-align: right;\n",
       "    }\n",
       "</style>\n",
       "<table border=\"1\" class=\"dataframe\">\n",
       "  <thead>\n",
       "    <tr style=\"text-align: right;\">\n",
       "      <th></th>\n",
       "      <th>STATION</th>\n",
       "      <th>DATE</th>\n",
       "      <th>AWND</th>\n",
       "      <th>PRCP</th>\n",
       "      <th>SNOW</th>\n",
       "      <th>SNWD</th>\n",
       "      <th>TAVG</th>\n",
       "      <th>TMAX</th>\n",
       "      <th>TMIN</th>\n",
       "      <th>airport</th>\n",
       "      <th>MONTH</th>\n",
       "    </tr>\n",
       "  </thead>\n",
       "  <tbody>\n",
       "    <tr>\n",
       "      <th>0</th>\n",
       "      <td>USW00023174</td>\n",
       "      <td>2014-01-01</td>\n",
       "      <td>16</td>\n",
       "      <td>0</td>\n",
       "      <td>NaN</td>\n",
       "      <td>NaN</td>\n",
       "      <td>131.0</td>\n",
       "      <td>178.0</td>\n",
       "      <td>78.0</td>\n",
       "      <td>LAX</td>\n",
       "      <td>01</td>\n",
       "    </tr>\n",
       "    <tr>\n",
       "      <th>1</th>\n",
       "      <td>USW00023174</td>\n",
       "      <td>2014-01-02</td>\n",
       "      <td>22</td>\n",
       "      <td>0</td>\n",
       "      <td>NaN</td>\n",
       "      <td>NaN</td>\n",
       "      <td>159.0</td>\n",
       "      <td>256.0</td>\n",
       "      <td>100.0</td>\n",
       "      <td>LAX</td>\n",
       "      <td>01</td>\n",
       "    </tr>\n",
       "    <tr>\n",
       "      <th>2</th>\n",
       "      <td>USW00023174</td>\n",
       "      <td>2014-01-03</td>\n",
       "      <td>17</td>\n",
       "      <td>0</td>\n",
       "      <td>NaN</td>\n",
       "      <td>NaN</td>\n",
       "      <td>140.0</td>\n",
       "      <td>178.0</td>\n",
       "      <td>83.0</td>\n",
       "      <td>LAX</td>\n",
       "      <td>01</td>\n",
       "    </tr>\n",
       "    <tr>\n",
       "      <th>3</th>\n",
       "      <td>USW00023174</td>\n",
       "      <td>2014-01-04</td>\n",
       "      <td>18</td>\n",
       "      <td>0</td>\n",
       "      <td>NaN</td>\n",
       "      <td>NaN</td>\n",
       "      <td>136.0</td>\n",
       "      <td>183.0</td>\n",
       "      <td>100.0</td>\n",
       "      <td>LAX</td>\n",
       "      <td>01</td>\n",
       "    </tr>\n",
       "    <tr>\n",
       "      <th>4</th>\n",
       "      <td>USW00023174</td>\n",
       "      <td>2014-01-05</td>\n",
       "      <td>18</td>\n",
       "      <td>0</td>\n",
       "      <td>NaN</td>\n",
       "      <td>NaN</td>\n",
       "      <td>151.0</td>\n",
       "      <td>244.0</td>\n",
       "      <td>83.0</td>\n",
       "      <td>LAX</td>\n",
       "      <td>01</td>\n",
       "    </tr>\n",
       "  </tbody>\n",
       "</table>\n",
       "</div>"
      ],
      "text/plain": [
       "       STATION        DATE  AWND  PRCP  SNOW  SNWD   TAVG   TMAX   TMIN  \\\n",
       "0  USW00023174  2014-01-01    16     0   NaN   NaN  131.0  178.0   78.0   \n",
       "1  USW00023174  2014-01-02    22     0   NaN   NaN  159.0  256.0  100.0   \n",
       "2  USW00023174  2014-01-03    17     0   NaN   NaN  140.0  178.0   83.0   \n",
       "3  USW00023174  2014-01-04    18     0   NaN   NaN  136.0  183.0  100.0   \n",
       "4  USW00023174  2014-01-05    18     0   NaN   NaN  151.0  244.0   83.0   \n",
       "\n",
       "  airport MONTH  \n",
       "0     LAX    01  \n",
       "1     LAX    01  \n",
       "2     LAX    01  \n",
       "3     LAX    01  \n",
       "4     LAX    01  "
      ]
     },
     "execution_count": 63,
     "metadata": {},
     "output_type": "execute_result"
    }
   ],
   "source": [
    "weather['MONTH'] = weather['DATE'].apply(lambda x: x.split('-')[1])\n",
    "weather.head()"
   ]
  },
  {
   "cell_type": "markdown",
   "metadata": {},
   "source": [
    "### Sample output\n",
    "```\n",
    "  STATION     DATE      AWND PRCP SNOW SNWD TAVG TMAX  TMIN airport MONTH\n",
    "0 USW00023174 2014-01-01 16   0   NaN  NaN 131.0 178.0 78.0  LAX    01\n",
    "1 USW00023174 2014-01-02 22   0   NaN  NaN 159.0 256.0 100.0 LAX    01\n",
    "2 USW00023174 2014-01-03 17   0   NaN  NaN 140.0 178.0 83.0  LAX    01\n",
    "3 USW00023174 2014-01-04 18   0   NaN  NaN 136.0 183.0 100.0 LAX    01\n",
    "4 USW00023174 2014-01-05 18   0   NaN  NaN 151.0 244.0 83.0  LAX    01\n",
    "```"
   ]
  },
  {
   "cell_type": "markdown",
   "metadata": {},
   "source": [
    "Analyze and handle the **SNOW** and **SNWD** columns for missing values by using `fillna()`. To check the missing values for all the columns, use the `isna()` function."
   ]
  },
  {
   "cell_type": "code",
   "execution_count": 64,
   "metadata": {},
   "outputs": [
    {
     "data": {
      "text/plain": [
       "STATION     0\n",
       "DATE        0\n",
       "AWND        0\n",
       "PRCP        0\n",
       "SNOW        0\n",
       "SNWD        0\n",
       "TAVG       62\n",
       "TMAX       20\n",
       "TMIN       20\n",
       "airport     0\n",
       "MONTH       0\n",
       "dtype: int64"
      ]
     },
     "execution_count": 64,
     "metadata": {},
     "output_type": "execute_result"
    }
   ],
   "source": [
    "weather.SNOW.fillna(0, inplace=True)\n",
    "weather.SNWD.fillna(0, inplace=True)\n",
    "weather.isna().sum()"
   ]
  },
  {
   "cell_type": "markdown",
   "metadata": {},
   "source": [
    "**Question**: Print the index of the rows that have missing values for *TAVG*, *TMAX*, *TMIN*.\n",
    "\n",
    "**Hint**: To find the rows that are missing, use the `isna()` function. Then, to get the index, use the list on the *idx* variable."
   ]
  },
  {
   "cell_type": "code",
   "execution_count": 66,
   "metadata": {},
   "outputs": [
    {
     "data": {
      "text/plain": [
       "array([ 3956,  3957,  3958,  3959,  3960,  3961,  3962,  3963,  3964,\n",
       "        3965,  3966,  3967,  3968,  3969,  3970,  3971,  3972,  3973,\n",
       "        3974,  3975,  3976,  3977,  3978,  3979,  3980,  3981,  3982,\n",
       "        3983,  3984,  3985,  4017,  4018,  4019,  4020,  4021,  4022,\n",
       "        4023,  4024,  4025,  4026,  4027,  4028,  4029,  4030,  4031,\n",
       "        4032,  4033,  4034,  4035,  4036,  4037,  4038,  4039,  4040,\n",
       "        4041,  4042,  4043,  4044,  4045,  4046,  4047, 13420])"
      ]
     },
     "execution_count": 66,
     "metadata": {},
     "output_type": "execute_result"
    }
   ],
   "source": [
    "idx = np.array([i for i in range(len(weather))])\n",
    "TAVG_idx = idx[weather.TAVG.isna()] \n",
    "TMAX_idx = idx[weather.TMAX.isna()]# Enter your code here \n",
    "TMIN_idx = idx[weather.TMIN.isna()]# Enter your code here \n",
    "TAVG_idx"
   ]
  },
  {
   "cell_type": "markdown",
   "metadata": {},
   "source": [
    "### Sample output\n",
    "\n",
    "```\n",
    "array([ 3956,  3957,  3958,  3959,  3960,  3961,  3962,  3963,  3964,\n",
    "        3965,  3966,  3967,  3968,  3969,  3970,  3971,  3972,  3973,\n",
    "        3974,  3975,  3976,  3977,  3978,  3979,  3980,  3981,  3982,\n",
    "        3983,  3984,  3985,  4017,  4018,  4019,  4020,  4021,  4022,\n",
    "        4023,  4024,  4025,  4026,  4027,  4028,  4029,  4030,  4031,\n",
    "        4032,  4033,  4034,  4035,  4036,  4037,  4038,  4039,  4040,\n",
    "        4041,  4042,  4043,  4044,  4045,  4046,  4047, 13420])\n",
    "```"
   ]
  },
  {
   "cell_type": "markdown",
   "metadata": {},
   "source": [
    "You can replace the missing *TAVG*, *TMAX*, and *TMIN* values with the average value for a particular station or airport. Because consecutive rows of *TAVG_idx* are missing, replacing them with a previous value would not be possible. Instead, replace them with the mean. Use the `groupby` function to aggregate the variables with a mean value.\n",
    "\n",
    "**Hint:** Group by `MONTH` and `STATION`."
   ]
  },
  {
   "cell_type": "code",
   "execution_count": 67,
   "metadata": {},
   "outputs": [
    {
     "data": {
      "text/html": [
       "<div>\n",
       "<style scoped>\n",
       "    .dataframe tbody tr th:only-of-type {\n",
       "        vertical-align: middle;\n",
       "    }\n",
       "\n",
       "    .dataframe tbody tr th {\n",
       "        vertical-align: top;\n",
       "    }\n",
       "\n",
       "    .dataframe thead th {\n",
       "        text-align: right;\n",
       "    }\n",
       "</style>\n",
       "<table border=\"1\" class=\"dataframe\">\n",
       "  <thead>\n",
       "    <tr style=\"text-align: right;\">\n",
       "      <th></th>\n",
       "      <th>MONTH</th>\n",
       "      <th>STATION</th>\n",
       "      <th>TAVG</th>\n",
       "      <th>TMAX</th>\n",
       "      <th>TMIN</th>\n",
       "    </tr>\n",
       "  </thead>\n",
       "  <tbody>\n",
       "    <tr>\n",
       "      <th>0</th>\n",
       "      <td>01</td>\n",
       "      <td>USW00003017</td>\n",
       "      <td>-2.741935</td>\n",
       "      <td>74.000000</td>\n",
       "      <td>-69.858065</td>\n",
       "    </tr>\n",
       "    <tr>\n",
       "      <th>1</th>\n",
       "      <td>01</td>\n",
       "      <td>USW00003927</td>\n",
       "      <td>79.529032</td>\n",
       "      <td>143.767742</td>\n",
       "      <td>20.696774</td>\n",
       "    </tr>\n",
       "  </tbody>\n",
       "</table>\n",
       "</div>"
      ],
      "text/plain": [
       "  MONTH      STATION       TAVG        TMAX       TMIN\n",
       "0    01  USW00003017  -2.741935   74.000000 -69.858065\n",
       "1    01  USW00003927  79.529032  143.767742  20.696774"
      ]
     },
     "execution_count": 67,
     "metadata": {},
     "output_type": "execute_result"
    }
   ],
   "source": [
    "weather_impute = weather.groupby(['MONTH','STATION']).agg({'TAVG':'mean','TMAX':'mean', 'TMIN':'mean' }).reset_index()# Enter your code here\n",
    "weather_impute.head(2)"
   ]
  },
  {
   "cell_type": "markdown",
   "metadata": {},
   "source": [
    "Merge the mean data with the weather data."
   ]
  },
  {
   "cell_type": "code",
   "execution_count": 68,
   "metadata": {},
   "outputs": [],
   "source": [
    "\n",
    "weather = pd.merge(weather, weather_impute,  how='left', left_on=['MONTH','STATION'], right_on = ['MONTH','STATION'])\\\n",
    ".rename(columns = {'TAVG_y':'TAVG_AVG',\n",
    "                   'TMAX_y':'TMAX_AVG', \n",
    "                   'TMIN_y':'TMIN_AVG',\n",
    "                   'TAVG_x':'TAVG',\n",
    "                   'TMAX_x':'TMAX', \n",
    "                   'TMIN_x':'TMIN'})"
   ]
  },
  {
   "cell_type": "markdown",
   "metadata": {},
   "source": [
    "Check for missing values again."
   ]
  },
  {
   "cell_type": "code",
   "execution_count": 69,
   "metadata": {},
   "outputs": [
    {
     "data": {
      "text/plain": [
       "STATION     0\n",
       "DATE        0\n",
       "AWND        0\n",
       "PRCP        0\n",
       "SNOW        0\n",
       "SNWD        0\n",
       "TAVG        0\n",
       "TMAX        0\n",
       "TMIN        0\n",
       "airport     0\n",
       "MONTH       0\n",
       "TAVG_AVG    0\n",
       "TMAX_AVG    0\n",
       "TMIN_AVG    0\n",
       "dtype: int64"
      ]
     },
     "execution_count": 69,
     "metadata": {},
     "output_type": "execute_result"
    }
   ],
   "source": [
    "weather.TAVG[TAVG_idx] = weather.TAVG_AVG[TAVG_idx]\n",
    "weather.TMAX[TMAX_idx] = weather.TMAX_AVG[TMAX_idx]\n",
    "weather.TMIN[TMIN_idx] = weather.TMIN_AVG[TMIN_idx]\n",
    "weather.isna().sum()"
   ]
  },
  {
   "cell_type": "markdown",
   "metadata": {},
   "source": [
    "Drop `STATION,MONTH,TAVG_AVG,TMAX_AVG,TMIN_AVG,TMAX,TMIN,SNWD` from the dataset."
   ]
  },
  {
   "cell_type": "code",
   "execution_count": 70,
   "metadata": {},
   "outputs": [],
   "source": [
    "weather.drop(columns=['STATION','MONTH','TAVG_AVG', 'TMAX_AVG', 'TMIN_AVG', 'TMAX' ,'TMIN', 'SNWD'],inplace=True)"
   ]
  },
  {
   "cell_type": "markdown",
   "metadata": {},
   "source": [
    "Add the origin and destination weather conditions to the dataset."
   ]
  },
  {
   "cell_type": "code",
   "execution_count": 71,
   "metadata": {},
   "outputs": [],
   "source": [
    "### Add origin weather conditions\n",
    "data_orig = pd.merge(data_orig, weather,  how='left', left_on=['FlightDate','Origin'], right_on = ['DATE','airport'])\\\n",
    ".rename(columns = {'AWND':'AWND_O','PRCP':'PRCP_O', 'TAVG':'TAVG_O', 'SNOW': 'SNOW_O'})\\\n",
    ".drop(columns=['DATE','airport'])\n",
    "\n",
    "### Add destination weather conditions\n",
    "data_orig = pd.merge(data_orig, weather,  how='left', left_on=['FlightDate','Dest'], right_on = ['DATE','airport'])\\\n",
    ".rename(columns = {'AWND':'AWND_D','PRCP':'PRCP_D', 'TAVG':'TAVG_D', 'SNOW': 'SNOW_D'})\\\n",
    ".drop(columns=['DATE','airport'])"
   ]
  },
  {
   "cell_type": "markdown",
   "metadata": {},
   "source": [
    "**Note**: It's always a good practice to check for nulls or NAs after joins."
   ]
  },
  {
   "cell_type": "code",
   "execution_count": 72,
   "metadata": {},
   "outputs": [
    {
     "data": {
      "text/plain": [
       "0"
      ]
     },
     "execution_count": 72,
     "metadata": {},
     "output_type": "execute_result"
    }
   ],
   "source": [
    "sum(data.isna().any())"
   ]
  },
  {
   "cell_type": "code",
   "execution_count": 73,
   "metadata": {},
   "outputs": [
    {
     "data": {
      "text/plain": [
       "Index(['Year', 'Quarter', 'Month', 'DayofMonth', 'DayOfWeek', 'FlightDate',\n",
       "       'Reporting_Airline', 'Origin', 'OriginState', 'Dest', 'DestState',\n",
       "       'CRSDepTime', 'Cancelled', 'Diverted', 'Distance', 'DistanceGroup',\n",
       "       'ArrDelay', 'ArrDelayMinutes', 'is_delay', 'AirTime', 'DepHourofDay',\n",
       "       'is_holiday', 'AWND_O', 'PRCP_O', 'SNOW_O', 'TAVG_O', 'AWND_D',\n",
       "       'PRCP_D', 'SNOW_D', 'TAVG_D'],\n",
       "      dtype='object')"
      ]
     },
     "execution_count": 73,
     "metadata": {},
     "output_type": "execute_result"
    }
   ],
   "source": [
    "data_orig.columns"
   ]
  },
  {
   "cell_type": "markdown",
   "metadata": {},
   "source": [
    "Convert the categorical data into numerical data by using one-hot encoding."
   ]
  },
  {
   "cell_type": "code",
   "execution_count": 74,
   "metadata": {},
   "outputs": [],
   "source": [
    "data = data_orig.copy()\n",
    "data = data[['is_delay', 'Year', 'Quarter', 'Month', 'DayofMonth', 'DayOfWeek', \n",
    "       'Reporting_Airline', 'Origin', 'Dest','Distance','DepHourofDay','is_holiday', 'AWND_O', 'PRCP_O',\n",
    "       'TAVG_O', 'AWND_D', 'PRCP_D', 'TAVG_D', 'SNOW_O', 'SNOW_D']]\n",
    "\n",
    "\n",
    "categorical_columns  = ['Year', 'Quarter', 'Month', 'DayofMonth', 'DayOfWeek', \n",
    "       'Reporting_Airline', 'Origin', 'Dest', 'is_holiday']\n",
    "for c in categorical_columns:\n",
    "    data[c] = data[c].astype('category')"
   ]
  },
  {
   "cell_type": "code",
   "execution_count": 75,
   "metadata": {},
   "outputs": [],
   "source": [
    "data_dummies = pd.get_dummies(data[['Year', 'Quarter', 'Month', 'DayofMonth', 'DayOfWeek', 'Reporting_Airline', 'Origin', 'Dest', 'is_holiday']], drop_first=True)\n",
    "data = pd.concat([data, data_dummies], axis = 1)\n",
    "data.drop(categorical_columns,axis=1, inplace=True)"
   ]
  },
  {
   "cell_type": "markdown",
   "metadata": {},
   "source": [
    "Check the new columns."
   ]
  },
  {
   "cell_type": "code",
   "execution_count": 76,
   "metadata": {},
   "outputs": [
    {
     "data": {
      "text/plain": [
       "(1635590, 86)"
      ]
     },
     "execution_count": 76,
     "metadata": {},
     "output_type": "execute_result"
    }
   ],
   "source": [
    "data.shape"
   ]
  },
  {
   "cell_type": "code",
   "execution_count": 77,
   "metadata": {},
   "outputs": [
    {
     "data": {
      "text/plain": [
       "Index(['is_delay', 'Distance', 'DepHourofDay', 'AWND_O', 'PRCP_O', 'TAVG_O',\n",
       "       'AWND_D', 'PRCP_D', 'TAVG_D', 'SNOW_O', 'SNOW_D', 'Year_2015',\n",
       "       'Year_2016', 'Year_2017', 'Year_2018', 'Quarter_2', 'Quarter_3',\n",
       "       'Quarter_4', 'Month_2', 'Month_3', 'Month_4', 'Month_5', 'Month_6',\n",
       "       'Month_7', 'Month_8', 'Month_9', 'Month_10', 'Month_11', 'Month_12',\n",
       "       'DayofMonth_2', 'DayofMonth_3', 'DayofMonth_4', 'DayofMonth_5',\n",
       "       'DayofMonth_6', 'DayofMonth_7', 'DayofMonth_8', 'DayofMonth_9',\n",
       "       'DayofMonth_10', 'DayofMonth_11', 'DayofMonth_12', 'DayofMonth_13',\n",
       "       'DayofMonth_14', 'DayofMonth_15', 'DayofMonth_16', 'DayofMonth_17',\n",
       "       'DayofMonth_18', 'DayofMonth_19', 'DayofMonth_20', 'DayofMonth_21',\n",
       "       'DayofMonth_22', 'DayofMonth_23', 'DayofMonth_24', 'DayofMonth_25',\n",
       "       'DayofMonth_26', 'DayofMonth_27', 'DayofMonth_28', 'DayofMonth_29',\n",
       "       'DayofMonth_30', 'DayofMonth_31', 'DayOfWeek_2', 'DayOfWeek_3',\n",
       "       'DayOfWeek_4', 'DayOfWeek_5', 'DayOfWeek_6', 'DayOfWeek_7',\n",
       "       'Reporting_Airline_DL', 'Reporting_Airline_OO', 'Reporting_Airline_UA',\n",
       "       'Reporting_Airline_WN', 'Origin_CLT', 'Origin_DEN', 'Origin_DFW',\n",
       "       'Origin_IAH', 'Origin_LAX', 'Origin_ORD', 'Origin_PHX', 'Origin_SFO',\n",
       "       'Dest_CLT', 'Dest_DEN', 'Dest_DFW', 'Dest_IAH', 'Dest_LAX', 'Dest_ORD',\n",
       "       'Dest_PHX', 'Dest_SFO', 'is_holiday_True'],\n",
       "      dtype='object')"
      ]
     },
     "execution_count": 77,
     "metadata": {},
     "output_type": "execute_result"
    }
   ],
   "source": [
    "data.columns"
   ]
  },
  {
   "cell_type": "markdown",
   "metadata": {},
   "source": [
    "### Sample output\n",
    "\n",
    "```\n",
    "Index(['Distance', 'DepHourofDay', 'is_delay', 'AWND_O', 'PRCP_O', 'TAVG_O',\n",
    "       'AWND_D', 'PRCP_D', 'TAVG_D', 'SNOW_O', 'SNOW_D', 'Year_2015',\n",
    "       'Year_2016', 'Year_2017', 'Year_2018', 'Quarter_2', 'Quarter_3',\n",
    "       'Quarter_4', 'Month_2', 'Month_3', 'Month_4', 'Month_5', 'Month_6',\n",
    "       'Month_7', 'Month_8', 'Month_9', 'Month_10', 'Month_11', 'Month_12',\n",
    "       'DayofMonth_2', 'DayofMonth_3', 'DayofMonth_4', 'DayofMonth_5',\n",
    "       'DayofMonth_6', 'DayofMonth_7', 'DayofMonth_8', 'DayofMonth_9',\n",
    "       'DayofMonth_10', 'DayofMonth_11', 'DayofMonth_12', 'DayofMonth_13',\n",
    "       'DayofMonth_14', 'DayofMonth_15', 'DayofMonth_16', 'DayofMonth_17',\n",
    "       'DayofMonth_18', 'DayofMonth_19', 'DayofMonth_20', 'DayofMonth_21',\n",
    "       'DayofMonth_22', 'DayofMonth_23', 'DayofMonth_24', 'DayofMonth_25',\n",
    "       'DayofMonth_26', 'DayofMonth_27', 'DayofMonth_28', 'DayofMonth_29',\n",
    "       'DayofMonth_30', 'DayofMonth_31', 'DayOfWeek_2', 'DayOfWeek_3',\n",
    "       'DayOfWeek_4', 'DayOfWeek_5', 'DayOfWeek_6', 'DayOfWeek_7',\n",
    "       'Reporting_Airline_DL', 'Reporting_Airline_OO', 'Reporting_Airline_UA',\n",
    "       'Reporting_Airline_WN', 'Origin_CLT', 'Origin_DEN', 'Origin_DFW',\n",
    "       'Origin_IAH', 'Origin_LAX', 'Origin_ORD', 'Origin_PHX', 'Origin_SFO',\n",
    "       'Dest_CLT', 'Dest_DEN', 'Dest_DFW', 'Dest_IAH', 'Dest_LAX', 'Dest_ORD',\n",
    "       'Dest_PHX', 'Dest_SFO', 'is_holiday_1'],\n",
    "      dtype='object')\n",
    "```"
   ]
  },
  {
   "cell_type": "markdown",
   "metadata": {},
   "source": [
    "Rename the **is_delay** column to *target* again. Use the same code that you used previously."
   ]
  },
  {
   "cell_type": "code",
   "execution_count": 78,
   "metadata": {},
   "outputs": [],
   "source": [
    "data.rename(columns = {'is_delay':'target'}, inplace=True )# Enter your code here"
   ]
  },
  {
   "cell_type": "markdown",
   "metadata": {},
   "source": [
    "Create the training sets again.\n",
    "\n",
    "**Hint:** Use the `split_data` function that you defined (and used) earlier."
   ]
  },
  {
   "cell_type": "code",
   "execution_count": 79,
   "metadata": {},
   "outputs": [
    {
     "name": "stdout",
     "output_type": "stream",
     "text": [
      "0.0    1033806\n",
      "1.0     274666\n",
      "Name: target, dtype: int64\n",
      "0.0    129226\n",
      "1.0     34333\n",
      "Name: target, dtype: int64\n",
      "0.0    129226\n",
      "1.0     34333\n",
      "Name: target, dtype: int64\n"
     ]
    }
   ],
   "source": [
    "train, validate, test = split_data(data)\n",
    "print(train['target'].value_counts())\n",
    "print(test['target'].value_counts())\n",
    "print(validate['target'].value_counts())"
   ]
  },
  {
   "cell_type": "markdown",
   "metadata": {},
   "source": [
    "### New baseline classifier\n",
    "\n",
    "Now, see if these new features add any predictive power to the model."
   ]
  },
  {
   "cell_type": "code",
   "execution_count": 80,
   "metadata": {},
   "outputs": [],
   "source": [
    "# Instantiate the LinearLearner estimator object\n",
    "classifier_estimator2 = sagemaker.LinearLearner(role=sagemaker.get_execution_role(),\n",
    "                                                instance_count=1, \n",
    "                                                instance_type='ml.m4.xlarge',\n",
    "                                                predictor_type='binary_classifier',\n",
    "                                                binary_classifier_model_selection_criteria='cross_entropy_loss')# Enter your code here"
   ]
  },
  {
   "cell_type": "markdown",
   "metadata": {},
   "source": [
    "### Sample code\n",
    "\n",
    "```\n",
    "num_classes = len(pd.unique(train_labels)) \n",
    "classifier_estimator2 = sagemaker.LinearLearner(role=sagemaker.get_execution_role(),\n",
    "                                               instance_count=1,\n",
    "                                               instance_type='ml.m4.xlarge',\n",
    "                                               predictor_type='binary_classifier',\n",
    "                                               binary_classifier_model_selection_criteria = 'cross_entropy_loss')\n",
    "```"
   ]
  },
  {
   "cell_type": "code",
   "execution_count": 81,
   "metadata": {},
   "outputs": [],
   "source": [
    "train_records = classifier_estimator2.record_set(train.values[:, 1:].astype(np.float32), train.values[:, 0].astype(np.float32), channel='train')\n",
    "val_records = classifier_estimator2.record_set(validate.values[:, 1:].astype(np.float32), validate.values[:, 0].astype(np.float32), channel='validation')\n",
    "test_records = classifier_estimator2.record_set(test.values[:, 1:].astype(np.float32), test.values[:, 0].astype(np.float32), channel='test')"
   ]
  },
  {
   "cell_type": "markdown",
   "metadata": {},
   "source": [
    "Train your model by using the three datasets that you just created."
   ]
  },
  {
   "cell_type": "code",
   "execution_count": 82,
   "metadata": {},
   "outputs": [
    {
     "name": "stderr",
     "output_type": "stream",
     "text": [
      "Defaulting to the only supported framework/algorithm version: 1. Ignoring framework/algorithm version: 1.\n",
      "Defaulting to the only supported framework/algorithm version: 1. Ignoring framework/algorithm version: 1.\n"
     ]
    },
    {
     "name": "stdout",
     "output_type": "stream",
     "text": [
      "2022-06-09 05:41:48 Starting - Starting the training job...ProfilerReport-1654753307: InProgress\n",
      "...\n",
      "2022-06-09 05:42:34 Starting - Preparing the instances for training......\n",
      "2022-06-09 05:43:41 Downloading - Downloading input data......\n",
      "2022-06-09 05:44:34 Training - Downloading the training image.....\u001b[34mDocker entrypoint called with argument(s): train\u001b[0m\n",
      "\u001b[34mRunning default environment configuration script\u001b[0m\n",
      "\u001b[34m[06/09/2022 05:45:30 INFO 140325321312064] Reading default configuration from /opt/amazon/lib/python3.7/site-packages/algorithm/resources/default-input.json: {'mini_batch_size': '1000', 'epochs': '15', 'feature_dim': 'auto', 'use_bias': 'true', 'binary_classifier_model_selection_criteria': 'accuracy', 'f_beta': '1.0', 'target_recall': '0.8', 'target_precision': '0.8', 'num_models': 'auto', 'num_calibration_samples': '10000000', 'init_method': 'uniform', 'init_scale': '0.07', 'init_sigma': '0.01', 'init_bias': '0.0', 'optimizer': 'auto', 'loss': 'auto', 'margin': '1.0', 'quantile': '0.5', 'loss_insensitivity': '0.01', 'huber_delta': '1.0', 'num_classes': '1', 'accuracy_top_k': '3', 'wd': 'auto', 'l1': 'auto', 'momentum': 'auto', 'learning_rate': 'auto', 'beta_1': 'auto', 'beta_2': 'auto', 'bias_lr_mult': 'auto', 'bias_wd_mult': 'auto', 'use_lr_scheduler': 'true', 'lr_scheduler_step': 'auto', 'lr_scheduler_factor': 'auto', 'lr_scheduler_minimum_lr': 'auto', 'positive_example_weight_mult': '1.0', 'balance_multiclass_weights': 'false', 'normalize_data': 'true', 'normalize_label': 'auto', 'unbias_data': 'auto', 'unbias_label': 'auto', 'num_point_for_scaler': '10000', '_kvstore': 'auto', '_num_gpus': 'auto', '_num_kv_servers': 'auto', '_log_level': 'info', '_tuning_objective_metric': '', 'early_stopping_patience': '3', 'early_stopping_tolerance': '0.001', '_enable_profiler': 'false'}\u001b[0m\n",
      "\u001b[34m[06/09/2022 05:45:30 INFO 140325321312064] Merging with provided configuration from /opt/ml/input/config/hyperparameters.json: {'binary_classifier_model_selection_criteria': 'cross_entropy_loss', 'feature_dim': '85', 'mini_batch_size': '1000', 'predictor_type': 'binary_classifier'}\u001b[0m\n",
      "\u001b[34m[06/09/2022 05:45:30 INFO 140325321312064] Final configuration: {'mini_batch_size': '1000', 'epochs': '15', 'feature_dim': '85', 'use_bias': 'true', 'binary_classifier_model_selection_criteria': 'cross_entropy_loss', 'f_beta': '1.0', 'target_recall': '0.8', 'target_precision': '0.8', 'num_models': 'auto', 'num_calibration_samples': '10000000', 'init_method': 'uniform', 'init_scale': '0.07', 'init_sigma': '0.01', 'init_bias': '0.0', 'optimizer': 'auto', 'loss': 'auto', 'margin': '1.0', 'quantile': '0.5', 'loss_insensitivity': '0.01', 'huber_delta': '1.0', 'num_classes': '1', 'accuracy_top_k': '3', 'wd': 'auto', 'l1': 'auto', 'momentum': 'auto', 'learning_rate': 'auto', 'beta_1': 'auto', 'beta_2': 'auto', 'bias_lr_mult': 'auto', 'bias_wd_mult': 'auto', 'use_lr_scheduler': 'true', 'lr_scheduler_step': 'auto', 'lr_scheduler_factor': 'auto', 'lr_scheduler_minimum_lr': 'auto', 'positive_example_weight_mult': '1.0', 'balance_multiclass_weights': 'false', 'normalize_data': 'true', 'normalize_label': 'auto', 'unbias_data': 'auto', 'unbias_label': 'auto', 'num_point_for_scaler': '10000', '_kvstore': 'auto', '_num_gpus': 'auto', '_num_kv_servers': 'auto', '_log_level': 'info', '_tuning_objective_metric': '', 'early_stopping_patience': '3', 'early_stopping_tolerance': '0.001', '_enable_profiler': 'false', 'predictor_type': 'binary_classifier'}\u001b[0m\n",
      "\u001b[34m[06/09/2022 05:45:30 WARNING 140325321312064] Loggers have already been setup.\u001b[0m\n",
      "\u001b[34mProcess 1 is a worker.\u001b[0m\n",
      "\u001b[34m[06/09/2022 05:45:30 INFO 140325321312064] Using default worker.\u001b[0m\n",
      "\u001b[34m[06/09/2022 05:45:31 INFO 140325321312064] Checkpoint loading and saving are disabled.\u001b[0m\n",
      "\u001b[34m[2022-06-09 05:45:31.188] [tensorio] [warning] TensorIO is already initialized; ignoring the initialization routine.\u001b[0m\n",
      "\u001b[34m[2022-06-09 05:45:31.204] [tensorio] [warning] TensorIO is already initialized; ignoring the initialization routine.\u001b[0m\n",
      "\u001b[34m[2022-06-09 05:45:31.261] [tensorio] [info] epoch_stats={\"data_pipeline\": \"/opt/ml/input/data/train\", \"epoch\": 0, \"duration\": 81, \"num_examples\": 1, \"num_bytes\": 388000}\u001b[0m\n",
      "\u001b[34m[06/09/2022 05:45:31 INFO 140325321312064] Create Store: local\u001b[0m\n",
      "\u001b[34m[2022-06-09 05:45:31.439] [tensorio] [info] epoch_stats={\"data_pipeline\": \"/opt/ml/input/data/train\", \"epoch\": 1, \"duration\": 177, \"num_examples\": 11, \"num_bytes\": 4268000}\u001b[0m\n",
      "\u001b[34m[06/09/2022 05:45:31 INFO 140325321312064] Scaler algorithm parameters\n",
      " <algorithm.scaler.ScalerAlgorithmStable object at 0x7f9f90d37490>\u001b[0m\n",
      "\u001b[34m[06/09/2022 05:45:31 INFO 140325321312064] Scaling model computed with parameters:\n",
      " {'stdev_label': None, 'stdev_weight': \u001b[0m\n",
      "\u001b[34m[5.4260284e+02 4.9793963e+00 1.6464424e+01 7.7796936e+01 8.9095680e+01\n",
      " 1.6014853e+01 8.4975388e+01 8.8682106e+01 7.3867478e+00 7.7358603e+00\n",
      " 3.9856103e-01 4.0993649e-01 4.0535262e-01 4.0878886e-01 4.3364072e-01\n",
      " 4.4045800e-01 4.3369293e-01 2.6353797e-01 2.7408749e-01 2.7738786e-01\n",
      " 2.7505600e-01 2.7833983e-01 2.8276533e-01 2.8513700e-01 2.8103408e-01\n",
      " 2.8036404e-01 2.7367094e-01 2.7684170e-01 1.7454271e-01 1.7380884e-01\n",
      " 1.7108734e-01 1.7183442e-01 1.7911112e-01 1.7648272e-01 1.8764295e-01\n",
      " 1.8308820e-01 1.8515393e-01 1.7282483e-01 1.8853861e-01 1.8099524e-01\n",
      " 1.7551580e-01 1.8308820e-01 1.7744364e-01 1.7158580e-01 1.7033653e-01\n",
      " 1.8169595e-01 1.8764298e-01 1.7600000e-01 1.7503002e-01 1.7527308e-01\n",
      " 1.6497274e-01 1.7934787e-01 1.8423913e-01 1.7863652e-01 1.8239361e-01\n",
      " 1.7429848e-01 1.6626751e-01 1.3652474e-01 3.5264990e-01 3.4914339e-01\n",
      " 3.5796028e-01 3.5537016e-01 3.2239267e-01 3.4623089e-01 3.7175387e-01\n",
      " 2.3799145e-01 4.5998263e-01 3.1015065e-01 2.4132060e-01 3.1480634e-01\n",
      " 3.2739079e-01 2.7697837e-01 3.5473916e-01 3.4065232e-01 2.8953859e-01\n",
      " 3.3236092e-01 2.4572209e-01 3.1198105e-01 3.3215651e-01 2.6731133e-01\n",
      " 3.5563987e-01 3.4074995e-01 2.9346591e-01 3.3266723e-01 1.6287702e-01]\u001b[0m\n",
      "\u001b[34m<NDArray 85 @cpu(0)>, 'mean_label': None, 'mean_weight': \u001b[0m\n",
      "\u001b[34m[1.01604962e+03 1.28672733e+01 3.86828117e+01 2.19049110e+01\n",
      " 1.71672333e+02 3.85817261e+01 2.13925438e+01 1.72460983e+02\n",
      " 6.29181802e-01 6.89999998e-01 1.98090941e-01 2.13727280e-01\n",
      " 2.07272753e-01 2.12090939e-01 2.51090884e-01 2.63363659e-01\n",
      " 2.51181841e-01 7.50909150e-02 8.18181857e-02 8.40000063e-02\n",
      " 8.24545547e-02 8.46363679e-02 8.76363665e-02 8.92727450e-02\n",
      " 8.64545554e-02 8.60000178e-02 8.15454721e-02 8.36363658e-02\n",
      " 3.14545482e-02 3.11818197e-02 3.01818196e-02 3.04545481e-02\n",
      " 3.31818201e-02 3.21818180e-02 3.65454555e-02 3.47272754e-02\n",
      " 3.55454534e-02 3.08181811e-02 3.69090922e-02 3.39090973e-02\n",
      " 3.18181813e-02 3.47272791e-02 3.25454548e-02 3.03636398e-02\n",
      " 2.99090967e-02 3.41818221e-02 3.65454592e-02 3.20000015e-02\n",
      " 3.16363648e-02 3.17272693e-02 2.80000009e-02 3.32727283e-02\n",
      " 3.51818204e-02 3.29999998e-02 3.44545469e-02 3.13636363e-02\n",
      " 2.84545440e-02 1.90000013e-02 1.45545483e-01 1.42090932e-01\n",
      " 1.50909096e-01 1.48272753e-01 1.17818192e-01 1.39272735e-01\n",
      " 1.65636376e-01 6.02727346e-02 3.04000020e-01 1.07818194e-01\n",
      " 6.20909110e-02 1.11545466e-01 1.22090921e-01 8.37272704e-02\n",
      " 1.47636354e-01 1.34000018e-01 9.23636481e-02 1.26454547e-01\n",
      " 6.45454675e-02 1.09272741e-01 1.26272753e-01 7.74545521e-02\n",
      " 1.48545459e-01 1.34090930e-01 9.51818228e-02 1.26727283e-01\n",
      " 2.72727311e-02]\u001b[0m\n",
      "\u001b[34m<NDArray 85 @cpu(0)>}\u001b[0m\n",
      "\u001b[34m[06/09/2022 05:45:31 INFO 140325321312064] nvidia-smi: took 0.085 seconds to run.\u001b[0m\n",
      "\u001b[34m[06/09/2022 05:45:31 INFO 140325321312064] nvidia-smi identified 0 GPUs.\u001b[0m\n",
      "\u001b[34m[06/09/2022 05:45:31 INFO 140325321312064] Number of GPUs being used: 0\u001b[0m\n",
      "\u001b[34m#metrics {\"StartTime\": 1654753531.6645465, \"EndTime\": 1654753531.6646082, \"Dimensions\": {\"Algorithm\": \"Linear Learner\", \"Host\": \"algo-1\", \"Operation\": \"training\", \"Meta\": \"init_train_data_iter\"}, \"Metrics\": {\"Total Records Seen\": {\"sum\": 12000.0, \"count\": 1, \"min\": 12000, \"max\": 12000}, \"Total Batches Seen\": {\"sum\": 12.0, \"count\": 1, \"min\": 12, \"max\": 12}, \"Max Records Seen Between Resets\": {\"sum\": 11000.0, \"count\": 1, \"min\": 11000, \"max\": 11000}, \"Max Batches Seen Between Resets\": {\"sum\": 11.0, \"count\": 1, \"min\": 11, \"max\": 11}, \"Reset Count\": {\"sum\": 2.0, \"count\": 1, \"min\": 2, \"max\": 2}, \"Number of Records Since Last Reset\": {\"sum\": 0.0, \"count\": 1, \"min\": 0, \"max\": 0}, \"Number of Batches Since Last Reset\": {\"sum\": 0.0, \"count\": 1, \"min\": 0, \"max\": 0}}}\u001b[0m\n",
      "\n",
      "2022-06-09 05:45:34 Training - Training image download completed. Training in progress.\u001b[34m[2022-06-09 05:46:30.523] [tensorio] [info] epoch_stats={\"data_pipeline\": \"/opt/ml/input/data/train\", \"epoch\": 3, \"duration\": 58858, \"num_examples\": 1309, \"num_bytes\": 507687136}\u001b[0m\n",
      "\u001b[34m#metrics {\"StartTime\": 1654753590.523899, \"EndTime\": 1654753590.5240035, \"Dimensions\": {\"Algorithm\": \"Linear Learner\", \"Host\": \"algo-1\", \"Operation\": \"training\", \"epoch\": 0, \"model\": 0}, \"Metrics\": {\"train_binary_classification_cross_entropy_objective\": {\"sum\": 0.48298761207977203, \"count\": 1, \"min\": 0.48298761207977203, \"max\": 0.48298761207977203}}}\u001b[0m\n",
      "\u001b[34m#metrics {\"StartTime\": 1654753590.5241103, \"EndTime\": 1654753590.5241334, \"Dimensions\": {\"Algorithm\": \"Linear Learner\", \"Host\": \"algo-1\", \"Operation\": \"training\", \"epoch\": 0, \"model\": 1}, \"Metrics\": {\"train_binary_classification_cross_entropy_objective\": {\"sum\": 0.4835413225039794, \"count\": 1, \"min\": 0.4835413225039794, \"max\": 0.4835413225039794}}}\u001b[0m\n",
      "\u001b[34m#metrics {\"StartTime\": 1654753590.5241961, \"EndTime\": 1654753590.524214, \"Dimensions\": {\"Algorithm\": \"Linear Learner\", \"Host\": \"algo-1\", \"Operation\": \"training\", \"epoch\": 0, \"model\": 2}, \"Metrics\": {\"train_binary_classification_cross_entropy_objective\": {\"sum\": 0.4830766614861445, \"count\": 1, \"min\": 0.4830766614861445, \"max\": 0.4830766614861445}}}\u001b[0m\n",
      "\u001b[34m#metrics {\"StartTime\": 1654753590.524266, \"EndTime\": 1654753590.524283, \"Dimensions\": {\"Algorithm\": \"Linear Learner\", \"Host\": \"algo-1\", \"Operation\": \"training\", \"epoch\": 0, \"model\": 3}, \"Metrics\": {\"train_binary_classification_cross_entropy_objective\": {\"sum\": 0.4835672828371007, \"count\": 1, \"min\": 0.4835672828371007, \"max\": 0.4835672828371007}}}\u001b[0m\n",
      "\u001b[34m#metrics {\"StartTime\": 1654753590.5243492, \"EndTime\": 1654753590.5243669, \"Dimensions\": {\"Algorithm\": \"Linear Learner\", \"Host\": \"algo-1\", \"Operation\": \"training\", \"epoch\": 0, \"model\": 4}, \"Metrics\": {\"train_binary_classification_cross_entropy_objective\": {\"sum\": 0.495051971248895, \"count\": 1, \"min\": 0.495051971248895, \"max\": 0.495051971248895}}}\u001b[0m\n",
      "\u001b[34m#metrics {\"StartTime\": 1654753590.524434, \"EndTime\": 1654753590.5244522, \"Dimensions\": {\"Algorithm\": \"Linear Learner\", \"Host\": \"algo-1\", \"Operation\": \"training\", \"epoch\": 0, \"model\": 5}, \"Metrics\": {\"train_binary_classification_cross_entropy_objective\": {\"sum\": 0.5045717857430835, \"count\": 1, \"min\": 0.5045717857430835, \"max\": 0.5045717857430835}}}\u001b[0m\n",
      "\u001b[34m#metrics {\"StartTime\": 1654753590.5245082, \"EndTime\": 1654753590.524526, \"Dimensions\": {\"Algorithm\": \"Linear Learner\", \"Host\": \"algo-1\", \"Operation\": \"training\", \"epoch\": 0, \"model\": 6}, \"Metrics\": {\"train_binary_classification_cross_entropy_objective\": {\"sum\": 0.49505115273385236, \"count\": 1, \"min\": 0.49505115273385236, \"max\": 0.49505115273385236}}}\u001b[0m\n",
      "\u001b[34m#metrics {\"StartTime\": 1654753590.5245926, \"EndTime\": 1654753590.5246096, \"Dimensions\": {\"Algorithm\": \"Linear Learner\", \"Host\": \"algo-1\", \"Operation\": \"training\", \"epoch\": 0, \"model\": 7}, \"Metrics\": {\"train_binary_classification_cross_entropy_objective\": {\"sum\": 0.5045422580497345, \"count\": 1, \"min\": 0.5045422580497345, \"max\": 0.5045422580497345}}}\u001b[0m\n",
      "\u001b[34m#metrics {\"StartTime\": 1654753590.5246644, \"EndTime\": 1654753590.5246806, \"Dimensions\": {\"Algorithm\": \"Linear Learner\", \"Host\": \"algo-1\", \"Operation\": \"training\", \"epoch\": 0, \"model\": 8}, \"Metrics\": {\"train_binary_classification_cross_entropy_objective\": {\"sum\": 0.4832802712443407, \"count\": 1, \"min\": 0.4832802712443407, \"max\": 0.4832802712443407}}}\u001b[0m\n",
      "\u001b[34m#metrics {\"StartTime\": 1654753590.5247343, \"EndTime\": 1654753590.524751, \"Dimensions\": {\"Algorithm\": \"Linear Learner\", \"Host\": \"algo-1\", \"Operation\": \"training\", \"epoch\": 0, \"model\": 9}, \"Metrics\": {\"train_binary_classification_cross_entropy_objective\": {\"sum\": 0.48374161317224534, \"count\": 1, \"min\": 0.48374161317224534, \"max\": 0.48374161317224534}}}\u001b[0m\n",
      "\u001b[34m#metrics {\"StartTime\": 1654753590.5248058, \"EndTime\": 1654753590.5248222, \"Dimensions\": {\"Algorithm\": \"Linear Learner\", \"Host\": \"algo-1\", \"Operation\": \"training\", \"epoch\": 0, \"model\": 10}, \"Metrics\": {\"train_binary_classification_cross_entropy_objective\": {\"sum\": 0.4832287038167318, \"count\": 1, \"min\": 0.4832287038167318, \"max\": 0.4832287038167318}}}\u001b[0m\n",
      "\u001b[34m#metrics {\"StartTime\": 1654753590.5248766, \"EndTime\": 1654753590.5248935, \"Dimensions\": {\"Algorithm\": \"Linear Learner\", \"Host\": \"algo-1\", \"Operation\": \"training\", \"epoch\": 0, \"model\": 11}, \"Metrics\": {\"train_binary_classification_cross_entropy_objective\": {\"sum\": 0.48368928175526654, \"count\": 1, \"min\": 0.48368928175526654, \"max\": 0.48368928175526654}}}\u001b[0m\n",
      "\u001b[34m#metrics {\"StartTime\": 1654753590.5249476, \"EndTime\": 1654753590.524964, \"Dimensions\": {\"Algorithm\": \"Linear Learner\", \"Host\": \"algo-1\", \"Operation\": \"training\", \"epoch\": 0, \"model\": 12}, \"Metrics\": {\"train_binary_classification_cross_entropy_objective\": {\"sum\": 0.49420472106000335, \"count\": 1, \"min\": 0.49420472106000335, \"max\": 0.49420472106000335}}}\u001b[0m\n",
      "\u001b[34m#metrics {\"StartTime\": 1654753590.525033, \"EndTime\": 1654753590.525052, \"Dimensions\": {\"Algorithm\": \"Linear Learner\", \"Host\": \"algo-1\", \"Operation\": \"training\", \"epoch\": 0, \"model\": 13}, \"Metrics\": {\"train_binary_classification_cross_entropy_objective\": {\"sum\": 0.5030771590766556, \"count\": 1, \"min\": 0.5030771590766556, \"max\": 0.5030771590766556}}}\u001b[0m\n",
      "\u001b[34m#metrics {\"StartTime\": 1654753590.5251172, \"EndTime\": 1654753590.525135, \"Dimensions\": {\"Algorithm\": \"Linear Learner\", \"Host\": \"algo-1\", \"Operation\": \"training\", \"epoch\": 0, \"model\": 14}, \"Metrics\": {\"train_binary_classification_cross_entropy_objective\": {\"sum\": 0.4942181719858712, \"count\": 1, \"min\": 0.4942181719858712, \"max\": 0.4942181719858712}}}\u001b[0m\n",
      "\u001b[34m#metrics {\"StartTime\": 1654753590.525186, \"EndTime\": 1654753590.5252016, \"Dimensions\": {\"Algorithm\": \"Linear Learner\", \"Host\": \"algo-1\", \"Operation\": \"training\", \"epoch\": 0, \"model\": 15}, \"Metrics\": {\"train_binary_classification_cross_entropy_objective\": {\"sum\": 0.5031064428626945, \"count\": 1, \"min\": 0.5031064428626945, \"max\": 0.5031064428626945}}}\u001b[0m\n",
      "\u001b[34m#metrics {\"StartTime\": 1654753590.5252478, \"EndTime\": 1654753590.5252635, \"Dimensions\": {\"Algorithm\": \"Linear Learner\", \"Host\": \"algo-1\", \"Operation\": \"training\", \"epoch\": 0, \"model\": 16}, \"Metrics\": {\"train_binary_classification_cross_entropy_objective\": {\"sum\": 0.5059866547657444, \"count\": 1, \"min\": 0.5059866547657444, \"max\": 0.5059866547657444}}}\u001b[0m\n",
      "\u001b[34m#metrics {\"StartTime\": 1654753590.5253127, \"EndTime\": 1654753590.5253263, \"Dimensions\": {\"Algorithm\": \"Linear Learner\", \"Host\": \"algo-1\", \"Operation\": \"training\", \"epoch\": 0, \"model\": 17}, \"Metrics\": {\"train_binary_classification_cross_entropy_objective\": {\"sum\": 0.5061202281286957, \"count\": 1, \"min\": 0.5061202281286957, \"max\": 0.5061202281286957}}}\u001b[0m\n",
      "\u001b[34m#metrics {\"StartTime\": 1654753590.5253718, \"EndTime\": 1654753590.5253875, \"Dimensions\": {\"Algorithm\": \"Linear Learner\", \"Host\": \"algo-1\", \"Operation\": \"training\", \"epoch\": 0, \"model\": 18}, \"Metrics\": {\"train_binary_classification_cross_entropy_objective\": {\"sum\": 0.5059760464309553, \"count\": 1, \"min\": 0.5059760464309553, \"max\": 0.5059760464309553}}}\u001b[0m\n",
      "\u001b[34m#metrics {\"StartTime\": 1654753590.525438, \"EndTime\": 1654753590.5254545, \"Dimensions\": {\"Algorithm\": \"Linear Learner\", \"Host\": \"algo-1\", \"Operation\": \"training\", \"epoch\": 0, \"model\": 19}, \"Metrics\": {\"train_binary_classification_cross_entropy_objective\": {\"sum\": 0.506073506859829, \"count\": 1, \"min\": 0.506073506859829, \"max\": 0.506073506859829}}}\u001b[0m\n",
      "\u001b[34m#metrics {\"StartTime\": 1654753590.5255096, \"EndTime\": 1654753590.5255244, \"Dimensions\": {\"Algorithm\": \"Linear Learner\", \"Host\": \"algo-1\", \"Operation\": \"training\", \"epoch\": 0, \"model\": 20}, \"Metrics\": {\"train_binary_classification_cross_entropy_objective\": {\"sum\": 0.5073309800034269, \"count\": 1, \"min\": 0.5073309800034269, \"max\": 0.5073309800034269}}}\u001b[0m\n",
      "\u001b[34m#metrics {\"StartTime\": 1654753590.5255728, \"EndTime\": 1654753590.5255876, \"Dimensions\": {\"Algorithm\": \"Linear Learner\", \"Host\": \"algo-1\", \"Operation\": \"training\", \"epoch\": 0, \"model\": 21}, \"Metrics\": {\"train_binary_classification_cross_entropy_objective\": {\"sum\": 0.5090146294923368, \"count\": 1, \"min\": 0.5090146294923368, \"max\": 0.5090146294923368}}}\u001b[0m\n",
      "\u001b[34m#metrics {\"StartTime\": 1654753590.5256362, \"EndTime\": 1654753590.5256526, \"Dimensions\": {\"Algorithm\": \"Linear Learner\", \"Host\": \"algo-1\", \"Operation\": \"training\", \"epoch\": 0, \"model\": 22}, \"Metrics\": {\"train_binary_classification_cross_entropy_objective\": {\"sum\": 0.507324277545334, \"count\": 1, \"min\": 0.507324277545334, \"max\": 0.507324277545334}}}\u001b[0m\n",
      "\u001b[34m#metrics {\"StartTime\": 1654753590.525712, \"EndTime\": 1654753590.5257301, \"Dimensions\": {\"Algorithm\": \"Linear Learner\", \"Host\": \"algo-1\", \"Operation\": \"training\", \"epoch\": 0, \"model\": 23}, \"Metrics\": {\"train_binary_classification_cross_entropy_objective\": {\"sum\": 0.5090111645573141, \"count\": 1, \"min\": 0.5090111645573141, \"max\": 0.5090111645573141}}}\u001b[0m\n",
      "\u001b[34m#metrics {\"StartTime\": 1654753590.5258257, \"EndTime\": 1654753590.5258453, \"Dimensions\": {\"Algorithm\": \"Linear Learner\", \"Host\": \"algo-1\", \"Operation\": \"training\", \"epoch\": 0, \"model\": 24}, \"Metrics\": {\"train_binary_classification_cross_entropy_objective\": {\"sum\": 0.515015145724702, \"count\": 1, \"min\": 0.515015145724702, \"max\": 0.515015145724702}}}\u001b[0m\n",
      "\u001b[34m#metrics {\"StartTime\": 1654753590.5259001, \"EndTime\": 1654753590.525916, \"Dimensions\": {\"Algorithm\": \"Linear Learner\", \"Host\": \"algo-1\", \"Operation\": \"training\", \"epoch\": 0, \"model\": 25}, \"Metrics\": {\"train_binary_classification_cross_entropy_objective\": {\"sum\": 0.515049929347607, \"count\": 1, \"min\": 0.515049929347607, \"max\": 0.515049929347607}}}\u001b[0m\n",
      "\u001b[34m#metrics {\"StartTime\": 1654753590.5259702, \"EndTime\": 1654753590.5259867, \"Dimensions\": {\"Algorithm\": \"Linear Learner\", \"Host\": \"algo-1\", \"Operation\": \"training\", \"epoch\": 0, \"model\": 26}, \"Metrics\": {\"train_binary_classification_cross_entropy_objective\": {\"sum\": 0.5150316997376422, \"count\": 1, \"min\": 0.5150316997376422, \"max\": 0.5150316997376422}}}\u001b[0m\n",
      "\u001b[34m#metrics {\"StartTime\": 1654753590.5260403, \"EndTime\": 1654753590.5260549, \"Dimensions\": {\"Algorithm\": \"Linear Learner\", \"Host\": \"algo-1\", \"Operation\": \"training\", \"epoch\": 0, \"model\": 27}, \"Metrics\": {\"train_binary_classification_cross_entropy_objective\": {\"sum\": 0.5150772136023285, \"count\": 1, \"min\": 0.5150772136023285, \"max\": 0.5150772136023285}}}\u001b[0m\n",
      "\u001b[34m#metrics {\"StartTime\": 1654753590.5261028, \"EndTime\": 1654753590.5261161, \"Dimensions\": {\"Algorithm\": \"Linear Learner\", \"Host\": \"algo-1\", \"Operation\": \"training\", \"epoch\": 0, \"model\": 28}, \"Metrics\": {\"train_binary_classification_cross_entropy_objective\": {\"sum\": 0.5150062233694467, \"count\": 1, \"min\": 0.5150062233694467, \"max\": 0.5150062233694467}}}\u001b[0m\n",
      "\u001b[34m#metrics {\"StartTime\": 1654753590.5261672, \"EndTime\": 1654753590.526182, \"Dimensions\": {\"Algorithm\": \"Linear Learner\", \"Host\": \"algo-1\", \"Operation\": \"training\", \"epoch\": 0, \"model\": 29}, \"Metrics\": {\"train_binary_classification_cross_entropy_objective\": {\"sum\": 0.515737093677579, \"count\": 1, \"min\": 0.515737093677579, \"max\": 0.515737093677579}}}\u001b[0m\n",
      "\u001b[34m#metrics {\"StartTime\": 1654753590.5262322, \"EndTime\": 1654753590.526248, \"Dimensions\": {\"Algorithm\": \"Linear Learner\", \"Host\": \"algo-1\", \"Operation\": \"training\", \"epoch\": 0, \"model\": 30}, \"Metrics\": {\"train_binary_classification_cross_entropy_objective\": {\"sum\": 0.5150317011141996, \"count\": 1, \"min\": 0.5150317011141996, \"max\": 0.5150317011141996}}}\u001b[0m\n",
      "\u001b[34m#metrics {\"StartTime\": 1654753590.5263028, \"EndTime\": 1654753590.5263186, \"Dimensions\": {\"Algorithm\": \"Linear Learner\", \"Host\": \"algo-1\", \"Operation\": \"training\", \"epoch\": 0, \"model\": 31}, \"Metrics\": {\"train_binary_classification_cross_entropy_objective\": {\"sum\": 0.5157495991184806, \"count\": 1, \"min\": 0.5157495991184806, \"max\": 0.5157495991184806}}}\u001b[0m\n",
      "\u001b[34m[06/09/2022 05:46:30 INFO 140325321312064] #quality_metric: host=algo-1, epoch=0, train binary_classification_cross_entropy_objective <loss>=0.48298761207977203\u001b[0m\n",
      "\u001b[34m[2022-06-09 05:46:30.572] [tensorio] [info] epoch_stats={\"data_pipeline\": \"/opt/ml/input/data/validation\", \"epoch\": 0, \"duration\": 59383, \"num_examples\": 1, \"num_bytes\": 388000}\u001b[0m\n",
      "\u001b[34m[2022-06-09 05:46:36.401] [tensorio] [info] epoch_stats={\"data_pipeline\": \"/opt/ml/input/data/validation\", \"epoch\": 2, \"duration\": 5828, \"num_examples\": 164, \"num_bytes\": 63460892}\u001b[0m\n",
      "\u001b[34m#metrics {\"StartTime\": 1654753596.413859, \"EndTime\": 1654753596.413961, \"Dimensions\": {\"Algorithm\": \"Linear Learner\", \"Host\": \"algo-1\", \"Operation\": \"training\", \"epoch\": 0, \"model\": 0}, \"Metrics\": {\"validation_binary_classification_cross_entropy_objective\": {\"sum\": 0.48072468146081127, \"count\": 1, \"min\": 0.48072468146081127, \"max\": 0.48072468146081127}}}\u001b[0m\n",
      "\u001b[34m#metrics {\"StartTime\": 1654753596.4140882, \"EndTime\": 1654753596.4142826, \"Dimensions\": {\"Algorithm\": \"Linear Learner\", \"Host\": \"algo-1\", \"Operation\": \"training\", \"epoch\": 0, \"model\": 1}, \"Metrics\": {\"validation_binary_classification_cross_entropy_objective\": {\"sum\": 0.48191374283593047, \"count\": 1, \"min\": 0.48191374283593047, \"max\": 0.48191374283593047}}}\u001b[0m\n",
      "\u001b[34m#metrics {\"StartTime\": 1654753596.4144094, \"EndTime\": 1654753596.4144356, \"Dimensions\": {\"Algorithm\": \"Linear Learner\", \"Host\": \"algo-1\", \"Operation\": \"training\", \"epoch\": 0, \"model\": 2}, \"Metrics\": {\"validation_binary_classification_cross_entropy_objective\": {\"sum\": 0.48072466205602077, \"count\": 1, \"min\": 0.48072466205602077, \"max\": 0.48072466205602077}}}\u001b[0m\n",
      "\u001b[34m#metrics {\"StartTime\": 1654753596.4145017, \"EndTime\": 1654753596.4145217, \"Dimensions\": {\"Algorithm\": \"Linear Learner\", \"Host\": \"algo-1\", \"Operation\": \"training\", \"epoch\": 0, \"model\": 3}, \"Metrics\": {\"validation_binary_classification_cross_entropy_objective\": {\"sum\": 0.48191232031552117, \"count\": 1, \"min\": 0.48191232031552117, \"max\": 0.48191232031552117}}}\u001b[0m\n",
      "\u001b[34m#metrics {\"StartTime\": 1654753596.4145782, \"EndTime\": 1654753596.4145954, \"Dimensions\": {\"Algorithm\": \"Linear Learner\", \"Host\": \"algo-1\", \"Operation\": \"training\", \"epoch\": 0, \"model\": 4}, \"Metrics\": {\"validation_binary_classification_cross_entropy_objective\": {\"sum\": 0.49051503600042407, \"count\": 1, \"min\": 0.49051503600042407, \"max\": 0.49051503600042407}}}\u001b[0m\n",
      "\u001b[34m#metrics {\"StartTime\": 1654753596.4146569, \"EndTime\": 1654753596.4146736, \"Dimensions\": {\"Algorithm\": \"Linear Learner\", \"Host\": \"algo-1\", \"Operation\": \"training\", \"epoch\": 0, \"model\": 5}, \"Metrics\": {\"validation_binary_classification_cross_entropy_objective\": {\"sum\": 0.5000539792758987, \"count\": 1, \"min\": 0.5000539792758987, \"max\": 0.5000539792758987}}}\u001b[0m\n",
      "\u001b[34m#metrics {\"StartTime\": 1654753596.414728, \"EndTime\": 1654753596.414745, \"Dimensions\": {\"Algorithm\": \"Linear Learner\", \"Host\": \"algo-1\", \"Operation\": \"training\", \"epoch\": 0, \"model\": 6}, \"Metrics\": {\"validation_binary_classification_cross_entropy_objective\": {\"sum\": 0.4905165669264417, \"count\": 1, \"min\": 0.4905165669264417, \"max\": 0.4905165669264417}}}\u001b[0m\n",
      "\u001b[34m#metrics {\"StartTime\": 1654753596.414798, \"EndTime\": 1654753596.4148147, \"Dimensions\": {\"Algorithm\": \"Linear Learner\", \"Host\": \"algo-1\", \"Operation\": \"training\", \"epoch\": 0, \"model\": 7}, \"Metrics\": {\"validation_binary_classification_cross_entropy_objective\": {\"sum\": 0.5000453088796631, \"count\": 1, \"min\": 0.5000453088796631, \"max\": 0.5000453088796631}}}\u001b[0m\n",
      "\u001b[34m#metrics {\"StartTime\": 1654753596.4148674, \"EndTime\": 1654753596.4148839, \"Dimensions\": {\"Algorithm\": \"Linear Learner\", \"Host\": \"algo-1\", \"Operation\": \"training\", \"epoch\": 0, \"model\": 8}, \"Metrics\": {\"validation_binary_classification_cross_entropy_objective\": {\"sum\": 0.4809265465107512, \"count\": 1, \"min\": 0.4809265465107512, \"max\": 0.4809265465107512}}}\u001b[0m\n",
      "\u001b[34m#metrics {\"StartTime\": 1654753596.4149387, \"EndTime\": 1654753596.4149547, \"Dimensions\": {\"Algorithm\": \"Linear Learner\", \"Host\": \"algo-1\", \"Operation\": \"training\", \"epoch\": 0, \"model\": 9}, \"Metrics\": {\"validation_binary_classification_cross_entropy_objective\": {\"sum\": 0.48213331158524025, \"count\": 1, \"min\": 0.48213331158524025, \"max\": 0.48213331158524025}}}\u001b[0m\n",
      "\u001b[34m#metrics {\"StartTime\": 1654753596.4150076, \"EndTime\": 1654753596.4150248, \"Dimensions\": {\"Algorithm\": \"Linear Learner\", \"Host\": \"algo-1\", \"Operation\": \"training\", \"epoch\": 0, \"model\": 10}, \"Metrics\": {\"validation_binary_classification_cross_entropy_objective\": {\"sum\": 0.4809259763084465, \"count\": 1, \"min\": 0.4809259763084465, \"max\": 0.4809259763084465}}}\u001b[0m\n",
      "\u001b[34m#metrics {\"StartTime\": 1654753596.415078, \"EndTime\": 1654753596.4150937, \"Dimensions\": {\"Algorithm\": \"Linear Learner\", \"Host\": \"algo-1\", \"Operation\": \"training\", \"epoch\": 0, \"model\": 11}, \"Metrics\": {\"validation_binary_classification_cross_entropy_objective\": {\"sum\": 0.48213400194797823, \"count\": 1, \"min\": 0.48213400194797823, \"max\": 0.48213400194797823}}}\u001b[0m\n",
      "\u001b[34m#metrics {\"StartTime\": 1654753596.4151483, \"EndTime\": 1654753596.415165, \"Dimensions\": {\"Algorithm\": \"Linear Learner\", \"Host\": \"algo-1\", \"Operation\": \"training\", \"epoch\": 0, \"model\": 12}, \"Metrics\": {\"validation_binary_classification_cross_entropy_objective\": {\"sum\": 0.4902178305502764, \"count\": 1, \"min\": 0.4902178305502764, \"max\": 0.4902178305502764}}}\u001b[0m\n",
      "\u001b[34m#metrics {\"StartTime\": 1654753596.415218, \"EndTime\": 1654753596.415234, \"Dimensions\": {\"Algorithm\": \"Linear Learner\", \"Host\": \"algo-1\", \"Operation\": \"training\", \"epoch\": 0, \"model\": 13}, \"Metrics\": {\"validation_binary_classification_cross_entropy_objective\": {\"sum\": 0.49888364240407895, \"count\": 1, \"min\": 0.49888364240407895, \"max\": 0.49888364240407895}}}\u001b[0m\n",
      "\u001b[34m#metrics {\"StartTime\": 1654753596.4152865, \"EndTime\": 1654753596.4153028, \"Dimensions\": {\"Algorithm\": \"Linear Learner\", \"Host\": \"algo-1\", \"Operation\": \"training\", \"epoch\": 0, \"model\": 14}, \"Metrics\": {\"validation_binary_classification_cross_entropy_objective\": {\"sum\": 0.49021176767276065, \"count\": 1, \"min\": 0.49021176767276065, \"max\": 0.49021176767276065}}}\u001b[0m\n",
      "\u001b[34m#metrics {\"StartTime\": 1654753596.415355, \"EndTime\": 1654753596.415371, \"Dimensions\": {\"Algorithm\": \"Linear Learner\", \"Host\": \"algo-1\", \"Operation\": \"training\", \"epoch\": 0, \"model\": 15}, \"Metrics\": {\"validation_binary_classification_cross_entropy_objective\": {\"sum\": 0.4988757722688659, \"count\": 1, \"min\": 0.4988757722688659, \"max\": 0.4988757722688659}}}\u001b[0m\n",
      "\u001b[34m#metrics {\"StartTime\": 1654753596.4154234, \"EndTime\": 1654753596.4154391, \"Dimensions\": {\"Algorithm\": \"Linear Learner\", \"Host\": \"algo-1\", \"Operation\": \"training\", \"epoch\": 0, \"model\": 16}, \"Metrics\": {\"validation_binary_classification_cross_entropy_objective\": {\"sum\": 0.5048203818780966, \"count\": 1, \"min\": 0.5048203818780966, \"max\": 0.5048203818780966}}}\u001b[0m\n",
      "\u001b[34m#metrics {\"StartTime\": 1654753596.4154928, \"EndTime\": 1654753596.415508, \"Dimensions\": {\"Algorithm\": \"Linear Learner\", \"Host\": \"algo-1\", \"Operation\": \"training\", \"epoch\": 0, \"model\": 17}, \"Metrics\": {\"validation_binary_classification_cross_entropy_objective\": {\"sum\": 0.5055114166935388, \"count\": 1, \"min\": 0.5055114166935388, \"max\": 0.5055114166935388}}}\u001b[0m\n",
      "\u001b[34m#metrics {\"StartTime\": 1654753596.4155605, \"EndTime\": 1654753596.4155777, \"Dimensions\": {\"Algorithm\": \"Linear Learner\", \"Host\": \"algo-1\", \"Operation\": \"training\", \"epoch\": 0, \"model\": 18}, \"Metrics\": {\"validation_binary_classification_cross_entropy_objective\": {\"sum\": 0.504831993219596, \"count\": 1, \"min\": 0.504831993219596, \"max\": 0.504831993219596}}}\u001b[0m\n",
      "\u001b[34m#metrics {\"StartTime\": 1654753596.4156306, \"EndTime\": 1654753596.4156473, \"Dimensions\": {\"Algorithm\": \"Linear Learner\", \"Host\": \"algo-1\", \"Operation\": \"training\", \"epoch\": 0, \"model\": 19}, \"Metrics\": {\"validation_binary_classification_cross_entropy_objective\": {\"sum\": 0.505499495994899, \"count\": 1, \"min\": 0.505499495994899, \"max\": 0.505499495994899}}}\u001b[0m\n",
      "\u001b[34m#metrics {\"StartTime\": 1654753596.4156973, \"EndTime\": 1654753596.415713, \"Dimensions\": {\"Algorithm\": \"Linear Learner\", \"Host\": \"algo-1\", \"Operation\": \"training\", \"epoch\": 0, \"model\": 20}, \"Metrics\": {\"validation_binary_classification_cross_entropy_objective\": {\"sum\": 0.5069003951761697, \"count\": 1, \"min\": 0.5069003951761697, \"max\": 0.5069003951761697}}}\u001b[0m\n",
      "\u001b[34m#metrics {\"StartTime\": 1654753596.4157643, \"EndTime\": 1654753596.415781, \"Dimensions\": {\"Algorithm\": \"Linear Learner\", \"Host\": \"algo-1\", \"Operation\": \"training\", \"epoch\": 0, \"model\": 21}, \"Metrics\": {\"validation_binary_classification_cross_entropy_objective\": {\"sum\": 0.5059907611046033, \"count\": 1, \"min\": 0.5059907611046033, \"max\": 0.5059907611046033}}}\u001b[0m\n",
      "\u001b[34m#metrics {\"StartTime\": 1654753596.4158337, \"EndTime\": 1654753596.4158497, \"Dimensions\": {\"Algorithm\": \"Linear Learner\", \"Host\": \"algo-1\", \"Operation\": \"training\", \"epoch\": 0, \"model\": 22}, \"Metrics\": {\"validation_binary_classification_cross_entropy_objective\": {\"sum\": 0.5068926659122721, \"count\": 1, \"min\": 0.5068926659122721, \"max\": 0.5068926659122721}}}\u001b[0m\n",
      "\u001b[34m#metrics {\"StartTime\": 1654753596.4159033, \"EndTime\": 1654753596.4159186, \"Dimensions\": {\"Algorithm\": \"Linear Learner\", \"Host\": \"algo-1\", \"Operation\": \"training\", \"epoch\": 0, \"model\": 23}, \"Metrics\": {\"validation_binary_classification_cross_entropy_objective\": {\"sum\": 0.5060221427556579, \"count\": 1, \"min\": 0.5060221427556579, \"max\": 0.5060221427556579}}}\u001b[0m\n",
      "\u001b[34m#metrics {\"StartTime\": 1654753596.4159722, \"EndTime\": 1654753596.4159887, \"Dimensions\": {\"Algorithm\": \"Linear Learner\", \"Host\": \"algo-1\", \"Operation\": \"training\", \"epoch\": 0, \"model\": 24}, \"Metrics\": {\"validation_binary_classification_cross_entropy_objective\": {\"sum\": 0.5137241942333907, \"count\": 1, \"min\": 0.5137241942333907, \"max\": 0.5137241942333907}}}\u001b[0m\n",
      "\u001b[34m#metrics {\"StartTime\": 1654753596.4161031, \"EndTime\": 1654753596.4161224, \"Dimensions\": {\"Algorithm\": \"Linear Learner\", \"Host\": \"algo-1\", \"Operation\": \"training\", \"epoch\": 0, \"model\": 25}, \"Metrics\": {\"validation_binary_classification_cross_entropy_objective\": {\"sum\": 0.5143962489247358, \"count\": 1, \"min\": 0.5143962489247358, \"max\": 0.5143962489247358}}}\u001b[0m\n",
      "\u001b[34m#metrics {\"StartTime\": 1654753596.4161777, \"EndTime\": 1654753596.4161952, \"Dimensions\": {\"Algorithm\": \"Linear Learner\", \"Host\": \"algo-1\", \"Operation\": \"training\", \"epoch\": 0, \"model\": 26}, \"Metrics\": {\"validation_binary_classification_cross_entropy_objective\": {\"sum\": 0.5137254781214988, \"count\": 1, \"min\": 0.5137254781214988, \"max\": 0.5137254781214988}}}\u001b[0m\n",
      "\u001b[34m#metrics {\"StartTime\": 1654753596.4162438, \"EndTime\": 1654753596.4162583, \"Dimensions\": {\"Algorithm\": \"Linear Learner\", \"Host\": \"algo-1\", \"Operation\": \"training\", \"epoch\": 0, \"model\": 27}, \"Metrics\": {\"validation_binary_classification_cross_entropy_objective\": {\"sum\": 0.514423371037697, \"count\": 1, \"min\": 0.514423371037697, \"max\": 0.514423371037697}}}\u001b[0m\n",
      "\u001b[34m#metrics {\"StartTime\": 1654753596.4163084, \"EndTime\": 1654753596.416325, \"Dimensions\": {\"Algorithm\": \"Linear Learner\", \"Host\": \"algo-1\", \"Operation\": \"training\", \"epoch\": 0, \"model\": 28}, \"Metrics\": {\"validation_binary_classification_cross_entropy_objective\": {\"sum\": 0.5153504752048095, \"count\": 1, \"min\": 0.5153504752048095, \"max\": 0.5153504752048095}}}\u001b[0m\n",
      "\u001b[34m#metrics {\"StartTime\": 1654753596.4163768, \"EndTime\": 1654753596.4163957, \"Dimensions\": {\"Algorithm\": \"Linear Learner\", \"Host\": \"algo-1\", \"Operation\": \"training\", \"epoch\": 0, \"model\": 29}, \"Metrics\": {\"validation_binary_classification_cross_entropy_objective\": {\"sum\": 0.5133555095582744, \"count\": 1, \"min\": 0.5133555095582744, \"max\": 0.5133555095582744}}}\u001b[0m\n",
      "\u001b[34m#metrics {\"StartTime\": 1654753596.4164474, \"EndTime\": 1654753596.416461, \"Dimensions\": {\"Algorithm\": \"Linear Learner\", \"Host\": \"algo-1\", \"Operation\": \"training\", \"epoch\": 0, \"model\": 30}, \"Metrics\": {\"validation_binary_classification_cross_entropy_objective\": {\"sum\": 0.5153770843969149, \"count\": 1, \"min\": 0.5153770843969149, \"max\": 0.5153770843969149}}}\u001b[0m\n",
      "\u001b[34m#metrics {\"StartTime\": 1654753596.416512, \"EndTime\": 1654753596.4165308, \"Dimensions\": {\"Algorithm\": \"Linear Learner\", \"Host\": \"algo-1\", \"Operation\": \"training\", \"epoch\": 0, \"model\": 31}, \"Metrics\": {\"validation_binary_classification_cross_entropy_objective\": {\"sum\": 0.5139242014612273, \"count\": 1, \"min\": 0.5139242014612273, \"max\": 0.5139242014612273}}}\u001b[0m\n",
      "\u001b[34m[06/09/2022 05:46:36 INFO 140325321312064] #quality_metric: host=algo-1, epoch=0, validation binary_classification_cross_entropy_objective <loss>=0.48072468146081127\u001b[0m\n",
      "\u001b[34m[06/09/2022 05:46:36 INFO 140325321312064] #early_stopping_criteria_metric: host=algo-1, epoch=0, criteria=binary_classification_cross_entropy_objective, value=0.48072466205602077\u001b[0m\n",
      "\u001b[34m[06/09/2022 05:46:36 INFO 140325321312064] Epoch 0: Loss improved. Updating best model\u001b[0m\n",
      "\u001b[34m[06/09/2022 05:46:36 INFO 140325321312064] Saving model for epoch: 0\u001b[0m\n",
      "\u001b[34m[06/09/2022 05:46:36 INFO 140325321312064] Saved checkpoint to \"/tmp/tmp3i4_j4mx/mx-mod-0000.params\"\u001b[0m\n",
      "\u001b[34m[06/09/2022 05:46:36 INFO 140325321312064] #progress_metric: host=algo-1, completed 6.666666666666667 % of epochs\u001b[0m\n",
      "\u001b[34m#metrics {\"StartTime\": 1654753531.6649349, \"EndTime\": 1654753596.4297767, \"Dimensions\": {\"Algorithm\": \"Linear Learner\", \"Host\": \"algo-1\", \"Operation\": \"training\", \"epoch\": 0, \"Meta\": \"training_data_iter\"}, \"Metrics\": {\"Total Records Seen\": {\"sum\": 1320472.0, \"count\": 1, \"min\": 1320472, \"max\": 1320472}, \"Total Batches Seen\": {\"sum\": 1321.0, \"count\": 1, \"min\": 1321, \"max\": 1321}, \"Max Records Seen Between Resets\": {\"sum\": 1308472.0, \"count\": 1, \"min\": 1308472, \"max\": 1308472}, \"Max Batches Seen Between Resets\": {\"sum\": 1309.0, \"count\": 1, \"min\": 1309, \"max\": 1309}, \"Reset Count\": {\"sum\": 3.0, \"count\": 1, \"min\": 3, \"max\": 3}, \"Number of Records Since Last Reset\": {\"sum\": 1308472.0, \"count\": 1, \"min\": 1308472, \"max\": 1308472}, \"Number of Batches Since Last Reset\": {\"sum\": 1309.0, \"count\": 1, \"min\": 1309, \"max\": 1309}}}\u001b[0m\n",
      "\u001b[34m[06/09/2022 05:46:36 INFO 140325321312064] #throughput_metric: host=algo-1, train throughput=20203.38343141904 records/second\u001b[0m\n",
      "\u001b[34m[2022-06-09 05:47:35.000] [tensorio] [info] epoch_stats={\"data_pipeline\": \"/opt/ml/input/data/train\", \"epoch\": 5, \"duration\": 58567, \"num_examples\": 1309, \"num_bytes\": 507687136}\u001b[0m\n",
      "\u001b[34m#metrics {\"StartTime\": 1654753655.0004015, \"EndTime\": 1654753655.000504, \"Dimensions\": {\"Algorithm\": \"Linear Learner\", \"Host\": \"algo-1\", \"Operation\": \"training\", \"epoch\": 1, \"model\": 0}, \"Metrics\": {\"train_binary_classification_cross_entropy_objective\": {\"sum\": 0.4807555616886244, \"count\": 1, \"min\": 0.4807555616886244, \"max\": 0.4807555616886244}}}\u001b[0m\n",
      "\u001b[34m#metrics {\"StartTime\": 1654753655.000612, \"EndTime\": 1654753655.0006332, \"Dimensions\": {\"Algorithm\": \"Linear Learner\", \"Host\": \"algo-1\", \"Operation\": \"training\", \"epoch\": 1, \"model\": 1}, \"Metrics\": {\"train_binary_classification_cross_entropy_objective\": {\"sum\": 0.48167584069861547, \"count\": 1, \"min\": 0.48167584069861547, \"max\": 0.48167584069861547}}}\u001b[0m\n",
      "\u001b[34m#metrics {\"StartTime\": 1654753655.0006933, \"EndTime\": 1654753655.0007117, \"Dimensions\": {\"Algorithm\": \"Linear Learner\", \"Host\": \"algo-1\", \"Operation\": \"training\", \"epoch\": 1, \"model\": 2}, \"Metrics\": {\"train_binary_classification_cross_entropy_objective\": {\"sum\": 0.4807559208067914, \"count\": 1, \"min\": 0.4807559208067914, \"max\": 0.4807559208067914}}}\u001b[0m\n",
      "\u001b[34m#metrics {\"StartTime\": 1654753655.0007684, \"EndTime\": 1654753655.000785, \"Dimensions\": {\"Algorithm\": \"Linear Learner\", \"Host\": \"algo-1\", \"Operation\": \"training\", \"epoch\": 1, \"model\": 3}, \"Metrics\": {\"train_binary_classification_cross_entropy_objective\": {\"sum\": 0.48167570080305094, \"count\": 1, \"min\": 0.48167570080305094, \"max\": 0.48167570080305094}}}\u001b[0m\n",
      "\u001b[34m#metrics {\"StartTime\": 1654753655.000842, \"EndTime\": 1654753655.0008578, \"Dimensions\": {\"Algorithm\": \"Linear Learner\", \"Host\": \"algo-1\", \"Operation\": \"training\", \"epoch\": 1, \"model\": 4}, \"Metrics\": {\"train_binary_classification_cross_entropy_objective\": {\"sum\": 0.48451162437415635, \"count\": 1, \"min\": 0.48451162437415635, \"max\": 0.48451162437415635}}}\u001b[0m\n",
      "\u001b[34m#metrics {\"StartTime\": 1654753655.0009155, \"EndTime\": 1654753655.0009305, \"Dimensions\": {\"Algorithm\": \"Linear Learner\", \"Host\": \"algo-1\", \"Operation\": \"training\", \"epoch\": 1, \"model\": 5}, \"Metrics\": {\"train_binary_classification_cross_entropy_objective\": {\"sum\": 0.5011690984836776, \"count\": 1, \"min\": 0.5011690984836776, \"max\": 0.5011690984836776}}}\u001b[0m\n",
      "\u001b[34m#metrics {\"StartTime\": 1654753655.000987, \"EndTime\": 1654753655.0010056, \"Dimensions\": {\"Algorithm\": \"Linear Learner\", \"Host\": \"algo-1\", \"Operation\": \"training\", \"epoch\": 1, \"model\": 6}, \"Metrics\": {\"train_binary_classification_cross_entropy_objective\": {\"sum\": 0.48451189737582423, \"count\": 1, \"min\": 0.48451189737582423, \"max\": 0.48451189737582423}}}\u001b[0m\n",
      "\u001b[34m#metrics {\"StartTime\": 1654753655.0010705, \"EndTime\": 1654753655.0010867, \"Dimensions\": {\"Algorithm\": \"Linear Learner\", \"Host\": \"algo-1\", \"Operation\": \"training\", \"epoch\": 1, \"model\": 7}, \"Metrics\": {\"train_binary_classification_cross_entropy_objective\": {\"sum\": 0.5011683984225679, \"count\": 1, \"min\": 0.5011683984225679, \"max\": 0.5011683984225679}}}\u001b[0m\n",
      "\u001b[34m#metrics {\"StartTime\": 1654753655.001142, \"EndTime\": 1654753655.0011592, \"Dimensions\": {\"Algorithm\": \"Linear Learner\", \"Host\": \"algo-1\", \"Operation\": \"training\", \"epoch\": 1, \"model\": 8}, \"Metrics\": {\"train_binary_classification_cross_entropy_objective\": {\"sum\": 0.4810130410850595, \"count\": 1, \"min\": 0.4810130410850595, \"max\": 0.4810130410850595}}}\u001b[0m\n",
      "\u001b[34m#metrics {\"StartTime\": 1654753655.0012093, \"EndTime\": 1654753655.0012252, \"Dimensions\": {\"Algorithm\": \"Linear Learner\", \"Host\": \"algo-1\", \"Operation\": \"training\", \"epoch\": 1, \"model\": 9}, \"Metrics\": {\"train_binary_classification_cross_entropy_objective\": {\"sum\": 0.48187883812207327, \"count\": 1, \"min\": 0.48187883812207327, \"max\": 0.48187883812207327}}}\u001b[0m\n",
      "\u001b[34m#metrics {\"StartTime\": 1654753655.0012815, \"EndTime\": 1654753655.0012975, \"Dimensions\": {\"Algorithm\": \"Linear Learner\", \"Host\": \"algo-1\", \"Operation\": \"training\", \"epoch\": 1, \"model\": 10}, \"Metrics\": {\"train_binary_classification_cross_entropy_objective\": {\"sum\": 0.4810127173374188, \"count\": 1, \"min\": 0.4810127173374188, \"max\": 0.4810127173374188}}}\u001b[0m\n",
      "\u001b[34m#metrics {\"StartTime\": 1654753655.001353, \"EndTime\": 1654753655.0013678, \"Dimensions\": {\"Algorithm\": \"Linear Learner\", \"Host\": \"algo-1\", \"Operation\": \"training\", \"epoch\": 1, \"model\": 11}, \"Metrics\": {\"train_binary_classification_cross_entropy_objective\": {\"sum\": 0.4818790592578573, \"count\": 1, \"min\": 0.4818790592578573, \"max\": 0.4818790592578573}}}\u001b[0m\n",
      "\u001b[34m#metrics {\"StartTime\": 1654753655.001422, \"EndTime\": 1654753655.0014393, \"Dimensions\": {\"Algorithm\": \"Linear Learner\", \"Host\": \"algo-1\", \"Operation\": \"training\", \"epoch\": 1, \"model\": 12}, \"Metrics\": {\"train_binary_classification_cross_entropy_objective\": {\"sum\": 0.48453150442980847, \"count\": 1, \"min\": 0.48453150442980847, \"max\": 0.48453150442980847}}}\u001b[0m\n",
      "\u001b[34m#metrics {\"StartTime\": 1654753655.0014932, \"EndTime\": 1654753655.001508, \"Dimensions\": {\"Algorithm\": \"Linear Learner\", \"Host\": \"algo-1\", \"Operation\": \"training\", \"epoch\": 1, \"model\": 13}, \"Metrics\": {\"train_binary_classification_cross_entropy_objective\": {\"sum\": 0.49995160852368087, \"count\": 1, \"min\": 0.49995160852368087, \"max\": 0.49995160852368087}}}\u001b[0m\n",
      "\u001b[34m#metrics {\"StartTime\": 1654753655.0015607, \"EndTime\": 1654753655.0015771, \"Dimensions\": {\"Algorithm\": \"Linear Learner\", \"Host\": \"algo-1\", \"Operation\": \"training\", \"epoch\": 1, \"model\": 14}, \"Metrics\": {\"train_binary_classification_cross_entropy_objective\": {\"sum\": 0.48453081482120247, \"count\": 1, \"min\": 0.48453081482120247, \"max\": 0.48453081482120247}}}\u001b[0m\n",
      "\u001b[34m#metrics {\"StartTime\": 1654753655.001631, \"EndTime\": 1654753655.0016448, \"Dimensions\": {\"Algorithm\": \"Linear Learner\", \"Host\": \"algo-1\", \"Operation\": \"training\", \"epoch\": 1, \"model\": 15}, \"Metrics\": {\"train_binary_classification_cross_entropy_objective\": {\"sum\": 0.49994982366532725, \"count\": 1, \"min\": 0.49994982366532725, \"max\": 0.49994982366532725}}}\u001b[0m\n",
      "\u001b[34m#metrics {\"StartTime\": 1654753655.0016992, \"EndTime\": 1654753655.0017147, \"Dimensions\": {\"Algorithm\": \"Linear Learner\", \"Host\": \"algo-1\", \"Operation\": \"training\", \"epoch\": 1, \"model\": 16}, \"Metrics\": {\"train_binary_classification_cross_entropy_objective\": {\"sum\": 0.5045688353605591, \"count\": 1, \"min\": 0.5045688353605591, \"max\": 0.5045688353605591}}}\u001b[0m\n",
      "\u001b[34m#metrics {\"StartTime\": 1654753655.0017967, \"EndTime\": 1654753655.0018137, \"Dimensions\": {\"Algorithm\": \"Linear Learner\", \"Host\": \"algo-1\", \"Operation\": \"training\", \"epoch\": 1, \"model\": 17}, \"Metrics\": {\"train_binary_classification_cross_entropy_objective\": {\"sum\": 0.5048072303282012, \"count\": 1, \"min\": 0.5048072303282012, \"max\": 0.5048072303282012}}}\u001b[0m\n",
      "\u001b[34m#metrics {\"StartTime\": 1654753655.0018709, \"EndTime\": 1654753655.0018892, \"Dimensions\": {\"Algorithm\": \"Linear Learner\", \"Host\": \"algo-1\", \"Operation\": \"training\", \"epoch\": 1, \"model\": 18}, \"Metrics\": {\"train_binary_classification_cross_entropy_objective\": {\"sum\": 0.5045688511559723, \"count\": 1, \"min\": 0.5045688511559723, \"max\": 0.5045688511559723}}}\u001b[0m\n",
      "\u001b[34m#metrics {\"StartTime\": 1654753655.0019414, \"EndTime\": 1654753655.0019557, \"Dimensions\": {\"Algorithm\": \"Linear Learner\", \"Host\": \"algo-1\", \"Operation\": \"training\", \"epoch\": 1, \"model\": 19}, \"Metrics\": {\"train_binary_classification_cross_entropy_objective\": {\"sum\": 0.5048073400328283, \"count\": 1, \"min\": 0.5048073400328283, \"max\": 0.5048073400328283}}}\u001b[0m\n",
      "\u001b[34m#metrics {\"StartTime\": 1654753655.0020087, \"EndTime\": 1654753655.0020268, \"Dimensions\": {\"Algorithm\": \"Linear Learner\", \"Host\": \"algo-1\", \"Operation\": \"training\", \"epoch\": 1, \"model\": 20}, \"Metrics\": {\"train_binary_classification_cross_entropy_objective\": {\"sum\": 0.5054376992041911, \"count\": 1, \"min\": 0.5054376992041911, \"max\": 0.5054376992041911}}}\u001b[0m\n",
      "\u001b[34m#metrics {\"StartTime\": 1654753655.0020823, \"EndTime\": 1654753655.002099, \"Dimensions\": {\"Algorithm\": \"Linear Learner\", \"Host\": \"algo-1\", \"Operation\": \"training\", \"epoch\": 1, \"model\": 21}, \"Metrics\": {\"train_binary_classification_cross_entropy_objective\": {\"sum\": 0.5082373265490984, \"count\": 1, \"min\": 0.5082373265490984, \"max\": 0.5082373265490984}}}\u001b[0m\n",
      "\u001b[34m#metrics {\"StartTime\": 1654753655.0021498, \"EndTime\": 1654753655.0021656, \"Dimensions\": {\"Algorithm\": \"Linear Learner\", \"Host\": \"algo-1\", \"Operation\": \"training\", \"epoch\": 1, \"model\": 22}, \"Metrics\": {\"train_binary_classification_cross_entropy_objective\": {\"sum\": 0.5054380891665771, \"count\": 1, \"min\": 0.5054380891665771, \"max\": 0.5054380891665771}}}\u001b[0m\n",
      "\u001b[34m#metrics {\"StartTime\": 1654753655.0022185, \"EndTime\": 1654753655.002236, \"Dimensions\": {\"Algorithm\": \"Linear Learner\", \"Host\": \"algo-1\", \"Operation\": \"training\", \"epoch\": 1, \"model\": 23}, \"Metrics\": {\"train_binary_classification_cross_entropy_objective\": {\"sum\": 0.5082374679145463, \"count\": 1, \"min\": 0.5082374679145463, \"max\": 0.5082374679145463}}}\u001b[0m\n",
      "\u001b[34m#metrics {\"StartTime\": 1654753655.0022905, \"EndTime\": 1654753655.002305, \"Dimensions\": {\"Algorithm\": \"Linear Learner\", \"Host\": \"algo-1\", \"Operation\": \"training\", \"epoch\": 1, \"model\": 24}, \"Metrics\": {\"train_binary_classification_cross_entropy_objective\": {\"sum\": 0.5137399086441833, \"count\": 1, \"min\": 0.5137399086441833, \"max\": 0.5137399086441833}}}\u001b[0m\n",
      "\u001b[34m#metrics {\"StartTime\": 1654753655.0023582, \"EndTime\": 1654753655.0023732, \"Dimensions\": {\"Algorithm\": \"Linear Learner\", \"Host\": \"algo-1\", \"Operation\": \"training\", \"epoch\": 1, \"model\": 25}, \"Metrics\": {\"train_binary_classification_cross_entropy_objective\": {\"sum\": 0.5138373912379647, \"count\": 1, \"min\": 0.5138373912379647, \"max\": 0.5138373912379647}}}\u001b[0m\n",
      "\u001b[34m#metrics {\"StartTime\": 1654753655.0024242, \"EndTime\": 1654753655.002441, \"Dimensions\": {\"Algorithm\": \"Linear Learner\", \"Host\": \"algo-1\", \"Operation\": \"training\", \"epoch\": 1, \"model\": 26}, \"Metrics\": {\"train_binary_classification_cross_entropy_objective\": {\"sum\": 0.5137399840515323, \"count\": 1, \"min\": 0.5137399840515323, \"max\": 0.5137399840515323}}}\u001b[0m\n",
      "\u001b[34m#metrics {\"StartTime\": 1654753655.0024962, \"EndTime\": 1654753655.0025125, \"Dimensions\": {\"Algorithm\": \"Linear Learner\", \"Host\": \"algo-1\", \"Operation\": \"training\", \"epoch\": 1, \"model\": 27}, \"Metrics\": {\"train_binary_classification_cross_entropy_objective\": {\"sum\": 0.513836622558967, \"count\": 1, \"min\": 0.513836622558967, \"max\": 0.513836622558967}}}\u001b[0m\n",
      "\u001b[34m#metrics {\"StartTime\": 1654753655.0025592, \"EndTime\": 1654753655.0025685, \"Dimensions\": {\"Algorithm\": \"Linear Learner\", \"Host\": \"algo-1\", \"Operation\": \"training\", \"epoch\": 1, \"model\": 28}, \"Metrics\": {\"train_binary_classification_cross_entropy_objective\": {\"sum\": 0.514120804276306, \"count\": 1, \"min\": 0.514120804276306, \"max\": 0.514120804276306}}}\u001b[0m\n",
      "\u001b[34m#metrics {\"StartTime\": 1654753655.0026138, \"EndTime\": 1654753655.002624, \"Dimensions\": {\"Algorithm\": \"Linear Learner\", \"Host\": \"algo-1\", \"Operation\": \"training\", \"epoch\": 1, \"model\": 29}, \"Metrics\": {\"train_binary_classification_cross_entropy_objective\": {\"sum\": 0.515208648168348, \"count\": 1, \"min\": 0.515208648168348, \"max\": 0.515208648168348}}}\u001b[0m\n",
      "\u001b[34m#metrics {\"StartTime\": 1654753655.0026772, \"EndTime\": 1654753655.0026913, \"Dimensions\": {\"Algorithm\": \"Linear Learner\", \"Host\": \"algo-1\", \"Operation\": \"training\", \"epoch\": 1, \"model\": 30}, \"Metrics\": {\"train_binary_classification_cross_entropy_objective\": {\"sum\": 0.5141215814246315, \"count\": 1, \"min\": 0.5141215814246315, \"max\": 0.5141215814246315}}}\u001b[0m\n",
      "\u001b[34m#metrics {\"StartTime\": 1654753655.0027351, \"EndTime\": 1654753655.0027452, \"Dimensions\": {\"Algorithm\": \"Linear Learner\", \"Host\": \"algo-1\", \"Operation\": \"training\", \"epoch\": 1, \"model\": 31}, \"Metrics\": {\"train_binary_classification_cross_entropy_objective\": {\"sum\": 0.5152068450647757, \"count\": 1, \"min\": 0.5152068450647757, \"max\": 0.5152068450647757}}}\u001b[0m\n",
      "\u001b[34m[06/09/2022 05:47:35 INFO 140325321312064] #quality_metric: host=algo-1, epoch=1, train binary_classification_cross_entropy_objective <loss>=0.4807555616886244\u001b[0m\n",
      "\u001b[34m[2022-06-09 05:47:40.218] [tensorio] [info] epoch_stats={\"data_pipeline\": \"/opt/ml/input/data/validation\", \"epoch\": 5, \"duration\": 5189, \"num_examples\": 164, \"num_bytes\": 63460892}\u001b[0m\n",
      "\u001b[34m#metrics {\"StartTime\": 1654753660.2272632, \"EndTime\": 1654753660.2273245, \"Dimensions\": {\"Algorithm\": \"Linear Learner\", \"Host\": \"algo-1\", \"Operation\": \"training\", \"epoch\": 1, \"model\": 0}, \"Metrics\": {\"validation_binary_classification_cross_entropy_objective\": {\"sum\": 0.4805243667416794, \"count\": 1, \"min\": 0.4805243667416794, \"max\": 0.4805243667416794}}}\u001b[0m\n",
      "\u001b[34m#metrics {\"StartTime\": 1654753660.2274327, \"EndTime\": 1654753660.2274559, \"Dimensions\": {\"Algorithm\": \"Linear Learner\", \"Host\": \"algo-1\", \"Operation\": \"training\", \"epoch\": 1, \"model\": 1}, \"Metrics\": {\"validation_binary_classification_cross_entropy_objective\": {\"sum\": 0.48189620370411057, \"count\": 1, \"min\": 0.48189620370411057, \"max\": 0.48189620370411057}}}\u001b[0m\n",
      "\u001b[34m#metrics {\"StartTime\": 1654753660.227516, \"EndTime\": 1654753660.227535, \"Dimensions\": {\"Algorithm\": \"Linear Learner\", \"Host\": \"algo-1\", \"Operation\": \"training\", \"epoch\": 1, \"model\": 2}, \"Metrics\": {\"validation_binary_classification_cross_entropy_objective\": {\"sum\": 0.48052457310416274, \"count\": 1, \"min\": 0.48052457310416274, \"max\": 0.48052457310416274}}}\u001b[0m\n",
      "\u001b[34m#metrics {\"StartTime\": 1654753660.2275949, \"EndTime\": 1654753660.2276134, \"Dimensions\": {\"Algorithm\": \"Linear Learner\", \"Host\": \"algo-1\", \"Operation\": \"training\", \"epoch\": 1, \"model\": 3}, \"Metrics\": {\"validation_binary_classification_cross_entropy_objective\": {\"sum\": 0.4818958477008392, \"count\": 1, \"min\": 0.4818958477008392, \"max\": 0.4818958477008392}}}\u001b[0m\n",
      "\u001b[34m#metrics {\"StartTime\": 1654753660.2276685, \"EndTime\": 1654753660.227685, \"Dimensions\": {\"Algorithm\": \"Linear Learner\", \"Host\": \"algo-1\", \"Operation\": \"training\", \"epoch\": 1, \"model\": 4}, \"Metrics\": {\"validation_binary_classification_cross_entropy_objective\": {\"sum\": 0.4825226748633736, \"count\": 1, \"min\": 0.4825226748633736, \"max\": 0.4825226748633736}}}\u001b[0m\n",
      "\u001b[34m#metrics {\"StartTime\": 1654753660.2277443, \"EndTime\": 1654753660.2277596, \"Dimensions\": {\"Algorithm\": \"Linear Learner\", \"Host\": \"algo-1\", \"Operation\": \"training\", \"epoch\": 1, \"model\": 5}, \"Metrics\": {\"validation_binary_classification_cross_entropy_objective\": {\"sum\": 0.4976307398280566, \"count\": 1, \"min\": 0.4976307398280566, \"max\": 0.4976307398280566}}}\u001b[0m\n",
      "\u001b[34m#metrics {\"StartTime\": 1654753660.2278085, \"EndTime\": 1654753660.22782, \"Dimensions\": {\"Algorithm\": \"Linear Learner\", \"Host\": \"algo-1\", \"Operation\": \"training\", \"epoch\": 1, \"model\": 6}, \"Metrics\": {\"validation_binary_classification_cross_entropy_objective\": {\"sum\": 0.48252256459192, \"count\": 1, \"min\": 0.48252256459192, \"max\": 0.48252256459192}}}\u001b[0m\n",
      "\u001b[34m#metrics {\"StartTime\": 1654753660.2278671, \"EndTime\": 1654753660.2278771, \"Dimensions\": {\"Algorithm\": \"Linear Learner\", \"Host\": \"algo-1\", \"Operation\": \"training\", \"epoch\": 1, \"model\": 7}, \"Metrics\": {\"validation_binary_classification_cross_entropy_objective\": {\"sum\": 0.49762945593994845, \"count\": 1, \"min\": 0.49762945593994845, \"max\": 0.49762945593994845}}}\u001b[0m\n",
      "\u001b[34m#metrics {\"StartTime\": 1654753660.2279065, \"EndTime\": 1654753660.2279143, \"Dimensions\": {\"Algorithm\": \"Linear Learner\", \"Host\": \"algo-1\", \"Operation\": \"training\", \"epoch\": 1, \"model\": 8}, \"Metrics\": {\"validation_binary_classification_cross_entropy_objective\": {\"sum\": 0.4807429318528358, \"count\": 1, \"min\": 0.4807429318528358, \"max\": 0.4807429318528358}}}\u001b[0m\n",
      "\u001b[34m#metrics {\"StartTime\": 1654753660.2279437, \"EndTime\": 1654753660.2279577, \"Dimensions\": {\"Algorithm\": \"Linear Learner\", \"Host\": \"algo-1\", \"Operation\": \"training\", \"epoch\": 1, \"model\": 9}, \"Metrics\": {\"validation_binary_classification_cross_entropy_objective\": {\"sum\": 0.48211614674197506, \"count\": 1, \"min\": 0.48211614674197506, \"max\": 0.48211614674197506}}}\u001b[0m\n",
      "\u001b[34m#metrics {\"StartTime\": 1654753660.2280092, \"EndTime\": 1654753660.2280264, \"Dimensions\": {\"Algorithm\": \"Linear Learner\", \"Host\": \"algo-1\", \"Operation\": \"training\", \"epoch\": 1, \"model\": 10}, \"Metrics\": {\"validation_binary_classification_cross_entropy_objective\": {\"sum\": 0.4807427383646846, \"count\": 1, \"min\": 0.4807427383646846, \"max\": 0.4807427383646846}}}\u001b[0m\n",
      "\u001b[34m#metrics {\"StartTime\": 1654753660.228078, \"EndTime\": 1654753660.228093, \"Dimensions\": {\"Algorithm\": \"Linear Learner\", \"Host\": \"algo-1\", \"Operation\": \"training\", \"epoch\": 1, \"model\": 11}, \"Metrics\": {\"validation_binary_classification_cross_entropy_objective\": {\"sum\": 0.48211609300563224, \"count\": 1, \"min\": 0.48211609300563224, \"max\": 0.48211609300563224}}}\u001b[0m\n",
      "\u001b[34m#metrics {\"StartTime\": 1654753660.2281456, \"EndTime\": 1654753660.2281647, \"Dimensions\": {\"Algorithm\": \"Linear Learner\", \"Host\": \"algo-1\", \"Operation\": \"training\", \"epoch\": 1, \"model\": 12}, \"Metrics\": {\"validation_binary_classification_cross_entropy_objective\": {\"sum\": 0.4827619120470886, \"count\": 1, \"min\": 0.4827619120470886, \"max\": 0.4827619120470886}}}\u001b[0m\n",
      "\u001b[34m#metrics {\"StartTime\": 1654753660.2282007, \"EndTime\": 1654753660.2282102, \"Dimensions\": {\"Algorithm\": \"Linear Learner\", \"Host\": \"algo-1\", \"Operation\": \"training\", \"epoch\": 1, \"model\": 13}, \"Metrics\": {\"validation_binary_classification_cross_entropy_objective\": {\"sum\": 0.4966924333127209, \"count\": 1, \"min\": 0.4966924333127209, \"max\": 0.4966924333127209}}}\u001b[0m\n",
      "\u001b[34m#metrics {\"StartTime\": 1654753660.2282362, \"EndTime\": 1654753660.2282438, \"Dimensions\": {\"Algorithm\": \"Linear Learner\", \"Host\": \"algo-1\", \"Operation\": \"training\", \"epoch\": 1, \"model\": 14}, \"Metrics\": {\"validation_binary_classification_cross_entropy_objective\": {\"sum\": 0.48276297837764204, \"count\": 1, \"min\": 0.48276297837764204, \"max\": 0.48276297837764204}}}\u001b[0m\n",
      "\u001b[34m#metrics {\"StartTime\": 1654753660.2282693, \"EndTime\": 1654753660.2282765, \"Dimensions\": {\"Algorithm\": \"Linear Learner\", \"Host\": \"algo-1\", \"Operation\": \"training\", \"epoch\": 1, \"model\": 15}, \"Metrics\": {\"validation_binary_classification_cross_entropy_objective\": {\"sum\": 0.4966910762834794, \"count\": 1, \"min\": 0.4966910762834794, \"max\": 0.4966910762834794}}}\u001b[0m\n",
      "\u001b[34m#metrics {\"StartTime\": 1654753660.228301, \"EndTime\": 1654753660.2283084, \"Dimensions\": {\"Algorithm\": \"Linear Learner\", \"Host\": \"algo-1\", \"Operation\": \"training\", \"epoch\": 1, \"model\": 16}, \"Metrics\": {\"validation_binary_classification_cross_entropy_objective\": {\"sum\": 0.5044811032970972, \"count\": 1, \"min\": 0.5044811032970972, \"max\": 0.5044811032970972}}}\u001b[0m\n",
      "\u001b[34m#metrics {\"StartTime\": 1654753660.2283328, \"EndTime\": 1654753660.2283401, \"Dimensions\": {\"Algorithm\": \"Linear Learner\", \"Host\": \"algo-1\", \"Operation\": \"training\", \"epoch\": 1, \"model\": 17}, \"Metrics\": {\"validation_binary_classification_cross_entropy_objective\": {\"sum\": 0.5055571591956353, \"count\": 1, \"min\": 0.5055571591956353, \"max\": 0.5055571591956353}}}\u001b[0m\n",
      "\u001b[34m#metrics {\"StartTime\": 1654753660.2283814, \"EndTime\": 1654753660.228393, \"Dimensions\": {\"Algorithm\": \"Linear Learner\", \"Host\": \"algo-1\", \"Operation\": \"training\", \"epoch\": 1, \"model\": 18}, \"Metrics\": {\"validation_binary_classification_cross_entropy_objective\": {\"sum\": 0.5044819727809781, \"count\": 1, \"min\": 0.5044819727809781, \"max\": 0.5044819727809781}}}\u001b[0m\n",
      "\u001b[34m#metrics {\"StartTime\": 1654753660.2284217, \"EndTime\": 1654753660.2284298, \"Dimensions\": {\"Algorithm\": \"Linear Learner\", \"Host\": \"algo-1\", \"Operation\": \"training\", \"epoch\": 1, \"model\": 19}, \"Metrics\": {\"validation_binary_classification_cross_entropy_objective\": {\"sum\": 0.5055538364984358, \"count\": 1, \"min\": 0.5055538364984358, \"max\": 0.5055538364984358}}}\u001b[0m\n",
      "\u001b[34m#metrics {\"StartTime\": 1654753660.2284546, \"EndTime\": 1654753660.228462, \"Dimensions\": {\"Algorithm\": \"Linear Learner\", \"Host\": \"algo-1\", \"Operation\": \"training\", \"epoch\": 1, \"model\": 20}, \"Metrics\": {\"validation_binary_classification_cross_entropy_objective\": {\"sum\": 0.5055790158933354, \"count\": 1, \"min\": 0.5055790158933354, \"max\": 0.5055790158933354}}}\u001b[0m\n",
      "\u001b[34m#metrics {\"StartTime\": 1654753660.2285004, \"EndTime\": 1654753660.228515, \"Dimensions\": {\"Algorithm\": \"Linear Learner\", \"Host\": \"algo-1\", \"Operation\": \"training\", \"epoch\": 1, \"model\": 21}, \"Metrics\": {\"validation_binary_classification_cross_entropy_objective\": {\"sum\": 0.50594753469481, \"count\": 1, \"min\": 0.50594753469481, \"max\": 0.50594753469481}}}\u001b[0m\n",
      "\u001b[34m#metrics {\"StartTime\": 1654753660.2285466, \"EndTime\": 1654753660.2285547, \"Dimensions\": {\"Algorithm\": \"Linear Learner\", \"Host\": \"algo-1\", \"Operation\": \"training\", \"epoch\": 1, \"model\": 22}, \"Metrics\": {\"validation_binary_classification_cross_entropy_objective\": {\"sum\": 0.5055789311839616, \"count\": 1, \"min\": 0.5055789311839616, \"max\": 0.5055789311839616}}}\u001b[0m\n",
      "\u001b[34m#metrics {\"StartTime\": 1654753660.22858, \"EndTime\": 1654753660.2285872, \"Dimensions\": {\"Algorithm\": \"Linear Learner\", \"Host\": \"algo-1\", \"Operation\": \"training\", \"epoch\": 1, \"model\": 23}, \"Metrics\": {\"validation_binary_classification_cross_entropy_objective\": {\"sum\": 0.505948518181835, \"count\": 1, \"min\": 0.505948518181835, \"max\": 0.505948518181835}}}\u001b[0m\n",
      "\u001b[34m#metrics {\"StartTime\": 1654753660.2286162, \"EndTime\": 1654753660.2286294, \"Dimensions\": {\"Algorithm\": \"Linear Learner\", \"Host\": \"algo-1\", \"Operation\": \"training\", \"epoch\": 1, \"model\": 24}, \"Metrics\": {\"validation_binary_classification_cross_entropy_objective\": {\"sum\": 0.5137369674367196, \"count\": 1, \"min\": 0.5137369674367196, \"max\": 0.5137369674367196}}}\u001b[0m\n",
      "\u001b[34m#metrics {\"StartTime\": 1654753660.2286675, \"EndTime\": 1654753660.228676, \"Dimensions\": {\"Algorithm\": \"Linear Learner\", \"Host\": \"algo-1\", \"Operation\": \"training\", \"epoch\": 1, \"model\": 25}, \"Metrics\": {\"validation_binary_classification_cross_entropy_objective\": {\"sum\": 0.5145966666385248, \"count\": 1, \"min\": 0.5145966666385248, \"max\": 0.5145966666385248}}}\u001b[0m\n",
      "\u001b[34m#metrics {\"StartTime\": 1654753660.2287014, \"EndTime\": 1654753660.228709, \"Dimensions\": {\"Algorithm\": \"Linear Learner\", \"Host\": \"algo-1\", \"Operation\": \"training\", \"epoch\": 1, \"model\": 26}, \"Metrics\": {\"validation_binary_classification_cross_entropy_objective\": {\"sum\": 0.5137343502156045, \"count\": 1, \"min\": 0.5137343502156045, \"max\": 0.5137343502156045}}}\u001b[0m\n",
      "\u001b[34m#metrics {\"StartTime\": 1654753660.228734, \"EndTime\": 1654753660.2287407, \"Dimensions\": {\"Algorithm\": \"Linear Learner\", \"Host\": \"algo-1\", \"Operation\": \"training\", \"epoch\": 1, \"model\": 27}, \"Metrics\": {\"validation_binary_classification_cross_entropy_objective\": {\"sum\": 0.5145476245757098, \"count\": 1, \"min\": 0.5145476245757098, \"max\": 0.5145476245757098}}}\u001b[0m\n",
      "\u001b[34m#metrics {\"StartTime\": 1654753660.2287655, \"EndTime\": 1654753660.2287729, \"Dimensions\": {\"Algorithm\": \"Linear Learner\", \"Host\": \"algo-1\", \"Operation\": \"training\", \"epoch\": 1, \"model\": 28}, \"Metrics\": {\"validation_binary_classification_cross_entropy_objective\": {\"sum\": 0.5139167479692558, \"count\": 1, \"min\": 0.5139167479692558, \"max\": 0.5139167479692558}}}\u001b[0m\n",
      "\u001b[34m#metrics {\"StartTime\": 1654753660.2287974, \"EndTime\": 1654753660.2288046, \"Dimensions\": {\"Algorithm\": \"Linear Learner\", \"Host\": \"algo-1\", \"Operation\": \"training\", \"epoch\": 1, \"model\": 29}, \"Metrics\": {\"validation_binary_classification_cross_entropy_objective\": {\"sum\": 0.5136077268675553, \"count\": 1, \"min\": 0.5136077268675553, \"max\": 0.5136077268675553}}}\u001b[0m\n",
      "\u001b[34m#metrics {\"StartTime\": 1654753660.2288291, \"EndTime\": 1654753660.2288368, \"Dimensions\": {\"Algorithm\": \"Linear Learner\", \"Host\": \"algo-1\", \"Operation\": \"training\", \"epoch\": 1, \"model\": 30}, \"Metrics\": {\"validation_binary_classification_cross_entropy_objective\": {\"sum\": 0.5139156010341882, \"count\": 1, \"min\": 0.5139156010341882, \"max\": 0.5139156010341882}}}\u001b[0m\n",
      "\u001b[34m#metrics {\"StartTime\": 1654753660.2288613, \"EndTime\": 1654753660.228868, \"Dimensions\": {\"Algorithm\": \"Linear Learner\", \"Host\": \"algo-1\", \"Operation\": \"training\", \"epoch\": 1, \"model\": 31}, \"Metrics\": {\"validation_binary_classification_cross_entropy_objective\": {\"sum\": 0.5136132749583698, \"count\": 1, \"min\": 0.5136132749583698, \"max\": 0.5136132749583698}}}\u001b[0m\n",
      "\u001b[34m[06/09/2022 05:47:40 INFO 140325321312064] #quality_metric: host=algo-1, epoch=1, validation binary_classification_cross_entropy_objective <loss>=0.4805243667416794\u001b[0m\n",
      "\u001b[34m[06/09/2022 05:47:40 INFO 140325321312064] #early_stopping_criteria_metric: host=algo-1, epoch=1, criteria=binary_classification_cross_entropy_objective, value=0.4805243667416794\u001b[0m\n",
      "\u001b[34m[06/09/2022 05:47:40 INFO 140325321312064] Saving model for epoch: 1\u001b[0m\n",
      "\u001b[34m[06/09/2022 05:47:40 INFO 140325321312064] Saved checkpoint to \"/tmp/tmpqhp1w7mr/mx-mod-0000.params\"\u001b[0m\n",
      "\u001b[34m[06/09/2022 05:47:40 INFO 140325321312064] #progress_metric: host=algo-1, completed 13.333333333333334 % of epochs\u001b[0m\n",
      "\u001b[34m#metrics {\"StartTime\": 1654753596.4329069, \"EndTime\": 1654753660.236149, \"Dimensions\": {\"Algorithm\": \"Linear Learner\", \"Host\": \"algo-1\", \"Operation\": \"training\", \"epoch\": 1, \"Meta\": \"training_data_iter\"}, \"Metrics\": {\"Total Records Seen\": {\"sum\": 2628944.0, \"count\": 1, \"min\": 2628944, \"max\": 2628944}, \"Total Batches Seen\": {\"sum\": 2630.0, \"count\": 1, \"min\": 2630, \"max\": 2630}, \"Max Records Seen Between Resets\": {\"sum\": 1308472.0, \"count\": 1, \"min\": 1308472, \"max\": 1308472}, \"Max Batches Seen Between Resets\": {\"sum\": 1309.0, \"count\": 1, \"min\": 1309, \"max\": 1309}, \"Reset Count\": {\"sum\": 4.0, \"count\": 1, \"min\": 4, \"max\": 4}, \"Number of Records Since Last Reset\": {\"sum\": 1308472.0, \"count\": 1, \"min\": 1308472, \"max\": 1308472}, \"Number of Batches Since Last Reset\": {\"sum\": 1309.0, \"count\": 1, \"min\": 1309, \"max\": 1309}}}\u001b[0m\n",
      "\u001b[34m[06/09/2022 05:47:40 INFO 140325321312064] #throughput_metric: host=algo-1, train throughput=20507.868393632125 records/second\u001b[0m\n",
      "\u001b[34m[2022-06-09 05:48:38.924] [tensorio] [info] epoch_stats={\"data_pipeline\": \"/opt/ml/input/data/train\", \"epoch\": 7, \"duration\": 58670, \"num_examples\": 1309, \"num_bytes\": 507687136}\u001b[0m\n",
      "\u001b[34m#metrics {\"StartTime\": 1654753718.9250576, \"EndTime\": 1654753718.9251628, \"Dimensions\": {\"Algorithm\": \"Linear Learner\", \"Host\": \"algo-1\", \"Operation\": \"training\", \"epoch\": 2, \"model\": 0}, \"Metrics\": {\"train_binary_classification_cross_entropy_objective\": {\"sum\": 0.4806007483712759, \"count\": 1, \"min\": 0.4806007483712759, \"max\": 0.4806007483712759}}}\u001b[0m\n",
      "\u001b[34m#metrics {\"StartTime\": 1654753718.9252694, \"EndTime\": 1654753718.925293, \"Dimensions\": {\"Algorithm\": \"Linear Learner\", \"Host\": \"algo-1\", \"Operation\": \"training\", \"epoch\": 2, \"model\": 1}, \"Metrics\": {\"train_binary_classification_cross_entropy_objective\": {\"sum\": 0.48155148100780054, \"count\": 1, \"min\": 0.48155148100780054, \"max\": 0.48155148100780054}}}\u001b[0m\n",
      "\u001b[34m#metrics {\"StartTime\": 1654753718.925374, \"EndTime\": 1654753718.9253905, \"Dimensions\": {\"Algorithm\": \"Linear Learner\", \"Host\": \"algo-1\", \"Operation\": \"training\", \"epoch\": 2, \"model\": 2}, \"Metrics\": {\"train_binary_classification_cross_entropy_objective\": {\"sum\": 0.4806009886622064, \"count\": 1, \"min\": 0.4806009886622064, \"max\": 0.4806009886622064}}}\u001b[0m\n",
      "\u001b[34m#metrics {\"StartTime\": 1654753718.9254456, \"EndTime\": 1654753718.9254627, \"Dimensions\": {\"Algorithm\": \"Linear Learner\", \"Host\": \"algo-1\", \"Operation\": \"training\", \"epoch\": 2, \"model\": 3}, \"Metrics\": {\"train_binary_classification_cross_entropy_objective\": {\"sum\": 0.4815514499069354, \"count\": 1, \"min\": 0.4815514499069354, \"max\": 0.4815514499069354}}}\u001b[0m\n",
      "\u001b[34m#metrics {\"StartTime\": 1654753718.925518, \"EndTime\": 1654753718.9255345, \"Dimensions\": {\"Algorithm\": \"Linear Learner\", \"Host\": \"algo-1\", \"Operation\": \"training\", \"epoch\": 2, \"model\": 4}, \"Metrics\": {\"train_binary_classification_cross_entropy_objective\": {\"sum\": 0.4816441742549978, \"count\": 1, \"min\": 0.4816441742549978, \"max\": 0.4816441742549978}}}\u001b[0m\n",
      "\u001b[34m#metrics {\"StartTime\": 1654753718.9255865, \"EndTime\": 1654753718.9256027, \"Dimensions\": {\"Algorithm\": \"Linear Learner\", \"Host\": \"algo-1\", \"Operation\": \"training\", \"epoch\": 2, \"model\": 5}, \"Metrics\": {\"train_binary_classification_cross_entropy_objective\": {\"sum\": 0.49871302389442373, \"count\": 1, \"min\": 0.49871302389442373, \"max\": 0.49871302389442373}}}\u001b[0m\n",
      "\u001b[34m#metrics {\"StartTime\": 1654753718.9256513, \"EndTime\": 1654753718.925667, \"Dimensions\": {\"Algorithm\": \"Linear Learner\", \"Host\": \"algo-1\", \"Operation\": \"training\", \"epoch\": 2, \"model\": 6}, \"Metrics\": {\"train_binary_classification_cross_entropy_objective\": {\"sum\": 0.48164418874384796, \"count\": 1, \"min\": 0.48164418874384796, \"max\": 0.48164418874384796}}}\u001b[0m\n",
      "\u001b[34m#metrics {\"StartTime\": 1654753718.925716, \"EndTime\": 1654753718.9257307, \"Dimensions\": {\"Algorithm\": \"Linear Learner\", \"Host\": \"algo-1\", \"Operation\": \"training\", \"epoch\": 2, \"model\": 7}, \"Metrics\": {\"train_binary_classification_cross_entropy_objective\": {\"sum\": 0.49871295292005624, \"count\": 1, \"min\": 0.49871295292005624, \"max\": 0.49871295292005624}}}\u001b[0m\n",
      "\u001b[34m#metrics {\"StartTime\": 1654753718.9258277, \"EndTime\": 1654753718.925847, \"Dimensions\": {\"Algorithm\": \"Linear Learner\", \"Host\": \"algo-1\", \"Operation\": \"training\", \"epoch\": 2, \"model\": 8}, \"Metrics\": {\"train_binary_classification_cross_entropy_objective\": {\"sum\": 0.480869998336932, \"count\": 1, \"min\": 0.480869998336932, \"max\": 0.480869998336932}}}\u001b[0m\n",
      "\u001b[34m#metrics {\"StartTime\": 1654753718.9259105, \"EndTime\": 1654753718.925927, \"Dimensions\": {\"Algorithm\": \"Linear Learner\", \"Host\": \"algo-1\", \"Operation\": \"training\", \"epoch\": 2, \"model\": 9}, \"Metrics\": {\"train_binary_classification_cross_entropy_objective\": {\"sum\": 0.48176253481523706, \"count\": 1, \"min\": 0.48176253481523706, \"max\": 0.48176253481523706}}}\u001b[0m\n",
      "\u001b[34m#metrics {\"StartTime\": 1654753718.9259799, \"EndTime\": 1654753718.9259973, \"Dimensions\": {\"Algorithm\": \"Linear Learner\", \"Host\": \"algo-1\", \"Operation\": \"training\", \"epoch\": 2, \"model\": 10}, \"Metrics\": {\"train_binary_classification_cross_entropy_objective\": {\"sum\": 0.48086987659326025, \"count\": 1, \"min\": 0.48086987659326025, \"max\": 0.48086987659326025}}}\u001b[0m\n",
      "\u001b[34m#metrics {\"StartTime\": 1654753718.9260511, \"EndTime\": 1654753718.9260662, \"Dimensions\": {\"Algorithm\": \"Linear Learner\", \"Host\": \"algo-1\", \"Operation\": \"training\", \"epoch\": 2, \"model\": 11}, \"Metrics\": {\"train_binary_classification_cross_entropy_objective\": {\"sum\": 0.48176257179563564, \"count\": 1, \"min\": 0.48176257179563564, \"max\": 0.48176257179563564}}}\u001b[0m\n",
      "\u001b[34m#metrics {\"StartTime\": 1654753718.9261177, \"EndTime\": 1654753718.9261346, \"Dimensions\": {\"Algorithm\": \"Linear Learner\", \"Host\": \"algo-1\", \"Operation\": \"training\", \"epoch\": 2, \"model\": 12}, \"Metrics\": {\"train_binary_classification_cross_entropy_objective\": {\"sum\": 0.48184815883344834, \"count\": 1, \"min\": 0.48184815883344834, \"max\": 0.48184815883344834}}}\u001b[0m\n",
      "\u001b[34m#metrics {\"StartTime\": 1654753718.9261854, \"EndTime\": 1654753718.9262016, \"Dimensions\": {\"Algorithm\": \"Linear Learner\", \"Host\": \"algo-1\", \"Operation\": \"training\", \"epoch\": 2, \"model\": 13}, \"Metrics\": {\"train_binary_classification_cross_entropy_objective\": {\"sum\": 0.4976745475045767, \"count\": 1, \"min\": 0.4976745475045767, \"max\": 0.4976745475045767}}}\u001b[0m\n",
      "\u001b[34m#metrics {\"StartTime\": 1654753718.926252, \"EndTime\": 1654753718.9262679, \"Dimensions\": {\"Algorithm\": \"Linear Learner\", \"Host\": \"algo-1\", \"Operation\": \"training\", \"epoch\": 2, \"model\": 14}, \"Metrics\": {\"train_binary_classification_cross_entropy_objective\": {\"sum\": 0.4818480894689531, \"count\": 1, \"min\": 0.4818480894689531, \"max\": 0.4818480894689531}}}\u001b[0m\n",
      "\u001b[34m#metrics {\"StartTime\": 1654753718.9263165, \"EndTime\": 1654753718.9263337, \"Dimensions\": {\"Algorithm\": \"Linear Learner\", \"Host\": \"algo-1\", \"Operation\": \"training\", \"epoch\": 2, \"model\": 15}, \"Metrics\": {\"train_binary_classification_cross_entropy_objective\": {\"sum\": 0.497674361109369, \"count\": 1, \"min\": 0.497674361109369, \"max\": 0.497674361109369}}}\u001b[0m\n",
      "\u001b[34m#metrics {\"StartTime\": 1654753718.926385, \"EndTime\": 1654753718.9264019, \"Dimensions\": {\"Algorithm\": \"Linear Learner\", \"Host\": \"algo-1\", \"Operation\": \"training\", \"epoch\": 2, \"model\": 16}, \"Metrics\": {\"train_binary_classification_cross_entropy_objective\": {\"sum\": 0.5045471946179685, \"count\": 1, \"min\": 0.5045471946179685, \"max\": 0.5045471946179685}}}\u001b[0m\n",
      "\u001b[34m#metrics {\"StartTime\": 1654753718.926449, \"EndTime\": 1654753718.9264638, \"Dimensions\": {\"Algorithm\": \"Linear Learner\", \"Host\": \"algo-1\", \"Operation\": \"training\", \"epoch\": 2, \"model\": 17}, \"Metrics\": {\"train_binary_classification_cross_entropy_objective\": {\"sum\": 0.5047878145923673, \"count\": 1, \"min\": 0.5047878145923673, \"max\": 0.5047878145923673}}}\u001b[0m\n",
      "\u001b[34m#metrics {\"StartTime\": 1654753718.9265118, \"EndTime\": 1654753718.9265285, \"Dimensions\": {\"Algorithm\": \"Linear Learner\", \"Host\": \"algo-1\", \"Operation\": \"training\", \"epoch\": 2, \"model\": 18}, \"Metrics\": {\"train_binary_classification_cross_entropy_objective\": {\"sum\": 0.5045472032272852, \"count\": 1, \"min\": 0.5045472032272852, \"max\": 0.5045472032272852}}}\u001b[0m\n",
      "\u001b[34m#metrics {\"StartTime\": 1654753718.926581, \"EndTime\": 1654753718.9265966, \"Dimensions\": {\"Algorithm\": \"Linear Learner\", \"Host\": \"algo-1\", \"Operation\": \"training\", \"epoch\": 2, \"model\": 19}, \"Metrics\": {\"train_binary_classification_cross_entropy_objective\": {\"sum\": 0.5047878077795747, \"count\": 1, \"min\": 0.5047878077795747, \"max\": 0.5047878077795747}}}\u001b[0m\n",
      "\u001b[34m#metrics {\"StartTime\": 1654753718.9266484, \"EndTime\": 1654753718.9266658, \"Dimensions\": {\"Algorithm\": \"Linear Learner\", \"Host\": \"algo-1\", \"Operation\": \"training\", \"epoch\": 2, \"model\": 20}, \"Metrics\": {\"train_binary_classification_cross_entropy_objective\": {\"sum\": 0.5047849411570697, \"count\": 1, \"min\": 0.5047849411570697, \"max\": 0.5047849411570697}}}\u001b[0m\n",
      "\u001b[34m#metrics {\"StartTime\": 1654753718.9267178, \"EndTime\": 1654753718.9267333, \"Dimensions\": {\"Algorithm\": \"Linear Learner\", \"Host\": \"algo-1\", \"Operation\": \"training\", \"epoch\": 2, \"model\": 21}, \"Metrics\": {\"train_binary_classification_cross_entropy_objective\": {\"sum\": 0.5078663830305093, \"count\": 1, \"min\": 0.5078663830305093, \"max\": 0.5078663830305093}}}\u001b[0m\n",
      "\u001b[34m#metrics {\"StartTime\": 1654753718.926786, \"EndTime\": 1654753718.926801, \"Dimensions\": {\"Algorithm\": \"Linear Learner\", \"Host\": \"algo-1\", \"Operation\": \"training\", \"epoch\": 2, \"model\": 22}, \"Metrics\": {\"train_binary_classification_cross_entropy_objective\": {\"sum\": 0.5047849240550937, \"count\": 1, \"min\": 0.5047849240550937, \"max\": 0.5047849240550937}}}\u001b[0m\n",
      "\u001b[34m#metrics {\"StartTime\": 1654753718.9268515, \"EndTime\": 1654753718.926868, \"Dimensions\": {\"Algorithm\": \"Linear Learner\", \"Host\": \"algo-1\", \"Operation\": \"training\", \"epoch\": 2, \"model\": 23}, \"Metrics\": {\"train_binary_classification_cross_entropy_objective\": {\"sum\": 0.5078664763797678, \"count\": 1, \"min\": 0.5078664763797678, \"max\": 0.5078664763797678}}}\u001b[0m\n",
      "\u001b[34m#metrics {\"StartTime\": 1654753718.9269197, \"EndTime\": 1654753718.9269354, \"Dimensions\": {\"Algorithm\": \"Linear Learner\", \"Host\": \"algo-1\", \"Operation\": \"training\", \"epoch\": 2, \"model\": 24}, \"Metrics\": {\"train_binary_classification_cross_entropy_objective\": {\"sum\": 0.5137318469639582, \"count\": 1, \"min\": 0.5137318469639582, \"max\": 0.5137318469639582}}}\u001b[0m\n",
      "\u001b[34m#metrics {\"StartTime\": 1654753718.926985, \"EndTime\": 1654753718.9270012, \"Dimensions\": {\"Algorithm\": \"Linear Learner\", \"Host\": \"algo-1\", \"Operation\": \"training\", \"epoch\": 2, \"model\": 25}, \"Metrics\": {\"train_binary_classification_cross_entropy_objective\": {\"sum\": 0.5138389137804691, \"count\": 1, \"min\": 0.5138389137804691, \"max\": 0.5138389137804691}}}\u001b[0m\n",
      "\u001b[34m#metrics {\"StartTime\": 1654753718.9270499, \"EndTime\": 1654753718.9270658, \"Dimensions\": {\"Algorithm\": \"Linear Learner\", \"Host\": \"algo-1\", \"Operation\": \"training\", \"epoch\": 2, \"model\": 26}, \"Metrics\": {\"train_binary_classification_cross_entropy_objective\": {\"sum\": 0.5137317165643068, \"count\": 1, \"min\": 0.5137317165643068, \"max\": 0.5137317165643068}}}\u001b[0m\n",
      "\u001b[34m#metrics {\"StartTime\": 1654753718.9271216, \"EndTime\": 1654753718.9271371, \"Dimensions\": {\"Algorithm\": \"Linear Learner\", \"Host\": \"algo-1\", \"Operation\": \"training\", \"epoch\": 2, \"model\": 27}, \"Metrics\": {\"train_binary_classification_cross_entropy_objective\": {\"sum\": 0.5138383267370568, \"count\": 1, \"min\": 0.5138383267370568, \"max\": 0.5138383267370568}}}\u001b[0m\n",
      "\u001b[34m#metrics {\"StartTime\": 1654753718.927185, \"EndTime\": 1654753718.9272, \"Dimensions\": {\"Algorithm\": \"Linear Learner\", \"Host\": \"algo-1\", \"Operation\": \"training\", \"epoch\": 2, \"model\": 28}, \"Metrics\": {\"train_binary_classification_cross_entropy_objective\": {\"sum\": 0.5138325116452092, \"count\": 1, \"min\": 0.5138325116452092, \"max\": 0.5138325116452092}}}\u001b[0m\n",
      "\u001b[34m#metrics {\"StartTime\": 1654753718.9272475, \"EndTime\": 1654753718.927261, \"Dimensions\": {\"Algorithm\": \"Linear Learner\", \"Host\": \"algo-1\", \"Operation\": \"training\", \"epoch\": 2, \"model\": 29}, \"Metrics\": {\"train_binary_classification_cross_entropy_objective\": {\"sum\": 0.5150280441377506, \"count\": 1, \"min\": 0.5150280441377506, \"max\": 0.5150280441377506}}}\u001b[0m\n",
      "\u001b[34m#metrics {\"StartTime\": 1654753718.9273133, \"EndTime\": 1654753718.9273307, \"Dimensions\": {\"Algorithm\": \"Linear Learner\", \"Host\": \"algo-1\", \"Operation\": \"training\", \"epoch\": 2, \"model\": 30}, \"Metrics\": {\"train_binary_classification_cross_entropy_objective\": {\"sum\": 0.5138323391089017, \"count\": 1, \"min\": 0.5138323391089017, \"max\": 0.5138323391089017}}}\u001b[0m\n",
      "\u001b[34m#metrics {\"StartTime\": 1654753718.9273825, \"EndTime\": 1654753718.927399, \"Dimensions\": {\"Algorithm\": \"Linear Learner\", \"Host\": \"algo-1\", \"Operation\": \"training\", \"epoch\": 2, \"model\": 31}, \"Metrics\": {\"train_binary_classification_cross_entropy_objective\": {\"sum\": 0.5150280029343538, \"count\": 1, \"min\": 0.5150280029343538, \"max\": 0.5150280029343538}}}\u001b[0m\n",
      "\u001b[34m[06/09/2022 05:48:38 INFO 140325321312064] #quality_metric: host=algo-1, epoch=2, train binary_classification_cross_entropy_objective <loss>=0.4806007483712759\u001b[0m\n",
      "\u001b[34m[2022-06-09 05:48:44.148] [tensorio] [info] epoch_stats={\"data_pipeline\": \"/opt/ml/input/data/validation\", \"epoch\": 8, \"duration\": 5195, \"num_examples\": 164, \"num_bytes\": 63460892}\u001b[0m\n",
      "\u001b[34m#metrics {\"StartTime\": 1654753724.1573136, \"EndTime\": 1654753724.157372, \"Dimensions\": {\"Algorithm\": \"Linear Learner\", \"Host\": \"algo-1\", \"Operation\": \"training\", \"epoch\": 2, \"model\": 0}, \"Metrics\": {\"validation_binary_classification_cross_entropy_objective\": {\"sum\": 0.48050790028428675, \"count\": 1, \"min\": 0.48050790028428675, \"max\": 0.48050790028428675}}}\u001b[0m\n",
      "\u001b[34m#metrics {\"StartTime\": 1654753724.157484, \"EndTime\": 1654753724.1575158, \"Dimensions\": {\"Algorithm\": \"Linear Learner\", \"Host\": \"algo-1\", \"Operation\": \"training\", \"epoch\": 2, \"model\": 1}, \"Metrics\": {\"validation_binary_classification_cross_entropy_objective\": {\"sum\": 0.48173243604198973, \"count\": 1, \"min\": 0.48173243604198973, \"max\": 0.48173243604198973}}}\u001b[0m\n",
      "\u001b[34m#metrics {\"StartTime\": 1654753724.1576, \"EndTime\": 1654753724.1576197, \"Dimensions\": {\"Algorithm\": \"Linear Learner\", \"Host\": \"algo-1\", \"Operation\": \"training\", \"epoch\": 2, \"model\": 2}, \"Metrics\": {\"validation_binary_classification_cross_entropy_objective\": {\"sum\": 0.48050813817955457, \"count\": 1, \"min\": 0.48050813817955457, \"max\": 0.48050813817955457}}}\u001b[0m\n",
      "\u001b[34m#metrics {\"StartTime\": 1654753724.1576812, \"EndTime\": 1654753724.1576998, \"Dimensions\": {\"Algorithm\": \"Linear Learner\", \"Host\": \"algo-1\", \"Operation\": \"training\", \"epoch\": 2, \"model\": 3}, \"Metrics\": {\"validation_binary_classification_cross_entropy_objective\": {\"sum\": 0.4817323526387076, \"count\": 1, \"min\": 0.4817323526387076, \"max\": 0.4817323526387076}}}\u001b[0m\n",
      "\u001b[34m#metrics {\"StartTime\": 1654753724.1577816, \"EndTime\": 1654753724.1577938, \"Dimensions\": {\"Algorithm\": \"Linear Learner\", \"Host\": \"algo-1\", \"Operation\": \"training\", \"epoch\": 2, \"model\": 4}, \"Metrics\": {\"validation_binary_classification_cross_entropy_objective\": {\"sum\": 0.48099993300272187, \"count\": 1, \"min\": 0.48099993300272187, \"max\": 0.48099993300272187}}}\u001b[0m\n",
      "\u001b[34m#metrics {\"StartTime\": 1654753724.1578317, \"EndTime\": 1654753724.1578393, \"Dimensions\": {\"Algorithm\": \"Linear Learner\", \"Host\": \"algo-1\", \"Operation\": \"training\", \"epoch\": 2, \"model\": 5}, \"Metrics\": {\"validation_binary_classification_cross_entropy_objective\": {\"sum\": 0.4957144122814985, \"count\": 1, \"min\": 0.4957144122814985, \"max\": 0.4957144122814985}}}\u001b[0m\n",
      "\u001b[34m#metrics {\"StartTime\": 1654753724.1578667, \"EndTime\": 1654753724.1578743, \"Dimensions\": {\"Algorithm\": \"Linear Learner\", \"Host\": \"algo-1\", \"Operation\": \"training\", \"epoch\": 2, \"model\": 6}, \"Metrics\": {\"validation_binary_classification_cross_entropy_objective\": {\"sum\": 0.48099994046610284, \"count\": 1, \"min\": 0.48099994046610284, \"max\": 0.48099994046610284}}}\u001b[0m\n",
      "\u001b[34m#metrics {\"StartTime\": 1654753724.1579018, \"EndTime\": 1654753724.1579154, \"Dimensions\": {\"Algorithm\": \"Linear Learner\", \"Host\": \"algo-1\", \"Operation\": \"training\", \"epoch\": 2, \"model\": 7}, \"Metrics\": {\"validation_binary_classification_cross_entropy_objective\": {\"sum\": 0.49571425816268183, \"count\": 1, \"min\": 0.49571425816268183, \"max\": 0.49571425816268183}}}\u001b[0m\n",
      "\u001b[34m#metrics {\"StartTime\": 1654753724.1579566, \"EndTime\": 1654753724.1579654, \"Dimensions\": {\"Algorithm\": \"Linear Learner\", \"Host\": \"algo-1\", \"Operation\": \"training\", \"epoch\": 2, \"model\": 8}, \"Metrics\": {\"validation_binary_classification_cross_entropy_objective\": {\"sum\": 0.48074218868667756, \"count\": 1, \"min\": 0.48074218868667756, \"max\": 0.48074218868667756}}}\u001b[0m\n",
      "\u001b[34m#metrics {\"StartTime\": 1654753724.1579914, \"EndTime\": 1654753724.157999, \"Dimensions\": {\"Algorithm\": \"Linear Learner\", \"Host\": \"algo-1\", \"Operation\": \"training\", \"epoch\": 2, \"model\": 9}, \"Metrics\": {\"validation_binary_classification_cross_entropy_objective\": {\"sum\": 0.4819486944086786, \"count\": 1, \"min\": 0.4819486944086786, \"max\": 0.4819486944086786}}}\u001b[0m\n",
      "\u001b[34m#metrics {\"StartTime\": 1654753724.1580243, \"EndTime\": 1654753724.1580355, \"Dimensions\": {\"Algorithm\": \"Linear Learner\", \"Host\": \"algo-1\", \"Operation\": \"training\", \"epoch\": 2, \"model\": 10}, \"Metrics\": {\"validation_binary_classification_cross_entropy_objective\": {\"sum\": 0.4807420739371954, \"count\": 1, \"min\": 0.4807420739371954, \"max\": 0.4807420739371954}}}\u001b[0m\n",
      "\u001b[34m#metrics {\"StartTime\": 1654753724.1580913, \"EndTime\": 1654753724.1581025, \"Dimensions\": {\"Algorithm\": \"Linear Learner\", \"Host\": \"algo-1\", \"Operation\": \"training\", \"epoch\": 2, \"model\": 11}, \"Metrics\": {\"validation_binary_classification_cross_entropy_objective\": {\"sum\": 0.481948646829625, \"count\": 1, \"min\": 0.481948646829625, \"max\": 0.481948646829625}}}\u001b[0m\n",
      "\u001b[34m#metrics {\"StartTime\": 1654753724.158156, \"EndTime\": 1654753724.158172, \"Dimensions\": {\"Algorithm\": \"Linear Learner\", \"Host\": \"algo-1\", \"Operation\": \"training\", \"epoch\": 2, \"model\": 12}, \"Metrics\": {\"validation_binary_classification_cross_entropy_objective\": {\"sum\": 0.4812022098447058, \"count\": 1, \"min\": 0.4812022098447058, \"max\": 0.4812022098447058}}}\u001b[0m\n",
      "\u001b[34m#metrics {\"StartTime\": 1654753724.1582234, \"EndTime\": 1654753724.1582372, \"Dimensions\": {\"Algorithm\": \"Linear Learner\", \"Host\": \"algo-1\", \"Operation\": \"training\", \"epoch\": 2, \"model\": 13}, \"Metrics\": {\"validation_binary_classification_cross_entropy_objective\": {\"sum\": 0.49509387936128935, \"count\": 1, \"min\": 0.49509387936128935, \"max\": 0.49509387936128935}}}\u001b[0m\n",
      "\u001b[34m#metrics {\"StartTime\": 1654753724.1583045, \"EndTime\": 1654753724.1583223, \"Dimensions\": {\"Algorithm\": \"Linear Learner\", \"Host\": \"algo-1\", \"Operation\": \"training\", \"epoch\": 2, \"model\": 14}, \"Metrics\": {\"validation_binary_classification_cross_entropy_objective\": {\"sum\": 0.48120214733889033, \"count\": 1, \"min\": 0.48120214733889033, \"max\": 0.48120214733889033}}}\u001b[0m\n",
      "\u001b[34m#metrics {\"StartTime\": 1654753724.1583767, \"EndTime\": 1654753724.1583948, \"Dimensions\": {\"Algorithm\": \"Linear Learner\", \"Host\": \"algo-1\", \"Operation\": \"training\", \"epoch\": 2, \"model\": 15}, \"Metrics\": {\"validation_binary_classification_cross_entropy_objective\": {\"sum\": 0.4950937151669084, \"count\": 1, \"min\": 0.4950937151669084, \"max\": 0.4950937151669084}}}\u001b[0m\n",
      "\u001b[34m#metrics {\"StartTime\": 1654753724.1584456, \"EndTime\": 1654753724.1584625, \"Dimensions\": {\"Algorithm\": \"Linear Learner\", \"Host\": \"algo-1\", \"Operation\": \"training\", \"epoch\": 2, \"model\": 16}, \"Metrics\": {\"validation_binary_classification_cross_entropy_objective\": {\"sum\": 0.504410309583669, \"count\": 1, \"min\": 0.504410309583669, \"max\": 0.504410309583669}}}\u001b[0m\n",
      "\u001b[34m#metrics {\"StartTime\": 1654753724.1585252, \"EndTime\": 1654753724.1585424, \"Dimensions\": {\"Algorithm\": \"Linear Learner\", \"Host\": \"algo-1\", \"Operation\": \"training\", \"epoch\": 2, \"model\": 17}, \"Metrics\": {\"validation_binary_classification_cross_entropy_objective\": {\"sum\": 0.5054897047854291, \"count\": 1, \"min\": 0.5054897047854291, \"max\": 0.5054897047854291}}}\u001b[0m\n",
      "\u001b[34m#metrics {\"StartTime\": 1654753724.1586053, \"EndTime\": 1654753724.1586251, \"Dimensions\": {\"Algorithm\": \"Linear Learner\", \"Host\": \"algo-1\", \"Operation\": \"training\", \"epoch\": 2, \"model\": 18}, \"Metrics\": {\"validation_binary_classification_cross_entropy_objective\": {\"sum\": 0.5044110174853522, \"count\": 1, \"min\": 0.5044110174853522, \"max\": 0.5044110174853522}}}\u001b[0m\n",
      "\u001b[34m#metrics {\"StartTime\": 1654753724.1586766, \"EndTime\": 1654753724.1586936, \"Dimensions\": {\"Algorithm\": \"Linear Learner\", \"Host\": \"algo-1\", \"Operation\": \"training\", \"epoch\": 2, \"model\": 19}, \"Metrics\": {\"validation_binary_classification_cross_entropy_objective\": {\"sum\": 0.5054888030224257, \"count\": 1, \"min\": 0.5054888030224257, \"max\": 0.5054888030224257}}}\u001b[0m\n",
      "\u001b[34m#metrics {\"StartTime\": 1654753724.1587384, \"EndTime\": 1654753724.158753, \"Dimensions\": {\"Algorithm\": \"Linear Learner\", \"Host\": \"algo-1\", \"Operation\": \"training\", \"epoch\": 2, \"model\": 20}, \"Metrics\": {\"validation_binary_classification_cross_entropy_objective\": {\"sum\": 0.5050862881475492, \"count\": 1, \"min\": 0.5050862881475492, \"max\": 0.5050862881475492}}}\u001b[0m\n",
      "\u001b[34m#metrics {\"StartTime\": 1654753724.1588066, \"EndTime\": 1654753724.1588247, \"Dimensions\": {\"Algorithm\": \"Linear Learner\", \"Host\": \"algo-1\", \"Operation\": \"training\", \"epoch\": 2, \"model\": 21}, \"Metrics\": {\"validation_binary_classification_cross_entropy_objective\": {\"sum\": 0.5065447762689157, \"count\": 1, \"min\": 0.5065447762689157, \"max\": 0.5065447762689157}}}\u001b[0m\n",
      "\u001b[34m#metrics {\"StartTime\": 1654753724.1588757, \"EndTime\": 1654753724.1588924, \"Dimensions\": {\"Algorithm\": \"Linear Learner\", \"Host\": \"algo-1\", \"Operation\": \"training\", \"epoch\": 2, \"model\": 22}, \"Metrics\": {\"validation_binary_classification_cross_entropy_objective\": {\"sum\": 0.5050863207998408, \"count\": 1, \"min\": 0.5050863207998408, \"max\": 0.5050863207998408}}}\u001b[0m\n",
      "\u001b[34m#metrics {\"StartTime\": 1654753724.1589427, \"EndTime\": 1654753724.1589599, \"Dimensions\": {\"Algorithm\": \"Linear Learner\", \"Host\": \"algo-1\", \"Operation\": \"training\", \"epoch\": 2, \"model\": 23}, \"Metrics\": {\"validation_binary_classification_cross_entropy_objective\": {\"sum\": 0.5065447208533121, \"count\": 1, \"min\": 0.5065447208533121, \"max\": 0.5065447208533121}}}\u001b[0m\n",
      "\u001b[34m#metrics {\"StartTime\": 1654753724.1590016, \"EndTime\": 1654753724.1590142, \"Dimensions\": {\"Algorithm\": \"Linear Learner\", \"Host\": \"algo-1\", \"Operation\": \"training\", \"epoch\": 2, \"model\": 24}, \"Metrics\": {\"validation_binary_classification_cross_entropy_objective\": {\"sum\": 0.5137268577274676, \"count\": 1, \"min\": 0.5137268577274676, \"max\": 0.5137268577274676}}}\u001b[0m\n",
      "\u001b[34m#metrics {\"StartTime\": 1654753724.1590466, \"EndTime\": 1654753724.159061, \"Dimensions\": {\"Algorithm\": \"Linear Learner\", \"Host\": \"algo-1\", \"Operation\": \"training\", \"epoch\": 2, \"model\": 25}, \"Metrics\": {\"validation_binary_classification_cross_entropy_objective\": {\"sum\": 0.5145227299087934, \"count\": 1, \"min\": 0.5145227299087934, \"max\": 0.5145227299087934}}}\u001b[0m\n",
      "\u001b[34m#metrics {\"StartTime\": 1654753724.1591125, \"EndTime\": 1654753724.1591272, \"Dimensions\": {\"Algorithm\": \"Linear Learner\", \"Host\": \"algo-1\", \"Operation\": \"training\", \"epoch\": 2, \"model\": 26}, \"Metrics\": {\"validation_binary_classification_cross_entropy_objective\": {\"sum\": 0.5137281419887448, \"count\": 1, \"min\": 0.5137281419887448, \"max\": 0.5137281419887448}}}\u001b[0m\n",
      "\u001b[34m#metrics {\"StartTime\": 1654753724.1591792, \"EndTime\": 1654753724.1591947, \"Dimensions\": {\"Algorithm\": \"Linear Learner\", \"Host\": \"algo-1\", \"Operation\": \"training\", \"epoch\": 2, \"model\": 27}, \"Metrics\": {\"validation_binary_classification_cross_entropy_objective\": {\"sum\": 0.5144936419412897, \"count\": 1, \"min\": 0.5144936419412897, \"max\": 0.5144936419412897}}}\u001b[0m\n",
      "\u001b[34m#metrics {\"StartTime\": 1654753724.159245, \"EndTime\": 1654753724.1592603, \"Dimensions\": {\"Algorithm\": \"Linear Learner\", \"Host\": \"algo-1\", \"Operation\": \"training\", \"epoch\": 2, \"model\": 28}, \"Metrics\": {\"validation_binary_classification_cross_entropy_objective\": {\"sum\": 0.5139424742433947, \"count\": 1, \"min\": 0.5139424742433947, \"max\": 0.5139424742433947}}}\u001b[0m\n",
      "\u001b[34m#metrics {\"StartTime\": 1654753724.1593137, \"EndTime\": 1654753724.159328, \"Dimensions\": {\"Algorithm\": \"Linear Learner\", \"Host\": \"algo-1\", \"Operation\": \"training\", \"epoch\": 2, \"model\": 29}, \"Metrics\": {\"validation_binary_classification_cross_entropy_objective\": {\"sum\": 0.5135982674053686, \"count\": 1, \"min\": 0.5135982674053686, \"max\": 0.5135982674053686}}}\u001b[0m\n",
      "\u001b[34m#metrics {\"StartTime\": 1654753724.1593785, \"EndTime\": 1654753724.1593933, \"Dimensions\": {\"Algorithm\": \"Linear Learner\", \"Host\": \"algo-1\", \"Operation\": \"training\", \"epoch\": 2, \"model\": 30}, \"Metrics\": {\"validation_binary_classification_cross_entropy_objective\": {\"sum\": 0.5139448636448062, \"count\": 1, \"min\": 0.5139448636448062, \"max\": 0.5139448636448062}}}\u001b[0m\n",
      "\u001b[34m#metrics {\"StartTime\": 1654753724.1594465, \"EndTime\": 1654753724.159462, \"Dimensions\": {\"Algorithm\": \"Linear Learner\", \"Host\": \"algo-1\", \"Operation\": \"training\", \"epoch\": 2, \"model\": 31}, \"Metrics\": {\"validation_binary_classification_cross_entropy_objective\": {\"sum\": 0.51359830211009, \"count\": 1, \"min\": 0.51359830211009, \"max\": 0.51359830211009}}}\u001b[0m\n",
      "\u001b[34m[06/09/2022 05:48:44 INFO 140325321312064] #quality_metric: host=algo-1, epoch=2, validation binary_classification_cross_entropy_objective <loss>=0.48050790028428675\u001b[0m\n",
      "\u001b[34m[06/09/2022 05:48:44 INFO 140325321312064] #early_stopping_criteria_metric: host=algo-1, epoch=2, criteria=binary_classification_cross_entropy_objective, value=0.48050790028428675\u001b[0m\n",
      "\u001b[34m[06/09/2022 05:48:44 INFO 140325321312064] Saving model for epoch: 2\u001b[0m\n",
      "\u001b[34m[06/09/2022 05:48:44 INFO 140325321312064] Saved checkpoint to \"/tmp/tmp48yirflx/mx-mod-0000.params\"\u001b[0m\n",
      "\u001b[34m[06/09/2022 05:48:44 INFO 140325321312064] #progress_metric: host=algo-1, completed 20.0 % of epochs\u001b[0m\n",
      "\u001b[34m#metrics {\"StartTime\": 1654753660.254636, \"EndTime\": 1654753724.1663337, \"Dimensions\": {\"Algorithm\": \"Linear Learner\", \"Host\": \"algo-1\", \"Operation\": \"training\", \"epoch\": 2, \"Meta\": \"training_data_iter\"}, \"Metrics\": {\"Total Records Seen\": {\"sum\": 3937416.0, \"count\": 1, \"min\": 3937416, \"max\": 3937416}, \"Total Batches Seen\": {\"sum\": 3939.0, \"count\": 1, \"min\": 3939, \"max\": 3939}, \"Max Records Seen Between Resets\": {\"sum\": 1308472.0, \"count\": 1, \"min\": 1308472, \"max\": 1308472}, \"Max Batches Seen Between Resets\": {\"sum\": 1309.0, \"count\": 1, \"min\": 1309, \"max\": 1309}, \"Reset Count\": {\"sum\": 5.0, \"count\": 1, \"min\": 5, \"max\": 5}, \"Number of Records Since Last Reset\": {\"sum\": 1308472.0, \"count\": 1, \"min\": 1308472, \"max\": 1308472}, \"Number of Batches Since Last Reset\": {\"sum\": 1309.0, \"count\": 1, \"min\": 1309, \"max\": 1309}}}\u001b[0m\n",
      "\u001b[34m[06/09/2022 05:48:44 INFO 140325321312064] #throughput_metric: host=algo-1, train throughput=20473.075835167376 records/second\u001b[0m\n",
      "\u001b[34m[2022-06-09 05:49:42.715] [tensorio] [info] epoch_stats={\"data_pipeline\": \"/opt/ml/input/data/train\", \"epoch\": 9, \"duration\": 58548, \"num_examples\": 1309, \"num_bytes\": 507687136}\u001b[0m\n",
      "\u001b[34m#metrics {\"StartTime\": 1654753782.715384, \"EndTime\": 1654753782.7155156, \"Dimensions\": {\"Algorithm\": \"Linear Learner\", \"Host\": \"algo-1\", \"Operation\": \"training\", \"epoch\": 3, \"model\": 0}, \"Metrics\": {\"train_binary_classification_cross_entropy_objective\": {\"sum\": 0.4805375264019047, \"count\": 1, \"min\": 0.4805375264019047, \"max\": 0.4805375264019047}}}\u001b[0m\n",
      "\u001b[34m#metrics {\"StartTime\": 1654753782.7156749, \"EndTime\": 1654753782.715731, \"Dimensions\": {\"Algorithm\": \"Linear Learner\", \"Host\": \"algo-1\", \"Operation\": \"training\", \"epoch\": 3, \"model\": 1}, \"Metrics\": {\"train_binary_classification_cross_entropy_objective\": {\"sum\": 0.4814291828167183, \"count\": 1, \"min\": 0.4814291828167183, \"max\": 0.4814291828167183}}}\u001b[0m\n",
      "\u001b[34m#metrics {\"StartTime\": 1654753782.7158303, \"EndTime\": 1654753782.7158527, \"Dimensions\": {\"Algorithm\": \"Linear Learner\", \"Host\": \"algo-1\", \"Operation\": \"training\", \"epoch\": 3, \"model\": 2}, \"Metrics\": {\"train_binary_classification_cross_entropy_objective\": {\"sum\": 0.4805522983562691, \"count\": 1, \"min\": 0.4805522983562691, \"max\": 0.4805522983562691}}}\u001b[0m\n",
      "\u001b[34m#metrics {\"StartTime\": 1654753782.715946, \"EndTime\": 1654753782.7159665, \"Dimensions\": {\"Algorithm\": \"Linear Learner\", \"Host\": \"algo-1\", \"Operation\": \"training\", \"epoch\": 3, \"model\": 3}, \"Metrics\": {\"train_binary_classification_cross_entropy_objective\": {\"sum\": 0.4814291754439701, \"count\": 1, \"min\": 0.4814291754439701, \"max\": 0.4814291754439701}}}\u001b[0m\n",
      "\u001b[34m#metrics {\"StartTime\": 1654753782.7160232, \"EndTime\": 1654753782.7160406, \"Dimensions\": {\"Algorithm\": \"Linear Learner\", \"Host\": \"algo-1\", \"Operation\": \"training\", \"epoch\": 3, \"model\": 4}, \"Metrics\": {\"train_binary_classification_cross_entropy_objective\": {\"sum\": 0.48084240564002173, \"count\": 1, \"min\": 0.48084240564002173, \"max\": 0.48084240564002173}}}\u001b[0m\n",
      "\u001b[34m#metrics {\"StartTime\": 1654753782.716098, \"EndTime\": 1654753782.7161157, \"Dimensions\": {\"Algorithm\": \"Linear Learner\", \"Host\": \"algo-1\", \"Operation\": \"training\", \"epoch\": 3, \"model\": 5}, \"Metrics\": {\"train_binary_classification_cross_entropy_objective\": {\"sum\": 0.49658511364204805, \"count\": 1, \"min\": 0.49658511364204805, \"max\": 0.49658511364204805}}}\u001b[0m\n",
      "\u001b[34m#metrics {\"StartTime\": 1654753782.7161713, \"EndTime\": 1654753782.7161875, \"Dimensions\": {\"Algorithm\": \"Linear Learner\", \"Host\": \"algo-1\", \"Operation\": \"training\", \"epoch\": 3, \"model\": 6}, \"Metrics\": {\"train_binary_classification_cross_entropy_objective\": {\"sum\": 0.4808424058033421, \"count\": 1, \"min\": 0.4808424058033421, \"max\": 0.4808424058033421}}}\u001b[0m\n",
      "\u001b[34m#metrics {\"StartTime\": 1654753782.7162445, \"EndTime\": 1654753782.7162611, \"Dimensions\": {\"Algorithm\": \"Linear Learner\", \"Host\": \"algo-1\", \"Operation\": \"training\", \"epoch\": 3, \"model\": 7}, \"Metrics\": {\"train_binary_classification_cross_entropy_objective\": {\"sum\": 0.49658510731921646, \"count\": 1, \"min\": 0.49658510731921646, \"max\": 0.49658510731921646}}}\u001b[0m\n",
      "\u001b[34m#metrics {\"StartTime\": 1654753782.7163146, \"EndTime\": 1654753782.716332, \"Dimensions\": {\"Algorithm\": \"Linear Learner\", \"Host\": \"algo-1\", \"Operation\": \"training\", \"epoch\": 3, \"model\": 8}, \"Metrics\": {\"train_binary_classification_cross_entropy_objective\": {\"sum\": 0.48080915403220265, \"count\": 1, \"min\": 0.48080915403220265, \"max\": 0.48080915403220265}}}\u001b[0m\n",
      "\u001b[34m#metrics {\"StartTime\": 1654753782.7163877, \"EndTime\": 1654753782.716404, \"Dimensions\": {\"Algorithm\": \"Linear Learner\", \"Host\": \"algo-1\", \"Operation\": \"training\", \"epoch\": 3, \"model\": 9}, \"Metrics\": {\"train_binary_classification_cross_entropy_objective\": {\"sum\": 0.4816473221385151, \"count\": 1, \"min\": 0.4816473221385151, \"max\": 0.4816473221385151}}}\u001b[0m\n",
      "\u001b[34m#metrics {\"StartTime\": 1654753782.716459, \"EndTime\": 1654753782.7164757, \"Dimensions\": {\"Algorithm\": \"Linear Learner\", \"Host\": \"algo-1\", \"Operation\": \"training\", \"epoch\": 3, \"model\": 10}, \"Metrics\": {\"train_binary_classification_cross_entropy_objective\": {\"sum\": 0.48082345074761534, \"count\": 1, \"min\": 0.48082345074761534, \"max\": 0.48082345074761534}}}\u001b[0m\n",
      "\u001b[34m#metrics {\"StartTime\": 1654753782.7165282, \"EndTime\": 1654753782.7165434, \"Dimensions\": {\"Algorithm\": \"Linear Learner\", \"Host\": \"algo-1\", \"Operation\": \"training\", \"epoch\": 3, \"model\": 11}, \"Metrics\": {\"train_binary_classification_cross_entropy_objective\": {\"sum\": 0.4816473308411578, \"count\": 1, \"min\": 0.4816473308411578, \"max\": 0.4816473308411578}}}\u001b[0m\n",
      "\u001b[34m#metrics {\"StartTime\": 1654753782.7165992, \"EndTime\": 1654753782.7166166, \"Dimensions\": {\"Algorithm\": \"Linear Learner\", \"Host\": \"algo-1\", \"Operation\": \"training\", \"epoch\": 3, \"model\": 12}, \"Metrics\": {\"train_binary_classification_cross_entropy_objective\": {\"sum\": 0.4810951642377661, \"count\": 1, \"min\": 0.4810951642377661, \"max\": 0.4810951642377661}}}\u001b[0m\n",
      "\u001b[34m#metrics {\"StartTime\": 1654753782.7166717, \"EndTime\": 1654753782.7166886, \"Dimensions\": {\"Algorithm\": \"Linear Learner\", \"Host\": \"algo-1\", \"Operation\": \"training\", \"epoch\": 3, \"model\": 13}, \"Metrics\": {\"train_binary_classification_cross_entropy_objective\": {\"sum\": 0.4957205339017629, \"count\": 1, \"min\": 0.4957205339017629, \"max\": 0.4957205339017629}}}\u001b[0m\n",
      "\u001b[34m#metrics {\"StartTime\": 1654753782.716743, \"EndTime\": 1654753782.716761, \"Dimensions\": {\"Algorithm\": \"Linear Learner\", \"Host\": \"algo-1\", \"Operation\": \"training\", \"epoch\": 3, \"model\": 14}, \"Metrics\": {\"train_binary_classification_cross_entropy_objective\": {\"sum\": 0.481095159874779, \"count\": 1, \"min\": 0.481095159874779, \"max\": 0.481095159874779}}}\u001b[0m\n",
      "\u001b[34m#metrics {\"StartTime\": 1654753782.7168155, \"EndTime\": 1654753782.716832, \"Dimensions\": {\"Algorithm\": \"Linear Learner\", \"Host\": \"algo-1\", \"Operation\": \"training\", \"epoch\": 3, \"model\": 15}, \"Metrics\": {\"train_binary_classification_cross_entropy_objective\": {\"sum\": 0.49572051922626087, \"count\": 1, \"min\": 0.49572051922626087, \"max\": 0.49572051922626087}}}\u001b[0m\n",
      "\u001b[34m#metrics {\"StartTime\": 1654753782.716894, \"EndTime\": 1654753782.7169087, \"Dimensions\": {\"Algorithm\": \"Linear Learner\", \"Host\": \"algo-1\", \"Operation\": \"training\", \"epoch\": 3, \"model\": 16}, \"Metrics\": {\"train_binary_classification_cross_entropy_objective\": {\"sum\": 0.5045376038157612, \"count\": 1, \"min\": 0.5045376038157612, \"max\": 0.5045376038157612}}}\u001b[0m\n",
      "\u001b[34m#metrics {\"StartTime\": 1654753782.7169788, \"EndTime\": 1654753782.717002, \"Dimensions\": {\"Algorithm\": \"Linear Learner\", \"Host\": \"algo-1\", \"Operation\": \"training\", \"epoch\": 3, \"model\": 17}, \"Metrics\": {\"train_binary_classification_cross_entropy_objective\": {\"sum\": 0.5047566777967167, \"count\": 1, \"min\": 0.5047566777967167, \"max\": 0.5047566777967167}}}\u001b[0m\n",
      "\u001b[34m#metrics {\"StartTime\": 1654753782.7170765, \"EndTime\": 1654753782.7170901, \"Dimensions\": {\"Algorithm\": \"Linear Learner\", \"Host\": \"algo-1\", \"Operation\": \"training\", \"epoch\": 3, \"model\": 18}, \"Metrics\": {\"train_binary_classification_cross_entropy_objective\": {\"sum\": 0.5045368788132973, \"count\": 1, \"min\": 0.5045368788132973, \"max\": 0.5045368788132973}}}\u001b[0m\n",
      "\u001b[34m#metrics {\"StartTime\": 1654753782.717156, \"EndTime\": 1654753782.7171733, \"Dimensions\": {\"Algorithm\": \"Linear Learner\", \"Host\": \"algo-1\", \"Operation\": \"training\", \"epoch\": 3, \"model\": 19}, \"Metrics\": {\"train_binary_classification_cross_entropy_objective\": {\"sum\": 0.504756673550387, \"count\": 1, \"min\": 0.504756673550387, \"max\": 0.504756673550387}}}\u001b[0m\n",
      "\u001b[34m#metrics {\"StartTime\": 1654753782.7172275, \"EndTime\": 1654753782.7172446, \"Dimensions\": {\"Algorithm\": \"Linear Learner\", \"Host\": \"algo-1\", \"Operation\": \"training\", \"epoch\": 3, \"model\": 20}, \"Metrics\": {\"train_binary_classification_cross_entropy_objective\": {\"sum\": 0.5045869594189005, \"count\": 1, \"min\": 0.5045869594189005, \"max\": 0.5045869594189005}}}\u001b[0m\n",
      "\u001b[34m#metrics {\"StartTime\": 1654753782.7172968, \"EndTime\": 1654753782.7173138, \"Dimensions\": {\"Algorithm\": \"Linear Learner\", \"Host\": \"algo-1\", \"Operation\": \"training\", \"epoch\": 3, \"model\": 21}, \"Metrics\": {\"train_binary_classification_cross_entropy_objective\": {\"sum\": 0.5074706608016921, \"count\": 1, \"min\": 0.5074706608016921, \"max\": 0.5074706608016921}}}\u001b[0m\n",
      "\u001b[34m#metrics {\"StartTime\": 1654753782.7173667, \"EndTime\": 1654753782.717384, \"Dimensions\": {\"Algorithm\": \"Linear Learner\", \"Host\": \"algo-1\", \"Operation\": \"training\", \"epoch\": 3, \"model\": 22}, \"Metrics\": {\"train_binary_classification_cross_entropy_objective\": {\"sum\": 0.5045869617053858, \"count\": 1, \"min\": 0.5045869617053858, \"max\": 0.5045869617053858}}}\u001b[0m\n",
      "\u001b[34m#metrics {\"StartTime\": 1654753782.717437, \"EndTime\": 1654753782.7174518, \"Dimensions\": {\"Algorithm\": \"Linear Learner\", \"Host\": \"algo-1\", \"Operation\": \"training\", \"epoch\": 3, \"model\": 23}, \"Metrics\": {\"train_binary_classification_cross_entropy_objective\": {\"sum\": 0.5074706802601479, \"count\": 1, \"min\": 0.5074706802601479, \"max\": 0.5074706802601479}}}\u001b[0m\n",
      "\u001b[34m#metrics {\"StartTime\": 1654753782.7175047, \"EndTime\": 1654753782.7175205, \"Dimensions\": {\"Algorithm\": \"Linear Learner\", \"Host\": \"algo-1\", \"Operation\": \"training\", \"epoch\": 3, \"model\": 24}, \"Metrics\": {\"train_binary_classification_cross_entropy_objective\": {\"sum\": 0.5137269657146676, \"count\": 1, \"min\": 0.5137269657146676, \"max\": 0.5137269657146676}}}\u001b[0m\n",
      "\u001b[34m#metrics {\"StartTime\": 1654753782.7175727, \"EndTime\": 1654753782.7175887, \"Dimensions\": {\"Algorithm\": \"Linear Learner\", \"Host\": \"algo-1\", \"Operation\": \"training\", \"epoch\": 3, \"model\": 25}, \"Metrics\": {\"train_binary_classification_cross_entropy_objective\": {\"sum\": 0.5138276215999499, \"count\": 1, \"min\": 0.5138276215999499, \"max\": 0.5138276215999499}}}\u001b[0m\n",
      "\u001b[34m#metrics {\"StartTime\": 1654753782.717643, \"EndTime\": 1654753782.7176592, \"Dimensions\": {\"Algorithm\": \"Linear Learner\", \"Host\": \"algo-1\", \"Operation\": \"training\", \"epoch\": 3, \"model\": 26}, \"Metrics\": {\"train_binary_classification_cross_entropy_objective\": {\"sum\": 0.5137286912177317, \"count\": 1, \"min\": 0.5137286912177317, \"max\": 0.5137286912177317}}}\u001b[0m\n",
      "\u001b[34m#metrics {\"StartTime\": 1654753782.7177234, \"EndTime\": 1654753782.7177646, \"Dimensions\": {\"Algorithm\": \"Linear Learner\", \"Host\": \"algo-1\", \"Operation\": \"training\", \"epoch\": 3, \"model\": 27}, \"Metrics\": {\"train_binary_classification_cross_entropy_objective\": {\"sum\": 0.5138272447498566, \"count\": 1, \"min\": 0.5138272447498566, \"max\": 0.5138272447498566}}}\u001b[0m\n",
      "\u001b[34m#metrics {\"StartTime\": 1654753782.7178295, \"EndTime\": 1654753782.7178466, \"Dimensions\": {\"Algorithm\": \"Linear Learner\", \"Host\": \"algo-1\", \"Operation\": \"training\", \"epoch\": 3, \"model\": 28}, \"Metrics\": {\"train_binary_classification_cross_entropy_objective\": {\"sum\": 0.5137479015898632, \"count\": 1, \"min\": 0.5137479015898632, \"max\": 0.5137479015898632}}}\u001b[0m\n",
      "\u001b[34m#metrics {\"StartTime\": 1654753782.717907, \"EndTime\": 1654753782.717922, \"Dimensions\": {\"Algorithm\": \"Linear Learner\", \"Host\": \"algo-1\", \"Operation\": \"training\", \"epoch\": 3, \"model\": 29}, \"Metrics\": {\"train_binary_classification_cross_entropy_objective\": {\"sum\": 0.5148159470397763, \"count\": 1, \"min\": 0.5148159470397763, \"max\": 0.5148159470397763}}}\u001b[0m\n",
      "\u001b[34m#metrics {\"StartTime\": 1654753782.7179763, \"EndTime\": 1654753782.7179906, \"Dimensions\": {\"Algorithm\": \"Linear Learner\", \"Host\": \"algo-1\", \"Operation\": \"training\", \"epoch\": 3, \"model\": 30}, \"Metrics\": {\"train_binary_classification_cross_entropy_objective\": {\"sum\": 0.5137478133268677, \"count\": 1, \"min\": 0.5137478133268677, \"max\": 0.5137478133268677}}}\u001b[0m\n",
      "\u001b[34m#metrics {\"StartTime\": 1654753782.718059, \"EndTime\": 1654753782.718078, \"Dimensions\": {\"Algorithm\": \"Linear Learner\", \"Host\": \"algo-1\", \"Operation\": \"training\", \"epoch\": 3, \"model\": 31}, \"Metrics\": {\"train_binary_classification_cross_entropy_objective\": {\"sum\": 0.5148159364239521, \"count\": 1, \"min\": 0.5148159364239521, \"max\": 0.5148159364239521}}}\u001b[0m\n",
      "\u001b[34m[06/09/2022 05:49:42 INFO 140325321312064] #quality_metric: host=algo-1, epoch=3, train binary_classification_cross_entropy_objective <loss>=0.4805375264019047\u001b[0m\n",
      "\u001b[34m[2022-06-09 05:49:47.900] [tensorio] [info] epoch_stats={\"data_pipeline\": \"/opt/ml/input/data/validation\", \"epoch\": 11, \"duration\": 5155, \"num_examples\": 164, \"num_bytes\": 63460892}\u001b[0m\n",
      "\u001b[34m#metrics {\"StartTime\": 1654753787.909954, \"EndTime\": 1654753787.910014, \"Dimensions\": {\"Algorithm\": \"Linear Learner\", \"Host\": \"algo-1\", \"Operation\": \"training\", \"epoch\": 3, \"model\": 0}, \"Metrics\": {\"validation_binary_classification_cross_entropy_objective\": {\"sum\": 0.4805119571915873, \"count\": 1, \"min\": 0.4805119571915873, \"max\": 0.4805119571915873}}}\u001b[0m\n",
      "\u001b[34m#metrics {\"StartTime\": 1654753787.9101033, \"EndTime\": 1654753787.9101245, \"Dimensions\": {\"Algorithm\": \"Linear Learner\", \"Host\": \"algo-1\", \"Operation\": \"training\", \"epoch\": 3, \"model\": 1}, \"Metrics\": {\"validation_binary_classification_cross_entropy_objective\": {\"sum\": 0.48154283743181214, \"count\": 1, \"min\": 0.48154283743181214, \"max\": 0.48154283743181214}}}\u001b[0m\n",
      "\u001b[34m#metrics {\"StartTime\": 1654753787.9101896, \"EndTime\": 1654753787.9102087, \"Dimensions\": {\"Algorithm\": \"Linear Learner\", \"Host\": \"algo-1\", \"Operation\": \"training\", \"epoch\": 3, \"model\": 2}, \"Metrics\": {\"validation_binary_classification_cross_entropy_objective\": {\"sum\": 0.4805057439269454, \"count\": 1, \"min\": 0.4805057439269454, \"max\": 0.4805057439269454}}}\u001b[0m\n",
      "\u001b[34m#metrics {\"StartTime\": 1654753787.9102623, \"EndTime\": 1654753787.910276, \"Dimensions\": {\"Algorithm\": \"Linear Learner\", \"Host\": \"algo-1\", \"Operation\": \"training\", \"epoch\": 3, \"model\": 3}, \"Metrics\": {\"validation_binary_classification_cross_entropy_objective\": {\"sum\": 0.4815428193331134, \"count\": 1, \"min\": 0.4815428193331134, \"max\": 0.4815428193331134}}}\u001b[0m\n",
      "\u001b[34m#metrics {\"StartTime\": 1654753787.9103963, \"EndTime\": 1654753787.9104168, \"Dimensions\": {\"Algorithm\": \"Linear Learner\", \"Host\": \"algo-1\", \"Operation\": \"training\", \"epoch\": 3, \"model\": 4}, \"Metrics\": {\"validation_binary_classification_cross_entropy_objective\": {\"sum\": 0.48054830553608047, \"count\": 1, \"min\": 0.48054830553608047, \"max\": 0.48054830553608047}}}\u001b[0m\n",
      "\u001b[34m#metrics {\"StartTime\": 1654753787.9104793, \"EndTime\": 1654753787.9104936, \"Dimensions\": {\"Algorithm\": \"Linear Learner\", \"Host\": \"algo-1\", \"Operation\": \"training\", \"epoch\": 3, \"model\": 5}, \"Metrics\": {\"validation_binary_classification_cross_entropy_objective\": {\"sum\": 0.4940412558667548, \"count\": 1, \"min\": 0.4940412558667548, \"max\": 0.4940412558667548}}}\u001b[0m\n",
      "\u001b[34m#metrics {\"StartTime\": 1654753787.9105468, \"EndTime\": 1654753787.9105632, \"Dimensions\": {\"Algorithm\": \"Linear Learner\", \"Host\": \"algo-1\", \"Operation\": \"training\", \"epoch\": 3, \"model\": 6}, \"Metrics\": {\"validation_binary_classification_cross_entropy_objective\": {\"sum\": 0.4805483083348483, \"count\": 1, \"min\": 0.4805483083348483, \"max\": 0.4805483083348483}}}\u001b[0m\n",
      "\u001b[34m#metrics {\"StartTime\": 1654753787.9106154, \"EndTime\": 1654753787.910632, \"Dimensions\": {\"Algorithm\": \"Linear Learner\", \"Host\": \"algo-1\", \"Operation\": \"training\", \"epoch\": 3, \"model\": 7}, \"Metrics\": {\"validation_binary_classification_cross_entropy_objective\": {\"sum\": 0.4940412834812643, \"count\": 1, \"min\": 0.4940412834812643, \"max\": 0.4940412834812643}}}\u001b[0m\n",
      "\u001b[34m#metrics {\"StartTime\": 1654753787.9106877, \"EndTime\": 1654753787.9107065, \"Dimensions\": {\"Algorithm\": \"Linear Learner\", \"Host\": \"algo-1\", \"Operation\": \"training\", \"epoch\": 3, \"model\": 8}, \"Metrics\": {\"validation_binary_classification_cross_entropy_objective\": {\"sum\": 0.48074939756633833, \"count\": 1, \"min\": 0.48074939756633833, \"max\": 0.48074939756633833}}}\u001b[0m\n",
      "\u001b[34m#metrics {\"StartTime\": 1654753787.9107559, \"EndTime\": 1654753787.9108052, \"Dimensions\": {\"Algorithm\": \"Linear Learner\", \"Host\": \"algo-1\", \"Operation\": \"training\", \"epoch\": 3, \"model\": 9}, \"Metrics\": {\"validation_binary_classification_cross_entropy_objective\": {\"sum\": 0.481755772541548, \"count\": 1, \"min\": 0.481755772541548, \"max\": 0.481755772541548}}}\u001b[0m\n",
      "\u001b[34m#metrics {\"StartTime\": 1654753787.9108632, \"EndTime\": 1654753787.910877, \"Dimensions\": {\"Algorithm\": \"Linear Learner\", \"Host\": \"algo-1\", \"Operation\": \"training\", \"epoch\": 3, \"model\": 10}, \"Metrics\": {\"validation_binary_classification_cross_entropy_objective\": {\"sum\": 0.48073970338082084, \"count\": 1, \"min\": 0.48073970338082084, \"max\": 0.48073970338082084}}}\u001b[0m\n",
      "\u001b[34m#metrics {\"StartTime\": 1654753787.9109313, \"EndTime\": 1654753787.9109476, \"Dimensions\": {\"Algorithm\": \"Linear Learner\", \"Host\": \"algo-1\", \"Operation\": \"training\", \"epoch\": 3, \"model\": 11}, \"Metrics\": {\"validation_binary_classification_cross_entropy_objective\": {\"sum\": 0.4817557648915825, \"count\": 1, \"min\": 0.4817557648915825, \"max\": 0.4817557648915825}}}\u001b[0m\n",
      "\u001b[34m#metrics {\"StartTime\": 1654753787.9110007, \"EndTime\": 1654753787.9110177, \"Dimensions\": {\"Algorithm\": \"Linear Learner\", \"Host\": \"algo-1\", \"Operation\": \"training\", \"epoch\": 3, \"model\": 12}, \"Metrics\": {\"validation_binary_classification_cross_entropy_objective\": {\"sum\": 0.480766770264763, \"count\": 1, \"min\": 0.480766770264763, \"max\": 0.480766770264763}}}\u001b[0m\n",
      "\u001b[34m#metrics {\"StartTime\": 1654753787.9110684, \"EndTime\": 1654753787.9110837, \"Dimensions\": {\"Algorithm\": \"Linear Learner\", \"Host\": \"algo-1\", \"Operation\": \"training\", \"epoch\": 3, \"model\": 13}, \"Metrics\": {\"validation_binary_classification_cross_entropy_objective\": {\"sum\": 0.4936918229828022, \"count\": 1, \"min\": 0.4936918229828022, \"max\": 0.4936918229828022}}}\u001b[0m\n",
      "\u001b[34m#metrics {\"StartTime\": 1654753787.9111328, \"EndTime\": 1654753787.9111493, \"Dimensions\": {\"Algorithm\": \"Linear Learner\", \"Host\": \"algo-1\", \"Operation\": \"training\", \"epoch\": 3, \"model\": 14}, \"Metrics\": {\"validation_binary_classification_cross_entropy_objective\": {\"sum\": 0.4807667710111011, \"count\": 1, \"min\": 0.4807667710111011, \"max\": 0.4807667710111011}}}\u001b[0m\n",
      "\u001b[34m#metrics {\"StartTime\": 1654753787.9112043, \"EndTime\": 1654753787.9112184, \"Dimensions\": {\"Algorithm\": \"Linear Learner\", \"Host\": \"algo-1\", \"Operation\": \"training\", \"epoch\": 3, \"model\": 15}, \"Metrics\": {\"validation_binary_classification_cross_entropy_objective\": {\"sum\": 0.4936918280205843, \"count\": 1, \"min\": 0.4936918280205843, \"max\": 0.4936918280205843}}}\u001b[0m\n",
      "\u001b[34m#metrics {\"StartTime\": 1654753787.9112713, \"EndTime\": 1654753787.9112887, \"Dimensions\": {\"Algorithm\": \"Linear Learner\", \"Host\": \"algo-1\", \"Operation\": \"training\", \"epoch\": 3, \"model\": 16}, \"Metrics\": {\"validation_binary_classification_cross_entropy_objective\": {\"sum\": 0.5044575397241735, \"count\": 1, \"min\": 0.5044575397241735, \"max\": 0.5044575397241735}}}\u001b[0m\n",
      "\u001b[34m#metrics {\"StartTime\": 1654753787.9113402, \"EndTime\": 1654753787.911358, \"Dimensions\": {\"Algorithm\": \"Linear Learner\", \"Host\": \"algo-1\", \"Operation\": \"training\", \"epoch\": 3, \"model\": 17}, \"Metrics\": {\"validation_binary_classification_cross_entropy_objective\": {\"sum\": 0.5054128478213161, \"count\": 1, \"min\": 0.5054128478213161, \"max\": 0.5054128478213161}}}\u001b[0m\n",
      "\u001b[34m#metrics {\"StartTime\": 1654753787.9114087, \"EndTime\": 1654753787.9114256, \"Dimensions\": {\"Algorithm\": \"Linear Learner\", \"Host\": \"algo-1\", \"Operation\": \"training\", \"epoch\": 3, \"model\": 18}, \"Metrics\": {\"validation_binary_classification_cross_entropy_objective\": {\"sum\": 0.5044143530568838, \"count\": 1, \"min\": 0.5044143530568838, \"max\": 0.5044143530568838}}}\u001b[0m\n",
      "\u001b[34m#metrics {\"StartTime\": 1654753787.9114788, \"EndTime\": 1654753787.9114926, \"Dimensions\": {\"Algorithm\": \"Linear Learner\", \"Host\": \"algo-1\", \"Operation\": \"training\", \"epoch\": 3, \"model\": 19}, \"Metrics\": {\"validation_binary_classification_cross_entropy_objective\": {\"sum\": 0.5054126162699221, \"count\": 1, \"min\": 0.5054126162699221, \"max\": 0.5054126162699221}}}\u001b[0m\n",
      "\u001b[34m#metrics {\"StartTime\": 1654753787.9115436, \"EndTime\": 1654753787.9115598, \"Dimensions\": {\"Algorithm\": \"Linear Learner\", \"Host\": \"algo-1\", \"Operation\": \"training\", \"epoch\": 3, \"model\": 20}, \"Metrics\": {\"validation_binary_classification_cross_entropy_objective\": {\"sum\": 0.5045389562542941, \"count\": 1, \"min\": 0.5045389562542941, \"max\": 0.5045389562542941}}}\u001b[0m\n",
      "\u001b[34m#metrics {\"StartTime\": 1654753787.9116108, \"EndTime\": 1654753787.9116247, \"Dimensions\": {\"Algorithm\": \"Linear Learner\", \"Host\": \"algo-1\", \"Operation\": \"training\", \"epoch\": 3, \"model\": 21}, \"Metrics\": {\"validation_binary_classification_cross_entropy_objective\": {\"sum\": 0.5073127891418268, \"count\": 1, \"min\": 0.5073127891418268, \"max\": 0.5073127891418268}}}\u001b[0m\n",
      "\u001b[34m#metrics {\"StartTime\": 1654753787.9116764, \"EndTime\": 1654753787.9116921, \"Dimensions\": {\"Algorithm\": \"Linear Learner\", \"Host\": \"algo-1\", \"Operation\": \"training\", \"epoch\": 3, \"model\": 22}, \"Metrics\": {\"validation_binary_classification_cross_entropy_objective\": {\"sum\": 0.5045389655835203, \"count\": 1, \"min\": 0.5045389655835203, \"max\": 0.5045389655835203}}}\u001b[0m\n",
      "\u001b[34m#metrics {\"StartTime\": 1654753787.911747, \"EndTime\": 1654753787.9117615, \"Dimensions\": {\"Algorithm\": \"Linear Learner\", \"Host\": \"algo-1\", \"Operation\": \"training\", \"epoch\": 3, \"model\": 23}, \"Metrics\": {\"validation_binary_classification_cross_entropy_objective\": {\"sum\": 0.5073128161965827, \"count\": 1, \"min\": 0.5073128161965827, \"max\": 0.5073128161965827}}}\u001b[0m\n",
      "\u001b[34m#metrics {\"StartTime\": 1654753787.9118164, \"EndTime\": 1654753787.9118311, \"Dimensions\": {\"Algorithm\": \"Linear Learner\", \"Host\": \"algo-1\", \"Operation\": \"training\", \"epoch\": 3, \"model\": 24}, \"Metrics\": {\"validation_binary_classification_cross_entropy_objective\": {\"sum\": 0.5137225409079255, \"count\": 1, \"min\": 0.5137225409079255, \"max\": 0.5137225409079255}}}\u001b[0m\n",
      "\u001b[34m#metrics {\"StartTime\": 1654753787.9118838, \"EndTime\": 1654753787.9119015, \"Dimensions\": {\"Algorithm\": \"Linear Learner\", \"Host\": \"algo-1\", \"Operation\": \"training\", \"epoch\": 3, \"model\": 25}, \"Metrics\": {\"validation_binary_classification_cross_entropy_objective\": {\"sum\": 0.514407235021496, \"count\": 1, \"min\": 0.514407235021496, \"max\": 0.514407235021496}}}\u001b[0m\n",
      "\u001b[34m#metrics {\"StartTime\": 1654753787.911953, \"EndTime\": 1654753787.9119716, \"Dimensions\": {\"Algorithm\": \"Linear Learner\", \"Host\": \"algo-1\", \"Operation\": \"training\", \"epoch\": 3, \"model\": 26}, \"Metrics\": {\"validation_binary_classification_cross_entropy_objective\": {\"sum\": 0.5137268642579259, \"count\": 1, \"min\": 0.5137268642579259, \"max\": 0.5137268642579259}}}\u001b[0m\n",
      "\u001b[34m#metrics {\"StartTime\": 1654753787.912019, \"EndTime\": 1654753787.912035, \"Dimensions\": {\"Algorithm\": \"Linear Learner\", \"Host\": \"algo-1\", \"Operation\": \"training\", \"epoch\": 3, \"model\": 27}, \"Metrics\": {\"validation_binary_classification_cross_entropy_objective\": {\"sum\": 0.5144126513836368, \"count\": 1, \"min\": 0.5144126513836368, \"max\": 0.5144126513836368}}}\u001b[0m\n",
      "\u001b[34m#metrics {\"StartTime\": 1654753787.9120815, \"EndTime\": 1654753787.9120963, \"Dimensions\": {\"Algorithm\": \"Linear Learner\", \"Host\": \"algo-1\", \"Operation\": \"training\", \"epoch\": 3, \"model\": 28}, \"Metrics\": {\"validation_binary_classification_cross_entropy_objective\": {\"sum\": 0.5137334525574606, \"count\": 1, \"min\": 0.5137334525574606, \"max\": 0.5137334525574606}}}\u001b[0m\n",
      "\u001b[34m#metrics {\"StartTime\": 1654753787.9121454, \"EndTime\": 1654753787.9121616, \"Dimensions\": {\"Algorithm\": \"Linear Learner\", \"Host\": \"algo-1\", \"Operation\": \"training\", \"epoch\": 3, \"model\": 29}, \"Metrics\": {\"validation_binary_classification_cross_entropy_objective\": {\"sum\": 0.5135311475412137, \"count\": 1, \"min\": 0.5135311475412137, \"max\": 0.5135311475412137}}}\u001b[0m\n",
      "\u001b[34m#metrics {\"StartTime\": 1654753787.9128544, \"EndTime\": 1654753787.9128816, \"Dimensions\": {\"Algorithm\": \"Linear Learner\", \"Host\": \"algo-1\", \"Operation\": \"training\", \"epoch\": 3, \"model\": 30}, \"Metrics\": {\"validation_binary_classification_cross_entropy_objective\": {\"sum\": 0.5137301681100885, \"count\": 1, \"min\": 0.5137301681100885, \"max\": 0.5137301681100885}}}\u001b[0m\n",
      "\u001b[34m#metrics {\"StartTime\": 1654753787.912948, \"EndTime\": 1654753787.912967, \"Dimensions\": {\"Algorithm\": \"Linear Learner\", \"Host\": \"algo-1\", \"Operation\": \"training\", \"epoch\": 3, \"model\": 31}, \"Metrics\": {\"validation_binary_classification_cross_entropy_objective\": {\"sum\": 0.5135311482875518, \"count\": 1, \"min\": 0.5135311482875518, \"max\": 0.5135311482875518}}}\u001b[0m\n",
      "\u001b[34m[06/09/2022 05:49:47 INFO 140325321312064] #quality_metric: host=algo-1, epoch=3, validation binary_classification_cross_entropy_objective <loss>=0.4805119571915873\u001b[0m\n",
      "\u001b[34m[06/09/2022 05:49:47 INFO 140325321312064] #early_stopping_criteria_metric: host=algo-1, epoch=3, criteria=binary_classification_cross_entropy_objective, value=0.4805057439269454\u001b[0m\n",
      "\u001b[34m[06/09/2022 05:49:47 INFO 140325321312064] Saving model for epoch: 3\u001b[0m\n",
      "\u001b[34m[06/09/2022 05:49:47 INFO 140325321312064] Saved checkpoint to \"/tmp/tmp8sed1e2s/mx-mod-0000.params\"\u001b[0m\n",
      "\u001b[34m[06/09/2022 05:49:47 INFO 140325321312064] #progress_metric: host=algo-1, completed 26.666666666666668 % of epochs\u001b[0m\n",
      "\u001b[34m#metrics {\"StartTime\": 1654753724.1671658, \"EndTime\": 1654753787.9213521, \"Dimensions\": {\"Algorithm\": \"Linear Learner\", \"Host\": \"algo-1\", \"Operation\": \"training\", \"epoch\": 3, \"Meta\": \"training_data_iter\"}, \"Metrics\": {\"Total Records Seen\": {\"sum\": 5245888.0, \"count\": 1, \"min\": 5245888, \"max\": 5245888}, \"Total Batches Seen\": {\"sum\": 5248.0, \"count\": 1, \"min\": 5248, \"max\": 5248}, \"Max Records Seen Between Resets\": {\"sum\": 1308472.0, \"count\": 1, \"min\": 1308472, \"max\": 1308472}, \"Max Batches Seen Between Resets\": {\"sum\": 1309.0, \"count\": 1, \"min\": 1309, \"max\": 1309}, \"Reset Count\": {\"sum\": 6.0, \"count\": 1, \"min\": 6, \"max\": 6}, \"Number of Records Since Last Reset\": {\"sum\": 1308472.0, \"count\": 1, \"min\": 1308472, \"max\": 1308472}, \"Number of Batches Since Last Reset\": {\"sum\": 1309.0, \"count\": 1, \"min\": 1309, \"max\": 1309}}}\u001b[0m\n",
      "\u001b[34m[06/09/2022 05:49:47 INFO 140325321312064] #throughput_metric: host=algo-1, train throughput=20523.6481808451 records/second\u001b[0m\n",
      "\u001b[34m[2022-06-09 05:50:46.308] [tensorio] [info] epoch_stats={\"data_pipeline\": \"/opt/ml/input/data/train\", \"epoch\": 11, \"duration\": 58384, \"num_examples\": 1309, \"num_bytes\": 507687136}\u001b[0m\n",
      "\u001b[34m#metrics {\"StartTime\": 1654753846.3085136, \"EndTime\": 1654753846.3086255, \"Dimensions\": {\"Algorithm\": \"Linear Learner\", \"Host\": \"algo-1\", \"Operation\": \"training\", \"epoch\": 4, \"model\": 0}, \"Metrics\": {\"train_binary_classification_cross_entropy_objective\": {\"sum\": 0.4805126039464175, \"count\": 1, \"min\": 0.4805126039464175, \"max\": 0.4805126039464175}}}\u001b[0m\n",
      "\u001b[34m#metrics {\"StartTime\": 1654753846.3087358, \"EndTime\": 1654753846.3087592, \"Dimensions\": {\"Algorithm\": \"Linear Learner\", \"Host\": \"algo-1\", \"Operation\": \"training\", \"epoch\": 4, \"model\": 1}, \"Metrics\": {\"train_binary_classification_cross_entropy_objective\": {\"sum\": 0.4813194490018605, \"count\": 1, \"min\": 0.4813194490018605, \"max\": 0.4813194490018605}}}\u001b[0m\n",
      "\u001b[34m#metrics {\"StartTime\": 1654753846.308822, \"EndTime\": 1654753846.308841, \"Dimensions\": {\"Algorithm\": \"Linear Learner\", \"Host\": \"algo-1\", \"Operation\": \"training\", \"epoch\": 4, \"model\": 2}, \"Metrics\": {\"train_binary_classification_cross_entropy_objective\": {\"sum\": 0.4805517709014613, \"count\": 1, \"min\": 0.4805517709014613, \"max\": 0.4805517709014613}}}\u001b[0m\n",
      "\u001b[34m#metrics {\"StartTime\": 1654753846.308897, \"EndTime\": 1654753846.308915, \"Dimensions\": {\"Algorithm\": \"Linear Learner\", \"Host\": \"algo-1\", \"Operation\": \"training\", \"epoch\": 4, \"model\": 3}, \"Metrics\": {\"train_binary_classification_cross_entropy_objective\": {\"sum\": 0.4813194471586735, \"count\": 1, \"min\": 0.4813194471586735, \"max\": 0.4813194471586735}}}\u001b[0m\n",
      "\u001b[34m#metrics {\"StartTime\": 1654753846.3089747, \"EndTime\": 1654753846.3089936, \"Dimensions\": {\"Algorithm\": \"Linear Learner\", \"Host\": \"algo-1\", \"Operation\": \"training\", \"epoch\": 4, \"model\": 4}, \"Metrics\": {\"train_binary_classification_cross_entropy_objective\": {\"sum\": 0.4806274348734351, \"count\": 1, \"min\": 0.4806274348734351, \"max\": 0.4806274348734351}}}\u001b[0m\n",
      "\u001b[34m#metrics {\"StartTime\": 1654753846.3090603, \"EndTime\": 1654753846.309092, \"Dimensions\": {\"Algorithm\": \"Linear Learner\", \"Host\": \"algo-1\", \"Operation\": \"training\", \"epoch\": 4, \"model\": 5}, \"Metrics\": {\"train_binary_classification_cross_entropy_objective\": {\"sum\": 0.4947244775754596, \"count\": 1, \"min\": 0.4947244775754596, \"max\": 0.4947244775754596}}}\u001b[0m\n",
      "\u001b[34m#metrics {\"StartTime\": 1654753846.309151, \"EndTime\": 1654753846.309168, \"Dimensions\": {\"Algorithm\": \"Linear Learner\", \"Host\": \"algo-1\", \"Operation\": \"training\", \"epoch\": 4, \"model\": 6}, \"Metrics\": {\"train_binary_classification_cross_entropy_objective\": {\"sum\": 0.4806274340568332, \"count\": 1, \"min\": 0.4806274340568332, \"max\": 0.4806274340568332}}}\u001b[0m\n",
      "\u001b[34m#metrics {\"StartTime\": 1654753846.3092244, \"EndTime\": 1654753846.3092415, \"Dimensions\": {\"Algorithm\": \"Linear Learner\", \"Host\": \"algo-1\", \"Operation\": \"training\", \"epoch\": 4, \"model\": 7}, \"Metrics\": {\"train_binary_classification_cross_entropy_objective\": {\"sum\": 0.4947244769688411, \"count\": 1, \"min\": 0.4947244769688411, \"max\": 0.4947244769688411}}}\u001b[0m\n",
      "\u001b[34m#metrics {\"StartTime\": 1654753846.3092933, \"EndTime\": 1654753846.3093073, \"Dimensions\": {\"Algorithm\": \"Linear Learner\", \"Host\": \"algo-1\", \"Operation\": \"training\", \"epoch\": 4, \"model\": 8}, \"Metrics\": {\"train_binary_classification_cross_entropy_objective\": {\"sum\": 0.480784811177385, \"count\": 1, \"min\": 0.480784811177385, \"max\": 0.480784811177385}}}\u001b[0m\n",
      "\u001b[34m#metrics {\"StartTime\": 1654753846.3093567, \"EndTime\": 1654753846.3093717, \"Dimensions\": {\"Algorithm\": \"Linear Learner\", \"Host\": \"algo-1\", \"Operation\": \"training\", \"epoch\": 4, \"model\": 9}, \"Metrics\": {\"train_binary_classification_cross_entropy_objective\": {\"sum\": 0.4815438748980881, \"count\": 1, \"min\": 0.4815438748980881, \"max\": 0.4815438748980881}}}\u001b[0m\n",
      "\u001b[34m#metrics {\"StartTime\": 1654753846.309419, \"EndTime\": 1654753846.3094342, \"Dimensions\": {\"Algorithm\": \"Linear Learner\", \"Host\": \"algo-1\", \"Operation\": \"training\", \"epoch\": 4, \"model\": 10}, \"Metrics\": {\"train_binary_classification_cross_entropy_objective\": {\"sum\": 0.4808229414447003, \"count\": 1, \"min\": 0.4808229414447003, \"max\": 0.4808229414447003}}}\u001b[0m\n",
      "\u001b[34m#metrics {\"StartTime\": 1654753846.3094695, \"EndTime\": 1654753846.3094778, \"Dimensions\": {\"Algorithm\": \"Linear Learner\", \"Host\": \"algo-1\", \"Operation\": \"training\", \"epoch\": 4, \"model\": 11}, \"Metrics\": {\"train_binary_classification_cross_entropy_objective\": {\"sum\": 0.48154387555136957, \"count\": 1, \"min\": 0.48154387555136957, \"max\": 0.48154387555136957}}}\u001b[0m\n",
      "\u001b[34m#metrics {\"StartTime\": 1654753846.309505, \"EndTime\": 1654753846.3095183, \"Dimensions\": {\"Algorithm\": \"Linear Learner\", \"Host\": \"algo-1\", \"Operation\": \"training\", \"epoch\": 4, \"model\": 12}, \"Metrics\": {\"train_binary_classification_cross_entropy_objective\": {\"sum\": 0.48089739479274923, \"count\": 1, \"min\": 0.48089739479274923, \"max\": 0.48089739479274923}}}\u001b[0m\n",
      "\u001b[34m#metrics {\"StartTime\": 1654753846.3095665, \"EndTime\": 1654753846.3095813, \"Dimensions\": {\"Algorithm\": \"Linear Learner\", \"Host\": \"algo-1\", \"Operation\": \"training\", \"epoch\": 4, \"model\": 13}, \"Metrics\": {\"train_binary_classification_cross_entropy_objective\": {\"sum\": 0.49402159389297534, \"count\": 1, \"min\": 0.49402159389297534, \"max\": 0.49402159389297534}}}\u001b[0m\n",
      "\u001b[34m#metrics {\"StartTime\": 1654753846.3096282, \"EndTime\": 1654753846.3096385, \"Dimensions\": {\"Algorithm\": \"Linear Learner\", \"Host\": \"algo-1\", \"Operation\": \"training\", \"epoch\": 4, \"model\": 14}, \"Metrics\": {\"train_binary_classification_cross_entropy_objective\": {\"sum\": 0.48089739437278256, \"count\": 1, \"min\": 0.48089739437278256, \"max\": 0.48089739437278256}}}\u001b[0m\n",
      "\u001b[34m#metrics {\"StartTime\": 1654753846.3096666, \"EndTime\": 1654753846.3096743, \"Dimensions\": {\"Algorithm\": \"Linear Learner\", \"Host\": \"algo-1\", \"Operation\": \"training\", \"epoch\": 4, \"model\": 15}, \"Metrics\": {\"train_binary_classification_cross_entropy_objective\": {\"sum\": 0.4940215921197827, \"count\": 1, \"min\": 0.4940215921197827, \"max\": 0.4940215921197827}}}\u001b[0m\n",
      "\u001b[34m#metrics {\"StartTime\": 1654753846.3096995, \"EndTime\": 1654753846.3097072, \"Dimensions\": {\"Algorithm\": \"Linear Learner\", \"Host\": \"algo-1\", \"Operation\": \"training\", \"epoch\": 4, \"model\": 16}, \"Metrics\": {\"train_binary_classification_cross_entropy_objective\": {\"sum\": 0.5045214838850389, \"count\": 1, \"min\": 0.5045214838850389, \"max\": 0.5045214838850389}}}\u001b[0m\n",
      "\u001b[34m#metrics {\"StartTime\": 1654753846.3097606, \"EndTime\": 1654753846.309778, \"Dimensions\": {\"Algorithm\": \"Linear Learner\", \"Host\": \"algo-1\", \"Operation\": \"training\", \"epoch\": 4, \"model\": 17}, \"Metrics\": {\"train_binary_classification_cross_entropy_objective\": {\"sum\": 0.5047260174999179, \"count\": 1, \"min\": 0.5047260174999179, \"max\": 0.5047260174999179}}}\u001b[0m\n",
      "\u001b[34m#metrics {\"StartTime\": 1654753846.3098133, \"EndTime\": 1654753846.3098218, \"Dimensions\": {\"Algorithm\": \"Linear Learner\", \"Host\": \"algo-1\", \"Operation\": \"training\", \"epoch\": 4, \"model\": 18}, \"Metrics\": {\"train_binary_classification_cross_entropy_objective\": {\"sum\": 0.5045372163031808, \"count\": 1, \"min\": 0.5045372163031808, \"max\": 0.5045372163031808}}}\u001b[0m\n",
      "\u001b[34m#metrics {\"StartTime\": 1654753846.309856, \"EndTime\": 1654753846.3098695, \"Dimensions\": {\"Algorithm\": \"Linear Learner\", \"Host\": \"algo-1\", \"Operation\": \"training\", \"epoch\": 4, \"model\": 19}, \"Metrics\": {\"train_binary_classification_cross_entropy_objective\": {\"sum\": 0.5047260163800068, \"count\": 1, \"min\": 0.5047260163800068, \"max\": 0.5047260163800068}}}\u001b[0m\n",
      "\u001b[34m#metrics {\"StartTime\": 1654753846.3099346, \"EndTime\": 1654753846.309949, \"Dimensions\": {\"Algorithm\": \"Linear Learner\", \"Host\": \"algo-1\", \"Operation\": \"training\", \"epoch\": 4, \"model\": 20}, \"Metrics\": {\"train_binary_classification_cross_entropy_objective\": {\"sum\": 0.5045500990141423, \"count\": 1, \"min\": 0.5045500990141423, \"max\": 0.5045500990141423}}}\u001b[0m\n",
      "\u001b[34m#metrics {\"StartTime\": 1654753846.3099911, \"EndTime\": 1654753846.3100014, \"Dimensions\": {\"Algorithm\": \"Linear Learner\", \"Host\": \"algo-1\", \"Operation\": \"training\", \"epoch\": 4, \"model\": 21}, \"Metrics\": {\"train_binary_classification_cross_entropy_objective\": {\"sum\": 0.5071384137588174, \"count\": 1, \"min\": 0.5071384137588174, \"max\": 0.5071384137588174}}}\u001b[0m\n",
      "\u001b[34m#metrics {\"StartTime\": 1654753846.310028, \"EndTime\": 1654753846.3100357, \"Dimensions\": {\"Algorithm\": \"Linear Learner\", \"Host\": \"algo-1\", \"Operation\": \"training\", \"epoch\": 4, \"model\": 22}, \"Metrics\": {\"train_binary_classification_cross_entropy_objective\": {\"sum\": 0.5045500993641144, \"count\": 1, \"min\": 0.5045500993641144, \"max\": 0.5045500993641144}}}\u001b[0m\n",
      "\u001b[34m#metrics {\"StartTime\": 1654753846.3100688, \"EndTime\": 1654753846.3100781, \"Dimensions\": {\"Algorithm\": \"Linear Learner\", \"Host\": \"algo-1\", \"Operation\": \"training\", \"epoch\": 4, \"model\": 23}, \"Metrics\": {\"train_binary_classification_cross_entropy_objective\": {\"sum\": 0.5071384154853471, \"count\": 1, \"min\": 0.5071384154853471, \"max\": 0.5071384154853471}}}\u001b[0m\n",
      "\u001b[34m#metrics {\"StartTime\": 1654753846.3101106, \"EndTime\": 1654753846.310121, \"Dimensions\": {\"Algorithm\": \"Linear Learner\", \"Host\": \"algo-1\", \"Operation\": \"training\", \"epoch\": 4, \"model\": 24}, \"Metrics\": {\"train_binary_classification_cross_entropy_objective\": {\"sum\": 0.5137250478435365, \"count\": 1, \"min\": 0.5137250478435365, \"max\": 0.5137250478435365}}}\u001b[0m\n",
      "\u001b[34m#metrics {\"StartTime\": 1654753846.3101523, \"EndTime\": 1654753846.3101606, \"Dimensions\": {\"Algorithm\": \"Linear Learner\", \"Host\": \"algo-1\", \"Operation\": \"training\", \"epoch\": 4, \"model\": 25}, \"Metrics\": {\"train_binary_classification_cross_entropy_objective\": {\"sum\": 0.5138147294864013, \"count\": 1, \"min\": 0.5138147294864013, \"max\": 0.5138147294864013}}}\u001b[0m\n",
      "\u001b[34m#metrics {\"StartTime\": 1654753846.3101869, \"EndTime\": 1654753846.3101954, \"Dimensions\": {\"Algorithm\": \"Linear Learner\", \"Host\": \"algo-1\", \"Operation\": \"training\", \"epoch\": 4, \"model\": 26}, \"Metrics\": {\"train_binary_classification_cross_entropy_objective\": {\"sum\": 0.5137287624954083, \"count\": 1, \"min\": 0.5137287624954083, \"max\": 0.5137287624954083}}}\u001b[0m\n",
      "\u001b[34m#metrics {\"StartTime\": 1654753846.310226, \"EndTime\": 1654753846.3102343, \"Dimensions\": {\"Algorithm\": \"Linear Learner\", \"Host\": \"algo-1\", \"Operation\": \"training\", \"epoch\": 4, \"model\": 27}, \"Metrics\": {\"train_binary_classification_cross_entropy_objective\": {\"sum\": 0.5138149346867833, \"count\": 1, \"min\": 0.5138149346867833, \"max\": 0.5138149346867833}}}\u001b[0m\n",
      "\u001b[34m#metrics {\"StartTime\": 1654753846.310267, \"EndTime\": 1654753846.3102753, \"Dimensions\": {\"Algorithm\": \"Linear Learner\", \"Host\": \"algo-1\", \"Operation\": \"training\", \"epoch\": 4, \"model\": 28}, \"Metrics\": {\"train_binary_classification_cross_entropy_objective\": {\"sum\": 0.5137346614406014, \"count\": 1, \"min\": 0.5137346614406014, \"max\": 0.5137346614406014}}}\u001b[0m\n",
      "\u001b[34m#metrics {\"StartTime\": 1654753846.3103085, \"EndTime\": 1654753846.3103163, \"Dimensions\": {\"Algorithm\": \"Linear Learner\", \"Host\": \"algo-1\", \"Operation\": \"training\", \"epoch\": 4, \"model\": 29}, \"Metrics\": {\"train_binary_classification_cross_entropy_objective\": {\"sum\": 0.5146817081463082, \"count\": 1, \"min\": 0.5146817081463082, \"max\": 0.5146817081463082}}}\u001b[0m\n",
      "\u001b[34m#metrics {\"StartTime\": 1654753846.3103426, \"EndTime\": 1654753846.3103502, \"Dimensions\": {\"Algorithm\": \"Linear Learner\", \"Host\": \"algo-1\", \"Operation\": \"training\", \"epoch\": 4, \"model\": 30}, \"Metrics\": {\"train_binary_classification_cross_entropy_objective\": {\"sum\": 0.5137344909574643, \"count\": 1, \"min\": 0.5137344909574643, \"max\": 0.5137344909574643}}}\u001b[0m\n",
      "\u001b[34m#metrics {\"StartTime\": 1654753846.3103817, \"EndTime\": 1654753846.3103895, \"Dimensions\": {\"Algorithm\": \"Linear Learner\", \"Host\": \"algo-1\", \"Operation\": \"training\", \"epoch\": 4, \"model\": 31}, \"Metrics\": {\"train_binary_classification_cross_entropy_objective\": {\"sum\": 0.5146817072597119, \"count\": 1, \"min\": 0.5146817072597119, \"max\": 0.5146817072597119}}}\u001b[0m\n",
      "\u001b[34m[06/09/2022 05:50:46 INFO 140325321312064] #quality_metric: host=algo-1, epoch=4, train binary_classification_cross_entropy_objective <loss>=0.4805126039464175\u001b[0m\n",
      "\u001b[34m[2022-06-09 05:50:51.460] [tensorio] [info] epoch_stats={\"data_pipeline\": \"/opt/ml/input/data/validation\", \"epoch\": 14, \"duration\": 5124, \"num_examples\": 164, \"num_bytes\": 63460892}\u001b[0m\n",
      "\u001b[34m#metrics {\"StartTime\": 1654753851.4692569, \"EndTime\": 1654753851.4693158, \"Dimensions\": {\"Algorithm\": \"Linear Learner\", \"Host\": \"algo-1\", \"Operation\": \"training\", \"epoch\": 4, \"model\": 0}, \"Metrics\": {\"validation_binary_classification_cross_entropy_objective\": {\"sum\": 0.48051206317159684, \"count\": 1, \"min\": 0.48051206317159684, \"max\": 0.48051206317159684}}}\u001b[0m\n",
      "\u001b[34m#metrics {\"StartTime\": 1654753851.4693978, \"EndTime\": 1654753851.469412, \"Dimensions\": {\"Algorithm\": \"Linear Learner\", \"Host\": \"algo-1\", \"Operation\": \"training\", \"epoch\": 4, \"model\": 1}, \"Metrics\": {\"validation_binary_classification_cross_entropy_objective\": {\"sum\": 0.48136311492706285, \"count\": 1, \"min\": 0.48136311492706285, \"max\": 0.48136311492706285}}}\u001b[0m\n",
      "\u001b[34m#metrics {\"StartTime\": 1654753851.469467, \"EndTime\": 1654753851.469485, \"Dimensions\": {\"Algorithm\": \"Linear Learner\", \"Host\": \"algo-1\", \"Operation\": \"training\", \"epoch\": 4, \"model\": 2}, \"Metrics\": {\"validation_binary_classification_cross_entropy_objective\": {\"sum\": 0.48050537710177166, \"count\": 1, \"min\": 0.48050537710177166, \"max\": 0.48050537710177166}}}\u001b[0m\n",
      "\u001b[34m#metrics {\"StartTime\": 1654753851.4695394, \"EndTime\": 1654753851.4695551, \"Dimensions\": {\"Algorithm\": \"Linear Learner\", \"Host\": \"algo-1\", \"Operation\": \"training\", \"epoch\": 4, \"model\": 3}, \"Metrics\": {\"validation_binary_classification_cross_entropy_objective\": {\"sum\": 0.4813631171660771, \"count\": 1, \"min\": 0.4813631171660771, \"max\": 0.4813631171660771}}}\u001b[0m\n",
      "\u001b[34m#metrics {\"StartTime\": 1654753851.4696107, \"EndTime\": 1654753851.4696276, \"Dimensions\": {\"Algorithm\": \"Linear Learner\", \"Host\": \"algo-1\", \"Operation\": \"training\", \"epoch\": 4, \"model\": 4}, \"Metrics\": {\"validation_binary_classification_cross_entropy_objective\": {\"sum\": 0.48050287481672327, \"count\": 1, \"min\": 0.48050287481672327, \"max\": 0.48050287481672327}}}\u001b[0m\n",
      "\u001b[34m#metrics {\"StartTime\": 1654753851.4696841, \"EndTime\": 1654753851.4696956, \"Dimensions\": {\"Algorithm\": \"Linear Learner\", \"Host\": \"algo-1\", \"Operation\": \"training\", \"epoch\": 4, \"model\": 5}, \"Metrics\": {\"validation_binary_classification_cross_entropy_objective\": {\"sum\": 0.4927508865586038, \"count\": 1, \"min\": 0.4927508865586038, \"max\": 0.4927508865586038}}}\u001b[0m\n",
      "\u001b[34m#metrics {\"StartTime\": 1654753851.4697292, \"EndTime\": 1654753851.4697666, \"Dimensions\": {\"Algorithm\": \"Linear Learner\", \"Host\": \"algo-1\", \"Operation\": \"training\", \"epoch\": 4, \"model\": 6}, \"Metrics\": {\"validation_binary_classification_cross_entropy_objective\": {\"sum\": 0.4805028781752447, \"count\": 1, \"min\": 0.4805028781752447, \"max\": 0.4805028781752447}}}\u001b[0m\n",
      "\u001b[34m#metrics {\"StartTime\": 1654753851.4698184, \"EndTime\": 1654753851.4698298, \"Dimensions\": {\"Algorithm\": \"Linear Learner\", \"Host\": \"algo-1\", \"Operation\": \"training\", \"epoch\": 4, \"model\": 7}, \"Metrics\": {\"validation_binary_classification_cross_entropy_objective\": {\"sum\": 0.49275090540364064, \"count\": 1, \"min\": 0.49275090540364064, \"max\": 0.49275090540364064}}}\u001b[0m\n",
      "\u001b[34m#metrics {\"StartTime\": 1654753851.4698594, \"EndTime\": 1654753851.4698675, \"Dimensions\": {\"Algorithm\": \"Linear Learner\", \"Host\": \"algo-1\", \"Operation\": \"training\", \"epoch\": 4, \"model\": 8}, \"Metrics\": {\"validation_binary_classification_cross_entropy_objective\": {\"sum\": 0.480749908621349, \"count\": 1, \"min\": 0.480749908621349, \"max\": 0.480749908621349}}}\u001b[0m\n",
      "\u001b[34m#metrics {\"StartTime\": 1654753851.4698923, \"EndTime\": 1654753851.4699001, \"Dimensions\": {\"Algorithm\": \"Linear Learner\", \"Host\": \"algo-1\", \"Operation\": \"training\", \"epoch\": 4, \"model\": 9}, \"Metrics\": {\"validation_binary_classification_cross_entropy_objective\": {\"sum\": 0.4815725480318718, \"count\": 1, \"min\": 0.4815725480318718, \"max\": 0.4815725480318718}}}\u001b[0m\n",
      "\u001b[34m#metrics {\"StartTime\": 1654753851.46995, \"EndTime\": 1654753851.4699602, \"Dimensions\": {\"Algorithm\": \"Linear Learner\", \"Host\": \"algo-1\", \"Operation\": \"training\", \"epoch\": 4, \"model\": 10}, \"Metrics\": {\"validation_binary_classification_cross_entropy_objective\": {\"sum\": 0.48073965654810535, \"count\": 1, \"min\": 0.48073965654810535, \"max\": 0.48073965654810535}}}\u001b[0m\n",
      "\u001b[34m#metrics {\"StartTime\": 1654753851.4700093, \"EndTime\": 1654753851.4700258, \"Dimensions\": {\"Algorithm\": \"Linear Learner\", \"Host\": \"algo-1\", \"Operation\": \"training\", \"epoch\": 4, \"model\": 11}, \"Metrics\": {\"validation_binary_classification_cross_entropy_objective\": {\"sum\": 0.48157254448676584, \"count\": 1, \"min\": 0.48157254448676584, \"max\": 0.48157254448676584}}}\u001b[0m\n",
      "\u001b[34m#metrics {\"StartTime\": 1654753851.4700773, \"EndTime\": 1654753851.4700935, \"Dimensions\": {\"Algorithm\": \"Linear Learner\", \"Host\": \"algo-1\", \"Operation\": \"training\", \"epoch\": 4, \"model\": 12}, \"Metrics\": {\"validation_binary_classification_cross_entropy_objective\": {\"sum\": 0.4807364706173618, \"count\": 1, \"min\": 0.4807364706173618, \"max\": 0.4807364706173618}}}\u001b[0m\n",
      "\u001b[34m#metrics {\"StartTime\": 1654753851.470147, \"EndTime\": 1654753851.4701624, \"Dimensions\": {\"Algorithm\": \"Linear Learner\", \"Host\": \"algo-1\", \"Operation\": \"training\", \"epoch\": 4, \"model\": 13}, \"Metrics\": {\"validation_binary_classification_cross_entropy_objective\": {\"sum\": 0.4925207201815123, \"count\": 1, \"min\": 0.4925207201815123, \"max\": 0.4925207201815123}}}\u001b[0m\n",
      "\u001b[34m#metrics {\"StartTime\": 1654753851.4702163, \"EndTime\": 1654753851.4702325, \"Dimensions\": {\"Algorithm\": \"Linear Learner\", \"Host\": \"algo-1\", \"Operation\": \"training\", \"epoch\": 4, \"model\": 14}, \"Metrics\": {\"validation_binary_classification_cross_entropy_objective\": {\"sum\": 0.4807364691246856, \"count\": 1, \"min\": 0.4807364691246856, \"max\": 0.4807364691246856}}}\u001b[0m\n",
      "\u001b[34m#metrics {\"StartTime\": 1654753851.4702854, \"EndTime\": 1654753851.4703007, \"Dimensions\": {\"Algorithm\": \"Linear Learner\", \"Host\": \"algo-1\", \"Operation\": \"training\", \"epoch\": 4, \"model\": 15}, \"Metrics\": {\"validation_binary_classification_cross_entropy_objective\": {\"sum\": 0.4925207233534492, \"count\": 1, \"min\": 0.4925207233534492, \"max\": 0.4925207233534492}}}\u001b[0m\n",
      "\u001b[34m#metrics {\"StartTime\": 1654753851.470353, \"EndTime\": 1654753851.47037, \"Dimensions\": {\"Algorithm\": \"Linear Learner\", \"Host\": \"algo-1\", \"Operation\": \"training\", \"epoch\": 4, \"model\": 16}, \"Metrics\": {\"validation_binary_classification_cross_entropy_objective\": {\"sum\": 0.5044660851087781, \"count\": 1, \"min\": 0.5044660851087781, \"max\": 0.5044660851087781}}}\u001b[0m\n",
      "\u001b[34m#metrics {\"StartTime\": 1654753851.4704213, \"EndTime\": 1654753851.4704387, \"Dimensions\": {\"Algorithm\": \"Linear Learner\", \"Host\": \"algo-1\", \"Operation\": \"training\", \"epoch\": 4, \"model\": 17}, \"Metrics\": {\"validation_binary_classification_cross_entropy_objective\": {\"sum\": 0.5053308915021681, \"count\": 1, \"min\": 0.5053308915021681, \"max\": 0.5053308915021681}}}\u001b[0m\n",
      "\u001b[34m#metrics {\"StartTime\": 1654753851.4704916, \"EndTime\": 1654753851.4705093, \"Dimensions\": {\"Algorithm\": \"Linear Learner\", \"Host\": \"algo-1\", \"Operation\": \"training\", \"epoch\": 4, \"model\": 18}, \"Metrics\": {\"validation_binary_classification_cross_entropy_objective\": {\"sum\": 0.504414350631285, \"count\": 1, \"min\": 0.504414350631285, \"max\": 0.504414350631285}}}\u001b[0m\n",
      "\u001b[34m#metrics {\"StartTime\": 1654753851.470561, \"EndTime\": 1654753851.470577, \"Dimensions\": {\"Algorithm\": \"Linear Learner\", \"Host\": \"algo-1\", \"Operation\": \"training\", \"epoch\": 4, \"model\": 19}, \"Metrics\": {\"validation_binary_classification_cross_entropy_objective\": {\"sum\": 0.5053308349670574, \"count\": 1, \"min\": 0.5053308349670574, \"max\": 0.5053308349670574}}}\u001b[0m\n",
      "\u001b[34m#metrics {\"StartTime\": 1654753851.4706283, \"EndTime\": 1654753851.4706445, \"Dimensions\": {\"Algorithm\": \"Linear Learner\", \"Host\": \"algo-1\", \"Operation\": \"training\", \"epoch\": 4, \"model\": 20}, \"Metrics\": {\"validation_binary_classification_cross_entropy_objective\": {\"sum\": 0.5044171999635476, \"count\": 1, \"min\": 0.5044171999635476, \"max\": 0.5044171999635476}}}\u001b[0m\n",
      "\u001b[34m#metrics {\"StartTime\": 1654753851.470696, \"EndTime\": 1654753851.4707131, \"Dimensions\": {\"Algorithm\": \"Linear Learner\", \"Host\": \"algo-1\", \"Operation\": \"training\", \"epoch\": 4, \"model\": 21}, \"Metrics\": {\"validation_binary_classification_cross_entropy_objective\": {\"sum\": 0.5071963506965925, \"count\": 1, \"min\": 0.5071963506965925, \"max\": 0.5071963506965925}}}\u001b[0m\n",
      "\u001b[34m#metrics {\"StartTime\": 1654753851.4707637, \"EndTime\": 1654753851.4707797, \"Dimensions\": {\"Algorithm\": \"Linear Learner\", \"Host\": \"algo-1\", \"Operation\": \"training\", \"epoch\": 4, \"model\": 22}, \"Metrics\": {\"validation_binary_classification_cross_entropy_objective\": {\"sum\": 0.5044172003367167, \"count\": 1, \"min\": 0.5044172003367167, \"max\": 0.5044172003367167}}}\u001b[0m\n",
      "\u001b[34m#metrics {\"StartTime\": 1654753851.4708307, \"EndTime\": 1654753851.470847, \"Dimensions\": {\"Algorithm\": \"Linear Learner\", \"Host\": \"algo-1\", \"Operation\": \"training\", \"epoch\": 4, \"model\": 23}, \"Metrics\": {\"validation_binary_classification_cross_entropy_objective\": {\"sum\": 0.5071963531221914, \"count\": 1, \"min\": 0.5071963531221914, \"max\": 0.5071963531221914}}}\u001b[0m\n",
      "\u001b[34m#metrics {\"StartTime\": 1654753851.4709003, \"EndTime\": 1654753851.4709153, \"Dimensions\": {\"Algorithm\": \"Linear Learner\", \"Host\": \"algo-1\", \"Operation\": \"training\", \"epoch\": 4, \"model\": 24}, \"Metrics\": {\"validation_binary_classification_cross_entropy_objective\": {\"sum\": 0.5137199828341044, \"count\": 1, \"min\": 0.5137199828341044, \"max\": 0.5137199828341044}}}\u001b[0m\n",
      "\u001b[34m#metrics {\"StartTime\": 1654753851.4709826, \"EndTime\": 1654753851.4710016, \"Dimensions\": {\"Algorithm\": \"Linear Learner\", \"Host\": \"algo-1\", \"Operation\": \"training\", \"epoch\": 4, \"model\": 25}, \"Metrics\": {\"validation_binary_classification_cross_entropy_objective\": {\"sum\": 0.5142574925448586, \"count\": 1, \"min\": 0.5142574925448586, \"max\": 0.5142574925448586}}}\u001b[0m\n",
      "\u001b[34m#metrics {\"StartTime\": 1654753851.4710581, \"EndTime\": 1654753851.4710758, \"Dimensions\": {\"Algorithm\": \"Linear Learner\", \"Host\": \"algo-1\", \"Operation\": \"training\", \"epoch\": 4, \"model\": 26}, \"Metrics\": {\"validation_binary_classification_cross_entropy_objective\": {\"sum\": 0.5137287700322518, \"count\": 1, \"min\": 0.5137287700322518, \"max\": 0.5137287700322518}}}\u001b[0m\n",
      "\u001b[34m#metrics {\"StartTime\": 1654753851.4711325, \"EndTime\": 1654753851.4711483, \"Dimensions\": {\"Algorithm\": \"Linear Learner\", \"Host\": \"algo-1\", \"Operation\": \"training\", \"epoch\": 4, \"model\": 27}, \"Metrics\": {\"validation_binary_classification_cross_entropy_objective\": {\"sum\": 0.5142686154080748, \"count\": 1, \"min\": 0.5142686154080748, \"max\": 0.5142686154080748}}}\u001b[0m\n",
      "\u001b[34m#metrics {\"StartTime\": 1654753851.471217, \"EndTime\": 1654753851.471235, \"Dimensions\": {\"Algorithm\": \"Linear Learner\", \"Host\": \"algo-1\", \"Operation\": \"training\", \"epoch\": 4, \"model\": 28}, \"Metrics\": {\"validation_binary_classification_cross_entropy_objective\": {\"sum\": 0.5137325215006869, \"count\": 1, \"min\": 0.5137325215006869, \"max\": 0.5137325215006869}}}\u001b[0m\n",
      "\u001b[34m#metrics {\"StartTime\": 1654753851.471304, \"EndTime\": 1654753851.4713206, \"Dimensions\": {\"Algorithm\": \"Linear Learner\", \"Host\": \"algo-1\", \"Operation\": \"training\", \"epoch\": 4, \"model\": 29}, \"Metrics\": {\"validation_binary_classification_cross_entropy_objective\": {\"sum\": 0.5136842255893826, \"count\": 1, \"min\": 0.5136842255893826, \"max\": 0.5136842255893826}}}\u001b[0m\n",
      "\u001b[34m#metrics {\"StartTime\": 1654753851.4713788, \"EndTime\": 1654753851.4713955, \"Dimensions\": {\"Algorithm\": \"Linear Learner\", \"Host\": \"algo-1\", \"Operation\": \"training\", \"epoch\": 4, \"model\": 30}, \"Metrics\": {\"validation_binary_classification_cross_entropy_objective\": {\"sum\": 0.5137334156137249, \"count\": 1, \"min\": 0.5137334156137249, \"max\": 0.5137334156137249}}}\u001b[0m\n",
      "\u001b[34m#metrics {\"StartTime\": 1654753851.4714644, \"EndTime\": 1654753851.4714818, \"Dimensions\": {\"Algorithm\": \"Linear Learner\", \"Host\": \"algo-1\", \"Operation\": \"training\", \"epoch\": 4, \"model\": 31}, \"Metrics\": {\"validation_binary_classification_cross_entropy_objective\": {\"sum\": 0.5136842267088897, \"count\": 1, \"min\": 0.5136842267088897, \"max\": 0.5136842267088897}}}\u001b[0m\n",
      "\u001b[34m[06/09/2022 05:50:51 INFO 140325321312064] #quality_metric: host=algo-1, epoch=4, validation binary_classification_cross_entropy_objective <loss>=0.48051206317159684\u001b[0m\n",
      "\u001b[34m[06/09/2022 05:50:51 INFO 140325321312064] #early_stopping_criteria_metric: host=algo-1, epoch=4, criteria=binary_classification_cross_entropy_objective, value=0.48050287481672327\u001b[0m\n",
      "\u001b[34m[06/09/2022 05:50:51 INFO 140325321312064] Saving model for epoch: 4\u001b[0m\n",
      "\u001b[34m[06/09/2022 05:50:51 INFO 140325321312064] Saved checkpoint to \"/tmp/tmpgjav89p1/mx-mod-0000.params\"\u001b[0m\n",
      "\u001b[34m[06/09/2022 05:50:51 INFO 140325321312064] Early stop condition met. Stopping training.\u001b[0m\n",
      "\u001b[34m[06/09/2022 05:50:51 INFO 140325321312064] #progress_metric: host=algo-1, completed 100 % epochs\u001b[0m\n",
      "\u001b[34m#metrics {\"StartTime\": 1654753787.9232552, \"EndTime\": 1654753851.4788635, \"Dimensions\": {\"Algorithm\": \"Linear Learner\", \"Host\": \"algo-1\", \"Operation\": \"training\", \"epoch\": 4, \"Meta\": \"training_data_iter\"}, \"Metrics\": {\"Total Records Seen\": {\"sum\": 6554360.0, \"count\": 1, \"min\": 6554360, \"max\": 6554360}, \"Total Batches Seen\": {\"sum\": 6557.0, \"count\": 1, \"min\": 6557, \"max\": 6557}, \"Max Records Seen Between Resets\": {\"sum\": 1308472.0, \"count\": 1, \"min\": 1308472, \"max\": 1308472}, \"Max Batches Seen Between Resets\": {\"sum\": 1309.0, \"count\": 1, \"min\": 1309, \"max\": 1309}, \"Reset Count\": {\"sum\": 7.0, \"count\": 1, \"min\": 7, \"max\": 7}, \"Number of Records Since Last Reset\": {\"sum\": 1308472.0, \"count\": 1, \"min\": 1308472, \"max\": 1308472}, \"Number of Batches Since Last Reset\": {\"sum\": 1309.0, \"count\": 1, \"min\": 1309, \"max\": 1309}}}\u001b[0m\n",
      "\u001b[34m[06/09/2022 05:50:51 INFO 140325321312064] #throughput_metric: host=algo-1, train throughput=20587.771462155888 records/second\u001b[0m\n",
      "\u001b[34m[06/09/2022 05:50:51 WARNING 140325321312064] wait_for_all_workers will not sync workers since the kv store is not running distributed\u001b[0m\n",
      "\u001b[34m[06/09/2022 05:50:51 WARNING 140325321312064] wait_for_all_workers will not sync workers since the kv store is not running distributed\u001b[0m\n",
      "\u001b[34m[2022-06-09 05:50:56.608] [tensorio] [info] epoch_stats={\"data_pipeline\": \"/opt/ml/input/data/validation\", \"epoch\": 17, \"duration\": 5107, \"num_examples\": 164, \"num_bytes\": 63460892}\u001b[0m\n",
      "\u001b[34m[06/09/2022 05:50:56 INFO 140325321312064] #early_stopping_criteria_metric: host=algo-1, epoch=4, criteria=binary_classification_cross_entropy_objective, value=0.48050287481672327\u001b[0m\n",
      "\u001b[34m[2022-06-09 05:50:57.478] [tensorio] [info] epoch_stats={\"data_pipeline\": \"/opt/ml/input/data/validation\", \"epoch\": 19, \"duration\": 854, \"num_examples\": 164, \"num_bytes\": 63460892}\u001b[0m\n",
      "\u001b[34m[06/09/2022 05:50:57 INFO 140325321312064] #validation_score (algo-1) : ('binary_classification_cross_entropy_objective', 0.48072466205602077)\u001b[0m\n",
      "\u001b[34m[06/09/2022 05:50:57 INFO 140325321312064] #validation_score (algo-1) : ('binary_classification_accuracy', 0.7931938933351268)\u001b[0m\n",
      "\u001b[34m[06/09/2022 05:50:57 INFO 140325321312064] #validation_score (algo-1) : ('binary_f_1.000', 0.10612827356570916)\u001b[0m\n",
      "\u001b[34m[06/09/2022 05:50:57 INFO 140325321312064] #validation_score (algo-1) : ('precision', 0.572405929304447)\u001b[0m\n",
      "\u001b[34m[06/09/2022 05:50:57 INFO 140325321312064] #validation_score (algo-1) : ('recall', 0.05848600471849241)\u001b[0m\n",
      "\u001b[34m[06/09/2022 05:50:57 INFO 140325321312064] #validation_score (algo-1) : ('roc_auc_score', 0.676052693496362)\u001b[0m\n",
      "\u001b[34m[06/09/2022 05:50:57 INFO 140325321312064] #validation_score (algo-1) : ('binary_balanced_accuracy', 0.5)\u001b[0m\n",
      "\u001b[34m[06/09/2022 05:50:57 INFO 140325321312064] #validation_score (algo-1) : ('binary_log_loss', 0.7489892581311118)\u001b[0m\n",
      "\u001b[34m[06/09/2022 05:50:57 INFO 140325321312064] #quality_metric: host=algo-1, validation binary_classification_cross_entropy_objective <loss>=0.48072466205602077\u001b[0m\n",
      "\u001b[34m[06/09/2022 05:50:57 INFO 140325321312064] #quality_metric: host=algo-1, validation binary_classification_accuracy <score>=0.7931938933351268\u001b[0m\n",
      "\u001b[34m[06/09/2022 05:50:57 INFO 140325321312064] #quality_metric: host=algo-1, validation binary_f_1.000 <score>=0.10612827356570916\u001b[0m\n",
      "\u001b[34m[06/09/2022 05:50:57 INFO 140325321312064] #quality_metric: host=algo-1, validation precision <score>=0.572405929304447\u001b[0m\n",
      "\u001b[34m[06/09/2022 05:50:57 INFO 140325321312064] #quality_metric: host=algo-1, validation recall <score>=0.05848600471849241\u001b[0m\n",
      "\u001b[34m[06/09/2022 05:50:57 INFO 140325321312064] #quality_metric: host=algo-1, validation roc_auc_score <score>=0.676052693496362\u001b[0m\n",
      "\u001b[34m[06/09/2022 05:50:57 INFO 140325321312064] #quality_metric: host=algo-1, validation binary_balanced_accuracy <score>=0.5\u001b[0m\n",
      "\u001b[34m[06/09/2022 05:50:57 INFO 140325321312064] #quality_metric: host=algo-1, validation binary_log_loss <score>=0.7489892581311118\u001b[0m\n",
      "\u001b[34m[06/09/2022 05:50:57 INFO 140325321312064] Best model found for hyperparameters: {\"optimizer\": \"adam\", \"learning_rate\": 0.005, \"wd\": 0.0001, \"l1\": 0.0, \"lr_scheduler_step\": 10, \"lr_scheduler_factor\": 0.99, \"lr_scheduler_minimum_lr\": 0.0001}\u001b[0m\n",
      "\u001b[34m[06/09/2022 05:50:57 INFO 140325321312064] Saved checkpoint to \"/tmp/tmp35uor4b2/mx-mod-0000.params\"\u001b[0m\n",
      "\u001b[34m[2022-06-09 05:50:57.790] [tensorio] [info] epoch_stats={\"data_pipeline\": \"/opt/ml/input/data/test\", \"epoch\": 0, \"duration\": 326586, \"num_examples\": 1, \"num_bytes\": 388000}\u001b[0m\n",
      "\u001b[34m[2022-06-09 05:50:58.640] [tensorio] [info] epoch_stats={\"data_pipeline\": \"/opt/ml/input/data/test\", \"epoch\": 1, \"duration\": 849, \"num_examples\": 164, \"num_bytes\": 63460892}\u001b[0m\n",
      "\u001b[34m#metrics {\"StartTime\": 1654753857.7875443, \"EndTime\": 1654753858.9305294, \"Dimensions\": {\"Algorithm\": \"Linear Learner\", \"Host\": \"algo-1\", \"Operation\": \"training\", \"Meta\": \"test_data_iter\"}, \"Metrics\": {\"Total Records Seen\": {\"sum\": 163559.0, \"count\": 1, \"min\": 163559, \"max\": 163559}, \"Total Batches Seen\": {\"sum\": 164.0, \"count\": 1, \"min\": 164, \"max\": 164}, \"Max Records Seen Between Resets\": {\"sum\": 163559.0, \"count\": 1, \"min\": 163559, \"max\": 163559}, \"Max Batches Seen Between Resets\": {\"sum\": 164.0, \"count\": 1, \"min\": 164, \"max\": 164}, \"Reset Count\": {\"sum\": 1.0, \"count\": 1, \"min\": 1, \"max\": 1}, \"Number of Records Since Last Reset\": {\"sum\": 163559.0, \"count\": 1, \"min\": 163559, \"max\": 163559}, \"Number of Batches Since Last Reset\": {\"sum\": 164.0, \"count\": 1, \"min\": 164, \"max\": 164}}}\u001b[0m\n",
      "\u001b[34m[06/09/2022 05:50:58 INFO 140325321312064] #test_score (algo-1) : ('binary_classification_cross_entropy_objective', 0.48104343798320914)\u001b[0m\n",
      "\u001b[34m[06/09/2022 05:50:58 INFO 140325321312064] #test_score (algo-1) : ('binary_classification_accuracy', 0.7925763791659279)\u001b[0m\n",
      "\u001b[34m[06/09/2022 05:50:58 INFO 140325321312064] #test_score (algo-1) : ('binary_f_1.000', 0.10371975060762971)\u001b[0m\n",
      "\u001b[34m[06/09/2022 05:50:58 INFO 140325321312064] #test_score (algo-1) : ('precision', 0.5578289286729184)\u001b[0m\n",
      "\u001b[34m[06/09/2022 05:50:58 INFO 140325321312064] #test_score (algo-1) : ('recall', 0.05717531238167361)\u001b[0m\n",
      "\u001b[34m[06/09/2022 05:50:58 INFO 140325321312064] #test_score (algo-1) : ('roc_auc_score', 0.676361176599723)\u001b[0m\n",
      "\u001b[34m[06/09/2022 05:50:58 INFO 140325321312064] #test_score (algo-1) : ('binary_balanced_accuracy', 0.5)\u001b[0m\n",
      "\u001b[34m[06/09/2022 05:50:58 INFO 140325321312064] #test_score (algo-1) : ('binary_log_loss', 0.7492944329390242)\u001b[0m\n",
      "\u001b[34m[06/09/2022 05:50:58 INFO 140325321312064] #quality_metric: host=algo-1, test binary_classification_cross_entropy_objective <loss>=0.48104343798320914\u001b[0m\n",
      "\u001b[34m[06/09/2022 05:50:58 INFO 140325321312064] #quality_metric: host=algo-1, test binary_classification_accuracy <score>=0.7925763791659279\u001b[0m\n",
      "\u001b[34m[06/09/2022 05:50:58 INFO 140325321312064] #quality_metric: host=algo-1, test binary_f_1.000 <score>=0.10371975060762971\u001b[0m\n",
      "\u001b[34m[06/09/2022 05:50:58 INFO 140325321312064] #quality_metric: host=algo-1, test precision <score>=0.5578289286729184\u001b[0m\n",
      "\u001b[34m[06/09/2022 05:50:58 INFO 140325321312064] #quality_metric: host=algo-1, test recall <score>=0.05717531238167361\u001b[0m\n",
      "\u001b[34m[06/09/2022 05:50:58 INFO 140325321312064] #quality_metric: host=algo-1, test roc_auc_score <score>=0.676361176599723\u001b[0m\n",
      "\u001b[34m[06/09/2022 05:50:58 INFO 140325321312064] #quality_metric: host=algo-1, test binary_balanced_accuracy <score>=0.5\u001b[0m\n",
      "\u001b[34m[06/09/2022 05:50:58 INFO 140325321312064] #quality_metric: host=algo-1, test binary_log_loss <score>=0.7492944329390242\u001b[0m\n",
      "\u001b[34m#metrics {\"StartTime\": 1654753531.17912, \"EndTime\": 1654753858.9397254, \"Dimensions\": {\"Algorithm\": \"Linear Learner\", \"Host\": \"algo-1\", \"Operation\": \"training\"}, \"Metrics\": {\"initialize.time\": {\"sum\": 443.33839416503906, \"count\": 1, \"min\": 443.33839416503906, \"max\": 443.33839416503906}, \"epochs\": {\"sum\": 15.0, \"count\": 1, \"min\": 15, \"max\": 15}, \"check_early_stopping.time\": {\"sum\": 2.8014183044433594, \"count\": 6, \"min\": 0.25653839111328125, \"max\": 1.377105712890625}, \"update.time\": {\"sum\": 319767.902135849, \"count\": 5, \"min\": 63552.14977264404, \"max\": 64757.51328468323}, \"finalize.time\": {\"sum\": 6305.0477504730225, \"count\": 1, \"min\": 6305.0477504730225, \"max\": 6305.0477504730225}, \"setuptime\": {\"sum\": 41.74304008483887, \"count\": 1, \"min\": 41.74304008483887, \"max\": 41.74304008483887}, \"totaltime\": {\"sum\": 328082.78799057007, \"count\": 1, \"min\": 328082.78799057007, \"max\": 328082.78799057007}}}\u001b[0m\n",
      "\n",
      "2022-06-09 05:51:24 Uploading - Uploading generated training model\n",
      "2022-06-09 05:51:56 Completed - Training job completed\n",
      "ProfilerReport-1654753307: NoIssuesFound\n",
      "Training seconds: 474\n",
      "Billable seconds: 474\n"
     ]
    }
   ],
   "source": [
    "classifier_estimator2.fit([train_records,val_records,test_records])# Enter your code here"
   ]
  },
  {
   "cell_type": "markdown",
   "metadata": {},
   "source": [
    "Perform a batch prediction by using the newly trained model."
   ]
  },
  {
   "cell_type": "code",
   "execution_count": 84,
   "metadata": {},
   "outputs": [
    {
     "name": "stderr",
     "output_type": "stream",
     "text": [
      "Defaulting to the only supported framework/algorithm version: 1. Ignoring framework/algorithm version: 1.\n"
     ]
    },
    {
     "name": "stdout",
     "output_type": "stream",
     "text": [
      ".....................................\u001b[34mDocker entrypoint called with argument(s): serve\u001b[0m\n",
      "\u001b[34mRunning default environment configuration script\u001b[0m\n",
      "\u001b[34m[06/09/2022 05:59:11 INFO 139747546232640] loaded entry point class algorithm.serve.server_config:config_api\u001b[0m\n",
      "\u001b[34m[06/09/2022 05:59:11 INFO 139747546232640] loading entry points\u001b[0m\n",
      "\u001b[34m[06/09/2022 05:59:11 INFO 139747546232640] loaded request iterator application/json\u001b[0m\n",
      "\u001b[34m[06/09/2022 05:59:11 INFO 139747546232640] loaded request iterator application/jsonlines\u001b[0m\n",
      "\u001b[34m[06/09/2022 05:59:11 INFO 139747546232640] loaded request iterator application/x-recordio-protobuf\u001b[0m\n",
      "\u001b[34m[06/09/2022 05:59:11 INFO 139747546232640] loaded request iterator text/csv\u001b[0m\n",
      "\u001b[34m[06/09/2022 05:59:11 INFO 139747546232640] loaded response encoder application/json\u001b[0m\n",
      "\u001b[34m[06/09/2022 05:59:11 INFO 139747546232640] loaded response encoder application/jsonlines\u001b[0m\n",
      "\u001b[34m[06/09/2022 05:59:11 INFO 139747546232640] loaded response encoder application/x-recordio-protobuf\u001b[0m\n",
      "\u001b[34m[06/09/2022 05:59:11 INFO 139747546232640] loaded response encoder text/csv\u001b[0m\n",
      "\u001b[34m[06/09/2022 05:59:11 INFO 139747546232640] loaded entry point class algorithm:model\u001b[0m\n",
      "\u001b[34m[06/09/2022 05:59:11 INFO 139747546232640] Number of server workers: 4\u001b[0m\n",
      "\u001b[34m[06/09/2022 05:59:11 INFO 139747546232640] loading model...\u001b[0m\n",
      "\u001b[34m[06/09/2022 05:59:11 INFO 139747546232640] ...model loaded.\u001b[0m\n",
      "\u001b[34m[2022-06-09 05:59:11 +0000] [1] [INFO] Starting gunicorn 20.1.0\u001b[0m\n",
      "\u001b[34m[2022-06-09 05:59:11 +0000] [1] [INFO] Listening at: http://0.0.0.0:8080 (1)\u001b[0m\n",
      "\u001b[34m[2022-06-09 05:59:11 +0000] [1] [INFO] Using worker: sync\u001b[0m\n",
      "\u001b[34m[2022-06-09 05:59:11 +0000] [61] [INFO] Booting worker with pid: 61\u001b[0m\n",
      "\u001b[34m[2022-06-09 05:59:11 +0000] [70] [INFO] Booting worker with pid: 70\u001b[0m\n",
      "\u001b[34m[2022-06-09 05:59:11 +0000] [79] [INFO] Booting worker with pid: 79\u001b[0m\n",
      "\u001b[34m[2022-06-09 05:59:11 +0000] [88] [INFO] Booting worker with pid: 88\u001b[0m\n",
      "\u001b[34m#metrics {\"StartTime\": 1654754351.6724513, \"EndTime\": 1654754353.1631868, \"Dimensions\": {\"Algorithm\": \"LinearLearnerModel\", \"Host\": \"UNKNOWN\", \"Operation\": \"scoring\"}, \"Metrics\": {\"execution_parameters.count\": {\"sum\": 1.0, \"count\": 1, \"min\": 1, \"max\": 1}}}\u001b[0m\n",
      "\u001b[32m2022-06-09T05:59:13.171:[sagemaker logs]: MaxConcurrentTransforms=4, MaxPayloadInMB=6, BatchStrategy=MULTI_RECORD\u001b[0m\n",
      "\u001b[34m#metrics {\"StartTime\": 1654754351.6724513, \"EndTime\": 1654754356.1429803, \"Dimensions\": {\"Algorithm\": \"LinearLearnerModel\", \"Host\": \"UNKNOWN\", \"Operation\": \"scoring\"}, \"Metrics\": {\"json.encoder.time\": {\"sum\": 152.18424797058105, \"count\": 1, \"min\": 152.18424797058105, \"max\": 152.18424797058105}, \"invocations.count\": {\"sum\": 1.0, \"count\": 1, \"min\": 1, \"max\": 1}}}\u001b[0m\n",
      "\u001b[34m#metrics {\"StartTime\": 1654754353.1635559, \"EndTime\": 1654754356.2711663, \"Dimensions\": {\"Algorithm\": \"LinearLearnerModel\", \"Host\": \"UNKNOWN\", \"Operation\": \"scoring\"}, \"Metrics\": {\"json.encoder.time\": {\"sum\": 148.05841445922852, \"count\": 1, \"min\": 148.05841445922852, \"max\": 148.05841445922852}, \"invocations.count\": {\"sum\": 1.0, \"count\": 1, \"min\": 1, \"max\": 1}}}\u001b[0m\n",
      "\u001b[34m#metrics {\"StartTime\": 1654754351.6724513, \"EndTime\": 1654754356.2801187, \"Dimensions\": {\"Algorithm\": \"LinearLearnerModel\", \"Host\": \"UNKNOWN\", \"Operation\": \"scoring\"}, \"Metrics\": {\"json.encoder.time\": {\"sum\": 155.11631965637207, \"count\": 1, \"min\": 155.11631965637207, \"max\": 155.11631965637207}, \"invocations.count\": {\"sum\": 1.0, \"count\": 1, \"min\": 1, \"max\": 1}}}\u001b[0m\n",
      "\u001b[35m#metrics {\"StartTime\": 1654754351.6724513, \"EndTime\": 1654754356.1429803, \"Dimensions\": {\"Algorithm\": \"LinearLearnerModel\", \"Host\": \"UNKNOWN\", \"Operation\": \"scoring\"}, \"Metrics\": {\"json.encoder.time\": {\"sum\": 152.18424797058105, \"count\": 1, \"min\": 152.18424797058105, \"max\": 152.18424797058105}, \"invocations.count\": {\"sum\": 1.0, \"count\": 1, \"min\": 1, \"max\": 1}}}\u001b[0m\n",
      "\u001b[35m#metrics {\"StartTime\": 1654754353.1635559, \"EndTime\": 1654754356.2711663, \"Dimensions\": {\"Algorithm\": \"LinearLearnerModel\", \"Host\": \"UNKNOWN\", \"Operation\": \"scoring\"}, \"Metrics\": {\"json.encoder.time\": {\"sum\": 148.05841445922852, \"count\": 1, \"min\": 148.05841445922852, \"max\": 148.05841445922852}, \"invocations.count\": {\"sum\": 1.0, \"count\": 1, \"min\": 1, \"max\": 1}}}\u001b[0m\n",
      "\u001b[35m#metrics {\"StartTime\": 1654754351.6724513, \"EndTime\": 1654754356.2801187, \"Dimensions\": {\"Algorithm\": \"LinearLearnerModel\", \"Host\": \"UNKNOWN\", \"Operation\": \"scoring\"}, \"Metrics\": {\"json.encoder.time\": {\"sum\": 155.11631965637207, \"count\": 1, \"min\": 155.11631965637207, \"max\": 155.11631965637207}, \"invocations.count\": {\"sum\": 1.0, \"count\": 1, \"min\": 1, \"max\": 1}}}\u001b[0m\n",
      "\u001b[34m#metrics {\"StartTime\": 1654754351.6724513, \"EndTime\": 1654754356.3477106, \"Dimensions\": {\"Algorithm\": \"LinearLearnerModel\", \"Host\": \"UNKNOWN\", \"Operation\": \"scoring\"}, \"Metrics\": {\"json.encoder.time\": {\"sum\": 153.65004539489746, \"count\": 1, \"min\": 153.65004539489746, \"max\": 153.65004539489746}, \"invocations.count\": {\"sum\": 1.0, \"count\": 1, \"min\": 1, \"max\": 1}}}\u001b[0m\n",
      "\u001b[35m#metrics {\"StartTime\": 1654754351.6724513, \"EndTime\": 1654754356.3477106, \"Dimensions\": {\"Algorithm\": \"LinearLearnerModel\", \"Host\": \"UNKNOWN\", \"Operation\": \"scoring\"}, \"Metrics\": {\"json.encoder.time\": {\"sum\": 153.65004539489746, \"count\": 1, \"min\": 153.65004539489746, \"max\": 153.65004539489746}, \"invocations.count\": {\"sum\": 1.0, \"count\": 1, \"min\": 1, \"max\": 1}}}\u001b[0m\n",
      "\u001b[34m#metrics {\"StartTime\": 1654754356.1431634, \"EndTime\": 1654754357.0786984, \"Dimensions\": {\"Algorithm\": \"LinearLearnerModel\", \"Host\": \"UNKNOWN\", \"Operation\": \"scoring\"}, \"Metrics\": {\"json.encoder.time\": {\"sum\": 68.9845085144043, \"count\": 1, \"min\": 68.9845085144043, \"max\": 68.9845085144043}, \"invocations.count\": {\"sum\": 1.0, \"count\": 1, \"min\": 1, \"max\": 1}}}\u001b[0m\n",
      "\u001b[35m#metrics {\"StartTime\": 1654754356.1431634, \"EndTime\": 1654754357.0786984, \"Dimensions\": {\"Algorithm\": \"LinearLearnerModel\", \"Host\": \"UNKNOWN\", \"Operation\": \"scoring\"}, \"Metrics\": {\"json.encoder.time\": {\"sum\": 68.9845085144043, \"count\": 1, \"min\": 68.9845085144043, \"max\": 68.9845085144043}, \"invocations.count\": {\"sum\": 1.0, \"count\": 1, \"min\": 1, \"max\": 1}}}\u001b[0m\n",
      "\n",
      "\u001b[34mDocker entrypoint called with argument(s): serve\u001b[0m\n",
      "\u001b[34mRunning default environment configuration script\u001b[0m\n",
      "\u001b[35mDocker entrypoint called with argument(s): serve\u001b[0m\n",
      "\u001b[35mRunning default environment configuration script\u001b[0m\n",
      "\u001b[34m[06/09/2022 05:59:11 INFO 139747546232640] loaded entry point class algorithm.serve.server_config:config_api\u001b[0m\n",
      "\u001b[34m[06/09/2022 05:59:11 INFO 139747546232640] loading entry points\u001b[0m\n",
      "\u001b[34m[06/09/2022 05:59:11 INFO 139747546232640] loaded request iterator application/json\u001b[0m\n",
      "\u001b[35m[06/09/2022 05:59:11 INFO 139747546232640] loaded entry point class algorithm.serve.server_config:config_api\u001b[0m\n",
      "\u001b[35m[06/09/2022 05:59:11 INFO 139747546232640] loading entry points\u001b[0m\n",
      "\u001b[35m[06/09/2022 05:59:11 INFO 139747546232640] loaded request iterator application/json\u001b[0m\n",
      "\u001b[34m[06/09/2022 05:59:11 INFO 139747546232640] loaded request iterator application/jsonlines\u001b[0m\n",
      "\u001b[34m[06/09/2022 05:59:11 INFO 139747546232640] loaded request iterator application/x-recordio-protobuf\u001b[0m\n",
      "\u001b[34m[06/09/2022 05:59:11 INFO 139747546232640] loaded request iterator text/csv\u001b[0m\n",
      "\u001b[34m[06/09/2022 05:59:11 INFO 139747546232640] loaded response encoder application/json\u001b[0m\n",
      "\u001b[34m[06/09/2022 05:59:11 INFO 139747546232640] loaded response encoder application/jsonlines\u001b[0m\n",
      "\u001b[34m[06/09/2022 05:59:11 INFO 139747546232640] loaded response encoder application/x-recordio-protobuf\u001b[0m\n",
      "\u001b[34m[06/09/2022 05:59:11 INFO 139747546232640] loaded response encoder text/csv\u001b[0m\n",
      "\u001b[34m[06/09/2022 05:59:11 INFO 139747546232640] loaded entry point class algorithm:model\u001b[0m\n",
      "\u001b[34m[06/09/2022 05:59:11 INFO 139747546232640] Number of server workers: 4\u001b[0m\n",
      "\u001b[34m[06/09/2022 05:59:11 INFO 139747546232640] loading model...\u001b[0m\n",
      "\u001b[34m[06/09/2022 05:59:11 INFO 139747546232640] ...model loaded.\u001b[0m\n",
      "\u001b[34m[2022-06-09 05:59:11 +0000] [1] [INFO] Starting gunicorn 20.1.0\u001b[0m\n",
      "\u001b[34m[2022-06-09 05:59:11 +0000] [1] [INFO] Listening at: http://0.0.0.0:8080 (1)\u001b[0m\n",
      "\u001b[34m[2022-06-09 05:59:11 +0000] [1] [INFO] Using worker: sync\u001b[0m\n",
      "\u001b[35m[06/09/2022 05:59:11 INFO 139747546232640] loaded request iterator application/jsonlines\u001b[0m\n",
      "\u001b[35m[06/09/2022 05:59:11 INFO 139747546232640] loaded request iterator application/x-recordio-protobuf\u001b[0m\n",
      "\u001b[35m[06/09/2022 05:59:11 INFO 139747546232640] loaded request iterator text/csv\u001b[0m\n",
      "\u001b[35m[06/09/2022 05:59:11 INFO 139747546232640] loaded response encoder application/json\u001b[0m\n",
      "\u001b[35m[06/09/2022 05:59:11 INFO 139747546232640] loaded response encoder application/jsonlines\u001b[0m\n",
      "\u001b[35m[06/09/2022 05:59:11 INFO 139747546232640] loaded response encoder application/x-recordio-protobuf\u001b[0m\n",
      "\u001b[35m[06/09/2022 05:59:11 INFO 139747546232640] loaded response encoder text/csv\u001b[0m\n",
      "\u001b[35m[06/09/2022 05:59:11 INFO 139747546232640] loaded entry point class algorithm:model\u001b[0m\n",
      "\u001b[35m[06/09/2022 05:59:11 INFO 139747546232640] Number of server workers: 4\u001b[0m\n",
      "\u001b[35m[06/09/2022 05:59:11 INFO 139747546232640] loading model...\u001b[0m\n",
      "\u001b[35m[06/09/2022 05:59:11 INFO 139747546232640] ...model loaded.\u001b[0m\n",
      "\u001b[35m[2022-06-09 05:59:11 +0000] [1] [INFO] Starting gunicorn 20.1.0\u001b[0m\n",
      "\u001b[35m[2022-06-09 05:59:11 +0000] [1] [INFO] Listening at: http://0.0.0.0:8080 (1)\u001b[0m\n",
      "\u001b[35m[2022-06-09 05:59:11 +0000] [1] [INFO] Using worker: sync\u001b[0m\n",
      "\u001b[34m[2022-06-09 05:59:11 +0000] [61] [INFO] Booting worker with pid: 61\u001b[0m\n",
      "\u001b[34m[2022-06-09 05:59:11 +0000] [70] [INFO] Booting worker with pid: 70\u001b[0m\n",
      "\u001b[34m[2022-06-09 05:59:11 +0000] [79] [INFO] Booting worker with pid: 79\u001b[0m\n",
      "\u001b[34m[2022-06-09 05:59:11 +0000] [88] [INFO] Booting worker with pid: 88\u001b[0m\n",
      "\u001b[35m[2022-06-09 05:59:11 +0000] [61] [INFO] Booting worker with pid: 61\u001b[0m\n",
      "\u001b[35m[2022-06-09 05:59:11 +0000] [70] [INFO] Booting worker with pid: 70\u001b[0m\n",
      "\u001b[35m[2022-06-09 05:59:11 +0000] [79] [INFO] Booting worker with pid: 79\u001b[0m\n",
      "\u001b[35m[2022-06-09 05:59:11 +0000] [88] [INFO] Booting worker with pid: 88\u001b[0m\n",
      "\u001b[34m#metrics {\"StartTime\": 1654754351.6724513, \"EndTime\": 1654754353.1631868, \"Dimensions\": {\"Algorithm\": \"LinearLearnerModel\", \"Host\": \"UNKNOWN\", \"Operation\": \"scoring\"}, \"Metrics\": {\"execution_parameters.count\": {\"sum\": 1.0, \"count\": 1, \"min\": 1, \"max\": 1}}}\u001b[0m\n",
      "\u001b[35m#metrics {\"StartTime\": 1654754351.6724513, \"EndTime\": 1654754353.1631868, \"Dimensions\": {\"Algorithm\": \"LinearLearnerModel\", \"Host\": \"UNKNOWN\", \"Operation\": \"scoring\"}, \"Metrics\": {\"execution_parameters.count\": {\"sum\": 1.0, \"count\": 1, \"min\": 1, \"max\": 1}}}\u001b[0m\n",
      "\u001b[32m2022-06-09T05:59:13.171:[sagemaker logs]: MaxConcurrentTransforms=4, MaxPayloadInMB=6, BatchStrategy=MULTI_RECORD\u001b[0m\n",
      "\u001b[34m#metrics {\"StartTime\": 1654754351.6724513, \"EndTime\": 1654754356.1429803, \"Dimensions\": {\"Algorithm\": \"LinearLearnerModel\", \"Host\": \"UNKNOWN\", \"Operation\": \"scoring\"}, \"Metrics\": {\"json.encoder.time\": {\"sum\": 152.18424797058105, \"count\": 1, \"min\": 152.18424797058105, \"max\": 152.18424797058105}, \"invocations.count\": {\"sum\": 1.0, \"count\": 1, \"min\": 1, \"max\": 1}}}\u001b[0m\n",
      "\u001b[34m#metrics {\"StartTime\": 1654754353.1635559, \"EndTime\": 1654754356.2711663, \"Dimensions\": {\"Algorithm\": \"LinearLearnerModel\", \"Host\": \"UNKNOWN\", \"Operation\": \"scoring\"}, \"Metrics\": {\"json.encoder.time\": {\"sum\": 148.05841445922852, \"count\": 1, \"min\": 148.05841445922852, \"max\": 148.05841445922852}, \"invocations.count\": {\"sum\": 1.0, \"count\": 1, \"min\": 1, \"max\": 1}}}\u001b[0m\n",
      "\u001b[34m#metrics {\"StartTime\": 1654754351.6724513, \"EndTime\": 1654754356.2801187, \"Dimensions\": {\"Algorithm\": \"LinearLearnerModel\", \"Host\": \"UNKNOWN\", \"Operation\": \"scoring\"}, \"Metrics\": {\"json.encoder.time\": {\"sum\": 155.11631965637207, \"count\": 1, \"min\": 155.11631965637207, \"max\": 155.11631965637207}, \"invocations.count\": {\"sum\": 1.0, \"count\": 1, \"min\": 1, \"max\": 1}}}\u001b[0m\n",
      "\u001b[35m#metrics {\"StartTime\": 1654754351.6724513, \"EndTime\": 1654754356.1429803, \"Dimensions\": {\"Algorithm\": \"LinearLearnerModel\", \"Host\": \"UNKNOWN\", \"Operation\": \"scoring\"}, \"Metrics\": {\"json.encoder.time\": {\"sum\": 152.18424797058105, \"count\": 1, \"min\": 152.18424797058105, \"max\": 152.18424797058105}, \"invocations.count\": {\"sum\": 1.0, \"count\": 1, \"min\": 1, \"max\": 1}}}\u001b[0m\n",
      "\u001b[35m#metrics {\"StartTime\": 1654754353.1635559, \"EndTime\": 1654754356.2711663, \"Dimensions\": {\"Algorithm\": \"LinearLearnerModel\", \"Host\": \"UNKNOWN\", \"Operation\": \"scoring\"}, \"Metrics\": {\"json.encoder.time\": {\"sum\": 148.05841445922852, \"count\": 1, \"min\": 148.05841445922852, \"max\": 148.05841445922852}, \"invocations.count\": {\"sum\": 1.0, \"count\": 1, \"min\": 1, \"max\": 1}}}\u001b[0m\n",
      "\u001b[35m#metrics {\"StartTime\": 1654754351.6724513, \"EndTime\": 1654754356.2801187, \"Dimensions\": {\"Algorithm\": \"LinearLearnerModel\", \"Host\": \"UNKNOWN\", \"Operation\": \"scoring\"}, \"Metrics\": {\"json.encoder.time\": {\"sum\": 155.11631965637207, \"count\": 1, \"min\": 155.11631965637207, \"max\": 155.11631965637207}, \"invocations.count\": {\"sum\": 1.0, \"count\": 1, \"min\": 1, \"max\": 1}}}\u001b[0m\n",
      "\u001b[34m#metrics {\"StartTime\": 1654754351.6724513, \"EndTime\": 1654754356.3477106, \"Dimensions\": {\"Algorithm\": \"LinearLearnerModel\", \"Host\": \"UNKNOWN\", \"Operation\": \"scoring\"}, \"Metrics\": {\"json.encoder.time\": {\"sum\": 153.65004539489746, \"count\": 1, \"min\": 153.65004539489746, \"max\": 153.65004539489746}, \"invocations.count\": {\"sum\": 1.0, \"count\": 1, \"min\": 1, \"max\": 1}}}\u001b[0m\n",
      "\u001b[35m#metrics {\"StartTime\": 1654754351.6724513, \"EndTime\": 1654754356.3477106, \"Dimensions\": {\"Algorithm\": \"LinearLearnerModel\", \"Host\": \"UNKNOWN\", \"Operation\": \"scoring\"}, \"Metrics\": {\"json.encoder.time\": {\"sum\": 153.65004539489746, \"count\": 1, \"min\": 153.65004539489746, \"max\": 153.65004539489746}, \"invocations.count\": {\"sum\": 1.0, \"count\": 1, \"min\": 1, \"max\": 1}}}\u001b[0m\n",
      "\u001b[34m#metrics {\"StartTime\": 1654754356.1431634, \"EndTime\": 1654754357.0786984, \"Dimensions\": {\"Algorithm\": \"LinearLearnerModel\", \"Host\": \"UNKNOWN\", \"Operation\": \"scoring\"}, \"Metrics\": {\"json.encoder.time\": {\"sum\": 68.9845085144043, \"count\": 1, \"min\": 68.9845085144043, \"max\": 68.9845085144043}, \"invocations.count\": {\"sum\": 1.0, \"count\": 1, \"min\": 1, \"max\": 1}}}\u001b[0m\n",
      "\u001b[35m#metrics {\"StartTime\": 1654754356.1431634, \"EndTime\": 1654754357.0786984, \"Dimensions\": {\"Algorithm\": \"LinearLearnerModel\", \"Host\": \"UNKNOWN\", \"Operation\": \"scoring\"}, \"Metrics\": {\"json.encoder.time\": {\"sum\": 68.9845085144043, \"count\": 1, \"min\": 68.9845085144043, \"max\": 68.9845085144043}, \"invocations.count\": {\"sum\": 1.0, \"count\": 1, \"min\": 1, \"max\": 1}}}\u001b[0m\n"
     ]
    }
   ],
   "source": [
    "test_labels, target_predicted=batch_linear_predict(test,classifier_estimator2)# Enter your code here"
   ]
  },
  {
   "cell_type": "markdown",
   "metadata": {},
   "source": [
    "Plot a confusion matrix."
   ]
  },
  {
   "cell_type": "code",
   "execution_count": 85,
   "metadata": {},
   "outputs": [
    {
     "data": {
      "image/png": "[encoded data removed]",
      "text/plain": [
       "<Figure size 432x288 with 1 Axes>"
      ]
     },
     "metadata": {
      "needs_background": "light"
     },
     "output_type": "display_data"
    }
   ],
   "source": [
    "plot_confusion_matrix(test_labels,target_predicted)# Enter your code here"
   ]
  },
  {
   "cell_type": "markdown",
   "metadata": {},
   "source": [
    "Plot the ROC curve."
   ]
  },
  {
   "cell_type": "code",
   "execution_count": 86,
   "metadata": {},
   "outputs": [
    {
     "name": "stdout",
     "output_type": "stream",
     "text": [
      "Sensitivity or TPR:  5.717531238167361 %\n",
      "Specificity or TNR:  98.79590794422175 %\n",
      "Precision:  55.78289286729184 %\n",
      "Negative Predictive Value:  79.77380654836291 %\n",
      "False Positive Rate:  1.204092055778249 %\n",
      "False Negative Rate:  94.28246876183263 %\n",
      "False Discovery Rate:  44.21710713270816 %\n",
      "Accuracy:  79.2576379165928 %\n",
      "Validation AUC 0.5225671959119456\n",
      "Figure(432x288)\n"
     ]
    },
    {
     "data": {
      "image/png": "[encoded data removed]",
      "text/plain": [
       "<Figure size 432x288 with 2 Axes>"
      ]
     },
     "metadata": {
      "needs_background": "light"
     },
     "output_type": "display_data"
    },
    {
     "data": {
      "text/plain": [
       "<Figure size 432x288 with 0 Axes>"
      ]
     },
     "metadata": {},
     "output_type": "display_data"
    }
   ],
   "source": [
    "plot_roc(test_labels,target_predicted)# Enter your code here"
   ]
  },
  {
   "cell_type": "markdown",
   "metadata": {},
   "source": [
    "The linear model shows only a little improvement in performance. Try a tree-based ensemble model, which is called *XGBoost*, with Amazon SageMaker."
   ]
  },
  {
   "cell_type": "markdown",
   "metadata": {},
   "source": [
    "### Try the XGBoost model"
   ]
  },
  {
   "cell_type": "markdown",
   "metadata": {},
   "source": [
    "Perform these steps:  \n",
    "\n",
    "1. Use the training set variables and save them as CSV files: train.csv, validation.csv and test.csv.\n",
    "2. Store the bucket name in the variable. The Amazon S3 bucket name is provided to the left of the lab instructions.  \n",
    "a. `bucket = <LabBucketName>`  \n",
    "b. `prefix = 'flight-xgb'`  \n",
    "3. Use the AWS SDK for Python (Boto3) to upload the model to the bucket.    "
   ]
  },
  {
   "cell_type": "code",
   "execution_count": 87,
   "metadata": {},
   "outputs": [],
   "source": [
    "bucket='c49193a727679l2251657t1w577204790654-flightbucket-11zlk1drifji9'\n",
    "prefix='flight-xgb'\n",
    "train_file='flight_train.csv'\n",
    "test_file='flight_test.csv'\n",
    "validate_file='flight_validate.csv'\n",
    "whole_file='flight.csv'\n",
    "s3_resource = boto3.Session().resource('s3')\n",
    "\n",
    "def upload_s3_csv(filename, folder, dataframe):\n",
    "    csv_buffer = io.StringIO()\n",
    "    dataframe.to_csv(csv_buffer, header=False, index=False )\n",
    "    s3_resource.Bucket(bucket).Object(os.path.join(prefix, folder, filename)).put(Body=csv_buffer.getvalue())\n",
    "\n",
    "upload_s3_csv(train_file, 'train', train)\n",
    "upload_s3_csv(test_file, 'test', test)\n",
    "upload_s3_csv(validate_file, 'validate', validate)"
   ]
  },
  {
   "cell_type": "markdown",
   "metadata": {},
   "source": [
    "Use the `sagemaker.inputs.TrainingInput` function to create a `record_set` for the training and validation datasets."
   ]
  },
  {
   "cell_type": "code",
   "execution_count": 88,
   "metadata": {},
   "outputs": [],
   "source": [
    "train_channel = sagemaker.inputs.TrainingInput(\n",
    "    \"s3://{}/{}/train/\".format(bucket,prefix,train_file),\n",
    "    content_type='text/csv')\n",
    "\n",
    "validate_channel = sagemaker.inputs.TrainingInput(\n",
    "    \"s3://{}/{}/validate/\".format(bucket,prefix,validate_file),\n",
    "    content_type='text/csv')\n",
    "\n",
    "data_channels = {'train': train_channel, 'validation': validate_channel}"
   ]
  },
  {
   "cell_type": "code",
   "execution_count": 89,
   "metadata": {},
   "outputs": [],
   "source": [
    "from sagemaker.image_uris import retrieve\n",
    "container = retrieve('xgboost',boto3.Session().region_name,'1.0-1')"
   ]
  },
  {
   "cell_type": "code",
   "execution_count": 90,
   "metadata": {},
   "outputs": [
    {
     "name": "stdout",
     "output_type": "stream",
     "text": [
      "2022-06-09 06:01:08 Starting - Starting the training job...\n",
      "2022-06-09 06:01:38 Starting - Preparing the instances for trainingProfilerReport-1654754468: InProgress\n",
      "...............\n",
      "2022-06-09 06:04:02 Downloading - Downloading input data...\n",
      "2022-06-09 06:04:26 Training - Downloading the training image......\n",
      "2022-06-09 06:05:22 Training - Training image download completed. Training in progress.\u001b[34mINFO:sagemaker-containers:Imported framework sagemaker_xgboost_container.training\u001b[0m\n",
      "\u001b[34mINFO:sagemaker-containers:Failed to parse hyperparameter eval_metric value auc to Json.\u001b[0m\n",
      "\u001b[34mReturning the value itself\u001b[0m\n",
      "\u001b[34mINFO:sagemaker-containers:Failed to parse hyperparameter objective value binary:logistic to Json.\u001b[0m\n",
      "\u001b[34mReturning the value itself\u001b[0m\n",
      "\u001b[34mINFO:sagemaker-containers:No GPUs detected (normal if no gpus installed)\u001b[0m\n",
      "\u001b[34mINFO:sagemaker_xgboost_container.training:Running XGBoost Sagemaker in algorithm mode\u001b[0m\n",
      "\u001b[34mINFO:root:Determined delimiter of CSV input is ','\u001b[0m\n",
      "\u001b[34mINFO:root:Determined delimiter of CSV input is ','\u001b[0m\n",
      "\u001b[34mINFO:root:Determined delimiter of CSV input is ','\u001b[0m\n",
      "\u001b[34m[06:05:32] 1308472x85 matrix with 111220120 entries loaded from /opt/ml/input/data/train?format=csv&label_column=0&delimiter=,\u001b[0m\n",
      "\u001b[34mINFO:root:Determined delimiter of CSV input is ','\u001b[0m\n",
      "\u001b[34m[06:05:32] 163559x85 matrix with 13902515 entries loaded from /opt/ml/input/data/validation?format=csv&label_column=0&delimiter=,\u001b[0m\n",
      "\u001b[34mINFO:root:Single node training.\u001b[0m\n",
      "\u001b[34mINFO:root:Train matrix has 1308472 rows\u001b[0m\n",
      "\u001b[34mINFO:root:Validation matrix has 163559 rows\u001b[0m\n",
      "\u001b[34m[0]#011train-auc:0.65450#011validation-auc:0.65376\u001b[0m\n",
      "\u001b[34m[1]#011train-auc:0.66763#011validation-auc:0.66543\u001b[0m\n",
      "\u001b[34m[2]#011train-auc:0.67012#011validation-auc:0.66791\u001b[0m\n",
      "\u001b[34m[3]#011train-auc:0.67542#011validation-auc:0.67286\u001b[0m\n",
      "\u001b[34m[4]#011train-auc:0.67653#011validation-auc:0.67411\u001b[0m\n",
      "\u001b[34m[5]#011train-auc:0.67872#011validation-auc:0.67657\u001b[0m\n",
      "\u001b[34m[6]#011train-auc:0.68049#011validation-auc:0.67807\u001b[0m\n",
      "\u001b[34m[7]#011train-auc:0.68354#011validation-auc:0.68115\u001b[0m\n",
      "\u001b[34m[8]#011train-auc:0.68556#011validation-auc:0.68340\u001b[0m\n",
      "\u001b[34m[9]#011train-auc:0.68646#011validation-auc:0.68442\u001b[0m\n",
      "\u001b[34m[10]#011train-auc:0.68910#011validation-auc:0.68708\u001b[0m\n",
      "\u001b[34m[11]#011train-auc:0.69033#011validation-auc:0.68819\u001b[0m\n",
      "\u001b[34m[12]#011train-auc:0.69195#011validation-auc:0.68971\u001b[0m\n",
      "\u001b[34m[13]#011train-auc:0.69290#011validation-auc:0.69083\u001b[0m\n",
      "\u001b[34m[14]#011train-auc:0.69545#011validation-auc:0.69341\u001b[0m\n",
      "\u001b[34m[15]#011train-auc:0.69677#011validation-auc:0.69469\u001b[0m\n",
      "\u001b[34m[16]#011train-auc:0.69866#011validation-auc:0.69661\u001b[0m\n",
      "\u001b[34m[17]#011train-auc:0.70006#011validation-auc:0.69809\u001b[0m\n",
      "\u001b[34m[18]#011train-auc:0.70135#011validation-auc:0.69941\u001b[0m\n",
      "\u001b[34m[19]#011train-auc:0.70245#011validation-auc:0.70065\u001b[0m\n",
      "\u001b[34m[20]#011train-auc:0.70320#011validation-auc:0.70126\u001b[0m\n",
      "\u001b[34m[21]#011train-auc:0.70452#011validation-auc:0.70241\u001b[0m\n",
      "\u001b[34m[22]#011train-auc:0.70561#011validation-auc:0.70357\u001b[0m\n",
      "\u001b[34m[23]#011train-auc:0.70644#011validation-auc:0.70439\u001b[0m\n",
      "\u001b[34m[24]#011train-auc:0.70748#011validation-auc:0.70527\u001b[0m\n",
      "\u001b[34m[25]#011train-auc:0.70846#011validation-auc:0.70618\u001b[0m\n",
      "\u001b[34m[26]#011train-auc:0.70906#011validation-auc:0.70668\u001b[0m\n",
      "\u001b[34m[27]#011train-auc:0.70997#011validation-auc:0.70755\u001b[0m\n",
      "\u001b[34m[28]#011train-auc:0.71045#011validation-auc:0.70793\u001b[0m\n",
      "\u001b[34m[29]#011train-auc:0.71151#011validation-auc:0.70889\u001b[0m\n",
      "\u001b[34m[30]#011train-auc:0.71204#011validation-auc:0.70943\u001b[0m\n",
      "\u001b[34m[31]#011train-auc:0.71276#011validation-auc:0.71007\u001b[0m\n",
      "\u001b[34m[32]#011train-auc:0.71349#011validation-auc:0.71069\u001b[0m\n",
      "\u001b[34m[33]#011train-auc:0.71396#011validation-auc:0.71109\u001b[0m\n",
      "\u001b[34m[34]#011train-auc:0.71432#011validation-auc:0.71140\u001b[0m\n",
      "\u001b[34m[35]#011train-auc:0.71614#011validation-auc:0.71315\u001b[0m\n",
      "\u001b[34m[36]#011train-auc:0.71698#011validation-auc:0.71404\u001b[0m\n",
      "\u001b[34m[37]#011train-auc:0.71739#011validation-auc:0.71438\u001b[0m\n",
      "\u001b[34m[38]#011train-auc:0.71776#011validation-auc:0.71468\u001b[0m\n",
      "\u001b[34m[39]#011train-auc:0.71820#011validation-auc:0.71512\u001b[0m\n",
      "\u001b[34m[40]#011train-auc:0.71858#011validation-auc:0.71547\u001b[0m\n",
      "\u001b[34m[41]#011train-auc:0.71916#011validation-auc:0.71610\u001b[0m\n",
      "\u001b[34m[42]#011train-auc:0.71943#011validation-auc:0.71635\u001b[0m\n",
      "\u001b[34m[43]#011train-auc:0.72035#011validation-auc:0.71716\u001b[0m\n",
      "\u001b[34m[44]#011train-auc:0.72078#011validation-auc:0.71756\u001b[0m\n",
      "\u001b[34m[45]#011train-auc:0.72113#011validation-auc:0.71789\u001b[0m\n",
      "\u001b[34m[46]#011train-auc:0.72144#011validation-auc:0.71820\u001b[0m\n",
      "\u001b[34m[47]#011train-auc:0.72175#011validation-auc:0.71857\u001b[0m\n",
      "\u001b[34m[48]#011train-auc:0.72216#011validation-auc:0.71893\u001b[0m\n",
      "\u001b[34m[49]#011train-auc:0.72247#011validation-auc:0.71928\u001b[0m\n",
      "\u001b[34m[50]#011train-auc:0.72286#011validation-auc:0.71974\u001b[0m\n",
      "\u001b[34m[51]#011train-auc:0.72327#011validation-auc:0.72009\u001b[0m\n",
      "\u001b[34m[52]#011train-auc:0.72355#011validation-auc:0.72036\u001b[0m\n",
      "\u001b[34m[53]#011train-auc:0.72393#011validation-auc:0.72080\u001b[0m\n",
      "\u001b[34m[54]#011train-auc:0.72440#011validation-auc:0.72129\u001b[0m\n",
      "\u001b[34m[55]#011train-auc:0.72503#011validation-auc:0.72189\u001b[0m\n",
      "\u001b[34m[56]#011train-auc:0.72522#011validation-auc:0.72210\u001b[0m\n",
      "\u001b[34m[57]#011train-auc:0.72541#011validation-auc:0.72224\u001b[0m\n",
      "\u001b[34m[58]#011train-auc:0.72565#011validation-auc:0.72247\u001b[0m\n",
      "\u001b[34m[59]#011train-auc:0.72598#011validation-auc:0.72287\u001b[0m\n",
      "\u001b[34m[60]#011train-auc:0.72617#011validation-auc:0.72306\u001b[0m\n",
      "\u001b[34m[61]#011train-auc:0.72641#011validation-auc:0.72328\u001b[0m\n",
      "\u001b[34m[62]#011train-auc:0.72674#011validation-auc:0.72365\u001b[0m\n",
      "\u001b[34m[63]#011train-auc:0.72706#011validation-auc:0.72385\u001b[0m\n",
      "\u001b[34m[64]#011train-auc:0.72724#011validation-auc:0.72400\u001b[0m\n",
      "\u001b[34m[65]#011train-auc:0.72757#011validation-auc:0.72429\u001b[0m\n",
      "\u001b[34m[66]#011train-auc:0.72788#011validation-auc:0.72457\u001b[0m\n",
      "\u001b[34m[67]#011train-auc:0.72811#011validation-auc:0.72477\u001b[0m\n",
      "\u001b[34m[68]#011train-auc:0.72848#011validation-auc:0.72509\u001b[0m\n",
      "\u001b[34m[69]#011train-auc:0.72860#011validation-auc:0.72518\u001b[0m\n",
      "\u001b[34m[70]#011train-auc:0.72875#011validation-auc:0.72528\u001b[0m\n",
      "\u001b[34m[71]#011train-auc:0.72889#011validation-auc:0.72544\u001b[0m\n",
      "\u001b[34m[72]#011train-auc:0.72900#011validation-auc:0.72555\u001b[0m\n",
      "\u001b[34m[73]#011train-auc:0.72916#011validation-auc:0.72564\u001b[0m\n",
      "\u001b[34m[74]#011train-auc:0.72940#011validation-auc:0.72587\u001b[0m\n",
      "\u001b[34m[75]#011train-auc:0.72956#011validation-auc:0.72598\u001b[0m\n",
      "\u001b[34m[76]#011train-auc:0.73021#011validation-auc:0.72657\u001b[0m\n",
      "\u001b[34m[77]#011train-auc:0.73044#011validation-auc:0.72681\u001b[0m\n",
      "\u001b[34m[78]#011train-auc:0.73075#011validation-auc:0.72707\u001b[0m\n",
      "\u001b[34m[79]#011train-auc:0.73102#011validation-auc:0.72731\u001b[0m\n",
      "\u001b[34m[80]#011train-auc:0.73121#011validation-auc:0.72748\u001b[0m\n",
      "\u001b[34m[81]#011train-auc:0.73149#011validation-auc:0.72775\u001b[0m\n",
      "\u001b[34m[82]#011train-auc:0.73174#011validation-auc:0.72796\u001b[0m\n",
      "\u001b[34m[83]#011train-auc:0.73181#011validation-auc:0.72800\u001b[0m\n",
      "\u001b[34m[84]#011train-auc:0.73201#011validation-auc:0.72811\u001b[0m\n",
      "\u001b[34m[85]#011train-auc:0.73209#011validation-auc:0.72815\u001b[0m\n",
      "\u001b[34m[86]#011train-auc:0.73218#011validation-auc:0.72823\u001b[0m\n",
      "\u001b[34m[87]#011train-auc:0.73255#011validation-auc:0.72859\u001b[0m\n",
      "\u001b[34m[88]#011train-auc:0.73268#011validation-auc:0.72872\u001b[0m\n",
      "\u001b[34m[89]#011train-auc:0.73301#011validation-auc:0.72906\u001b[0m\n",
      "\u001b[34m[90]#011train-auc:0.73317#011validation-auc:0.72922\u001b[0m\n",
      "\u001b[34m[91]#011train-auc:0.73333#011validation-auc:0.72935\u001b[0m\n",
      "\u001b[34m[92]#011train-auc:0.73348#011validation-auc:0.72949\u001b[0m\n",
      "\u001b[34m[93]#011train-auc:0.73377#011validation-auc:0.72972\u001b[0m\n",
      "\u001b[34m[94]#011train-auc:0.73395#011validation-auc:0.72985\u001b[0m\n",
      "\u001b[34m[95]#011train-auc:0.73414#011validation-auc:0.72998\u001b[0m\n",
      "\u001b[34m[96]#011train-auc:0.73432#011validation-auc:0.73020\u001b[0m\n",
      "\u001b[34m[97]#011train-auc:0.73441#011validation-auc:0.73029\u001b[0m\n",
      "\u001b[34m[98]#011train-auc:0.73449#011validation-auc:0.73035\u001b[0m\n",
      "\u001b[34m[99]#011train-auc:0.73470#011validation-auc:0.73052\u001b[0m\n",
      "\n",
      "2022-06-09 06:10:48 Uploading - Uploading generated training model\n",
      "2022-06-09 06:11:04 Completed - Training job completed\n",
      "ProfilerReport-1654754468: NoIssuesFound\n",
      "Training seconds: 431\n",
      "Billable seconds: 431\n"
     ]
    }
   ],
   "source": [
    "sess = sagemaker.Session()\n",
    "s3_output_location=\"s3://{}/{}/output/\".format(bucket,prefix)\n",
    "\n",
    "xgb = sagemaker.estimator.Estimator(container,\n",
    "                                    role = sagemaker.get_execution_role(), \n",
    "                                    instance_count=1, \n",
    "                                    instance_type=instance_type,\n",
    "                                    output_path=s3_output_location,\n",
    "                                    sagemaker_session=sess)\n",
    "xgb.set_hyperparameters(max_depth=5,\n",
    "                        eta=0.2,\n",
    "                        gamma=4,\n",
    "                        min_child_weight=6,\n",
    "                        subsample=0.8,\n",
    "                        silent=0,\n",
    "                        objective='binary:logistic',\n",
    "                        eval_metric = \"auc\", \n",
    "                        num_round=100)\n",
    "\n",
    "xgb.fit(inputs=data_channels)"
   ]
  },
  {
   "cell_type": "markdown",
   "metadata": {},
   "source": [
    "Use the batch transformer for your new model, and evaluate the model on the test dataset."
   ]
  },
  {
   "cell_type": "code",
   "execution_count": 91,
   "metadata": {},
   "outputs": [],
   "source": [
    "batch_X = test.iloc[:,1:];\n",
    "batch_X_file='batch-in.csv'\n",
    "upload_s3_csv(batch_X_file, 'batch-in', batch_X)"
   ]
  },
  {
   "cell_type": "code",
   "execution_count": 92,
   "metadata": {},
   "outputs": [
    {
     "name": "stdout",
     "output_type": "stream",
     "text": [
      "....................................\n",
      "\u001b[34m[2022-06-09:06:17:21:INFO] No GPUs detected (normal if no gpus installed)\u001b[0m\n",
      "\u001b[34m[2022-06-09:06:17:21:INFO] No GPUs detected (normal if no gpus installed)\u001b[0m\n",
      "\u001b[34m[2022-06-09:06:17:21:INFO] nginx config: \u001b[0m\n",
      "\u001b[34mworker_processes auto;\u001b[0m\n",
      "\u001b[34mdaemon off;\u001b[0m\n",
      "\u001b[34mpid /tmp/nginx.pid;\u001b[0m\n",
      "\u001b[34merror_log  /dev/stderr;\u001b[0m\n",
      "\u001b[34mworker_rlimit_nofile 4096;\u001b[0m\n",
      "\u001b[34mevents {\n",
      "  worker_connections 2048;\u001b[0m\n",
      "\u001b[34m}\u001b[0m\n",
      "\u001b[35m[2022-06-09:06:17:21:INFO] No GPUs detected (normal if no gpus installed)\u001b[0m\n",
      "\u001b[35m[2022-06-09:06:17:21:INFO] No GPUs detected (normal if no gpus installed)\u001b[0m\n",
      "\u001b[35m[2022-06-09:06:17:21:INFO] nginx config: \u001b[0m\n",
      "\u001b[35mworker_processes auto;\u001b[0m\n",
      "\u001b[35mdaemon off;\u001b[0m\n",
      "\u001b[35mpid /tmp/nginx.pid;\u001b[0m\n",
      "\u001b[35merror_log  /dev/stderr;\u001b[0m\n",
      "\u001b[35mworker_rlimit_nofile 4096;\u001b[0m\n",
      "\u001b[35mevents {\n",
      "  worker_connections 2048;\u001b[0m\n",
      "\u001b[35m}\u001b[0m\n",
      "\u001b[34mhttp {\n",
      "  include /etc/nginx/mime.types;\n",
      "  default_type application/octet-stream;\n",
      "  access_log /dev/stdout combined;\n",
      "  upstream gunicorn {\n",
      "    server unix:/tmp/gunicorn.sock;\n",
      "  }\n",
      "  server {\n",
      "    listen 8080 deferred;\n",
      "    client_max_body_size 0;\n",
      "    keepalive_timeout 3;\n",
      "    location ~ ^/(ping|invocations|execution-parameters) {\n",
      "      proxy_set_header X-Forwarded-For $proxy_add_x_forwarded_for;\n",
      "      proxy_set_header Host $http_host;\n",
      "      proxy_redirect off;\n",
      "      proxy_read_timeout 60s;\n",
      "      proxy_pass http://gunicorn;\n",
      "    }\n",
      "    location / {\n",
      "      return 404 \"{}\";\n",
      "    }\n",
      "  }\u001b[0m\n",
      "\u001b[34m}\u001b[0m\n",
      "\u001b[34m[2022-06-09 06:17:21 +0000] [18] [INFO] Starting gunicorn 19.10.0\u001b[0m\n",
      "\u001b[34m[2022-06-09 06:17:21 +0000] [18] [INFO] Listening at: unix:/tmp/gunicorn.sock (18)\u001b[0m\n",
      "\u001b[34m[2022-06-09 06:17:21 +0000] [18] [INFO] Using worker: gevent\u001b[0m\n",
      "\u001b[34m[2022-06-09 06:17:21 +0000] [25] [INFO] Booting worker with pid: 25\u001b[0m\n",
      "\u001b[34m[2022-06-09 06:17:21 +0000] [26] [INFO] Booting worker with pid: 26\u001b[0m\n",
      "\u001b[34m[2022-06-09 06:17:22 +0000] [27] [INFO] Booting worker with pid: 27\u001b[0m\n",
      "\u001b[34m[2022-06-09 06:17:22 +0000] [31] [INFO] Booting worker with pid: 31\u001b[0m\n",
      "\u001b[35mhttp {\n",
      "  include /etc/nginx/mime.types;\n",
      "  default_type application/octet-stream;\n",
      "  access_log /dev/stdout combined;\n",
      "  upstream gunicorn {\n",
      "    server unix:/tmp/gunicorn.sock;\n",
      "  }\n",
      "  server {\n",
      "    listen 8080 deferred;\n",
      "    client_max_body_size 0;\n",
      "    keepalive_timeout 3;\n",
      "    location ~ ^/(ping|invocations|execution-parameters) {\n",
      "      proxy_set_header X-Forwarded-For $proxy_add_x_forwarded_for;\n",
      "      proxy_set_header Host $http_host;\n",
      "      proxy_redirect off;\n",
      "      proxy_read_timeout 60s;\n",
      "      proxy_pass http://gunicorn;\n",
      "    }\n",
      "    location / {\n",
      "      return 404 \"{}\";\n",
      "    }\n",
      "  }\u001b[0m\n",
      "\u001b[35m}\u001b[0m\n",
      "\u001b[35m[2022-06-09 06:17:21 +0000] [18] [INFO] Starting gunicorn 19.10.0\u001b[0m\n",
      "\u001b[35m[2022-06-09 06:17:21 +0000] [18] [INFO] Listening at: unix:/tmp/gunicorn.sock (18)\u001b[0m\n",
      "\u001b[35m[2022-06-09 06:17:21 +0000] [18] [INFO] Using worker: gevent\u001b[0m\n",
      "\u001b[35m[2022-06-09 06:17:21 +0000] [25] [INFO] Booting worker with pid: 25\u001b[0m\n",
      "\u001b[35m[2022-06-09 06:17:21 +0000] [26] [INFO] Booting worker with pid: 26\u001b[0m\n",
      "\u001b[35m[2022-06-09 06:17:22 +0000] [27] [INFO] Booting worker with pid: 27\u001b[0m\n",
      "\u001b[35m[2022-06-09 06:17:22 +0000] [31] [INFO] Booting worker with pid: 31\u001b[0m\n",
      "\u001b[34m[2022-06-09:06:17:28:INFO] No GPUs detected (normal if no gpus installed)\u001b[0m\n",
      "\u001b[34m169.254.255.130 - - [09/Jun/2022:06:17:28 +0000] \"GET /ping HTTP/1.1\" 200 0 \"-\" \"Go-http-client/1.1\"\u001b[0m\n",
      "\u001b[34m[2022-06-09:06:17:28:INFO] No GPUs detected (normal if no gpus installed)\u001b[0m\n",
      "\u001b[34m169.254.255.130 - - [09/Jun/2022:06:17:28 +0000] \"GET /execution-parameters HTTP/1.1\" 200 84 \"-\" \"Go-http-client/1.1\"\u001b[0m\n",
      "\u001b[35m[2022-06-09:06:17:28:INFO] No GPUs detected (normal if no gpus installed)\u001b[0m\n",
      "\u001b[35m169.254.255.130 - - [09/Jun/2022:06:17:28 +0000] \"GET /ping HTTP/1.1\" 200 0 \"-\" \"Go-http-client/1.1\"\u001b[0m\n",
      "\u001b[35m[2022-06-09:06:17:28:INFO] No GPUs detected (normal if no gpus installed)\u001b[0m\n",
      "\u001b[35m169.254.255.130 - - [09/Jun/2022:06:17:28 +0000] \"GET /execution-parameters HTTP/1.1\" 200 84 \"-\" \"Go-http-client/1.1\"\u001b[0m\n",
      "\u001b[32m2022-06-09T06:17:28.291:[sagemaker logs]: MaxConcurrentTransforms=4, MaxPayloadInMB=6, BatchStrategy=MULTI_RECORD\u001b[0m\n",
      "\u001b[34m[2022-06-09:06:17:29:INFO] Determined delimiter of CSV input is ','\u001b[0m\n",
      "\u001b[34m[2022-06-09:06:17:29:INFO] Determined delimiter of CSV input is ','\u001b[0m\n",
      "\u001b[34m[2022-06-09:06:17:29:INFO] No GPUs detected (normal if no gpus installed)\u001b[0m\n",
      "\u001b[34m[2022-06-09:06:17:29:INFO] No GPUs detected (normal if no gpus installed)\u001b[0m\n",
      "\u001b[34m[2022-06-09:06:17:29:INFO] Determined delimiter of CSV input is ','\u001b[0m\n",
      "\u001b[34m[2022-06-09:06:17:29:INFO] Determined delimiter of CSV input is ','\u001b[0m\n",
      "\u001b[35m[2022-06-09:06:17:29:INFO] Determined delimiter of CSV input is ','\u001b[0m\n",
      "\u001b[35m[2022-06-09:06:17:29:INFO] Determined delimiter of CSV input is ','\u001b[0m\n",
      "\u001b[35m[2022-06-09:06:17:29:INFO] No GPUs detected (normal if no gpus installed)\u001b[0m\n",
      "\u001b[35m[2022-06-09:06:17:29:INFO] No GPUs detected (normal if no gpus installed)\u001b[0m\n",
      "\u001b[35m[2022-06-09:06:17:29:INFO] Determined delimiter of CSV input is ','\u001b[0m\n",
      "\u001b[35m[2022-06-09:06:17:29:INFO] Determined delimiter of CSV input is ','\u001b[0m\n",
      "\u001b[35m169.254.255.130 - - [09/Jun/2022:06:17:33 +0000] \"POST /invocations HTTP/1.1\" 200 652418 \"-\" \"Go-http-client/1.1\"\u001b[0m\n",
      "\u001b[35m169.254.255.130 - - [09/Jun/2022:06:17:33 +0000] \"POST /invocations HTTP/1.1\" 200 652599 \"-\" \"Go-http-client/1.1\"\u001b[0m\n",
      "\u001b[35m169.254.255.130 - - [09/Jun/2022:06:17:33 +0000] \"POST /invocations HTTP/1.1\" 200 652475 \"-\" \"Go-http-client/1.1\"\u001b[0m\n",
      "\u001b[35m[2022-06-09:06:17:33:INFO] Determined delimiter of CSV input is ','\u001b[0m\n",
      "\u001b[35m169.254.255.130 - - [09/Jun/2022:06:17:33 +0000] \"POST /invocations HTTP/1.1\" 200 652747 \"-\" \"Go-http-client/1.1\"\u001b[0m\n",
      "\u001b[35m169.254.255.130 - - [09/Jun/2022:06:17:35 +0000] \"POST /invocations HTTP/1.1\" 200 602602 \"-\" \"Go-http-client/1.1\"\u001b[0m\n",
      "\u001b[34m[2022-06-09:06:17:21:INFO] No GPUs detected (normal if no gpus installed)\u001b[0m\n",
      "\u001b[34m[2022-06-09:06:17:21:INFO] No GPUs detected (normal if no gpus installed)\u001b[0m\n",
      "\u001b[34m[2022-06-09:06:17:21:INFO] nginx config: \u001b[0m\n",
      "\u001b[34mworker_processes auto;\u001b[0m\n",
      "\u001b[34mdaemon off;\u001b[0m\n",
      "\u001b[34mpid /tmp/nginx.pid;\u001b[0m\n",
      "\u001b[34merror_log  /dev/stderr;\u001b[0m\n",
      "\u001b[34mworker_rlimit_nofile 4096;\u001b[0m\n",
      "\u001b[34mevents {\n",
      "  worker_connections 2048;\u001b[0m\n",
      "\u001b[34m}\u001b[0m\n",
      "\u001b[35m[2022-06-09:06:17:21:INFO] No GPUs detected (normal if no gpus installed)\u001b[0m\n",
      "\u001b[35m[2022-06-09:06:17:21:INFO] No GPUs detected (normal if no gpus installed)\u001b[0m\n",
      "\u001b[35m[2022-06-09:06:17:21:INFO] nginx config: \u001b[0m\n",
      "\u001b[35mworker_processes auto;\u001b[0m\n",
      "\u001b[35mdaemon off;\u001b[0m\n",
      "\u001b[35mpid /tmp/nginx.pid;\u001b[0m\n",
      "\u001b[35merror_log  /dev/stderr;\u001b[0m\n",
      "\u001b[35mworker_rlimit_nofile 4096;\u001b[0m\n",
      "\u001b[35mevents {\n",
      "  worker_connections 2048;\u001b[0m\n",
      "\u001b[35m}\u001b[0m\n",
      "\u001b[34mhttp {\n",
      "  include /etc/nginx/mime.types;\n",
      "  default_type application/octet-stream;\n",
      "  access_log /dev/stdout combined;\n",
      "  upstream gunicorn {\n",
      "    server unix:/tmp/gunicorn.sock;\n",
      "  }\n",
      "  server {\n",
      "    listen 8080 deferred;\n",
      "    client_max_body_size 0;\n",
      "    keepalive_timeout 3;\n",
      "    location ~ ^/(ping|invocations|execution-parameters) {\n",
      "      proxy_set_header X-Forwarded-For $proxy_add_x_forwarded_for;\n",
      "      proxy_set_header Host $http_host;\n",
      "      proxy_redirect off;\n",
      "      proxy_read_timeout 60s;\n",
      "      proxy_pass http://gunicorn;\n",
      "    }\n",
      "    location / {\n",
      "      return 404 \"{}\";\n",
      "    }\n",
      "  }\u001b[0m\n",
      "\u001b[34m}\u001b[0m\n",
      "\u001b[34m[2022-06-09 06:17:21 +0000] [18] [INFO] Starting gunicorn 19.10.0\u001b[0m\n",
      "\u001b[34m[2022-06-09 06:17:21 +0000] [18] [INFO] Listening at: unix:/tmp/gunicorn.sock (18)\u001b[0m\n",
      "\u001b[34m[2022-06-09 06:17:21 +0000] [18] [INFO] Using worker: gevent\u001b[0m\n",
      "\u001b[34m[2022-06-09 06:17:21 +0000] [25] [INFO] Booting worker with pid: 25\u001b[0m\n",
      "\u001b[34m[2022-06-09 06:17:21 +0000] [26] [INFO] Booting worker with pid: 26\u001b[0m\n",
      "\u001b[34m[2022-06-09 06:17:22 +0000] [27] [INFO] Booting worker with pid: 27\u001b[0m\n",
      "\u001b[34m[2022-06-09 06:17:22 +0000] [31] [INFO] Booting worker with pid: 31\u001b[0m\n",
      "\u001b[35mhttp {\n",
      "  include /etc/nginx/mime.types;\n",
      "  default_type application/octet-stream;\n",
      "  access_log /dev/stdout combined;\n",
      "  upstream gunicorn {\n",
      "    server unix:/tmp/gunicorn.sock;\n",
      "  }\n",
      "  server {\n",
      "    listen 8080 deferred;\n",
      "    client_max_body_size 0;\n",
      "    keepalive_timeout 3;\n",
      "    location ~ ^/(ping|invocations|execution-parameters) {\n",
      "      proxy_set_header X-Forwarded-For $proxy_add_x_forwarded_for;\n",
      "      proxy_set_header Host $http_host;\n",
      "      proxy_redirect off;\n",
      "      proxy_read_timeout 60s;\n",
      "      proxy_pass http://gunicorn;\n",
      "    }\n",
      "    location / {\n",
      "      return 404 \"{}\";\n",
      "    }\n",
      "  }\u001b[0m\n",
      "\u001b[35m}\u001b[0m\n",
      "\u001b[35m[2022-06-09 06:17:21 +0000] [18] [INFO] Starting gunicorn 19.10.0\u001b[0m\n",
      "\u001b[35m[2022-06-09 06:17:21 +0000] [18] [INFO] Listening at: unix:/tmp/gunicorn.sock (18)\u001b[0m\n",
      "\u001b[35m[2022-06-09 06:17:21 +0000] [18] [INFO] Using worker: gevent\u001b[0m\n",
      "\u001b[35m[2022-06-09 06:17:21 +0000] [25] [INFO] Booting worker with pid: 25\u001b[0m\n",
      "\u001b[35m[2022-06-09 06:17:21 +0000] [26] [INFO] Booting worker with pid: 26\u001b[0m\n",
      "\u001b[35m[2022-06-09 06:17:22 +0000] [27] [INFO] Booting worker with pid: 27\u001b[0m\n",
      "\u001b[35m[2022-06-09 06:17:22 +0000] [31] [INFO] Booting worker with pid: 31\u001b[0m\n",
      "\u001b[34m[2022-06-09:06:17:28:INFO] No GPUs detected (normal if no gpus installed)\u001b[0m\n",
      "\u001b[34m169.254.255.130 - - [09/Jun/2022:06:17:28 +0000] \"GET /ping HTTP/1.1\" 200 0 \"-\" \"Go-http-client/1.1\"\u001b[0m\n",
      "\u001b[34m[2022-06-09:06:17:28:INFO] No GPUs detected (normal if no gpus installed)\u001b[0m\n",
      "\u001b[34m169.254.255.130 - - [09/Jun/2022:06:17:28 +0000] \"GET /execution-parameters HTTP/1.1\" 200 84 \"-\" \"Go-http-client/1.1\"\u001b[0m\n",
      "\u001b[35m[2022-06-09:06:17:28:INFO] No GPUs detected (normal if no gpus installed)\u001b[0m\n",
      "\u001b[35m169.254.255.130 - - [09/Jun/2022:06:17:28 +0000] \"GET /ping HTTP/1.1\" 200 0 \"-\" \"Go-http-client/1.1\"\u001b[0m\n",
      "\u001b[35m[2022-06-09:06:17:28:INFO] No GPUs detected (normal if no gpus installed)\u001b[0m\n",
      "\u001b[35m169.254.255.130 - - [09/Jun/2022:06:17:28 +0000] \"GET /execution-parameters HTTP/1.1\" 200 84 \"-\" \"Go-http-client/1.1\"\u001b[0m\n",
      "\u001b[32m2022-06-09T06:17:28.291:[sagemaker logs]: MaxConcurrentTransforms=4, MaxPayloadInMB=6, BatchStrategy=MULTI_RECORD\u001b[0m\n",
      "\u001b[34m[2022-06-09:06:17:29:INFO] Determined delimiter of CSV input is ','\u001b[0m\n",
      "\u001b[34m[2022-06-09:06:17:29:INFO] Determined delimiter of CSV input is ','\u001b[0m\n",
      "\u001b[34m[2022-06-09:06:17:29:INFO] No GPUs detected (normal if no gpus installed)\u001b[0m\n",
      "\u001b[34m[2022-06-09:06:17:29:INFO] No GPUs detected (normal if no gpus installed)\u001b[0m\n",
      "\u001b[34m[2022-06-09:06:17:29:INFO] Determined delimiter of CSV input is ','\u001b[0m\n",
      "\u001b[34m[2022-06-09:06:17:29:INFO] Determined delimiter of CSV input is ','\u001b[0m\n",
      "\u001b[35m[2022-06-09:06:17:29:INFO] Determined delimiter of CSV input is ','\u001b[0m\n",
      "\u001b[35m[2022-06-09:06:17:29:INFO] Determined delimiter of CSV input is ','\u001b[0m\n",
      "\u001b[35m[2022-06-09:06:17:29:INFO] No GPUs detected (normal if no gpus installed)\u001b[0m\n",
      "\u001b[35m[2022-06-09:06:17:29:INFO] No GPUs detected (normal if no gpus installed)\u001b[0m\n",
      "\u001b[35m[2022-06-09:06:17:29:INFO] Determined delimiter of CSV input is ','\u001b[0m\n",
      "\u001b[35m[2022-06-09:06:17:29:INFO] Determined delimiter of CSV input is ','\u001b[0m\n",
      "\u001b[34m169.254.255.130 - - [09/Jun/2022:06:17:33 +0000] \"POST /invocations HTTP/1.1\" 200 652418 \"-\" \"Go-http-client/1.1\"\u001b[0m\n",
      "\u001b[34m169.254.255.130 - - [09/Jun/2022:06:17:33 +0000] \"POST /invocations HTTP/1.1\" 200 652599 \"-\" \"Go-http-client/1.1\"\u001b[0m\n",
      "\u001b[34m169.254.255.130 - - [09/Jun/2022:06:17:33 +0000] \"POST /invocations HTTP/1.1\" 200 652475 \"-\" \"Go-http-client/1.1\"\u001b[0m\n",
      "\u001b[34m[2022-06-09:06:17:33:INFO] Determined delimiter of CSV input is ','\u001b[0m\n",
      "\u001b[34m169.254.255.130 - - [09/Jun/2022:06:17:33 +0000] \"POST /invocations HTTP/1.1\" 200 652747 \"-\" \"Go-http-client/1.1\"\u001b[0m\n",
      "\u001b[35m169.254.255.130 - - [09/Jun/2022:06:17:33 +0000] \"POST /invocations HTTP/1.1\" 200 652418 \"-\" \"Go-http-client/1.1\"\u001b[0m\n",
      "\u001b[35m169.254.255.130 - - [09/Jun/2022:06:17:33 +0000] \"POST /invocations HTTP/1.1\" 200 652599 \"-\" \"Go-http-client/1.1\"\u001b[0m\n",
      "\u001b[35m169.254.255.130 - - [09/Jun/2022:06:17:33 +0000] \"POST /invocations HTTP/1.1\" 200 652475 \"-\" \"Go-http-client/1.1\"\u001b[0m\n",
      "\u001b[35m[2022-06-09:06:17:33:INFO] Determined delimiter of CSV input is ','\u001b[0m\n",
      "\u001b[35m169.254.255.130 - - [09/Jun/2022:06:17:33 +0000] \"POST /invocations HTTP/1.1\" 200 652747 \"-\" \"Go-http-client/1.1\"\u001b[0m\n",
      "\u001b[34m169.254.255.130 - - [09/Jun/2022:06:17:35 +0000] \"POST /invocations HTTP/1.1\" 200 602602 \"-\" \"Go-http-client/1.1\"\u001b[0m\n",
      "\u001b[35m169.254.255.130 - - [09/Jun/2022:06:17:35 +0000] \"POST /invocations HTTP/1.1\" 200 602602 \"-\" \"Go-http-client/1.1\"\u001b[0m\n"
     ]
    }
   ],
   "source": [
    "batch_output = \"s3://{}/{}/batch-out/\".format(bucket,prefix)\n",
    "batch_input = \"s3://{}/{}/batch-in/{}\".format(bucket,prefix,batch_X_file)\n",
    "\n",
    "xgb_transformer = xgb.transformer(instance_count=1,\n",
    "                                       instance_type=instance_type,\n",
    "                                       strategy='MultiRecord',\n",
    "                                       assemble_with='Line',\n",
    "                                       output_path=batch_output)\n",
    "\n",
    "xgb_transformer.transform(data=batch_input,\n",
    "                         data_type='S3Prefix',\n",
    "                         content_type='text/csv',\n",
    "                         split_type='Line')\n",
    "xgb_transformer.wait()"
   ]
  },
  {
   "cell_type": "markdown",
   "metadata": {},
   "source": [
    "Get the predicted target and test labels."
   ]
  },
  {
   "cell_type": "code",
   "execution_count": 93,
   "metadata": {},
   "outputs": [],
   "source": [
    "s3 = boto3.client('s3')\n",
    "obj = s3.get_object(Bucket=bucket, Key=\"{}/batch-out/{}\".format(prefix,'batch-in.csv.out'))\n",
    "target_predicted = pd.read_csv(io.BytesIO(obj['Body'].read()),',',names=['target'])\n",
    "test_labels = test.iloc[:,0]"
   ]
  },
  {
   "cell_type": "markdown",
   "metadata": {},
   "source": [
    "Calculate the predicted values based on the defined threshold.\n",
    "\n",
    "**Note:** The predicted target will be a score, which must be converted to a binary class."
   ]
  },
  {
   "cell_type": "code",
   "execution_count": 94,
   "metadata": {},
   "outputs": [
    {
     "name": "stdout",
     "output_type": "stream",
     "text": [
      "     target\n",
      "0  0.201106\n",
      "1  0.240272\n",
      "2  0.321136\n",
      "3  0.042453\n",
      "4  0.069967\n",
      "   target\n",
      "0       0\n",
      "1       0\n",
      "2       0\n",
      "3       0\n",
      "4       0\n"
     ]
    }
   ],
   "source": [
    "print(target_predicted.head())\n",
    "\n",
    "def binary_convert(x):\n",
    "    threshold = 0.55\n",
    "    if x > threshold:\n",
    "        return 1\n",
    "    else:\n",
    "        return 0\n",
    "\n",
    "target_predicted['target'] = target_predicted['target'].apply(binary_convert)\n",
    "\n",
    "test_labels = test.iloc[:,0]\n",
    "\n",
    "print(target_predicted.head())"
   ]
  },
  {
   "cell_type": "markdown",
   "metadata": {},
   "source": [
    "Plot a confusion matrix for your `target_predicted` and `test_labels`."
   ]
  },
  {
   "cell_type": "code",
   "execution_count": 95,
   "metadata": {},
   "outputs": [
    {
     "data": {
      "image/png": "[encoded data removed]",
      "text/plain": [
       "<Figure size 432x288 with 1 Axes>"
      ]
     },
     "metadata": {
      "needs_background": "light"
     },
     "output_type": "display_data"
    }
   ],
   "source": [
    "plot_confusion_matrix(test_labels, target_predicted)# Enter your code here"
   ]
  },
  {
   "cell_type": "markdown",
   "metadata": {},
   "source": [
    "Plot the ROC chart:"
   ]
  },
  {
   "cell_type": "code",
   "execution_count": 96,
   "metadata": {},
   "outputs": [
    {
     "name": "stdout",
     "output_type": "stream",
     "text": [
      "Sensitivity or TPR:  10.28456586957155 %\n",
      "Specificity or TNR:  98.89341154256883 %\n",
      "Precision:  71.17516629711751 %\n",
      "Negative Predictive Value:  80.5785697171465 %\n",
      "False Positive Rate:  1.106588457431167 %\n",
      "False Negative Rate:  89.71543413042845 %\n",
      "False Discovery Rate:  28.824833702882486 %\n",
      "Accuracy:  80.29334980037784 %\n",
      "Validation AUC 0.545889887060702\n",
      "Figure(432x288)\n"
     ]
    },
    {
     "data": {
      "image/png": "[encoded data removed]",
      "text/plain": [
       "<Figure size 432x288 with 2 Axes>"
      ]
     },
     "metadata": {
      "needs_background": "light"
     },
     "output_type": "display_data"
    },
    {
     "data": {
      "text/plain": [
       "<Figure size 432x288 with 0 Axes>"
      ]
     },
     "metadata": {},
     "output_type": "display_data"
    }
   ],
   "source": [
    "plot_roc(test_labels, target_predicted)# Enter your code here"
   ]
  },
  {
   "cell_type": "markdown",
   "metadata": {},
   "source": [
    "### Try different thresholds"
   ]
  },
  {
   "cell_type": "markdown",
   "metadata": {},
   "source": [
    "**Question**: Based on how well the model handled the test set, what can you conclude?"
   ]
  },
  {
   "cell_type": "code",
   "execution_count": null,
   "metadata": {},
   "outputs": [],
   "source": [
    "#Enter your answer here\n",
    "#XGBoost Model is simple yet it can handle the training really good with high accuracy, and end in short time."
   ]
  },
  {
   "cell_type": "markdown",
   "metadata": {},
   "source": [
    "### Hyperparameter optimization (HPO)"
   ]
  },
  {
   "cell_type": "code",
   "execution_count": 102,
   "metadata": {},
   "outputs": [],
   "source": [
    "from sagemaker.tuner import IntegerParameter, CategoricalParameter, ContinuousParameter, HyperparameterTuner\n",
    "\n",
    "### You can spin up multiple instances to do hyperparameter optimization in parallel\n",
    "\n",
    "xgb = sagemaker.estimator.Estimator(container,\n",
    "                                    role=sagemaker.get_execution_role(), \n",
    "                                    instance_count= 1, # make sure you have a limit set for these instances\n",
    "                                    instance_type=instance_type, \n",
    "                                    output_path='s3://{}/{}/output'.format(bucket, prefix),\n",
    "                                    sagemaker_session=sess)\n",
    "\n",
    "xgb.set_hyperparameters(eval_metric='auc',\n",
    "                        objective='binary:logistic',\n",
    "                        num_round=100,\n",
    "                        rate_drop=0.3,\n",
    "                        tweedie_variance_power=1.4)\n",
    "\n",
    "hyperparameter_ranges = {'alpha': ContinuousParameter(0, 1000, scaling_type='Linear'),\n",
    "                         'eta': ContinuousParameter(0.1, 0.5, scaling_type='Linear'),\n",
    "                         'min_child_weight': ContinuousParameter(3, 10, scaling_type='Linear'),\n",
    "                         'subsample': ContinuousParameter(0.5, 1),\n",
    "                         'num_round': IntegerParameter(10,150)}\n",
    "\n",
    "objective_metric_name = 'validation:auc'\n",
    "\n",
    "tuner = HyperparameterTuner(xgb,\n",
    "                            objective_metric_name,\n",
    "                            hyperparameter_ranges,\n",
    "                            max_jobs=10, # Set this to 10 or above depending upon budget and available time.\n",
    "                            max_parallel_jobs=1)"
   ]
  },
  {
   "cell_type": "code",
   "execution_count": 105,
   "metadata": {},
   "outputs": [
    {
     "name": "stderr",
     "output_type": "stream",
     "text": [
      "No finished training job found associated with this estimator. Please make sure this estimator is only used for building workflow config\n",
      "No finished training job found associated with this estimator. Please make sure this estimator is only used for building workflow config\n"
     ]
    },
    {
     "name": "stdout",
     "output_type": "stream",
     "text": [
      "...............................................................................................................................................................................................................................................................................................................................................................................................................................................................................................................................................................................................................................................................................................................................................................................................................................................................................................................................................................................................................................................................................................................................................................!\n",
      "!\n"
     ]
    }
   ],
   "source": [
    "tuner.fit(inputs=data_channels)\n",
    "tuner.wait()"
   ]
  },
  {
   "cell_type": "markdown",
   "metadata": {},
   "source": [
    "<i class=\"fas fa-exclamation-triangle\" style=\"color:red\"></i> Wait until the training job is finished. It might take 25-30 minutes.\n",
    "\n",
    "**To monitor hyperparameter optimization jobs:**  \n",
    "\n",
    "1. In the AWS Management Console, on the **Services** menu, choose **Amazon SageMaker**.  \n",
    "2. Choose **Training > Hyperparameter tuning jobs**.\n",
    "3. You can check the status of each hyperparameter tuning job, its objective metric value, and its logs.  "
   ]
  },
  {
   "cell_type": "markdown",
   "metadata": {},
   "source": [
    "Check that the job completed successfully."
   ]
  },
  {
   "cell_type": "code",
   "execution_count": 106,
   "metadata": {},
   "outputs": [
    {
     "data": {
      "text/plain": [
       "'Completed'"
      ]
     },
     "execution_count": 106,
     "metadata": {},
     "output_type": "execute_result"
    }
   ],
   "source": [
    "boto3.client('sagemaker').describe_hyper_parameter_tuning_job(\n",
    "    HyperParameterTuningJobName=tuner.latest_tuning_job.job_name)['HyperParameterTuningJobStatus']"
   ]
  },
  {
   "cell_type": "markdown",
   "metadata": {},
   "source": [
    "The hyperparameter tuning job will have a model that worked the best. You can get the information about that model from the tuning job."
   ]
  },
  {
   "cell_type": "code",
   "execution_count": 107,
   "metadata": {},
   "outputs": [
    {
     "name": "stdout",
     "output_type": "stream",
     "text": [
      "tuning job name:sagemaker-xgboost-220609-0624\n",
      "best training job: sagemaker-xgboost-220609-0624-010-9176a942\n",
      "\n",
      "2022-06-09 07:57:59 Starting - Preparing the instances for training\n",
      "2022-06-09 07:57:59 Downloading - Downloading input data\n",
      "2022-06-09 07:57:59 Training - Training image download completed. Training in progress.\n",
      "2022-06-09 07:57:59 Uploading - Uploading generated training model\n",
      "2022-06-09 07:57:59 Completed - Training job completed\n"
     ]
    },
    {
     "data": {
      "text/html": [
       "<div>\n",
       "<style scoped>\n",
       "    .dataframe tbody tr th:only-of-type {\n",
       "        vertical-align: middle;\n",
       "    }\n",
       "\n",
       "    .dataframe tbody tr th {\n",
       "        vertical-align: top;\n",
       "    }\n",
       "\n",
       "    .dataframe thead th {\n",
       "        text-align: right;\n",
       "    }\n",
       "</style>\n",
       "<table border=\"1\" class=\"dataframe\">\n",
       "  <thead>\n",
       "    <tr style=\"text-align: right;\">\n",
       "      <th></th>\n",
       "      <th>alpha</th>\n",
       "      <th>eta</th>\n",
       "      <th>min_child_weight</th>\n",
       "      <th>num_round</th>\n",
       "      <th>subsample</th>\n",
       "      <th>TrainingJobName</th>\n",
       "      <th>TrainingJobStatus</th>\n",
       "      <th>FinalObjectiveValue</th>\n",
       "      <th>TrainingStartTime</th>\n",
       "      <th>TrainingEndTime</th>\n",
       "      <th>TrainingElapsedTimeSeconds</th>\n",
       "    </tr>\n",
       "  </thead>\n",
       "  <tbody>\n",
       "    <tr>\n",
       "      <th>0</th>\n",
       "      <td>0.538773</td>\n",
       "      <td>0.278264</td>\n",
       "      <td>8.430266</td>\n",
       "      <td>104.0</td>\n",
       "      <td>0.806305</td>\n",
       "      <td>sagemaker-xgboost-220609-0624-010-9176a942</td>\n",
       "      <td>Completed</td>\n",
       "      <td>0.74337</td>\n",
       "      <td>2022-06-09 07:50:11+00:00</td>\n",
       "      <td>2022-06-09 07:57:59+00:00</td>\n",
       "      <td>468.0</td>\n",
       "    </tr>\n",
       "    <tr>\n",
       "      <th>1</th>\n",
       "      <td>49.182393</td>\n",
       "      <td>0.368963</td>\n",
       "      <td>6.364453</td>\n",
       "      <td>11.0</td>\n",
       "      <td>0.987021</td>\n",
       "      <td>sagemaker-xgboost-220609-0624-009-40cbdd5f</td>\n",
       "      <td>Completed</td>\n",
       "      <td>0.70537</td>\n",
       "      <td>2022-06-09 07:45:26+00:00</td>\n",
       "      <td>2022-06-09 07:48:04+00:00</td>\n",
       "      <td>158.0</td>\n",
       "    </tr>\n",
       "    <tr>\n",
       "      <th>2</th>\n",
       "      <td>868.729670</td>\n",
       "      <td>0.378655</td>\n",
       "      <td>6.159364</td>\n",
       "      <td>17.0</td>\n",
       "      <td>0.973300</td>\n",
       "      <td>sagemaker-xgboost-220609-0624-008-b5dc5d47</td>\n",
       "      <td>Completed</td>\n",
       "      <td>0.70265</td>\n",
       "      <td>2022-06-09 07:39:11+00:00</td>\n",
       "      <td>2022-06-09 07:42:25+00:00</td>\n",
       "      <td>194.0</td>\n",
       "    </tr>\n",
       "    <tr>\n",
       "      <th>3</th>\n",
       "      <td>173.477095</td>\n",
       "      <td>0.222048</td>\n",
       "      <td>7.511657</td>\n",
       "      <td>56.0</td>\n",
       "      <td>0.663077</td>\n",
       "      <td>sagemaker-xgboost-220609-0624-007-0fbb1c6f</td>\n",
       "      <td>Completed</td>\n",
       "      <td>0.71949</td>\n",
       "      <td>2022-06-09 07:30:44+00:00</td>\n",
       "      <td>2022-06-09 07:35:57+00:00</td>\n",
       "      <td>313.0</td>\n",
       "    </tr>\n",
       "    <tr>\n",
       "      <th>4</th>\n",
       "      <td>372.447008</td>\n",
       "      <td>0.106211</td>\n",
       "      <td>8.117530</td>\n",
       "      <td>126.0</td>\n",
       "      <td>0.804616</td>\n",
       "      <td>sagemaker-xgboost-220609-0624-006-0d8583b7</td>\n",
       "      <td>Completed</td>\n",
       "      <td>0.71711</td>\n",
       "      <td>2022-06-09 07:19:12+00:00</td>\n",
       "      <td>2022-06-09 07:28:37+00:00</td>\n",
       "      <td>565.0</td>\n",
       "    </tr>\n",
       "  </tbody>\n",
       "</table>\n",
       "</div>"
      ],
      "text/plain": [
       "        alpha       eta  min_child_weight  num_round  subsample  \\\n",
       "0    0.538773  0.278264          8.430266      104.0   0.806305   \n",
       "1   49.182393  0.368963          6.364453       11.0   0.987021   \n",
       "2  868.729670  0.378655          6.159364       17.0   0.973300   \n",
       "3  173.477095  0.222048          7.511657       56.0   0.663077   \n",
       "4  372.447008  0.106211          8.117530      126.0   0.804616   \n",
       "\n",
       "                              TrainingJobName TrainingJobStatus  \\\n",
       "0  sagemaker-xgboost-220609-0624-010-9176a942         Completed   \n",
       "1  sagemaker-xgboost-220609-0624-009-40cbdd5f         Completed   \n",
       "2  sagemaker-xgboost-220609-0624-008-b5dc5d47         Completed   \n",
       "3  sagemaker-xgboost-220609-0624-007-0fbb1c6f         Completed   \n",
       "4  sagemaker-xgboost-220609-0624-006-0d8583b7         Completed   \n",
       "\n",
       "   FinalObjectiveValue         TrainingStartTime           TrainingEndTime  \\\n",
       "0              0.74337 2022-06-09 07:50:11+00:00 2022-06-09 07:57:59+00:00   \n",
       "1              0.70537 2022-06-09 07:45:26+00:00 2022-06-09 07:48:04+00:00   \n",
       "2              0.70265 2022-06-09 07:39:11+00:00 2022-06-09 07:42:25+00:00   \n",
       "3              0.71949 2022-06-09 07:30:44+00:00 2022-06-09 07:35:57+00:00   \n",
       "4              0.71711 2022-06-09 07:19:12+00:00 2022-06-09 07:28:37+00:00   \n",
       "\n",
       "   TrainingElapsedTimeSeconds  \n",
       "0                       468.0  \n",
       "1                       158.0  \n",
       "2                       194.0  \n",
       "3                       313.0  \n",
       "4                       565.0  "
      ]
     },
     "execution_count": 107,
     "metadata": {},
     "output_type": "execute_result"
    }
   ],
   "source": [
    "sage_client = boto3.Session().client('sagemaker')\n",
    "tuning_job_name = tuner.latest_tuning_job.job_name\n",
    "print(f'tuning job name:{tuning_job_name}')\n",
    "tuning_job_result = sage_client.describe_hyper_parameter_tuning_job(HyperParameterTuningJobName=tuning_job_name)\n",
    "best_training_job = tuning_job_result['BestTrainingJob']\n",
    "best_training_job_name = best_training_job['TrainingJobName']\n",
    "print(f\"best training job: {best_training_job_name}\")\n",
    "\n",
    "best_estimator = tuner.best_estimator()\n",
    "\n",
    "tuner_df = sagemaker.HyperparameterTuningJobAnalytics(tuning_job_name).dataframe()\n",
    "tuner_df.head()"
   ]
  },
  {
   "cell_type": "markdown",
   "metadata": {},
   "source": [
    "Use the estimator `best_estimator` and train it by using the data. \n",
    "\n",
    "**Tip:** See the previous XGBoost estimator fit function."
   ]
  },
  {
   "cell_type": "code",
   "execution_count": 110,
   "metadata": {},
   "outputs": [
    {
     "name": "stdout",
     "output_type": "stream",
     "text": [
      "2022-06-09 08:17:24 Starting - Starting the training job...\n",
      "2022-06-09 08:17:50 Starting - Preparing the instances for trainingProfilerReport-1654762644: InProgress\n",
      "............\n",
      "2022-06-09 08:19:55 Downloading - Downloading input data......\n",
      "2022-06-09 08:20:55 Training - Downloading the training image......\n",
      "2022-06-09 08:21:55 Training - Training image download completed. Training in progress.\u001b[34mINFO:sagemaker-containers:Imported framework sagemaker_xgboost_container.training\u001b[0m\n",
      "\u001b[34mINFO:sagemaker-containers:Failed to parse hyperparameter _tuning_objective_metric value validation:auc to Json.\u001b[0m\n",
      "\u001b[34mReturning the value itself\u001b[0m\n",
      "\u001b[34mINFO:sagemaker-containers:Failed to parse hyperparameter eval_metric value auc to Json.\u001b[0m\n",
      "\u001b[34mReturning the value itself\u001b[0m\n",
      "\u001b[34mINFO:sagemaker-containers:Failed to parse hyperparameter objective value binary:logistic to Json.\u001b[0m\n",
      "\u001b[34mReturning the value itself\u001b[0m\n",
      "\u001b[34mINFO:sagemaker-containers:No GPUs detected (normal if no gpus installed)\u001b[0m\n",
      "\u001b[34mINFO:sagemaker_xgboost_container.training:Running XGBoost Sagemaker in algorithm mode\u001b[0m\n",
      "\u001b[34mINFO:root:Determined delimiter of CSV input is ','\u001b[0m\n",
      "\u001b[34mINFO:root:Determined delimiter of CSV input is ','\u001b[0m\n",
      "\u001b[34mINFO:root:Determined delimiter of CSV input is ','\u001b[0m\n",
      "\u001b[34m[08:21:48] 1308472x85 matrix with 111220120 entries loaded from /opt/ml/input/data/train?format=csv&label_column=0&delimiter=,\u001b[0m\n",
      "\u001b[34mINFO:root:Determined delimiter of CSV input is ','\u001b[0m\n",
      "\u001b[34m[08:21:48] 163559x85 matrix with 13902515 entries loaded from /opt/ml/input/data/validation?format=csv&label_column=0&delimiter=,\u001b[0m\n",
      "\u001b[34mINFO:root:Single node training.\u001b[0m\n",
      "\u001b[34mINFO:root:Setting up HPO optimized metric to be : auc\u001b[0m\n",
      "\u001b[34mINFO:root:Train matrix has 1308472 rows\u001b[0m\n",
      "\u001b[34mINFO:root:Validation matrix has 163559 rows\u001b[0m\n",
      "\u001b[34m[0]#011train-auc:0.66339#011validation-auc:0.66184\u001b[0m\n",
      "\u001b[34m[1]#011train-auc:0.67730#011validation-auc:0.67506\u001b[0m\n",
      "\u001b[34m[2]#011train-auc:0.68194#011validation-auc:0.67966\u001b[0m\n",
      "\u001b[34m[3]#011train-auc:0.68456#011validation-auc:0.68208\u001b[0m\n",
      "\u001b[34m[4]#011train-auc:0.68793#011validation-auc:0.68556\u001b[0m\n",
      "\u001b[34m[5]#011train-auc:0.69085#011validation-auc:0.68814\u001b[0m\n",
      "\u001b[34m[6]#011train-auc:0.69390#011validation-auc:0.69129\u001b[0m\n",
      "\u001b[34m[7]#011train-auc:0.69627#011validation-auc:0.69393\u001b[0m\n",
      "\u001b[34m[8]#011train-auc:0.69790#011validation-auc:0.69590\u001b[0m\n",
      "\u001b[34m[9]#011train-auc:0.70003#011validation-auc:0.69801\u001b[0m\n",
      "\u001b[34m[10]#011train-auc:0.70330#011validation-auc:0.70119\u001b[0m\n",
      "\u001b[34m[11]#011train-auc:0.70551#011validation-auc:0.70326\u001b[0m\n",
      "\u001b[34m[12]#011train-auc:0.70711#011validation-auc:0.70493\u001b[0m\n",
      "\u001b[34m[13]#011train-auc:0.70857#011validation-auc:0.70622\u001b[0m\n",
      "\u001b[34m[14]#011train-auc:0.70969#011validation-auc:0.70718\u001b[0m\n",
      "\u001b[34m[15]#011train-auc:0.71174#011validation-auc:0.70902\u001b[0m\n",
      "\u001b[34m[16]#011train-auc:0.71302#011validation-auc:0.71013\u001b[0m\n",
      "\u001b[34m[17]#011train-auc:0.71400#011validation-auc:0.71123\u001b[0m\n",
      "\u001b[34m[18]#011train-auc:0.71734#011validation-auc:0.71429\u001b[0m\n",
      "\u001b[34m[19]#011train-auc:0.71845#011validation-auc:0.71548\u001b[0m\n",
      "\u001b[34m[20]#011train-auc:0.71925#011validation-auc:0.71625\u001b[0m\n",
      "\u001b[34m[21]#011train-auc:0.72041#011validation-auc:0.71719\u001b[0m\n",
      "\u001b[34m[22]#011train-auc:0.72110#011validation-auc:0.71781\u001b[0m\n",
      "\u001b[34m[23]#011train-auc:0.72248#011validation-auc:0.71898\u001b[0m\n",
      "\u001b[34m[24]#011train-auc:0.72367#011validation-auc:0.72023\u001b[0m\n",
      "\u001b[34m[25]#011train-auc:0.72426#011validation-auc:0.72073\u001b[0m\n",
      "\u001b[34m[26]#011train-auc:0.72506#011validation-auc:0.72137\u001b[0m\n",
      "\u001b[34m[27]#011train-auc:0.72558#011validation-auc:0.72187\u001b[0m\n",
      "\u001b[34m[28]#011train-auc:0.72622#011validation-auc:0.72234\u001b[0m\n",
      "\u001b[34m[29]#011train-auc:0.72685#011validation-auc:0.72296\u001b[0m\n",
      "\u001b[34m[30]#011train-auc:0.72799#011validation-auc:0.72405\u001b[0m\n",
      "\u001b[34m[31]#011train-auc:0.72837#011validation-auc:0.72435\u001b[0m\n",
      "\u001b[34m[32]#011train-auc:0.72898#011validation-auc:0.72485\u001b[0m\n",
      "\u001b[34m[33]#011train-auc:0.72985#011validation-auc:0.72571\u001b[0m\n",
      "\u001b[34m[34]#011train-auc:0.73104#011validation-auc:0.72698\u001b[0m\n",
      "\u001b[34m[35]#011train-auc:0.73160#011validation-auc:0.72754\u001b[0m\n",
      "\u001b[34m[36]#011train-auc:0.73192#011validation-auc:0.72786\u001b[0m\n",
      "\u001b[34m[37]#011train-auc:0.73237#011validation-auc:0.72831\u001b[0m\n",
      "\u001b[34m[38]#011train-auc:0.73257#011validation-auc:0.72849\u001b[0m\n",
      "\u001b[34m[39]#011train-auc:0.73299#011validation-auc:0.72883\u001b[0m\n",
      "\u001b[34m[40]#011train-auc:0.73366#011validation-auc:0.72942\u001b[0m\n",
      "\u001b[34m[41]#011train-auc:0.73408#011validation-auc:0.72980\u001b[0m\n",
      "\u001b[34m[42]#011train-auc:0.73486#011validation-auc:0.73047\u001b[0m\n",
      "\u001b[34m[43]#011train-auc:0.73534#011validation-auc:0.73083\u001b[0m\n",
      "\u001b[34m[44]#011train-auc:0.73574#011validation-auc:0.73114\u001b[0m\n",
      "\u001b[34m[45]#011train-auc:0.73614#011validation-auc:0.73147\u001b[0m\n",
      "\u001b[34m[46]#011train-auc:0.73642#011validation-auc:0.73175\u001b[0m\n",
      "\u001b[34m[47]#011train-auc:0.73668#011validation-auc:0.73198\u001b[0m\n",
      "\u001b[34m[48]#011train-auc:0.73728#011validation-auc:0.73256\u001b[0m\n",
      "\u001b[34m[49]#011train-auc:0.73749#011validation-auc:0.73273\u001b[0m\n",
      "\u001b[34m[50]#011train-auc:0.73783#011validation-auc:0.73299\u001b[0m\n",
      "\u001b[34m[51]#011train-auc:0.73810#011validation-auc:0.73317\u001b[0m\n",
      "\u001b[34m[52]#011train-auc:0.73832#011validation-auc:0.73337\u001b[0m\n",
      "\u001b[34m[53]#011train-auc:0.73887#011validation-auc:0.73385\u001b[0m\n",
      "\u001b[34m[54]#011train-auc:0.73923#011validation-auc:0.73415\u001b[0m\n",
      "\u001b[34m[55]#011train-auc:0.73979#011validation-auc:0.73469\u001b[0m\n",
      "\u001b[34m[56]#011train-auc:0.73992#011validation-auc:0.73475\u001b[0m\n",
      "\u001b[34m[57]#011train-auc:0.73999#011validation-auc:0.73479\u001b[0m\n",
      "\u001b[34m[58]#011train-auc:0.74024#011validation-auc:0.73501\u001b[0m\n",
      "\u001b[34m[59]#011train-auc:0.74037#011validation-auc:0.73510\u001b[0m\n",
      "\u001b[34m[60]#011train-auc:0.74080#011validation-auc:0.73537\u001b[0m\n",
      "\u001b[34m[61]#011train-auc:0.74110#011validation-auc:0.73558\u001b[0m\n",
      "\u001b[34m[62]#011train-auc:0.74138#011validation-auc:0.73583\u001b[0m\n",
      "\u001b[34m[63]#011train-auc:0.74172#011validation-auc:0.73606\u001b[0m\n",
      "\u001b[34m[64]#011train-auc:0.74209#011validation-auc:0.73638\u001b[0m\n",
      "\u001b[34m[65]#011train-auc:0.74245#011validation-auc:0.73669\u001b[0m\n",
      "\u001b[34m[66]#011train-auc:0.74275#011validation-auc:0.73692\u001b[0m\n",
      "\u001b[34m[67]#011train-auc:0.74296#011validation-auc:0.73712\u001b[0m\n",
      "\u001b[34m[68]#011train-auc:0.74325#011validation-auc:0.73729\u001b[0m\n",
      "\u001b[34m[69]#011train-auc:0.74351#011validation-auc:0.73750\u001b[0m\n",
      "\u001b[34m[70]#011train-auc:0.74384#011validation-auc:0.73771\u001b[0m\n",
      "\u001b[34m[71]#011train-auc:0.74421#011validation-auc:0.73798\u001b[0m\n",
      "\u001b[34m[72]#011train-auc:0.74460#011validation-auc:0.73829\u001b[0m\n",
      "\u001b[34m[73]#011train-auc:0.74477#011validation-auc:0.73844\u001b[0m\n",
      "\u001b[34m[74]#011train-auc:0.74510#011validation-auc:0.73876\u001b[0m\n",
      "\u001b[34m[75]#011train-auc:0.74556#011validation-auc:0.73915\u001b[0m\n",
      "\u001b[34m[76]#011train-auc:0.74573#011validation-auc:0.73930\u001b[0m\n",
      "\u001b[34m[77]#011train-auc:0.74605#011validation-auc:0.73960\u001b[0m\n",
      "\u001b[34m[78]#011train-auc:0.74630#011validation-auc:0.73976\u001b[0m\n",
      "\u001b[34m[79]#011train-auc:0.74657#011validation-auc:0.73995\u001b[0m\n",
      "\u001b[34m[80]#011train-auc:0.74692#011validation-auc:0.74023\u001b[0m\n",
      "\u001b[34m[81]#011train-auc:0.74719#011validation-auc:0.74043\u001b[0m\n",
      "\u001b[34m[82]#011train-auc:0.74723#011validation-auc:0.74042\u001b[0m\n",
      "\u001b[34m[83]#011train-auc:0.74759#011validation-auc:0.74072\u001b[0m\n",
      "\u001b[34m[84]#011train-auc:0.74798#011validation-auc:0.74096\u001b[0m\n",
      "\u001b[34m[85]#011train-auc:0.74814#011validation-auc:0.74110\u001b[0m\n",
      "\u001b[34m[86]#011train-auc:0.74838#011validation-auc:0.74127\u001b[0m\n",
      "\u001b[34m[87]#011train-auc:0.74877#011validation-auc:0.74155\u001b[0m\n",
      "\u001b[34m[88]#011train-auc:0.74901#011validation-auc:0.74170\u001b[0m\n",
      "\u001b[34m[89]#011train-auc:0.74917#011validation-auc:0.74177\u001b[0m\n",
      "\u001b[34m[90]#011train-auc:0.74938#011validation-auc:0.74191\u001b[0m\n",
      "\u001b[34m[91]#011train-auc:0.74963#011validation-auc:0.74205\u001b[0m\n",
      "\u001b[34m[92]#011train-auc:0.74996#011validation-auc:0.74229\u001b[0m\n",
      "\u001b[34m[93]#011train-auc:0.75015#011validation-auc:0.74242\u001b[0m\n",
      "\u001b[34m[94]#011train-auc:0.75036#011validation-auc:0.74251\u001b[0m\n",
      "\u001b[34m[95]#011train-auc:0.75045#011validation-auc:0.74257\u001b[0m\n",
      "\u001b[34m[96]#011train-auc:0.75060#011validation-auc:0.74264\u001b[0m\n",
      "\u001b[34m[97]#011train-auc:0.75070#011validation-auc:0.74272\u001b[0m\n",
      "\u001b[34m[98]#011train-auc:0.75076#011validation-auc:0.74275\u001b[0m\n",
      "\u001b[34m[99]#011train-auc:0.75104#011validation-auc:0.74289\u001b[0m\n",
      "\u001b[34m[100]#011train-auc:0.75131#011validation-auc:0.74310\u001b[0m\n",
      "\u001b[34m[101]#011train-auc:0.75142#011validation-auc:0.74317\u001b[0m\n",
      "\n",
      "2022-06-09 08:27:38 Uploading - Uploading generated training model\u001b[34m[102]#011train-auc:0.75152#011validation-auc:0.74324\u001b[0m\n",
      "\u001b[34m[103]#011train-auc:0.75172#011validation-auc:0.74337\u001b[0m\n",
      "\n",
      "2022-06-09 08:27:57 Completed - Training job completed\n",
      "ProfilerReport-1654762644: NoIssuesFound\n",
      "Training seconds: 479\n",
      "Billable seconds: 479\n"
     ]
    }
   ],
   "source": [
    "best_estimator.fit(inputs=data_channels)# Enter your code here'"
   ]
  },
  {
   "cell_type": "markdown",
   "metadata": {},
   "source": [
    "Use the batch transformer for your new model, and evaluate the model on the test dataset."
   ]
  },
  {
   "cell_type": "code",
   "execution_count": 111,
   "metadata": {},
   "outputs": [
    {
     "name": "stdout",
     "output_type": "stream",
     "text": [
      "......................................\u001b[34m[2022-06-09:08:34:28:INFO] No GPUs detected (normal if no gpus installed)\u001b[0m\n",
      "\u001b[34m[2022-06-09:08:34:28:INFO] No GPUs detected (normal if no gpus installed)\u001b[0m\n",
      "\u001b[34m[2022-06-09:08:34:28:INFO] nginx config: \u001b[0m\n",
      "\u001b[34mworker_processes auto;\u001b[0m\n",
      "\u001b[34mdaemon off;\u001b[0m\n",
      "\u001b[34mpid /tmp/nginx.pid;\u001b[0m\n",
      "\u001b[34merror_log  /dev/stderr;\u001b[0m\n",
      "\u001b[34mworker_rlimit_nofile 4096;\u001b[0m\n",
      "\u001b[34mevents {\n",
      "  worker_connections 2048;\u001b[0m\n",
      "\u001b[34m}\u001b[0m\n",
      "\u001b[34mhttp {\n",
      "  include /etc/nginx/mime.types;\n",
      "  default_type application/octet-stream;\n",
      "  access_log /dev/stdout combined;\n",
      "  upstream gunicorn {\n",
      "    server unix:/tmp/gunicorn.sock;\n",
      "  }\n",
      "  server {\n",
      "    listen 8080 deferred;\n",
      "    client_max_body_size 0;\n",
      "    keepalive_timeout 3;\n",
      "    location ~ ^/(ping|invocations|execution-parameters) {\n",
      "      proxy_set_header X-Forwarded-For $proxy_add_x_forwarded_for;\n",
      "      proxy_set_header Host $http_host;\n",
      "      proxy_redirect off;\n",
      "      proxy_read_timeout 60s;\n",
      "      proxy_pass http://gunicorn;\n",
      "    }\n",
      "    location / {\n",
      "      return 404 \"{}\";\n",
      "    }\n",
      "  }\u001b[0m\n",
      "\u001b[34m}\u001b[0m\n",
      "\u001b[34m[2022-06-09 08:34:28 +0000] [18] [INFO] Starting gunicorn 19.10.0\u001b[0m\n",
      "\u001b[34m[2022-06-09 08:34:28 +0000] [18] [INFO] Listening at: unix:/tmp/gunicorn.sock (18)\u001b[0m\n",
      "\u001b[34m[2022-06-09 08:34:28 +0000] [18] [INFO] Using worker: gevent\u001b[0m\n",
      "\u001b[34m[2022-06-09 08:34:28 +0000] [25] [INFO] Booting worker with pid: 25\u001b[0m\n",
      "\u001b[34m[2022-06-09 08:34:28 +0000] [26] [INFO] Booting worker with pid: 26\u001b[0m\n",
      "\u001b[34m[2022-06-09 08:34:28 +0000] [27] [INFO] Booting worker with pid: 27\u001b[0m\n",
      "\u001b[34m[2022-06-09 08:34:29 +0000] [31] [INFO] Booting worker with pid: 31\u001b[0m\n",
      "\u001b[34m[2022-06-09:08:34:35:INFO] No GPUs detected (normal if no gpus installed)\u001b[0m\n",
      "\u001b[34m169.254.255.130 - - [09/Jun/2022:08:34:35 +0000] \"GET /ping HTTP/1.1\" 200 0 \"-\" \"Go-http-client/1.1\"\u001b[0m\n",
      "\u001b[34m[2022-06-09:08:34:35:INFO] No GPUs detected (normal if no gpus installed)\u001b[0m\n",
      "\u001b[34m169.254.255.130 - - [09/Jun/2022:08:34:35 +0000] \"GET /execution-parameters HTTP/1.1\" 200 84 \"-\" \"Go-http-client/1.1\"\u001b[0m\n",
      "\u001b[34m[2022-06-09:08:34:36:INFO] No GPUs detected (normal if no gpus installed)\u001b[0m\n",
      "\u001b[34m[2022-06-09:08:34:36:INFO] No GPUs detected (normal if no gpus installed)\u001b[0m\n",
      "\u001b[34m[2022-06-09:08:34:36:INFO] Determined delimiter of CSV input is ','\u001b[0m\n",
      "\u001b[34m[2022-06-09:08:34:36:INFO] Determined delimiter of CSV input is ','\u001b[0m\n",
      "\u001b[34m[2022-06-09:08:34:36:INFO] Determined delimiter of CSV input is ','\u001b[0m\n",
      "\u001b[34m[2022-06-09:08:34:36:INFO] Determined delimiter of CSV input is ','\u001b[0m\n",
      "\n",
      "\u001b[32m2022-06-09T08:34:35.348:[sagemaker logs]: MaxConcurrentTransforms=4, MaxPayloadInMB=6, BatchStrategy=MULTI_RECORD\u001b[0m\n",
      "\u001b[34m169.254.255.130 - - [09/Jun/2022:08:34:40 +0000] \"POST /invocations HTTP/1.1\" 200 652868 \"-\" \"Go-http-client/1.1\"\u001b[0m\n",
      "\u001b[34m169.254.255.130 - - [09/Jun/2022:08:34:40 +0000] \"POST /invocations HTTP/1.1\" 200 653090 \"-\" \"Go-http-client/1.1\"\u001b[0m\n",
      "\u001b[34m169.254.255.130 - - [09/Jun/2022:08:34:40 +0000] \"POST /invocations HTTP/1.1\" 200 652745 \"-\" \"Go-http-client/1.1\"\u001b[0m\n",
      "\u001b[34m169.254.255.130 - - [09/Jun/2022:08:34:40 +0000] \"POST /invocations HTTP/1.1\" 200 652976 \"-\" \"Go-http-client/1.1\"\u001b[0m\n",
      "\u001b[34m[2022-06-09:08:34:40:INFO] Determined delimiter of CSV input is ','\u001b[0m\n",
      "\u001b[35m169.254.255.130 - - [09/Jun/2022:08:34:40 +0000] \"POST /invocations HTTP/1.1\" 200 652868 \"-\" \"Go-http-client/1.1\"\u001b[0m\n",
      "\u001b[35m169.254.255.130 - - [09/Jun/2022:08:34:40 +0000] \"POST /invocations HTTP/1.1\" 200 653090 \"-\" \"Go-http-client/1.1\"\u001b[0m\n",
      "\u001b[35m169.254.255.130 - - [09/Jun/2022:08:34:40 +0000] \"POST /invocations HTTP/1.1\" 200 652745 \"-\" \"Go-http-client/1.1\"\u001b[0m\n",
      "\u001b[35m169.254.255.130 - - [09/Jun/2022:08:34:40 +0000] \"POST /invocations HTTP/1.1\" 200 652976 \"-\" \"Go-http-client/1.1\"\u001b[0m\n",
      "\u001b[35m[2022-06-09:08:34:40:INFO] Determined delimiter of CSV input is ','\u001b[0m\n",
      "\u001b[34m169.254.255.130 - - [09/Jun/2022:08:34:42 +0000] \"POST /invocations HTTP/1.1\" 200 602710 \"-\" \"Go-http-client/1.1\"\u001b[0m\n",
      "\u001b[35m169.254.255.130 - - [09/Jun/2022:08:34:42 +0000] \"POST /invocations HTTP/1.1\" 200 602710 \"-\" \"Go-http-client/1.1\"\u001b[0m\n",
      "\u001b[34m[2022-06-09:08:34:28:INFO] No GPUs detected (normal if no gpus installed)\u001b[0m\n",
      "\u001b[34m[2022-06-09:08:34:28:INFO] No GPUs detected (normal if no gpus installed)\u001b[0m\n",
      "\u001b[34m[2022-06-09:08:34:28:INFO] nginx config: \u001b[0m\n",
      "\u001b[34mworker_processes auto;\u001b[0m\n",
      "\u001b[35m[2022-06-09:08:34:28:INFO] No GPUs detected (normal if no gpus installed)\u001b[0m\n",
      "\u001b[35m[2022-06-09:08:34:28:INFO] No GPUs detected (normal if no gpus installed)\u001b[0m\n",
      "\u001b[35m[2022-06-09:08:34:28:INFO] nginx config: \u001b[0m\n",
      "\u001b[35mworker_processes auto;\u001b[0m\n",
      "\u001b[34mdaemon off;\u001b[0m\n",
      "\u001b[34mpid /tmp/nginx.pid;\u001b[0m\n",
      "\u001b[34merror_log  /dev/stderr;\u001b[0m\n",
      "\u001b[34mworker_rlimit_nofile 4096;\u001b[0m\n",
      "\u001b[34mevents {\n",
      "  worker_connections 2048;\u001b[0m\n",
      "\u001b[34m}\u001b[0m\n",
      "\u001b[35mdaemon off;\u001b[0m\n",
      "\u001b[35mpid /tmp/nginx.pid;\u001b[0m\n",
      "\u001b[35merror_log  /dev/stderr;\u001b[0m\n",
      "\u001b[35mworker_rlimit_nofile 4096;\u001b[0m\n",
      "\u001b[35mevents {\n",
      "  worker_connections 2048;\u001b[0m\n",
      "\u001b[35m}\u001b[0m\n",
      "\u001b[34mhttp {\n",
      "  include /etc/nginx/mime.types;\n",
      "  default_type application/octet-stream;\n",
      "  access_log /dev/stdout combined;\n",
      "  upstream gunicorn {\n",
      "    server unix:/tmp/gunicorn.sock;\n",
      "  }\n",
      "  server {\n",
      "    listen 8080 deferred;\n",
      "    client_max_body_size 0;\n",
      "    keepalive_timeout 3;\n",
      "    location ~ ^/(ping|invocations|execution-parameters) {\n",
      "      proxy_set_header X-Forwarded-For $proxy_add_x_forwarded_for;\n",
      "      proxy_set_header Host $http_host;\n",
      "      proxy_redirect off;\n",
      "      proxy_read_timeout 60s;\n",
      "      proxy_pass http://gunicorn;\n",
      "    }\n",
      "    location / {\n",
      "      return 404 \"{}\";\n",
      "    }\n",
      "  }\u001b[0m\n",
      "\u001b[34m}\u001b[0m\n",
      "\u001b[34m[2022-06-09 08:34:28 +0000] [18] [INFO] Starting gunicorn 19.10.0\u001b[0m\n",
      "\u001b[34m[2022-06-09 08:34:28 +0000] [18] [INFO] Listening at: unix:/tmp/gunicorn.sock (18)\u001b[0m\n",
      "\u001b[34m[2022-06-09 08:34:28 +0000] [18] [INFO] Using worker: gevent\u001b[0m\n",
      "\u001b[34m[2022-06-09 08:34:28 +0000] [25] [INFO] Booting worker with pid: 25\u001b[0m\n",
      "\u001b[34m[2022-06-09 08:34:28 +0000] [26] [INFO] Booting worker with pid: 26\u001b[0m\n",
      "\u001b[34m[2022-06-09 08:34:28 +0000] [27] [INFO] Booting worker with pid: 27\u001b[0m\n",
      "\u001b[34m[2022-06-09 08:34:29 +0000] [31] [INFO] Booting worker with pid: 31\u001b[0m\n",
      "\u001b[35mhttp {\n",
      "  include /etc/nginx/mime.types;\n",
      "  default_type application/octet-stream;\n",
      "  access_log /dev/stdout combined;\n",
      "  upstream gunicorn {\n",
      "    server unix:/tmp/gunicorn.sock;\n",
      "  }\n",
      "  server {\n",
      "    listen 8080 deferred;\n",
      "    client_max_body_size 0;\n",
      "    keepalive_timeout 3;\n",
      "    location ~ ^/(ping|invocations|execution-parameters) {\n",
      "      proxy_set_header X-Forwarded-For $proxy_add_x_forwarded_for;\n",
      "      proxy_set_header Host $http_host;\n",
      "      proxy_redirect off;\n",
      "      proxy_read_timeout 60s;\n",
      "      proxy_pass http://gunicorn;\n",
      "    }\n",
      "    location / {\n",
      "      return 404 \"{}\";\n",
      "    }\n",
      "  }\u001b[0m\n",
      "\u001b[35m}\u001b[0m\n",
      "\u001b[35m[2022-06-09 08:34:28 +0000] [18] [INFO] Starting gunicorn 19.10.0\u001b[0m\n",
      "\u001b[35m[2022-06-09 08:34:28 +0000] [18] [INFO] Listening at: unix:/tmp/gunicorn.sock (18)\u001b[0m\n",
      "\u001b[35m[2022-06-09 08:34:28 +0000] [18] [INFO] Using worker: gevent\u001b[0m\n",
      "\u001b[35m[2022-06-09 08:34:28 +0000] [25] [INFO] Booting worker with pid: 25\u001b[0m\n",
      "\u001b[35m[2022-06-09 08:34:28 +0000] [26] [INFO] Booting worker with pid: 26\u001b[0m\n",
      "\u001b[35m[2022-06-09 08:34:28 +0000] [27] [INFO] Booting worker with pid: 27\u001b[0m\n",
      "\u001b[35m[2022-06-09 08:34:29 +0000] [31] [INFO] Booting worker with pid: 31\u001b[0m\n",
      "\u001b[34m[2022-06-09:08:34:35:INFO] No GPUs detected (normal if no gpus installed)\u001b[0m\n",
      "\u001b[34m169.254.255.130 - - [09/Jun/2022:08:34:35 +0000] \"GET /ping HTTP/1.1\" 200 0 \"-\" \"Go-http-client/1.1\"\u001b[0m\n",
      "\u001b[34m[2022-06-09:08:34:35:INFO] No GPUs detected (normal if no gpus installed)\u001b[0m\n",
      "\u001b[35m[2022-06-09:08:34:35:INFO] No GPUs detected (normal if no gpus installed)\u001b[0m\n",
      "\u001b[35m169.254.255.130 - - [09/Jun/2022:08:34:35 +0000] \"GET /ping HTTP/1.1\" 200 0 \"-\" \"Go-http-client/1.1\"\u001b[0m\n",
      "\u001b[35m[2022-06-09:08:34:35:INFO] No GPUs detected (normal if no gpus installed)\u001b[0m\n",
      "\u001b[34m169.254.255.130 - - [09/Jun/2022:08:34:35 +0000] \"GET /execution-parameters HTTP/1.1\" 200 84 \"-\" \"Go-http-client/1.1\"\u001b[0m\n",
      "\u001b[35m169.254.255.130 - - [09/Jun/2022:08:34:35 +0000] \"GET /execution-parameters HTTP/1.1\" 200 84 \"-\" \"Go-http-client/1.1\"\u001b[0m\n",
      "\u001b[34m[2022-06-09:08:34:36:INFO] No GPUs detected (normal if no gpus installed)\u001b[0m\n",
      "\u001b[34m[2022-06-09:08:34:36:INFO] No GPUs detected (normal if no gpus installed)\u001b[0m\n",
      "\u001b[34m[2022-06-09:08:34:36:INFO] Determined delimiter of CSV input is ','\u001b[0m\n",
      "\u001b[34m[2022-06-09:08:34:36:INFO] Determined delimiter of CSV input is ','\u001b[0m\n",
      "\u001b[34m[2022-06-09:08:34:36:INFO] Determined delimiter of CSV input is ','\u001b[0m\n",
      "\u001b[34m[2022-06-09:08:34:36:INFO] Determined delimiter of CSV input is ','\u001b[0m\n",
      "\u001b[35m[2022-06-09:08:34:36:INFO] No GPUs detected (normal if no gpus installed)\u001b[0m\n",
      "\u001b[35m[2022-06-09:08:34:36:INFO] No GPUs detected (normal if no gpus installed)\u001b[0m\n",
      "\u001b[35m[2022-06-09:08:34:36:INFO] Determined delimiter of CSV input is ','\u001b[0m\n",
      "\u001b[35m[2022-06-09:08:34:36:INFO] Determined delimiter of CSV input is ','\u001b[0m\n",
      "\u001b[35m[2022-06-09:08:34:36:INFO] Determined delimiter of CSV input is ','\u001b[0m\n",
      "\u001b[35m[2022-06-09:08:34:36:INFO] Determined delimiter of CSV input is ','\u001b[0m\n",
      "\u001b[32m2022-06-09T08:34:35.348:[sagemaker logs]: MaxConcurrentTransforms=4, MaxPayloadInMB=6, BatchStrategy=MULTI_RECORD\u001b[0m\n",
      "\u001b[34m169.254.255.130 - - [09/Jun/2022:08:34:40 +0000] \"POST /invocations HTTP/1.1\" 200 652868 \"-\" \"Go-http-client/1.1\"\u001b[0m\n",
      "\u001b[34m169.254.255.130 - - [09/Jun/2022:08:34:40 +0000] \"POST /invocations HTTP/1.1\" 200 653090 \"-\" \"Go-http-client/1.1\"\u001b[0m\n",
      "\u001b[34m169.254.255.130 - - [09/Jun/2022:08:34:40 +0000] \"POST /invocations HTTP/1.1\" 200 652745 \"-\" \"Go-http-client/1.1\"\u001b[0m\n",
      "\u001b[34m169.254.255.130 - - [09/Jun/2022:08:34:40 +0000] \"POST /invocations HTTP/1.1\" 200 652976 \"-\" \"Go-http-client/1.1\"\u001b[0m\n",
      "\u001b[34m[2022-06-09:08:34:40:INFO] Determined delimiter of CSV input is ','\u001b[0m\n",
      "\u001b[35m169.254.255.130 - - [09/Jun/2022:08:34:40 +0000] \"POST /invocations HTTP/1.1\" 200 652868 \"-\" \"Go-http-client/1.1\"\u001b[0m\n",
      "\u001b[35m169.254.255.130 - - [09/Jun/2022:08:34:40 +0000] \"POST /invocations HTTP/1.1\" 200 653090 \"-\" \"Go-http-client/1.1\"\u001b[0m\n",
      "\u001b[35m169.254.255.130 - - [09/Jun/2022:08:34:40 +0000] \"POST /invocations HTTP/1.1\" 200 652745 \"-\" \"Go-http-client/1.1\"\u001b[0m\n",
      "\u001b[35m169.254.255.130 - - [09/Jun/2022:08:34:40 +0000] \"POST /invocations HTTP/1.1\" 200 652976 \"-\" \"Go-http-client/1.1\"\u001b[0m\n",
      "\u001b[35m[2022-06-09:08:34:40:INFO] Determined delimiter of CSV input is ','\u001b[0m\n",
      "\u001b[34m169.254.255.130 - - [09/Jun/2022:08:34:42 +0000] \"POST /invocations HTTP/1.1\" 200 602710 \"-\" \"Go-http-client/1.1\"\u001b[0m\n",
      "\u001b[35m169.254.255.130 - - [09/Jun/2022:08:34:42 +0000] \"POST /invocations HTTP/1.1\" 200 602710 \"-\" \"Go-http-client/1.1\"\u001b[0m\n"
     ]
    }
   ],
   "source": [
    "batch_output = \"s3://{}/{}/batch-out/\".format(bucket,prefix)\n",
    "batch_input = \"s3://{}/{}/batch-in/{}\".format(bucket,prefix,batch_X_file)\n",
    "\n",
    "xgb_transformer = best_estimator.transformer(instance_count=1,\n",
    "                                       instance_type=instance_type,\n",
    "                                       strategy='MultiRecord',\n",
    "                                       assemble_with='Line',\n",
    "                                       output_path=batch_output)\n",
    "\n",
    "xgb_transformer.transform(data=batch_input,\n",
    "                         data_type='S3Prefix',\n",
    "                         content_type='text/csv',\n",
    "                         split_type='Line')\n",
    "xgb_transformer.wait()"
   ]
  },
  {
   "cell_type": "code",
   "execution_count": 112,
   "metadata": {},
   "outputs": [],
   "source": [
    "s3 = boto3.client('s3')\n",
    "obj = s3.get_object(Bucket=bucket, Key=\"{}/batch-out/{}\".format(prefix,'batch-in.csv.out'))\n",
    "target_predicted = pd.read_csv(io.BytesIO(obj['Body'].read()),',',names=['target'])\n",
    "test_labels = test.iloc[:,0]"
   ]
  },
  {
   "cell_type": "markdown",
   "metadata": {},
   "source": [
    "Get the predicted target and test labels."
   ]
  },
  {
   "cell_type": "code",
   "execution_count": 113,
   "metadata": {},
   "outputs": [
    {
     "name": "stdout",
     "output_type": "stream",
     "text": [
      "     target\n",
      "0  0.175838\n",
      "1  0.253486\n",
      "2  0.360490\n",
      "3  0.037090\n",
      "4  0.068178\n",
      "   target\n",
      "0       0\n",
      "1       0\n",
      "2       0\n",
      "3       0\n",
      "4       0\n"
     ]
    }
   ],
   "source": [
    "print(target_predicted.head())\n",
    "\n",
    "def binary_convert(x):\n",
    "    threshold = 0.55\n",
    "    if x > threshold:\n",
    "        return 1\n",
    "    else:\n",
    "        return 0\n",
    "\n",
    "target_predicted['target'] = target_predicted['target'].apply(binary_convert)\n",
    "\n",
    "test_labels = test.iloc[:,0]\n",
    "\n",
    "print(target_predicted.head())"
   ]
  },
  {
   "cell_type": "markdown",
   "metadata": {},
   "source": [
    "Plot a confusion matrix for your `target_predicted` and `test_labels`."
   ]
  },
  {
   "cell_type": "code",
   "execution_count": 114,
   "metadata": {},
   "outputs": [
    {
     "data": {
      "image/png": "[encoded data removed]",
      "text/plain": [
       "<Figure size 432x288 with 1 Axes>"
      ]
     },
     "metadata": {
      "needs_background": "light"
     },
     "output_type": "display_data"
    }
   ],
   "source": [
    "plot_confusion_matrix(test_labels, target_predicted)# Enter your code here"
   ]
  },
  {
   "cell_type": "markdown",
   "metadata": {},
   "source": [
    "Plot the ROC chart:"
   ]
  },
  {
   "cell_type": "code",
   "execution_count": 115,
   "metadata": {},
   "outputs": [
    {
     "name": "stdout",
     "output_type": "stream",
     "text": [
      "Sensitivity or TPR:  13.112748667462789 %\n",
      "Specificity or TNR:  98.65506941327597 %\n",
      "Precision:  72.1474358974359 %\n",
      "Negative Predictive Value:  81.03789116381365 %\n",
      "False Positive Rate:  1.3449305867240338 %\n",
      "False Negative Rate:  86.8872513325372 %\n",
      "False Discovery Rate:  27.852564102564102 %\n",
      "Accuracy:  80.69870811144602 %\n",
      "Validation AUC 0.5588390904036938\n",
      "Figure(432x288)\n"
     ]
    },
    {
     "data": {
      "image/png": "[encoded data removed]",
      "text/plain": [
       "<Figure size 432x288 with 2 Axes>"
      ]
     },
     "metadata": {
      "needs_background": "light"
     },
     "output_type": "display_data"
    },
    {
     "data": {
      "text/plain": [
       "<Figure size 432x288 with 0 Axes>"
      ]
     },
     "metadata": {},
     "output_type": "display_data"
    }
   ],
   "source": [
    "plot_roc(test_labels, target_predicted)# Enter your code here"
   ]
  },
  {
   "cell_type": "markdown",
   "metadata": {},
   "source": [
    "**Question**: Try different hyperparameters and hyperparameter ranges. Do these changes improve the model?"
   ]
  },
  {
   "cell_type": "markdown",
   "metadata": {},
   "source": [
    "## Conclusion\n",
    "\n",
    "You have now iterated through training and evaluating your model at least a couple of times. It's time to wrap up this project and reflect on:\n",
    "\n",
    "- What you learned \n",
    "- What types of steps you might take moving forward (assuming that you had more time)\n",
    "\n",
    "Use the following cell to answer some of these questions and other relevant questions:\n",
    "\n",
    "1. Does your model performance meet your business goal? If not, what are some things you'd like to do differently if you had more time for tuning?\n",
    "2. How much did your model improve as you made changes to your dataset, features, and hyperparameters? What types of techniques did you employ throughout this project, and which yielded the greatest improvements in your model?\n",
    "3. What were some of the biggest challenges that you encountered throughout this project?\n",
    "4. Do you have any unanswered questions about aspects of the pipeline that didn't make sense to you?\n",
    "5. What were the three most important things that you learned about machine learning while working on this project?\n",
    "\n",
    "#### <span style=\"color: blue;\">Project presentation: Make sure that you also summarize your answers to these questions in your project presentation. Combine all your notes for your project presentation and prepare to present your findings to the class.</span>"
   ]
  },
  {
   "cell_type": "code",
   "execution_count": null,
   "metadata": {},
   "outputs": [],
   "source": [
    "# Write your answers here\n",
    "# Time consuming was the biggest challenge when doing the HPO method. It is clearly that this training allow us to do multiple training"
   ]
  }
 ],
 "metadata": {
  "kernelspec": {
   "display_name": "conda_python3",
   "language": "python",
   "name": "conda_python3"
  },
  "language_info": {
   "codemirror_mode": {
    "name": "ipython",
    "version": 3
   },
   "file_extension": ".py",
   "mimetype": "text/x-python",
   "name": "python",
   "nbconvert_exporter": "python",
   "pygments_lexer": "ipython3",
   "version": "3.6.13"
  }
 },
 "nbformat": 4,
 "nbformat_minor": 4
}
